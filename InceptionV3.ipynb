{
 "cells": [
  {
   "cell_type": "code",
   "execution_count": 1,
   "metadata": {
    "executionInfo": {
     "elapsed": 3255,
     "status": "ok",
     "timestamp": 1667603735286,
     "user": {
      "displayName": "ПІ-11 Практики",
      "userId": "07053419194244331719"
     },
     "user_tz": -120
    },
    "id": "chWjgM7MzviK"
   },
   "outputs": [],
   "source": [
    "import numpy as np\n",
    "import tensorflow as tf\n",
    "import tensorflow.keras.layers as tfl\n",
    "\n",
    "from tensorflow.keras import backend as K\n",
    "from tensorflow.keras.preprocessing.image import ImageDataGenerator\n",
    "from tensorflow.keras.applications import InceptionV3\n",
    "from tensorflow.keras.losses import CategoricalCrossentropy\n",
    "from tensorflow.keras.optimizers import Adam"
   ]
  },
  {
   "cell_type": "code",
   "execution_count": 2,
   "metadata": {
    "colab": {
     "base_uri": "https://localhost:8080/"
    },
    "executionInfo": {
     "elapsed": 1790,
     "status": "ok",
     "timestamp": 1667603737062,
     "user": {
      "displayName": "ПІ-11 Практики",
      "userId": "07053419194244331719"
     },
     "user_tz": -120
    },
    "id": "b5ORN9ty5NyX",
    "outputId": "03e22a21-2a92-44d4-b352-f1c2e9b2d275"
   },
   "outputs": [],
   "source": [
    "# для google colab\n",
    "# from google.colab import drive\n",
    "# drive.mount('/content/drive')"
   ]
  },
  {
   "cell_type": "code",
   "execution_count": 3,
   "metadata": {
    "executionInfo": {
     "elapsed": 22,
     "status": "ok",
     "timestamp": 1667603737063,
     "user": {
      "displayName": "ПІ-11 Практики",
      "userId": "07053419194244331719"
     },
     "user_tz": -120
    },
    "id": "WdRESVRrz0X8"
   },
   "outputs": [],
   "source": [
    "# розмір картинки\n",
    "IMG_SIZE = (75, 75)\n",
    "\n",
    "# папка з датасетом у якій підпапки з фотографіями кожного символа \n",
    "# назви класів будуть відповідати іменам підпапок\n",
    "directory = \"images/\""
   ]
  },
  {
   "cell_type": "code",
   "execution_count": 4,
   "metadata": {
    "colab": {
     "base_uri": "https://localhost:8080/"
    },
    "executionInfo": {
     "elapsed": 15,
     "status": "ok",
     "timestamp": 1667603737063,
     "user": {
      "displayName": "ПІ-11 Практики",
      "userId": "07053419194244331719"
     },
     "user_tz": -120
    },
    "id": "0pit3_-fcfhO",
    "outputId": "b9c36bef-ce9e-4b4e-99b5-9c347f01473a"
   },
   "outputs": [
    {
     "name": "stdout",
     "output_type": "stream",
     "text": [
      "Found 286 images belonging to 29 classes.\n",
      "Found 55 images belonging to 29 classes.\n"
     ]
    }
   ],
   "source": [
    "data_generator = ImageDataGenerator(validation_split = 0.2, rescale = 1.0 / 255)\n",
    " \n",
    "# датасет для тренування\n",
    "train = data_generator.flow_from_directory(directory,\n",
    "                                               target_size = IMG_SIZE,\n",
    "                                               class_mode = 'categorical',\n",
    "                                               subset = 'training')\n",
    "\n",
    "# датасет для тестування\n",
    "test = data_generator.flow_from_directory(directory,\n",
    "                                               target_size = IMG_SIZE,\n",
    "                                               class_mode = 'categorical',\n",
    "                                               subset = 'validation')"
   ]
  },
  {
   "cell_type": "code",
   "execution_count": 5,
   "metadata": {
    "executionInfo": {
     "elapsed": 271,
     "status": "ok",
     "timestamp": 1667603792575,
     "user": {
      "displayName": "ПІ-11 Практики",
      "userId": "07053419194244331719"
     },
     "user_tz": -120
    },
    "id": "egHSBZ_l-bzo"
   },
   "outputs": [],
   "source": [
    "def createModel(image_shape = IMG_SIZE):\n",
    "    '''\n",
    "    Аргументи:\n",
    "        image_shape -- ширина та висота картинки\n",
    "    Повертає:\n",
    "        tf.keras.model\n",
    "    '''\n",
    "    input_shape = image_shape + (3,)\n",
    "    \n",
    "    base_model = InceptionV3(input_shape = input_shape,\n",
    "                            include_top = False,\n",
    "                            weights = \"imagenet\",\n",
    "                            classes = 29,\n",
    "                            classifier_activation = \"softmax\")\n",
    "    # заморозимо шари, щоб їх не тренувати\n",
    "    base_model.trainable = False\n",
    "\n",
    "    # вхідний шар\n",
    "    inputs = tf.keras.Input(shape = input_shape) \n",
    "\n",
    "    # для нормалізації інпута [-1;1]\n",
    "    x = tf.keras.applications.inception_v3.preprocess_input(inputs) \n",
    "\n",
    "    x = base_model(x, training = False) \n",
    "    x = tfl.GlobalAveragePooling2D()(x) \n",
    "    x = tfl.Dropout(0.2)(x)\n",
    "    outputs = tfl.Dense(29, activation = \"softmax\")(x)\n",
    "    \n",
    "    model = tf.keras.Model(inputs, outputs)\n",
    "    \n",
    "    return model"
   ]
  },
  {
   "cell_type": "code",
   "execution_count": 6,
   "metadata": {
    "executionInfo": {
     "elapsed": 3484,
     "status": "ok",
     "timestamp": 1667603797104,
     "user": {
      "displayName": "ПІ-11 Практики",
      "userId": "07053419194244331719"
     },
     "user_tz": -120
    },
    "id": "0tWxbnXJ-p7b"
   },
   "outputs": [
    {
     "name": "stdout",
     "output_type": "stream",
     "text": [
      "Metal device set to: Apple M1\n"
     ]
    },
    {
     "name": "stderr",
     "output_type": "stream",
     "text": [
      "2022-11-07 23:30:34.489165: I tensorflow/core/common_runtime/pluggable_device/pluggable_device_factory.cc:306] Could not identify NUMA node of platform GPU ID 0, defaulting to 0. Your kernel may not have been built with NUMA support.\n",
      "2022-11-07 23:30:34.489265: I tensorflow/core/common_runtime/pluggable_device/pluggable_device_factory.cc:272] Created TensorFlow device (/job:localhost/replica:0/task:0/device:GPU:0 with 0 MB memory) -> physical PluggableDevice (device: 0, name: METAL, pci bus id: <undefined>)\n"
     ]
    }
   ],
   "source": [
    "model = createModel(IMG_SIZE)"
   ]
  },
  {
   "cell_type": "code",
   "execution_count": 7,
   "metadata": {},
   "outputs": [],
   "source": [
    "# метрики\n",
    "def recall(y_true, y_pred):\n",
    "    true_positives = K.sum(K.round(K.clip(y_true * y_pred, 0, 1)))\n",
    "    possible_positives = K.sum(K.round(K.clip(y_true, 0, 1)))\n",
    "    recall = true_positives / (possible_positives + K.epsilon())\n",
    "    return recall\n",
    "\n",
    "def precision(y_true, y_pred):\n",
    "    true_positives = K.sum(K.round(K.clip(y_true * y_pred, 0, 1)))\n",
    "    predicted_positives = K.sum(K.round(K.clip(y_pred, 0, 1)))\n",
    "    precision = true_positives / (predicted_positives + K.epsilon())\n",
    "    return precision\n",
    "\n",
    "def f1_score(y_true, y_pred):\n",
    "    precision_f1 = precision(y_true, y_pred)\n",
    "    recall_f1 = recall(y_true, y_pred)\n",
    "    return 2 * ((precision_f1 * recall_f1) / (precision_f1 + recall_f1 + K.epsilon()))"
   ]
  },
  {
   "cell_type": "code",
   "execution_count": 8,
   "metadata": {
    "executionInfo": {
     "elapsed": 17,
     "status": "ok",
     "timestamp": 1667603797105,
     "user": {
      "displayName": "ПІ-11 Практики",
      "userId": "07053419194244331719"
     },
     "user_tz": -120
    },
    "id": "kINHN1aD_aEl"
   },
   "outputs": [],
   "source": [
    "base_learning_rate = 0.01\n",
    "\n",
    "initial_epochs = 10\n",
    "\n",
    "loss_function = tf.keras.losses.CategoricalCrossentropy(from_logits = True)\n",
    "optimizer = tf.keras.optimizers.Adam(base_learning_rate)\n",
    "metrics = ['acc', f1_score, precision, recall]"
   ]
  },
  {
   "cell_type": "code",
   "execution_count": 9,
   "metadata": {},
   "outputs": [],
   "source": [
    "model.compile(optimizer = optimizer,\n",
    "              loss = loss_function,\n",
    "              metrics = metrics)"
   ]
  },
  {
   "cell_type": "code",
   "execution_count": 10,
   "metadata": {
    "colab": {
     "base_uri": "https://localhost:8080/"
    },
    "executionInfo": {
     "elapsed": 36879,
     "status": "ok",
     "timestamp": 1667603833974,
     "user": {
      "displayName": "ПІ-11 Практики",
      "userId": "07053419194244331719"
     },
     "user_tz": -120
    },
    "id": "GECcF1w__cP2",
    "outputId": "92a4d34a-7523-4b71-e0f1-e1db23e1a3ea"
   },
   "outputs": [
    {
     "name": "stdout",
     "output_type": "stream",
     "text": [
      "Epoch 1/10\n"
     ]
    },
    {
     "name": "stderr",
     "output_type": "stream",
     "text": [
      "2022-11-07 23:30:36.272355: W tensorflow/core/platform/profile_utils/cpu_utils.cc:128] Failed to get CPU frequency: 0 Hz\n",
      "/Users/tylerdurden/opt/miniconda3/envs/tensorflow/lib/python3.9/site-packages/keras/backend.py:5531: UserWarning: \"`categorical_crossentropy` received `from_logits=True`, but the `output` argument was produced by a Softmax activation and thus does not represent logits. Was this intended?\n",
      "  output, from_logits = _get_logits(\n",
      "2022-11-07 23:30:37.459662: I tensorflow/core/grappler/optimizers/custom_graph_optimizer_registry.cc:114] Plugin optimizer for device_type GPU is enabled.\n"
     ]
    },
    {
     "name": "stdout",
     "output_type": "stream",
     "text": [
      "8/9 [=========================>....] - ETA: 0s - loss: 4.7884 - acc: 0.3031 - f1_score: 0.2967 - precision: 0.4265 - recall: 0.2385         "
     ]
    },
    {
     "name": "stderr",
     "output_type": "stream",
     "text": [
      "2022-11-07 23:30:39.040076: I tensorflow/core/grappler/optimizers/custom_graph_optimizer_registry.cc:114] Plugin optimizer for device_type GPU is enabled.\n"
     ]
    },
    {
     "name": "stdout",
     "output_type": "stream",
     "text": [
      "9/9 [==============================] - 3s 206ms/step - loss: 4.8868 - acc: 0.2972 - f1_score: 0.2955 - precision: 0.4162 - recall: 0.2398 - val_loss: 1.6719 - val_acc: 0.6727 - val_f1_score: 0.6494 - val_precision: 0.7143 - val_recall: 0.5978\n",
      "Epoch 2/10\n",
      "9/9 [==============================] - 1s 59ms/step - loss: 1.8331 - acc: 0.6748 - f1_score: 0.7088 - precision: 0.7794 - recall: 0.6509 - val_loss: 0.3571 - val_acc: 0.9091 - val_f1_score: 0.8985 - val_precision: 0.9524 - val_recall: 0.8505\n",
      "Epoch 3/10\n",
      "9/9 [==============================] - 1s 56ms/step - loss: 0.7450 - acc: 0.8427 - f1_score: 0.8554 - precision: 0.8990 - recall: 0.8176 - val_loss: 0.2812 - val_acc: 0.9273 - val_f1_score: 0.9288 - val_precision: 0.9389 - val_recall: 0.9192\n",
      "Epoch 4/10\n",
      "9/9 [==============================] - 1s 55ms/step - loss: 0.4282 - acc: 0.9021 - f1_score: 0.9105 - precision: 0.9343 - recall: 0.8884 - val_loss: 0.2757 - val_acc: 0.9455 - val_f1_score: 0.9651 - val_precision: 0.9839 - val_recall: 0.9470\n",
      "Epoch 5/10\n",
      "9/9 [==============================] - 0s 56ms/step - loss: 0.2435 - acc: 0.9406 - f1_score: 0.9335 - precision: 0.9560 - recall: 0.9125 - val_loss: 0.1730 - val_acc: 0.9818 - val_f1_score: 0.9667 - val_precision: 0.9773 - val_recall: 0.9565\n",
      "Epoch 6/10\n",
      "9/9 [==============================] - 1s 60ms/step - loss: 0.1174 - acc: 0.9650 - f1_score: 0.9699 - precision: 0.9822 - recall: 0.9583 - val_loss: 0.1299 - val_acc: 0.9818 - val_f1_score: 0.9921 - val_precision: 1.0000 - val_recall: 0.9844\n",
      "Epoch 7/10\n",
      "9/9 [==============================] - 0s 55ms/step - loss: 0.0758 - acc: 0.9790 - f1_score: 0.9792 - precision: 0.9792 - recall: 0.9792 - val_loss: 0.1097 - val_acc: 0.9818 - val_f1_score: 0.9783 - val_precision: 0.9783 - val_recall: 0.9783\n",
      "Epoch 8/10\n",
      "9/9 [==============================] - 0s 55ms/step - loss: 0.1081 - acc: 0.9650 - f1_score: 0.9684 - precision: 0.9756 - recall: 0.9616 - val_loss: 0.1478 - val_acc: 0.9818 - val_f1_score: 0.9844 - val_precision: 0.9844 - val_recall: 0.9844\n",
      "Epoch 9/10\n",
      "9/9 [==============================] - 1s 56ms/step - loss: 0.0510 - acc: 0.9895 - f1_score: 0.9913 - precision: 0.9931 - recall: 0.9896 - val_loss: 0.1419 - val_acc: 0.9818 - val_f1_score: 0.9921 - val_precision: 1.0000 - val_recall: 0.9844\n",
      "Epoch 10/10\n",
      "9/9 [==============================] - 1s 57ms/step - loss: 0.0379 - acc: 0.9930 - f1_score: 0.9931 - precision: 0.9931 - recall: 0.9931 - val_loss: 0.1306 - val_acc: 0.9818 - val_f1_score: 0.9844 - val_precision: 0.9844 - val_recall: 0.9844\n"
     ]
    }
   ],
   "source": [
    "history = model.fit(train,\n",
    "                    validation_data = test,\n",
    "                    epochs = initial_epochs)"
   ]
  },
  {
   "cell_type": "code",
   "execution_count": 11,
   "metadata": {},
   "outputs": [],
   "source": [
    "# model.summary()\n",
    "\n",
    "# print(\"Кількість шарів у базовій моделі: \", len(tunedModel.layers))"
   ]
  },
  {
   "cell_type": "code",
   "execution_count": 12,
   "metadata": {},
   "outputs": [],
   "source": [
    "tunedModel = model.layers[3]\n",
    "tunedModel.trainable = True\n",
    "\n",
    "fine_tune_start = 250"
   ]
  },
  {
   "cell_type": "code",
   "execution_count": 13,
   "metadata": {},
   "outputs": [],
   "source": [
    "# Заморозимо всі шари перед fine_tune_start\n",
    "for layer in tunedModel.layers[:fine_tune_start]:\n",
    "    layer.trainable = False\n",
    "\n",
    "optimizer = Adam(learning_rate = 0.0001 * base_learning_rate)\n",
    "\n",
    "fine_tune_epochs = 100\n",
    "total_epochs =  initial_epochs + fine_tune_epochs"
   ]
  },
  {
   "cell_type": "code",
   "execution_count": 14,
   "metadata": {},
   "outputs": [],
   "source": [
    "model.compile(optimizer = optimizer,\n",
    "              loss = loss_function,\n",
    "              metrics = metrics)"
   ]
  },
  {
   "cell_type": "code",
   "execution_count": 15,
   "metadata": {},
   "outputs": [
    {
     "name": "stdout",
     "output_type": "stream",
     "text": [
      "Epoch 10/110\n"
     ]
    },
    {
     "name": "stderr",
     "output_type": "stream",
     "text": [
      "2022-11-07 23:30:45.743802: I tensorflow/core/grappler/optimizers/custom_graph_optimizer_registry.cc:114] Plugin optimizer for device_type GPU is enabled.\n"
     ]
    },
    {
     "name": "stdout",
     "output_type": "stream",
     "text": [
      "9/9 [==============================] - ETA: 0s - loss: 0.0541 - acc: 0.9720 - f1_score: 0.9763 - precision: 0.9816 - recall: 0.9713"
     ]
    },
    {
     "name": "stderr",
     "output_type": "stream",
     "text": [
      "2022-11-07 23:30:47.972442: I tensorflow/core/grappler/optimizers/custom_graph_optimizer_registry.cc:114] Plugin optimizer for device_type GPU is enabled.\n"
     ]
    },
    {
     "name": "stdout",
     "output_type": "stream",
     "text": [
      "9/9 [==============================] - 4s 270ms/step - loss: 0.0541 - acc: 0.9720 - f1_score: 0.9763 - precision: 0.9816 - recall: 0.9713 - val_loss: 0.1235 - val_acc: 0.9818 - val_f1_score: 0.9783 - val_precision: 0.9783 - val_recall: 0.9783\n",
      "Epoch 11/110\n",
      "9/9 [==============================] - 1s 90ms/step - loss: 0.0423 - acc: 0.9860 - f1_score: 0.9859 - precision: 0.9859 - recall: 0.9859 - val_loss: 0.1227 - val_acc: 0.9818 - val_f1_score: 0.9844 - val_precision: 0.9844 - val_recall: 0.9844\n",
      "Epoch 12/110\n",
      "9/9 [==============================] - 1s 84ms/step - loss: 0.0372 - acc: 0.9965 - f1_score: 0.9948 - precision: 0.9965 - recall: 0.9931 - val_loss: 0.1240 - val_acc: 0.9818 - val_f1_score: 0.9783 - val_precision: 0.9783 - val_recall: 0.9783\n",
      "Epoch 13/110\n",
      "9/9 [==============================] - 1s 83ms/step - loss: 0.0415 - acc: 0.9930 - f1_score: 0.9928 - precision: 0.9928 - recall: 0.9928 - val_loss: 0.1264 - val_acc: 0.9818 - val_f1_score: 0.9844 - val_precision: 0.9844 - val_recall: 0.9844\n",
      "Epoch 14/110\n",
      "9/9 [==============================] - 1s 82ms/step - loss: 0.0262 - acc: 0.9965 - f1_score: 0.9965 - precision: 0.9965 - recall: 0.9965 - val_loss: 0.1292 - val_acc: 0.9818 - val_f1_score: 0.9783 - val_precision: 0.9783 - val_recall: 0.9783\n",
      "Epoch 15/110\n",
      "9/9 [==============================] - 1s 89ms/step - loss: 0.0299 - acc: 0.9930 - f1_score: 0.9913 - precision: 0.9931 - recall: 0.9896 - val_loss: 0.1327 - val_acc: 0.9818 - val_f1_score: 0.9783 - val_precision: 0.9783 - val_recall: 0.9783\n",
      "Epoch 16/110\n",
      "9/9 [==============================] - 1s 82ms/step - loss: 0.0321 - acc: 0.9965 - f1_score: 0.9965 - precision: 0.9965 - recall: 0.9965 - val_loss: 0.1350 - val_acc: 0.9818 - val_f1_score: 0.9844 - val_precision: 0.9844 - val_recall: 0.9844\n",
      "Epoch 17/110\n",
      "9/9 [==============================] - 1s 82ms/step - loss: 0.0347 - acc: 0.9895 - f1_score: 0.9896 - precision: 0.9896 - recall: 0.9896 - val_loss: 0.1365 - val_acc: 0.9818 - val_f1_score: 0.9844 - val_precision: 0.9844 - val_recall: 0.9844\n",
      "Epoch 18/110\n",
      "9/9 [==============================] - 1s 81ms/step - loss: 0.0357 - acc: 0.9930 - f1_score: 0.9928 - precision: 0.9928 - recall: 0.9928 - val_loss: 0.1368 - val_acc: 0.9818 - val_f1_score: 0.9844 - val_precision: 0.9844 - val_recall: 0.9844\n",
      "Epoch 19/110\n",
      "9/9 [==============================] - 1s 84ms/step - loss: 0.0262 - acc: 0.9965 - f1_score: 0.9948 - precision: 0.9965 - recall: 0.9931 - val_loss: 0.1354 - val_acc: 0.9818 - val_f1_score: 0.9844 - val_precision: 0.9844 - val_recall: 0.9844\n",
      "Epoch 20/110\n",
      "9/9 [==============================] - 1s 83ms/step - loss: 0.0301 - acc: 0.9965 - f1_score: 0.9965 - precision: 0.9965 - recall: 0.9965 - val_loss: 0.1344 - val_acc: 0.9818 - val_f1_score: 0.9844 - val_precision: 0.9844 - val_recall: 0.9844\n",
      "Epoch 21/110\n",
      "9/9 [==============================] - 1s 83ms/step - loss: 0.0349 - acc: 0.9930 - f1_score: 0.9948 - precision: 0.9965 - recall: 0.9931 - val_loss: 0.1353 - val_acc: 0.9818 - val_f1_score: 0.9783 - val_precision: 0.9783 - val_recall: 0.9783\n",
      "Epoch 22/110\n",
      "9/9 [==============================] - 1s 82ms/step - loss: 0.0331 - acc: 0.9965 - f1_score: 0.9948 - precision: 0.9965 - recall: 0.9931 - val_loss: 0.1386 - val_acc: 0.9818 - val_f1_score: 0.9844 - val_precision: 0.9844 - val_recall: 0.9844\n",
      "Epoch 23/110\n",
      "9/9 [==============================] - 1s 82ms/step - loss: 0.0245 - acc: 0.9965 - f1_score: 0.9965 - precision: 0.9965 - recall: 0.9965 - val_loss: 0.1402 - val_acc: 0.9818 - val_f1_score: 0.9844 - val_precision: 0.9844 - val_recall: 0.9844\n",
      "Epoch 24/110\n",
      "9/9 [==============================] - 1s 80ms/step - loss: 0.0273 - acc: 0.9965 - f1_score: 0.9965 - precision: 0.9965 - recall: 0.9965 - val_loss: 0.1407 - val_acc: 0.9818 - val_f1_score: 0.9844 - val_precision: 0.9844 - val_recall: 0.9844\n",
      "Epoch 25/110\n",
      "9/9 [==============================] - 1s 87ms/step - loss: 0.0264 - acc: 0.9965 - f1_score: 0.9965 - precision: 0.9965 - recall: 0.9965 - val_loss: 0.1403 - val_acc: 0.9818 - val_f1_score: 0.9783 - val_precision: 0.9783 - val_recall: 0.9783\n",
      "Epoch 26/110\n",
      "9/9 [==============================] - 1s 82ms/step - loss: 0.0240 - acc: 0.9965 - f1_score: 0.9965 - precision: 0.9965 - recall: 0.9965 - val_loss: 0.1403 - val_acc: 0.9818 - val_f1_score: 0.9783 - val_precision: 0.9783 - val_recall: 0.9783\n",
      "Epoch 27/110\n",
      "9/9 [==============================] - 1s 80ms/step - loss: 0.0270 - acc: 0.9965 - f1_score: 0.9948 - precision: 0.9965 - recall: 0.9931 - val_loss: 0.1395 - val_acc: 0.9818 - val_f1_score: 0.9844 - val_precision: 0.9844 - val_recall: 0.9844\n",
      "Epoch 28/110\n",
      "9/9 [==============================] - 1s 81ms/step - loss: 0.0274 - acc: 0.9965 - f1_score: 0.9965 - precision: 0.9965 - recall: 0.9965 - val_loss: 0.1399 - val_acc: 0.9818 - val_f1_score: 0.9783 - val_precision: 0.9783 - val_recall: 0.9783\n",
      "Epoch 29/110\n",
      "9/9 [==============================] - 1s 86ms/step - loss: 0.0239 - acc: 0.9965 - f1_score: 0.9965 - precision: 0.9965 - recall: 0.9965 - val_loss: 0.1398 - val_acc: 0.9818 - val_f1_score: 0.9783 - val_precision: 0.9783 - val_recall: 0.9783\n",
      "Epoch 30/110\n",
      "9/9 [==============================] - 1s 81ms/step - loss: 0.0261 - acc: 0.9965 - f1_score: 0.9963 - precision: 0.9963 - recall: 0.9963 - val_loss: 0.1404 - val_acc: 0.9818 - val_f1_score: 0.9783 - val_precision: 0.9783 - val_recall: 0.9783\n",
      "Epoch 31/110\n",
      "9/9 [==============================] - 1s 82ms/step - loss: 0.0278 - acc: 0.9965 - f1_score: 0.9965 - precision: 0.9965 - recall: 0.9965 - val_loss: 0.1416 - val_acc: 0.9818 - val_f1_score: 0.9844 - val_precision: 0.9844 - val_recall: 0.9844\n",
      "Epoch 32/110\n",
      "9/9 [==============================] - 1s 84ms/step - loss: 0.0195 - acc: 0.9965 - f1_score: 0.9965 - precision: 0.9965 - recall: 0.9965 - val_loss: 0.1426 - val_acc: 0.9818 - val_f1_score: 0.9844 - val_precision: 0.9844 - val_recall: 0.9844\n",
      "Epoch 33/110\n",
      "9/9 [==============================] - 1s 85ms/step - loss: 0.0197 - acc: 0.9965 - f1_score: 0.9965 - precision: 0.9965 - recall: 0.9965 - val_loss: 0.1415 - val_acc: 0.9818 - val_f1_score: 0.9783 - val_precision: 0.9783 - val_recall: 0.9783\n",
      "Epoch 34/110\n",
      "9/9 [==============================] - 1s 89ms/step - loss: 0.0230 - acc: 0.9930 - f1_score: 0.9912 - precision: 0.9929 - recall: 0.9896 - val_loss: 0.1412 - val_acc: 0.9818 - val_f1_score: 0.9844 - val_precision: 0.9844 - val_recall: 0.9844\n",
      "Epoch 35/110\n",
      "9/9 [==============================] - 1s 86ms/step - loss: 0.0171 - acc: 0.9965 - f1_score: 0.9965 - precision: 0.9965 - recall: 0.9965 - val_loss: 0.1415 - val_acc: 0.9818 - val_f1_score: 0.9844 - val_precision: 0.9844 - val_recall: 0.9844\n",
      "Epoch 36/110\n",
      "9/9 [==============================] - 1s 91ms/step - loss: 0.0284 - acc: 0.9965 - f1_score: 0.9965 - precision: 0.9965 - recall: 0.9965 - val_loss: 0.1408 - val_acc: 0.9818 - val_f1_score: 0.9783 - val_precision: 0.9783 - val_recall: 0.9783\n",
      "Epoch 37/110\n",
      "9/9 [==============================] - 1s 83ms/step - loss: 0.0320 - acc: 0.9965 - f1_score: 0.9965 - precision: 0.9965 - recall: 0.9965 - val_loss: 0.1412 - val_acc: 0.9818 - val_f1_score: 0.9783 - val_precision: 0.9783 - val_recall: 0.9783\n",
      "Epoch 38/110\n",
      "9/9 [==============================] - 1s 81ms/step - loss: 0.0206 - acc: 0.9965 - f1_score: 0.9965 - precision: 0.9965 - recall: 0.9965 - val_loss: 0.1409 - val_acc: 0.9818 - val_f1_score: 0.9783 - val_precision: 0.9783 - val_recall: 0.9783\n",
      "Epoch 39/110\n",
      "9/9 [==============================] - 1s 84ms/step - loss: 0.0196 - acc: 0.9965 - f1_score: 0.9965 - precision: 0.9965 - recall: 0.9965 - val_loss: 0.1398 - val_acc: 0.9818 - val_f1_score: 0.9783 - val_precision: 0.9783 - val_recall: 0.9783\n",
      "Epoch 40/110\n",
      "9/9 [==============================] - 1s 82ms/step - loss: 0.0164 - acc: 0.9965 - f1_score: 0.9963 - precision: 0.9963 - recall: 0.9963 - val_loss: 0.1397 - val_acc: 0.9818 - val_f1_score: 0.9844 - val_precision: 0.9844 - val_recall: 0.9844\n",
      "Epoch 41/110\n",
      "9/9 [==============================] - 1s 81ms/step - loss: 0.0192 - acc: 0.9965 - f1_score: 0.9963 - precision: 0.9963 - recall: 0.9963 - val_loss: 0.1407 - val_acc: 0.9818 - val_f1_score: 0.9844 - val_precision: 0.9844 - val_recall: 0.9844\n",
      "Epoch 42/110\n"
     ]
    },
    {
     "name": "stdout",
     "output_type": "stream",
     "text": [
      "9/9 [==============================] - 1s 81ms/step - loss: 0.0186 - acc: 0.9965 - f1_score: 0.9965 - precision: 0.9965 - recall: 0.9965 - val_loss: 0.1407 - val_acc: 0.9818 - val_f1_score: 0.9844 - val_precision: 0.9844 - val_recall: 0.9844\n",
      "Epoch 43/110\n",
      "9/9 [==============================] - 1s 82ms/step - loss: 0.0120 - acc: 1.0000 - f1_score: 1.0000 - precision: 1.0000 - recall: 1.0000 - val_loss: 0.1411 - val_acc: 0.9818 - val_f1_score: 0.9783 - val_precision: 0.9783 - val_recall: 0.9783\n",
      "Epoch 44/110\n",
      "9/9 [==============================] - 1s 96ms/step - loss: 0.0256 - acc: 0.9965 - f1_score: 0.9965 - precision: 0.9965 - recall: 0.9965 - val_loss: 0.1421 - val_acc: 0.9818 - val_f1_score: 0.9783 - val_precision: 0.9783 - val_recall: 0.9783\n",
      "Epoch 45/110\n",
      "9/9 [==============================] - 1s 85ms/step - loss: 0.0251 - acc: 0.9965 - f1_score: 0.9965 - precision: 0.9965 - recall: 0.9965 - val_loss: 0.1435 - val_acc: 0.9818 - val_f1_score: 0.9783 - val_precision: 0.9783 - val_recall: 0.9783\n",
      "Epoch 46/110\n",
      "9/9 [==============================] - 1s 82ms/step - loss: 0.0257 - acc: 0.9965 - f1_score: 0.9965 - precision: 0.9965 - recall: 0.9965 - val_loss: 0.1446 - val_acc: 0.9818 - val_f1_score: 0.9783 - val_precision: 0.9783 - val_recall: 0.9783\n",
      "Epoch 47/110\n",
      "9/9 [==============================] - 1s 82ms/step - loss: 0.0199 - acc: 0.9965 - f1_score: 0.9963 - precision: 0.9963 - recall: 0.9963 - val_loss: 0.1446 - val_acc: 0.9818 - val_f1_score: 0.9844 - val_precision: 0.9844 - val_recall: 0.9844\n",
      "Epoch 48/110\n",
      "9/9 [==============================] - 1s 85ms/step - loss: 0.0258 - acc: 0.9965 - f1_score: 0.9965 - precision: 0.9965 - recall: 0.9965 - val_loss: 0.1449 - val_acc: 0.9818 - val_f1_score: 0.9783 - val_precision: 0.9783 - val_recall: 0.9783\n",
      "Epoch 49/110\n",
      "9/9 [==============================] - 1s 82ms/step - loss: 0.0199 - acc: 0.9965 - f1_score: 0.9965 - precision: 0.9965 - recall: 0.9965 - val_loss: 0.1435 - val_acc: 0.9818 - val_f1_score: 0.9844 - val_precision: 0.9844 - val_recall: 0.9844\n",
      "Epoch 50/110\n",
      "9/9 [==============================] - 1s 82ms/step - loss: 0.0280 - acc: 0.9930 - f1_score: 0.9931 - precision: 0.9931 - recall: 0.9931 - val_loss: 0.1435 - val_acc: 0.9818 - val_f1_score: 0.9844 - val_precision: 0.9844 - val_recall: 0.9844\n",
      "Epoch 51/110\n",
      "9/9 [==============================] - 1s 81ms/step - loss: 0.0216 - acc: 0.9965 - f1_score: 0.9965 - precision: 0.9965 - recall: 0.9965 - val_loss: 0.1436 - val_acc: 0.9818 - val_f1_score: 0.9844 - val_precision: 0.9844 - val_recall: 0.9844\n",
      "Epoch 52/110\n",
      "9/9 [==============================] - 1s 85ms/step - loss: 0.0179 - acc: 0.9965 - f1_score: 0.9965 - precision: 0.9965 - recall: 0.9965 - val_loss: 0.1429 - val_acc: 0.9818 - val_f1_score: 0.9844 - val_precision: 0.9844 - val_recall: 0.9844\n",
      "Epoch 53/110\n",
      "9/9 [==============================] - 1s 84ms/step - loss: 0.0234 - acc: 0.9965 - f1_score: 0.9963 - precision: 0.9963 - recall: 0.9963 - val_loss: 0.1439 - val_acc: 0.9818 - val_f1_score: 0.9844 - val_precision: 0.9844 - val_recall: 0.9844\n",
      "Epoch 54/110\n",
      "9/9 [==============================] - 1s 88ms/step - loss: 0.0206 - acc: 0.9965 - f1_score: 0.9965 - precision: 0.9965 - recall: 0.9965 - val_loss: 0.1454 - val_acc: 0.9818 - val_f1_score: 0.9783 - val_precision: 0.9783 - val_recall: 0.9783\n",
      "Epoch 55/110\n",
      "9/9 [==============================] - 1s 83ms/step - loss: 0.0231 - acc: 0.9930 - f1_score: 0.9931 - precision: 0.9931 - recall: 0.9931 - val_loss: 0.1451 - val_acc: 0.9818 - val_f1_score: 0.9783 - val_precision: 0.9783 - val_recall: 0.9783\n",
      "Epoch 56/110\n",
      "9/9 [==============================] - 1s 84ms/step - loss: 0.0222 - acc: 0.9930 - f1_score: 0.9928 - precision: 0.9928 - recall: 0.9928 - val_loss: 0.1433 - val_acc: 0.9818 - val_f1_score: 0.9783 - val_precision: 0.9783 - val_recall: 0.9783\n",
      "Epoch 57/110\n",
      "9/9 [==============================] - 1s 87ms/step - loss: 0.0199 - acc: 0.9965 - f1_score: 0.9965 - precision: 0.9965 - recall: 0.9965 - val_loss: 0.1431 - val_acc: 0.9818 - val_f1_score: 0.9844 - val_precision: 0.9844 - val_recall: 0.9844\n",
      "Epoch 58/110\n",
      "9/9 [==============================] - 1s 81ms/step - loss: 0.0217 - acc: 0.9965 - f1_score: 0.9963 - precision: 0.9963 - recall: 0.9963 - val_loss: 0.1437 - val_acc: 0.9818 - val_f1_score: 0.9844 - val_precision: 0.9844 - val_recall: 0.9844\n",
      "Epoch 59/110\n",
      "9/9 [==============================] - 1s 89ms/step - loss: 0.0267 - acc: 0.9965 - f1_score: 0.9963 - precision: 0.9963 - recall: 0.9963 - val_loss: 0.1438 - val_acc: 0.9818 - val_f1_score: 0.9783 - val_precision: 0.9783 - val_recall: 0.9783\n",
      "Epoch 60/110\n",
      "9/9 [==============================] - 1s 81ms/step - loss: 0.0123 - acc: 0.9965 - f1_score: 0.9965 - precision: 0.9965 - recall: 0.9965 - val_loss: 0.1436 - val_acc: 0.9818 - val_f1_score: 0.9844 - val_precision: 0.9844 - val_recall: 0.9844\n",
      "Epoch 61/110\n",
      "9/9 [==============================] - 1s 82ms/step - loss: 0.0208 - acc: 0.9965 - f1_score: 0.9965 - precision: 0.9965 - recall: 0.9965 - val_loss: 0.1458 - val_acc: 0.9818 - val_f1_score: 0.9783 - val_precision: 0.9783 - val_recall: 0.9783\n",
      "Epoch 62/110\n",
      "9/9 [==============================] - 1s 85ms/step - loss: 0.0211 - acc: 0.9965 - f1_score: 0.9965 - precision: 0.9965 - recall: 0.9965 - val_loss: 0.1467 - val_acc: 0.9818 - val_f1_score: 0.9844 - val_precision: 0.9844 - val_recall: 0.9844\n",
      "Epoch 63/110\n",
      "9/9 [==============================] - 1s 86ms/step - loss: 0.0112 - acc: 0.9965 - f1_score: 0.9965 - precision: 0.9965 - recall: 0.9965 - val_loss: 0.1468 - val_acc: 0.9818 - val_f1_score: 0.9844 - val_precision: 0.9844 - val_recall: 0.9844\n",
      "Epoch 64/110\n",
      "9/9 [==============================] - 1s 91ms/step - loss: 0.0190 - acc: 0.9965 - f1_score: 0.9965 - precision: 0.9965 - recall: 0.9965 - val_loss: 0.1477 - val_acc: 0.9818 - val_f1_score: 0.9783 - val_precision: 0.9783 - val_recall: 0.9783\n",
      "Epoch 65/110\n",
      "9/9 [==============================] - 1s 87ms/step - loss: 0.0269 - acc: 0.9965 - f1_score: 0.9965 - precision: 0.9965 - recall: 0.9965 - val_loss: 0.1487 - val_acc: 0.9818 - val_f1_score: 0.9844 - val_precision: 0.9844 - val_recall: 0.9844\n",
      "Epoch 66/110\n",
      "9/9 [==============================] - 1s 87ms/step - loss: 0.0247 - acc: 0.9965 - f1_score: 0.9965 - precision: 0.9965 - recall: 0.9965 - val_loss: 0.1478 - val_acc: 0.9818 - val_f1_score: 0.9844 - val_precision: 0.9844 - val_recall: 0.9844\n",
      "Epoch 67/110\n",
      "9/9 [==============================] - 1s 92ms/step - loss: 0.0173 - acc: 0.9965 - f1_score: 0.9963 - precision: 0.9963 - recall: 0.9963 - val_loss: 0.1476 - val_acc: 0.9818 - val_f1_score: 0.9783 - val_precision: 0.9783 - val_recall: 0.9783\n",
      "Epoch 68/110\n",
      "9/9 [==============================] - 1s 87ms/step - loss: 0.0222 - acc: 0.9965 - f1_score: 0.9965 - precision: 0.9965 - recall: 0.9965 - val_loss: 0.1468 - val_acc: 0.9818 - val_f1_score: 0.9844 - val_precision: 0.9844 - val_recall: 0.9844\n",
      "Epoch 69/110\n",
      "9/9 [==============================] - 1s 86ms/step - loss: 0.0187 - acc: 0.9965 - f1_score: 0.9965 - precision: 0.9965 - recall: 0.9965 - val_loss: 0.1461 - val_acc: 0.9818 - val_f1_score: 0.9844 - val_precision: 0.9844 - val_recall: 0.9844\n",
      "Epoch 70/110\n",
      "9/9 [==============================] - 1s 88ms/step - loss: 0.0191 - acc: 0.9965 - f1_score: 0.9965 - precision: 0.9965 - recall: 0.9965 - val_loss: 0.1463 - val_acc: 0.9818 - val_f1_score: 0.9783 - val_precision: 0.9783 - val_recall: 0.9783\n",
      "Epoch 71/110\n",
      "9/9 [==============================] - 1s 83ms/step - loss: 0.0235 - acc: 0.9965 - f1_score: 0.9965 - precision: 0.9965 - recall: 0.9965 - val_loss: 0.1474 - val_acc: 0.9818 - val_f1_score: 0.9844 - val_precision: 0.9844 - val_recall: 0.9844\n",
      "Epoch 72/110\n",
      "9/9 [==============================] - 1s 84ms/step - loss: 0.0134 - acc: 1.0000 - f1_score: 1.0000 - precision: 1.0000 - recall: 1.0000 - val_loss: 0.1487 - val_acc: 0.9818 - val_f1_score: 0.9844 - val_precision: 0.9844 - val_recall: 0.9844\n",
      "Epoch 73/110\n",
      "9/9 [==============================] - 1s 83ms/step - loss: 0.0191 - acc: 0.9965 - f1_score: 0.9965 - precision: 0.9965 - recall: 0.9965 - val_loss: 0.1497 - val_acc: 0.9818 - val_f1_score: 0.9844 - val_precision: 0.9844 - val_recall: 0.9844\n",
      "Epoch 74/110\n"
     ]
    },
    {
     "name": "stdout",
     "output_type": "stream",
     "text": [
      "9/9 [==============================] - 1s 83ms/step - loss: 0.0161 - acc: 0.9965 - f1_score: 0.9965 - precision: 0.9965 - recall: 0.9965 - val_loss: 0.1502 - val_acc: 0.9818 - val_f1_score: 0.9844 - val_precision: 0.9844 - val_recall: 0.9844\n",
      "Epoch 75/110\n",
      "9/9 [==============================] - 1s 83ms/step - loss: 0.0164 - acc: 0.9965 - f1_score: 0.9965 - precision: 0.9965 - recall: 0.9965 - val_loss: 0.1502 - val_acc: 0.9818 - val_f1_score: 0.9783 - val_precision: 0.9783 - val_recall: 0.9783\n",
      "Epoch 76/110\n",
      "9/9 [==============================] - 1s 83ms/step - loss: 0.0192 - acc: 0.9965 - f1_score: 0.9965 - precision: 0.9965 - recall: 0.9965 - val_loss: 0.1500 - val_acc: 0.9818 - val_f1_score: 0.9844 - val_precision: 0.9844 - val_recall: 0.9844\n",
      "Epoch 77/110\n",
      "9/9 [==============================] - 1s 91ms/step - loss: 0.0231 - acc: 0.9965 - f1_score: 0.9965 - precision: 0.9965 - recall: 0.9965 - val_loss: 0.1501 - val_acc: 0.9818 - val_f1_score: 0.9844 - val_precision: 0.9844 - val_recall: 0.9844\n",
      "Epoch 78/110\n",
      "9/9 [==============================] - 1s 83ms/step - loss: 0.0164 - acc: 0.9965 - f1_score: 0.9965 - precision: 0.9965 - recall: 0.9965 - val_loss: 0.1505 - val_acc: 0.9818 - val_f1_score: 0.9844 - val_precision: 0.9844 - val_recall: 0.9844\n",
      "Epoch 79/110\n",
      "9/9 [==============================] - 1s 87ms/step - loss: 0.0202 - acc: 0.9965 - f1_score: 0.9965 - precision: 0.9965 - recall: 0.9965 - val_loss: 0.1504 - val_acc: 0.9818 - val_f1_score: 0.9844 - val_precision: 0.9844 - val_recall: 0.9844\n",
      "Epoch 80/110\n",
      "9/9 [==============================] - 1s 87ms/step - loss: 0.0161 - acc: 0.9965 - f1_score: 0.9965 - precision: 0.9965 - recall: 0.9965 - val_loss: 0.1517 - val_acc: 0.9818 - val_f1_score: 0.9783 - val_precision: 0.9783 - val_recall: 0.9783\n",
      "Epoch 81/110\n",
      "9/9 [==============================] - 1s 83ms/step - loss: 0.0196 - acc: 0.9965 - f1_score: 0.9965 - precision: 0.9965 - recall: 0.9965 - val_loss: 0.1514 - val_acc: 0.9818 - val_f1_score: 0.9844 - val_precision: 0.9844 - val_recall: 0.9844\n",
      "Epoch 82/110\n",
      "9/9 [==============================] - 1s 83ms/step - loss: 0.0188 - acc: 0.9965 - f1_score: 0.9965 - precision: 0.9965 - recall: 0.9965 - val_loss: 0.1515 - val_acc: 0.9818 - val_f1_score: 0.9783 - val_precision: 0.9783 - val_recall: 0.9783\n",
      "Epoch 83/110\n",
      "9/9 [==============================] - 1s 92ms/step - loss: 0.0218 - acc: 0.9965 - f1_score: 0.9965 - precision: 0.9965 - recall: 0.9965 - val_loss: 0.1516 - val_acc: 0.9818 - val_f1_score: 0.9844 - val_precision: 0.9844 - val_recall: 0.9844\n",
      "Epoch 84/110\n",
      "9/9 [==============================] - 1s 112ms/step - loss: 0.0145 - acc: 0.9965 - f1_score: 0.9965 - precision: 0.9965 - recall: 0.9965 - val_loss: 0.1517 - val_acc: 0.9818 - val_f1_score: 0.9844 - val_precision: 0.9844 - val_recall: 0.9844\n",
      "Epoch 85/110\n",
      "9/9 [==============================] - 1s 87ms/step - loss: 0.0153 - acc: 0.9965 - f1_score: 0.9965 - precision: 0.9965 - recall: 0.9965 - val_loss: 0.1521 - val_acc: 0.9818 - val_f1_score: 0.9783 - val_precision: 0.9783 - val_recall: 0.9783\n",
      "Epoch 86/110\n",
      "9/9 [==============================] - 1s 84ms/step - loss: 0.0192 - acc: 0.9930 - f1_score: 0.9948 - precision: 0.9965 - recall: 0.9931 - val_loss: 0.1516 - val_acc: 0.9818 - val_f1_score: 0.9844 - val_precision: 0.9844 - val_recall: 0.9844\n",
      "Epoch 87/110\n",
      "9/9 [==============================] - 1s 90ms/step - loss: 0.0150 - acc: 0.9965 - f1_score: 0.9965 - precision: 0.9965 - recall: 0.9965 - val_loss: 0.1504 - val_acc: 0.9818 - val_f1_score: 0.9844 - val_precision: 0.9844 - val_recall: 0.9844\n",
      "Epoch 88/110\n",
      "9/9 [==============================] - 1s 86ms/step - loss: 0.0139 - acc: 0.9965 - f1_score: 0.9965 - precision: 0.9965 - recall: 0.9965 - val_loss: 0.1493 - val_acc: 0.9818 - val_f1_score: 0.9783 - val_precision: 0.9783 - val_recall: 0.9783\n",
      "Epoch 89/110\n",
      "9/9 [==============================] - 1s 93ms/step - loss: 0.0221 - acc: 0.9965 - f1_score: 0.9965 - precision: 0.9965 - recall: 0.9965 - val_loss: 0.1489 - val_acc: 0.9818 - val_f1_score: 0.9783 - val_precision: 0.9783 - val_recall: 0.9783\n",
      "Epoch 90/110\n",
      "9/9 [==============================] - 1s 85ms/step - loss: 0.0151 - acc: 0.9965 - f1_score: 0.9965 - precision: 0.9965 - recall: 0.9965 - val_loss: 0.1491 - val_acc: 0.9818 - val_f1_score: 0.9783 - val_precision: 0.9783 - val_recall: 0.9783\n",
      "Epoch 91/110\n",
      "9/9 [==============================] - 1s 86ms/step - loss: 0.0151 - acc: 0.9965 - f1_score: 0.9965 - precision: 0.9965 - recall: 0.9965 - val_loss: 0.1497 - val_acc: 0.9818 - val_f1_score: 0.9844 - val_precision: 0.9844 - val_recall: 0.9844\n",
      "Epoch 92/110\n",
      "9/9 [==============================] - 1s 85ms/step - loss: 0.0208 - acc: 0.9965 - f1_score: 0.9963 - precision: 0.9963 - recall: 0.9963 - val_loss: 0.1510 - val_acc: 0.9818 - val_f1_score: 0.9783 - val_precision: 0.9783 - val_recall: 0.9783\n",
      "Epoch 93/110\n",
      "9/9 [==============================] - 1s 86ms/step - loss: 0.0235 - acc: 0.9965 - f1_score: 0.9965 - precision: 0.9965 - recall: 0.9965 - val_loss: 0.1520 - val_acc: 0.9818 - val_f1_score: 0.9844 - val_precision: 0.9844 - val_recall: 0.9844\n",
      "Epoch 94/110\n",
      "9/9 [==============================] - 1s 96ms/step - loss: 0.0112 - acc: 0.9965 - f1_score: 0.9965 - precision: 0.9965 - recall: 0.9965 - val_loss: 0.1518 - val_acc: 0.9818 - val_f1_score: 0.9844 - val_precision: 0.9844 - val_recall: 0.9844\n",
      "Epoch 95/110\n",
      "9/9 [==============================] - 1s 94ms/step - loss: 0.0217 - acc: 0.9965 - f1_score: 0.9965 - precision: 0.9965 - recall: 0.9965 - val_loss: 0.1517 - val_acc: 0.9818 - val_f1_score: 0.9783 - val_precision: 0.9783 - val_recall: 0.9783\n",
      "Epoch 96/110\n",
      "9/9 [==============================] - 1s 83ms/step - loss: 0.0132 - acc: 0.9965 - f1_score: 0.9965 - precision: 0.9965 - recall: 0.9965 - val_loss: 0.1522 - val_acc: 0.9818 - val_f1_score: 0.9844 - val_precision: 0.9844 - val_recall: 0.9844\n",
      "Epoch 97/110\n",
      "9/9 [==============================] - 1s 90ms/step - loss: 0.0157 - acc: 0.9965 - f1_score: 0.9965 - precision: 0.9965 - recall: 0.9965 - val_loss: 0.1528 - val_acc: 0.9818 - val_f1_score: 0.9844 - val_precision: 0.9844 - val_recall: 0.9844\n",
      "Epoch 98/110\n",
      "9/9 [==============================] - 1s 88ms/step - loss: 0.0189 - acc: 0.9965 - f1_score: 0.9965 - precision: 0.9965 - recall: 0.9965 - val_loss: 0.1530 - val_acc: 0.9818 - val_f1_score: 0.9844 - val_precision: 0.9844 - val_recall: 0.9844\n",
      "Epoch 99/110\n",
      "9/9 [==============================] - 1s 87ms/step - loss: 0.0228 - acc: 0.9965 - f1_score: 0.9965 - precision: 0.9965 - recall: 0.9965 - val_loss: 0.1522 - val_acc: 0.9818 - val_f1_score: 0.9844 - val_precision: 0.9844 - val_recall: 0.9844\n",
      "Epoch 100/110\n",
      "9/9 [==============================] - 1s 96ms/step - loss: 0.0200 - acc: 0.9965 - f1_score: 0.9965 - precision: 0.9965 - recall: 0.9965 - val_loss: 0.1525 - val_acc: 0.9818 - val_f1_score: 0.9844 - val_precision: 0.9844 - val_recall: 0.9844\n",
      "Epoch 101/110\n",
      "9/9 [==============================] - 1s 81ms/step - loss: 0.0199 - acc: 0.9965 - f1_score: 0.9965 - precision: 0.9965 - recall: 0.9965 - val_loss: 0.1519 - val_acc: 0.9818 - val_f1_score: 0.9844 - val_precision: 0.9844 - val_recall: 0.9844\n",
      "Epoch 102/110\n",
      "9/9 [==============================] - 1s 81ms/step - loss: 0.0194 - acc: 0.9965 - f1_score: 0.9965 - precision: 0.9965 - recall: 0.9965 - val_loss: 0.1526 - val_acc: 0.9818 - val_f1_score: 0.9844 - val_precision: 0.9844 - val_recall: 0.9844\n",
      "Epoch 103/110\n",
      "9/9 [==============================] - 1s 82ms/step - loss: 0.0169 - acc: 0.9965 - f1_score: 0.9965 - precision: 0.9965 - recall: 0.9965 - val_loss: 0.1542 - val_acc: 0.9818 - val_f1_score: 0.9844 - val_precision: 0.9844 - val_recall: 0.9844\n",
      "Epoch 104/110\n",
      "9/9 [==============================] - 1s 82ms/step - loss: 0.0099 - acc: 0.9965 - f1_score: 0.9965 - precision: 0.9965 - recall: 0.9965 - val_loss: 0.1552 - val_acc: 0.9818 - val_f1_score: 0.9783 - val_precision: 0.9783 - val_recall: 0.9783\n",
      "Epoch 105/110\n",
      "9/9 [==============================] - 1s 81ms/step - loss: 0.0172 - acc: 0.9965 - f1_score: 0.9965 - precision: 0.9965 - recall: 0.9965 - val_loss: 0.1561 - val_acc: 0.9818 - val_f1_score: 0.9844 - val_precision: 0.9844 - val_recall: 0.9844\n",
      "Epoch 106/110\n"
     ]
    },
    {
     "name": "stdout",
     "output_type": "stream",
     "text": [
      "9/9 [==============================] - 1s 81ms/step - loss: 0.0171 - acc: 0.9965 - f1_score: 0.9965 - precision: 0.9965 - recall: 0.9965 - val_loss: 0.1562 - val_acc: 0.9818 - val_f1_score: 0.9783 - val_precision: 0.9783 - val_recall: 0.9783\n",
      "Epoch 107/110\n",
      "9/9 [==============================] - 1s 81ms/step - loss: 0.0146 - acc: 0.9965 - f1_score: 0.9965 - precision: 0.9965 - recall: 0.9965 - val_loss: 0.1562 - val_acc: 0.9818 - val_f1_score: 0.9844 - val_precision: 0.9844 - val_recall: 0.9844\n",
      "Epoch 108/110\n",
      "9/9 [==============================] - 1s 81ms/step - loss: 0.0124 - acc: 0.9965 - f1_score: 0.9965 - precision: 0.9965 - recall: 0.9965 - val_loss: 0.1567 - val_acc: 0.9818 - val_f1_score: 0.9783 - val_precision: 0.9783 - val_recall: 0.9783\n",
      "Epoch 109/110\n",
      "9/9 [==============================] - 1s 81ms/step - loss: 0.0147 - acc: 0.9965 - f1_score: 0.9965 - precision: 0.9965 - recall: 0.9965 - val_loss: 0.1561 - val_acc: 0.9818 - val_f1_score: 0.9783 - val_precision: 0.9783 - val_recall: 0.9783\n",
      "Epoch 110/110\n",
      "9/9 [==============================] - 1s 81ms/step - loss: 0.0097 - acc: 0.9965 - f1_score: 0.9965 - precision: 0.9965 - recall: 0.9965 - val_loss: 0.1555 - val_acc: 0.9818 - val_f1_score: 0.9844 - val_precision: 0.9844 - val_recall: 0.9844\n"
     ]
    }
   ],
   "source": [
    "history_fine = model.fit(train,\n",
    "                         validation_data = test,\n",
    "                         epochs = total_epochs,\n",
    "                         initial_epoch = history.epoch[-1])"
   ]
  },
  {
   "cell_type": "code",
   "execution_count": 16,
   "metadata": {},
   "outputs": [],
   "source": [
    "model.save('Fine_tuned_model01.h5', overwrite = True, include_optimizer = True)"
   ]
  },
  {
   "cell_type": "code",
   "execution_count": null,
   "metadata": {},
   "outputs": [],
   "source": [
    "model."
   ]
  },
  {
   "cell_type": "code",
   "execution_count": null,
   "metadata": {},
   "outputs": [],
   "source": []
  }
 ],
 "metadata": {
  "colab": {
   "authorship_tag": "ABX9TyNe5X/goFoKjda8UfRIT/vM",
   "collapsed_sections": [],
   "provenance": []
  },
  "kernelspec": {
   "display_name": "Python 3.9 (tensorflow)",
   "language": "python",
   "name": "tensorflow"
  },
  "language_info": {
   "codemirror_mode": {
    "name": "ipython",
    "version": 3
   },
   "file_extension": ".py",
   "mimetype": "text/x-python",
   "name": "python",
   "nbconvert_exporter": "python",
   "pygments_lexer": "ipython3",
   "version": "3.9.13"
  }
 },
 "nbformat": 4,
 "nbformat_minor": 1
}
