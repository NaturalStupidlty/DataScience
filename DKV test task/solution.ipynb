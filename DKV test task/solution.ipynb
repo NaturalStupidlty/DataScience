{
 "cells": [
  {
   "cell_type": "markdown",
   "id": "5f471749",
   "metadata": {},
   "source": [
    "# Problem"
   ]
  },
  {
   "cell_type": "markdown",
   "id": "84aa470e",
   "metadata": {},
   "source": [
    "Explain total funding attracted by one or more variables provided in data"
   ]
  },
  {
   "cell_type": "markdown",
   "id": "334c1395",
   "metadata": {},
   "source": [
    "# Solution"
   ]
  },
  {
   "cell_type": "code",
   "execution_count": 1,
   "id": "a44ea37a",
   "metadata": {},
   "outputs": [],
   "source": [
    "import re\n",
    "import time\n",
    "import random\n",
    "import numpy as np\n",
    "import pandas as pd\n",
    "import scipy\n",
    "\n",
    "# Plotting\n",
    "import matplotlib.pyplot as plt\n",
    "import seaborn as sns\n",
    "\n",
    "# Sklearn\n",
    "from sklearn.preprocessing import LabelEncoder\n",
    "from sklearn.linear_model import LinearRegression\n",
    "from sklearn.metrics import r2_score, mean_squared_error\n",
    "from sklearn.feature_extraction.text import CountVectorizer, TfidfVectorizer\n",
    "from sklearn.model_selection import train_test_split, GridSearchCV,  StratifiedKFold, RepeatedStratifiedKFold\n",
    "\n",
    "# Models\n",
    "from sklearn.ensemble import RandomForestRegressor\n",
    "from xgboost import XGBRegressor\n",
    "from lightgbm import LGBMRegressor\n",
    "\n",
    "# NLP\n",
    "import eli5\n",
    "from string import punctuation\n",
    "from nltk.corpus import stopwords\n",
    "from pymystem3.mystem import Mystem"
   ]
  },
  {
   "cell_type": "code",
   "execution_count": 2,
   "id": "b34b0481",
   "metadata": {},
   "outputs": [],
   "source": [
    "data = pd.read_csv(\"Data_1000.csv\")"
   ]
  },
  {
   "cell_type": "code",
   "execution_count": 3,
   "id": "bd47cd61",
   "metadata": {},
   "outputs": [
    {
     "data": {
      "text/html": [
       "<div>\n",
       "<style scoped>\n",
       "    .dataframe tbody tr th:only-of-type {\n",
       "        vertical-align: middle;\n",
       "    }\n",
       "\n",
       "    .dataframe tbody tr th {\n",
       "        vertical-align: top;\n",
       "    }\n",
       "\n",
       "    .dataframe thead th {\n",
       "        text-align: right;\n",
       "    }\n",
       "</style>\n",
       "<table border=\"1\" class=\"dataframe\">\n",
       "  <thead>\n",
       "    <tr style=\"text-align: right;\">\n",
       "      <th></th>\n",
       "      <th>Organization Name</th>\n",
       "      <th>Organization Name URL</th>\n",
       "      <th>Headquarters Location</th>\n",
       "      <th>Headquarters Regions</th>\n",
       "      <th>Diversity Spotlight (US Headquarters Only)</th>\n",
       "      <th>Estimated Revenue Range</th>\n",
       "      <th>Description</th>\n",
       "      <th>Operating Status</th>\n",
       "      <th>Founded Date</th>\n",
       "      <th>Founded Date Precision</th>\n",
       "      <th>...</th>\n",
       "      <th>SEMrush - Page Views / Visit Growth</th>\n",
       "      <th>SEMrush - Bounce Rate</th>\n",
       "      <th>SEMrush - Bounce Rate Growth</th>\n",
       "      <th>SEMrush - Global Traffic Rank</th>\n",
       "      <th>SEMrush - Monthly Rank Change (#)</th>\n",
       "      <th>SEMrush - Monthly Rank Growth</th>\n",
       "      <th>BuiltWith - Active Tech Count</th>\n",
       "      <th>Apptopia - Number of Apps</th>\n",
       "      <th>Apptopia - Downloads Last 30 Days</th>\n",
       "      <th>G2 Stack - Total Products Active</th>\n",
       "    </tr>\n",
       "  </thead>\n",
       "  <tbody>\n",
       "    <tr>\n",
       "      <th>0</th>\n",
       "      <td>MADE</td>\n",
       "      <td>https://www.crunchbase.com/organization/made</td>\n",
       "      <td>London, England, United Kingdom</td>\n",
       "      <td>NaN</td>\n",
       "      <td>NaN</td>\n",
       "      <td>NaN</td>\n",
       "      <td>Made.com is an online e-commerce platform dire...</td>\n",
       "      <td>Active</td>\n",
       "      <td>2010-01-01</td>\n",
       "      <td>year</td>\n",
       "      <td>...</td>\n",
       "      <td>-33.55%</td>\n",
       "      <td>84.05%</td>\n",
       "      <td>33.77%</td>\n",
       "      <td>157,034</td>\n",
       "      <td>117,128</td>\n",
       "      <td>293.51%</td>\n",
       "      <td>33.0</td>\n",
       "      <td>NaN</td>\n",
       "      <td>NaN</td>\n",
       "      <td>43.0</td>\n",
       "    </tr>\n",
       "    <tr>\n",
       "      <th>1</th>\n",
       "      <td>Gymshark</td>\n",
       "      <td>https://www.crunchbase.com/organization/gymshark</td>\n",
       "      <td>Solihull, Solihull, United Kingdom</td>\n",
       "      <td>NaN</td>\n",
       "      <td>NaN</td>\n",
       "      <td>$10M to $50M</td>\n",
       "      <td>Gymshark is an online retailer and technology ...</td>\n",
       "      <td>Active</td>\n",
       "      <td>2012-01-01</td>\n",
       "      <td>year</td>\n",
       "      <td>...</td>\n",
       "      <td>-34.93%</td>\n",
       "      <td>45.41%</td>\n",
       "      <td>34.51%</td>\n",
       "      <td>12,807</td>\n",
       "      <td>4,809</td>\n",
       "      <td>60.13%</td>\n",
       "      <td>107.0</td>\n",
       "      <td>NaN</td>\n",
       "      <td>NaN</td>\n",
       "      <td>43.0</td>\n",
       "    </tr>\n",
       "    <tr>\n",
       "      <th>2</th>\n",
       "      <td>THG</td>\n",
       "      <td>https://www.crunchbase.com/organization/the-hu...</td>\n",
       "      <td>Manchester, Manchester, United Kingdom</td>\n",
       "      <td>NaN</td>\n",
       "      <td>NaN</td>\n",
       "      <td>$1B to $10B</td>\n",
       "      <td>THG is an online retailing platform focused on...</td>\n",
       "      <td>Active</td>\n",
       "      <td>2004-01-01</td>\n",
       "      <td>year</td>\n",
       "      <td>...</td>\n",
       "      <td>15.8%</td>\n",
       "      <td>71.37%</td>\n",
       "      <td>-3.74%</td>\n",
       "      <td>572,245</td>\n",
       "      <td>265,933</td>\n",
       "      <td>86.82%</td>\n",
       "      <td>9.0</td>\n",
       "      <td>2.0</td>\n",
       "      <td>2,408</td>\n",
       "      <td>19.0</td>\n",
       "    </tr>\n",
       "    <tr>\n",
       "      <th>3</th>\n",
       "      <td>Trouva</td>\n",
       "      <td>https://www.crunchbase.com/organization/wearet...</td>\n",
       "      <td>London, England, United Kingdom</td>\n",
       "      <td>NaN</td>\n",
       "      <td>NaN</td>\n",
       "      <td>$10M to $50M</td>\n",
       "      <td>Trouva, the leading platform to discover and s...</td>\n",
       "      <td>Active</td>\n",
       "      <td>2015-09-01</td>\n",
       "      <td>month</td>\n",
       "      <td>...</td>\n",
       "      <td>0.37%</td>\n",
       "      <td>73.15%</td>\n",
       "      <td>-6.66%</td>\n",
       "      <td>158,302</td>\n",
       "      <td>21,845</td>\n",
       "      <td>16.01%</td>\n",
       "      <td>81.0</td>\n",
       "      <td>2.0</td>\n",
       "      <td>1,725</td>\n",
       "      <td>29.0</td>\n",
       "    </tr>\n",
       "    <tr>\n",
       "      <th>4</th>\n",
       "      <td>Upstream</td>\n",
       "      <td>https://www.crunchbase.com/organization/upstre...</td>\n",
       "      <td>London, England, United Kingdom</td>\n",
       "      <td>NaN</td>\n",
       "      <td>NaN</td>\n",
       "      <td>NaN</td>\n",
       "      <td>Upstream is a mobile marketing technology comp...</td>\n",
       "      <td>Active</td>\n",
       "      <td>2001-01-01</td>\n",
       "      <td>year</td>\n",
       "      <td>...</td>\n",
       "      <td>136.24%</td>\n",
       "      <td>37.05%</td>\n",
       "      <td>-57.08%</td>\n",
       "      <td>6,682,937</td>\n",
       "      <td>1,855,470</td>\n",
       "      <td>38.44%</td>\n",
       "      <td>56.0</td>\n",
       "      <td>7.0</td>\n",
       "      <td>NaN</td>\n",
       "      <td>24.0</td>\n",
       "    </tr>\n",
       "    <tr>\n",
       "      <th>...</th>\n",
       "      <td>...</td>\n",
       "      <td>...</td>\n",
       "      <td>...</td>\n",
       "      <td>...</td>\n",
       "      <td>...</td>\n",
       "      <td>...</td>\n",
       "      <td>...</td>\n",
       "      <td>...</td>\n",
       "      <td>...</td>\n",
       "      <td>...</td>\n",
       "      <td>...</td>\n",
       "      <td>...</td>\n",
       "      <td>...</td>\n",
       "      <td>...</td>\n",
       "      <td>...</td>\n",
       "      <td>...</td>\n",
       "      <td>...</td>\n",
       "      <td>...</td>\n",
       "      <td>...</td>\n",
       "      <td>...</td>\n",
       "      <td>...</td>\n",
       "    </tr>\n",
       "    <tr>\n",
       "      <th>995</th>\n",
       "      <td>BetterCommerce</td>\n",
       "      <td>https://www.crunchbase.com/organization/better...</td>\n",
       "      <td>Harrow On The Hill, Harrow, United Kingdom</td>\n",
       "      <td>NaN</td>\n",
       "      <td>NaN</td>\n",
       "      <td>$10M to $50M</td>\n",
       "      <td>BetterCommerce is a headless and composable co...</td>\n",
       "      <td>Active</td>\n",
       "      <td>2015-11-03</td>\n",
       "      <td>day</td>\n",
       "      <td>...</td>\n",
       "      <td>0.24%</td>\n",
       "      <td>0%</td>\n",
       "      <td>NaN</td>\n",
       "      <td>8,126,129</td>\n",
       "      <td>556,625</td>\n",
       "      <td>7.35%</td>\n",
       "      <td>33.0</td>\n",
       "      <td>NaN</td>\n",
       "      <td>NaN</td>\n",
       "      <td>18.0</td>\n",
       "    </tr>\n",
       "    <tr>\n",
       "      <th>996</th>\n",
       "      <td>grüum</td>\n",
       "      <td>https://www.crunchbase.com/organization/grüum</td>\n",
       "      <td>Manchester, Manchester, United Kingdom</td>\n",
       "      <td>NaN</td>\n",
       "      <td>NaN</td>\n",
       "      <td>$1M to $10M</td>\n",
       "      <td>grüum is an e-commerce retailer of beauty and ...</td>\n",
       "      <td>Active</td>\n",
       "      <td>2016-01-01</td>\n",
       "      <td>year</td>\n",
       "      <td>...</td>\n",
       "      <td>68.95%</td>\n",
       "      <td>35.13%</td>\n",
       "      <td>-37.78%</td>\n",
       "      <td>201,536</td>\n",
       "      <td>27,639</td>\n",
       "      <td>15.89%</td>\n",
       "      <td>90.0</td>\n",
       "      <td>NaN</td>\n",
       "      <td>NaN</td>\n",
       "      <td>NaN</td>\n",
       "    </tr>\n",
       "    <tr>\n",
       "      <th>997</th>\n",
       "      <td>Go Instore</td>\n",
       "      <td>https://www.crunchbase.com/organization/go-ins...</td>\n",
       "      <td>London, England, United Kingdom</td>\n",
       "      <td>NaN</td>\n",
       "      <td>NaN</td>\n",
       "      <td>$1M to $10M</td>\n",
       "      <td>Go Instore is a unique technology that closes ...</td>\n",
       "      <td>Active</td>\n",
       "      <td>2014-01-01</td>\n",
       "      <td>year</td>\n",
       "      <td>...</td>\n",
       "      <td>6.6%</td>\n",
       "      <td>85.66%</td>\n",
       "      <td>-7.71%</td>\n",
       "      <td>7,403,665</td>\n",
       "      <td>5,441,122</td>\n",
       "      <td>277.25%</td>\n",
       "      <td>46.0</td>\n",
       "      <td>1.0</td>\n",
       "      <td>NaN</td>\n",
       "      <td>11.0</td>\n",
       "    </tr>\n",
       "    <tr>\n",
       "      <th>998</th>\n",
       "      <td>The White Company</td>\n",
       "      <td>https://www.crunchbase.com/organization/the-wh...</td>\n",
       "      <td>London, England, United Kingdom</td>\n",
       "      <td>NaN</td>\n",
       "      <td>NaN</td>\n",
       "      <td>NaN</td>\n",
       "      <td>We’ve been making impeccably stylish, beautifu...</td>\n",
       "      <td>Active</td>\n",
       "      <td>1994-01-01</td>\n",
       "      <td>year</td>\n",
       "      <td>...</td>\n",
       "      <td>-21.17%</td>\n",
       "      <td>39.62%</td>\n",
       "      <td>-12.17%</td>\n",
       "      <td>42,458</td>\n",
       "      <td>-2,292</td>\n",
       "      <td>-5.12%</td>\n",
       "      <td>44.0</td>\n",
       "      <td>NaN</td>\n",
       "      <td>NaN</td>\n",
       "      <td>41.0</td>\n",
       "    </tr>\n",
       "    <tr>\n",
       "      <th>999</th>\n",
       "      <td>People Tree</td>\n",
       "      <td>https://www.crunchbase.com/organization/people...</td>\n",
       "      <td>London, England, United Kingdom</td>\n",
       "      <td>NaN</td>\n",
       "      <td>NaN</td>\n",
       "      <td>NaN</td>\n",
       "      <td>People Tree is a company which make clothing a...</td>\n",
       "      <td>Active</td>\n",
       "      <td>1991-01-01</td>\n",
       "      <td>year</td>\n",
       "      <td>...</td>\n",
       "      <td>1.62%</td>\n",
       "      <td>33.52%</td>\n",
       "      <td>17.53%</td>\n",
       "      <td>851,151</td>\n",
       "      <td>218,717</td>\n",
       "      <td>34.58%</td>\n",
       "      <td>74.0</td>\n",
       "      <td>NaN</td>\n",
       "      <td>NaN</td>\n",
       "      <td>21.0</td>\n",
       "    </tr>\n",
       "  </tbody>\n",
       "</table>\n",
       "<p>1000 rows × 122 columns</p>\n",
       "</div>"
      ],
      "text/plain": [
       "     Organization Name                              Organization Name URL  \\\n",
       "0                 MADE       https://www.crunchbase.com/organization/made   \n",
       "1             Gymshark   https://www.crunchbase.com/organization/gymshark   \n",
       "2                  THG  https://www.crunchbase.com/organization/the-hu...   \n",
       "3               Trouva  https://www.crunchbase.com/organization/wearet...   \n",
       "4             Upstream  https://www.crunchbase.com/organization/upstre...   \n",
       "..                 ...                                                ...   \n",
       "995     BetterCommerce  https://www.crunchbase.com/organization/better...   \n",
       "996              grüum      https://www.crunchbase.com/organization/grüum   \n",
       "997         Go Instore  https://www.crunchbase.com/organization/go-ins...   \n",
       "998  The White Company  https://www.crunchbase.com/organization/the-wh...   \n",
       "999        People Tree  https://www.crunchbase.com/organization/people...   \n",
       "\n",
       "                          Headquarters Location  Headquarters Regions  \\\n",
       "0               London, England, United Kingdom                   NaN   \n",
       "1            Solihull, Solihull, United Kingdom                   NaN   \n",
       "2        Manchester, Manchester, United Kingdom                   NaN   \n",
       "3               London, England, United Kingdom                   NaN   \n",
       "4               London, England, United Kingdom                   NaN   \n",
       "..                                          ...                   ...   \n",
       "995  Harrow On The Hill, Harrow, United Kingdom                   NaN   \n",
       "996      Manchester, Manchester, United Kingdom                   NaN   \n",
       "997             London, England, United Kingdom                   NaN   \n",
       "998             London, England, United Kingdom                   NaN   \n",
       "999             London, England, United Kingdom                   NaN   \n",
       "\n",
       "     Diversity Spotlight (US Headquarters Only) Estimated Revenue Range  \\\n",
       "0                                           NaN                     NaN   \n",
       "1                                           NaN            $10M to $50M   \n",
       "2                                           NaN             $1B to $10B   \n",
       "3                                           NaN            $10M to $50M   \n",
       "4                                           NaN                     NaN   \n",
       "..                                          ...                     ...   \n",
       "995                                         NaN            $10M to $50M   \n",
       "996                                         NaN             $1M to $10M   \n",
       "997                                         NaN             $1M to $10M   \n",
       "998                                         NaN                     NaN   \n",
       "999                                         NaN                     NaN   \n",
       "\n",
       "                                           Description Operating Status  \\\n",
       "0    Made.com is an online e-commerce platform dire...           Active   \n",
       "1    Gymshark is an online retailer and technology ...           Active   \n",
       "2    THG is an online retailing platform focused on...           Active   \n",
       "3    Trouva, the leading platform to discover and s...           Active   \n",
       "4    Upstream is a mobile marketing technology comp...           Active   \n",
       "..                                                 ...              ...   \n",
       "995  BetterCommerce is a headless and composable co...           Active   \n",
       "996  grüum is an e-commerce retailer of beauty and ...           Active   \n",
       "997  Go Instore is a unique technology that closes ...           Active   \n",
       "998  We’ve been making impeccably stylish, beautifu...           Active   \n",
       "999  People Tree is a company which make clothing a...           Active   \n",
       "\n",
       "    Founded Date Founded Date Precision  ...  \\\n",
       "0     2010-01-01                   year  ...   \n",
       "1     2012-01-01                   year  ...   \n",
       "2     2004-01-01                   year  ...   \n",
       "3     2015-09-01                  month  ...   \n",
       "4     2001-01-01                   year  ...   \n",
       "..           ...                    ...  ...   \n",
       "995   2015-11-03                    day  ...   \n",
       "996   2016-01-01                   year  ...   \n",
       "997   2014-01-01                   year  ...   \n",
       "998   1994-01-01                   year  ...   \n",
       "999   1991-01-01                   year  ...   \n",
       "\n",
       "    SEMrush - Page Views / Visit Growth SEMrush - Bounce Rate  \\\n",
       "0                               -33.55%                84.05%   \n",
       "1                               -34.93%                45.41%   \n",
       "2                                 15.8%                71.37%   \n",
       "3                                 0.37%                73.15%   \n",
       "4                               136.24%                37.05%   \n",
       "..                                  ...                   ...   \n",
       "995                               0.24%                    0%   \n",
       "996                              68.95%                35.13%   \n",
       "997                                6.6%                85.66%   \n",
       "998                             -21.17%                39.62%   \n",
       "999                               1.62%                33.52%   \n",
       "\n",
       "    SEMrush - Bounce Rate Growth SEMrush - Global Traffic Rank  \\\n",
       "0                         33.77%                       157,034   \n",
       "1                         34.51%                        12,807   \n",
       "2                         -3.74%                       572,245   \n",
       "3                         -6.66%                       158,302   \n",
       "4                        -57.08%                     6,682,937   \n",
       "..                           ...                           ...   \n",
       "995                          NaN                     8,126,129   \n",
       "996                      -37.78%                       201,536   \n",
       "997                       -7.71%                     7,403,665   \n",
       "998                      -12.17%                        42,458   \n",
       "999                       17.53%                       851,151   \n",
       "\n",
       "    SEMrush - Monthly Rank Change (#) SEMrush - Monthly Rank Growth  \\\n",
       "0                             117,128                       293.51%   \n",
       "1                               4,809                        60.13%   \n",
       "2                             265,933                        86.82%   \n",
       "3                              21,845                        16.01%   \n",
       "4                           1,855,470                        38.44%   \n",
       "..                                ...                           ...   \n",
       "995                           556,625                         7.35%   \n",
       "996                            27,639                        15.89%   \n",
       "997                         5,441,122                       277.25%   \n",
       "998                            -2,292                        -5.12%   \n",
       "999                           218,717                        34.58%   \n",
       "\n",
       "    BuiltWith - Active Tech Count Apptopia - Number of Apps  \\\n",
       "0                            33.0                       NaN   \n",
       "1                           107.0                       NaN   \n",
       "2                             9.0                       2.0   \n",
       "3                            81.0                       2.0   \n",
       "4                            56.0                       7.0   \n",
       "..                            ...                       ...   \n",
       "995                          33.0                       NaN   \n",
       "996                          90.0                       NaN   \n",
       "997                          46.0                       1.0   \n",
       "998                          44.0                       NaN   \n",
       "999                          74.0                       NaN   \n",
       "\n",
       "    Apptopia - Downloads Last 30 Days G2 Stack - Total Products Active  \n",
       "0                                 NaN                             43.0  \n",
       "1                                 NaN                             43.0  \n",
       "2                               2,408                             19.0  \n",
       "3                               1,725                             29.0  \n",
       "4                                 NaN                             24.0  \n",
       "..                                ...                              ...  \n",
       "995                               NaN                             18.0  \n",
       "996                               NaN                              NaN  \n",
       "997                               NaN                             11.0  \n",
       "998                               NaN                             41.0  \n",
       "999                               NaN                             21.0  \n",
       "\n",
       "[1000 rows x 122 columns]"
      ]
     },
     "execution_count": 3,
     "metadata": {},
     "output_type": "execute_result"
    }
   ],
   "source": [
    "data"
   ]
  },
  {
   "cell_type": "markdown",
   "id": "a6f451da",
   "metadata": {},
   "source": [
    "# EDA"
   ]
  },
  {
   "cell_type": "code",
   "execution_count": 4,
   "id": "fbefc01e",
   "metadata": {},
   "outputs": [
    {
     "name": "stdout",
     "output_type": "stream",
     "text": [
      "Duplicates in dataset: 0\n"
     ]
    }
   ],
   "source": [
    "print(f\"Duplicates in dataset: {data.duplicated().sum()}\")"
   ]
  },
  {
   "cell_type": "markdown",
   "id": "270686d8",
   "metadata": {},
   "source": [
    "It seems, like \"Total Funding Amount\" feature is the one that we need to analize, however we will actually use only \"Total Funding Amount Currency (in USD)\" because it is easier to deal with."
   ]
  },
  {
   "cell_type": "markdown",
   "id": "28f3d743",
   "metadata": {},
   "source": [
    "For simplicity let's rename \"Total Funding Amount Currency (in USD)\" to target"
   ]
  },
  {
   "cell_type": "code",
   "execution_count": 5,
   "id": "52babde0",
   "metadata": {},
   "outputs": [],
   "source": [
    "data.rename(columns = {\"Total Funding Amount Currency (in USD)\":\"Target\"},\n",
    "            inplace = True)"
   ]
  },
  {
   "cell_type": "code",
   "execution_count": 6,
   "id": "bc2c8f20",
   "metadata": {},
   "outputs": [
    {
     "data": {
      "text/plain": [
       "0      1.368587e+08\n",
       "1      2.453001e+08\n",
       "2      5.043153e+09\n",
       "3      4.105982e+07\n",
       "4      7.053692e+07\n",
       "           ...     \n",
       "995             NaN\n",
       "996             NaN\n",
       "997             NaN\n",
       "998             NaN\n",
       "999             NaN\n",
       "Name: Target, Length: 1000, dtype: float64"
      ]
     },
     "execution_count": 6,
     "metadata": {},
     "output_type": "execute_result"
    }
   ],
   "source": [
    "data[\"Target\"]"
   ]
  },
  {
   "cell_type": "code",
   "execution_count": 7,
   "id": "6bd50527",
   "metadata": {},
   "outputs": [
    {
     "data": {
      "text/plain": [
       "187"
      ]
     },
     "execution_count": 7,
     "metadata": {},
     "output_type": "execute_result"
    }
   ],
   "source": [
    "data[\"Target\"].isnull().sum()"
   ]
  },
  {
   "cell_type": "markdown",
   "id": "7d340de0",
   "metadata": {},
   "source": [
    "Unfortunaly, we have missing data in target column, therefore, we must drop those rows"
   ]
  },
  {
   "cell_type": "code",
   "execution_count": 8,
   "id": "70a22230",
   "metadata": {},
   "outputs": [],
   "source": [
    "data.dropna(axis=0,\n",
    "            subset=[\"Target\"],\n",
    "            inplace=True)\n",
    "data = data.reset_index(drop=True)"
   ]
  },
  {
   "cell_type": "markdown",
   "id": "740544e0",
   "metadata": {},
   "source": [
    "Let's explore the target closer:"
   ]
  },
  {
   "cell_type": "code",
   "execution_count": 9,
   "id": "8c9ee319",
   "metadata": {},
   "outputs": [
    {
     "data": {
      "text/plain": [
       "(0.0, 50.0)"
      ]
     },
     "execution_count": 9,
     "metadata": {},
     "output_type": "execute_result"
    },
    {
     "data": {
      "image/png": "[encoded data removed]",
      "text/plain": [
       "<Figure size 1200x600 with 1 Axes>"
      ]
     },
     "metadata": {},
     "output_type": "display_data"
    }
   ],
   "source": [
    "fig = plt.gcf()\n",
    "fig.set_size_inches(12, 6)\n",
    "sns.set_style(\"whitegrid\")\n",
    "ax = sns.histplot(np.array(data[\"Target\"].dropna()),\n",
    "                  kde=True,\n",
    "                  bins=50,\n",
    "                  log_scale=True)\n",
    "ax.set(xlabel=\"USD\", title=\"Density function\")\n",
    "ax.set_ylim([0, 50])"
   ]
  },
  {
   "cell_type": "code",
   "execution_count": 10,
   "id": "5b376f34",
   "metadata": {},
   "outputs": [
    {
     "data": {
      "text/plain": [
       "1809716.0"
      ]
     },
     "execution_count": 10,
     "metadata": {},
     "output_type": "execute_result"
    }
   ],
   "source": [
    "data[\"Target\"].median()"
   ]
  },
  {
   "cell_type": "code",
   "execution_count": 11,
   "id": "4883f6d1",
   "metadata": {},
   "outputs": [
    {
     "name": "stdout",
     "output_type": "stream",
     "text": [
      "First quartile\n",
      "439369.0\n",
      "Third quartile\n",
      "7537177.0\n"
     ]
    }
   ],
   "source": [
    "print(\"First quartile\")\n",
    "print(np.percentile(data[\"Target\"], 25))\n",
    "\n",
    "print(\"Third quartile\")\n",
    "print(np.percentile(data[\"Target\"], 75))"
   ]
  },
  {
   "cell_type": "code",
   "execution_count": 12,
   "id": "350a54e8",
   "metadata": {},
   "outputs": [
    {
     "name": "stdout",
     "output_type": "stream",
     "text": [
      "7.119935550199631\n"
     ]
    }
   ],
   "source": [
    "# Coefficient of variation\n",
    "print(scipy.stats.variation(data[\"Target\"]))"
   ]
  },
  {
   "cell_type": "markdown",
   "id": "94a95811",
   "metadata": {},
   "source": [
    "# Missing values"
   ]
  },
  {
   "cell_type": "markdown",
   "id": "72006338",
   "metadata": {},
   "source": [
    "Our target has missing values, therefore, we definitely should explore other columns"
   ]
  },
  {
   "cell_type": "code",
   "execution_count": 13,
   "id": "25b24255",
   "metadata": {
    "scrolled": false
   },
   "outputs": [
    {
     "name": "stdout",
     "output_type": "stream",
     "text": [
      "Headquarters Regions 100.0 %\n",
      "Diversity Spotlight (US Headquarters Only) 100.0 %\n",
      "Estimated Revenue Range 49.0 %\n",
      "Founded Date 0.0 %\n",
      "Founded Date Precision 0.0 %\n",
      "Exit Date 88.0 %\n",
      "Exit Date Precision 88.0 %\n",
      "Closed Date 98.0 %\n",
      "Closed Date Precision 90.0 %\n",
      "Company Type 5.0 %\n",
      "Website 0.0 %\n",
      "Twitter 22.0 %\n",
      "Facebook 20.0 %\n",
      "LinkedIn 17.0 %\n",
      "Contact Email 16.0 %\n",
      "Phone Number 47.0 %\n",
      "Number of Articles 34.0 %\n",
      "Hub Tags 99.0 %\n",
      "Full Description 7.0 %\n",
      "Actively Hiring 98.0 %\n",
      "Investor Type 100.0 %\n",
      "Investment Stage 100.0 %\n",
      "Number of Portfolio Organizations 99.0 %\n",
      "Number of Investments 99.0 %\n",
      "Number of Lead Investments 99.0 %\n",
      "Number of Diversity Investments 100.0 %\n",
      "Number of Exits 99.0 %\n",
      "Number of Exits (IPO) 99.0 %\n",
      "Accelerator Program Type 100.0 %\n",
      "Accelerator Application Deadline 100.0 %\n",
      "Accelerator Duration (in weeks) 100.0 %\n",
      "School Type 100.0 %\n",
      "School Program 100.0 %\n",
      "Number of Enrollments 100.0 %\n",
      "School Method 100.0 %\n",
      "Number of Founders (Alumni) 100.0 %\n",
      "Number of Alumni 100.0 %\n",
      "Number of Founders 4.0 %\n",
      "Founders 4.0 %\n",
      "Number of Employees 1.0 %\n",
      "Funding Status 31.0 %\n",
      "Last Funding Amount 9.0 %\n",
      "Last Funding Amount Currency 9.0 %\n",
      "Last Funding Amount Currency (in USD) 9.0 %\n",
      "Last Equity Funding Amount 11.0 %\n",
      "Last Equity Funding Amount Currency 11.0 %\n",
      "Last Equity Funding Amount Currency (in USD) 11.0 %\n",
      "Last Equity Funding Type 3.0 %\n",
      "Total Equity Funding Amount 3.0 %\n",
      "Total Equity Funding Amount Currency 3.0 %\n",
      "Total Equity Funding Amount Currency (in USD) 3.0 %\n",
      "Top 5 Investors 24.0 %\n",
      "Number of Lead Investors 46.0 %\n",
      "Number of Investors 24.0 %\n",
      "Number of Acquisitions 92.0 %\n",
      "Acquisition Status 84.0 %\n",
      "Transaction Name 90.0 %\n",
      "Transaction Name URL 90.0 %\n",
      "Acquired by 90.0 %\n",
      "Acquired by URL 90.0 %\n",
      "Announced Date 90.0 %\n",
      "Announced Date Precision 90.0 %\n",
      "Price 97.0 %\n",
      "Price Currency 97.0 %\n",
      "Price Currency (in USD) 97.0 %\n",
      "Acquisition Type 90.0 %\n",
      "Acquisition Terms 99.0 %\n",
      "IPO Date 98.0 %\n",
      "Delisted Date 100.0 %\n",
      "Delisted Date Precision 100.0 %\n",
      "Money Raised at IPO 99.0 %\n",
      "Money Raised at IPO Currency 99.0 %\n",
      "Money Raised at IPO Currency (in USD) 99.0 %\n",
      "Valuation at IPO 99.0 %\n",
      "Valuation at IPO Currency 99.0 %\n",
      "Valuation at IPO Currency (in USD) 99.0 %\n",
      "Stock Symbol 98.0 %\n",
      "Stock Symbol URL 98.0 %\n",
      "Stock Exchange 98.0 %\n",
      "Last Leadership Hiring Date 97.0 %\n",
      "Last Layoff Mention Date 98.0 %\n",
      "Number of Events 87.0 %\n",
      "CB Rank (School) 100.0 %\n",
      "Similar Companies 7.0 %\n",
      "Contact Job Departments 50.0 %\n",
      "Number of Contacts 48.0 %\n",
      "Number of Private Contacts 100.0 %\n",
      "SEMrush - Monthly Visits 38.0 %\n",
      "SEMrush - Average Visits (6 months) 49.0 %\n",
      "SEMrush - Monthly Visits Growth 43.0 %\n",
      "SEMrush - Visit Duration 38.0 %\n",
      "SEMrush - Visit Duration Growth 47.0 %\n",
      "SEMrush - Page Views / Visit 38.0 %\n",
      "SEMrush - Page Views / Visit Growth 43.0 %\n",
      "SEMrush - Bounce Rate 38.0 %\n",
      "SEMrush - Bounce Rate Growth 44.0 %\n",
      "SEMrush - Global Traffic Rank 38.0 %\n",
      "SEMrush - Monthly Rank Change (#) 43.0 %\n",
      "SEMrush - Monthly Rank Growth 43.0 %\n",
      "BuiltWith - Active Tech Count 4.0 %\n",
      "Apptopia - Number of Apps 85.0 %\n",
      "Apptopia - Downloads Last 30 Days 95.0 %\n",
      "G2 Stack - Total Products Active 45.0 %\n"
     ]
    }
   ],
   "source": [
    "missing_data = {}\n",
    "\n",
    "for col in data.columns:\n",
    "    missing = data[col].isnull().sum() / len(data)\n",
    "    missing_data[col] = missing\n",
    "    if missing:\n",
    "        print(col, np.round(missing * 100), \"%\")"
   ]
  },
  {
   "cell_type": "markdown",
   "id": "101fd416",
   "metadata": {},
   "source": [
    "Apparently, we have got to many features to analize them all."
   ]
  },
  {
   "cell_type": "markdown",
   "id": "be0301d4",
   "metadata": {},
   "source": [
    "We do not need features with different currencies but the same information. So, we leave only info in USD."
   ]
  },
  {
   "cell_type": "code",
   "execution_count": 14,
   "id": "f6e9eb93",
   "metadata": {},
   "outputs": [],
   "source": [
    "to_drop = ['Last Funding Amount',\n",
    "            'Last Funding Amount Currency',\n",
    "            'Last Equity Funding Amount',\n",
    "            'Last Equity Funding Amount Currency',\n",
    "            'Total Funding Amount',\n",
    "            'Total Funding Amount Currency',\n",
    "            'Total Equity Funding Amount',\n",
    "            'Total Equity Funding Amount Currency',\n",
    "            'Valuation at IPO',\n",
    "            'Valuation at IPO Currency',\n",
    "            'Money Raised at IPO',\n",
    "            'Money Raised at IPO Currency',\n",
    "            'Price',\n",
    "            'Price Currency']"
   ]
  },
  {
   "cell_type": "markdown",
   "id": "495e91bf",
   "metadata": {},
   "source": [
    "Obviously, there not much information in the urls themselves (they could be used for scrapping so we could get more data, however, it would take some time, so now we will just drop them)"
   ]
  },
  {
   "cell_type": "markdown",
   "id": "cf1d56fd",
   "metadata": {},
   "source": [
    "Also, phone number and email information would not help us (too much unique values)"
   ]
  },
  {
   "cell_type": "code",
   "execution_count": 15,
   "id": "816bee0b",
   "metadata": {},
   "outputs": [],
   "source": [
    "to_drop += ['Website',\n",
    "            'Twitter',\n",
    "            'Facebook',\n",
    "            'LinkedIn',\n",
    "            'Contact Email',\n",
    "            'Phone Number',\n",
    "            'Organization Name URL',\n",
    "            'Stock Symbol URL',\n",
    "            'Acquired by URL',\n",
    "            'Transaction Name URL']"
   ]
  },
  {
   "cell_type": "markdown",
   "id": "b1a8a906",
   "metadata": {},
   "source": [
    "Let's fill missing data \"Full Description\" using \"Description\""
   ]
  },
  {
   "cell_type": "code",
   "execution_count": 16,
   "id": "7280336e",
   "metadata": {},
   "outputs": [],
   "source": [
    "data[\"Full Description\"] = data.apply(\n",
    "    lambda row: row[\"Description\"]\n",
    "    if pd.isnull(row[\"Full Description\"])\n",
    "    else row[\"Full Description\"],\n",
    "    axis=1\n",
    ")"
   ]
  },
  {
   "cell_type": "markdown",
   "id": "2c06f366",
   "metadata": {},
   "source": [
    "Now we can drop \"Description\""
   ]
  },
  {
   "cell_type": "code",
   "execution_count": 17,
   "id": "f97153ce",
   "metadata": {},
   "outputs": [],
   "source": [
    "to_drop += [\"Description\"]"
   ]
  },
  {
   "cell_type": "markdown",
   "id": "41d3fac3",
   "metadata": {},
   "source": [
    "\"Founders\" feature is an interesting one: maybe, it is possible to predict target value based on founders names. However, it would be reather diffucult, because we have to much unique values and it would unbelievably increase the complexity of model. Therefore, we just drop the column."
   ]
  },
  {
   "cell_type": "code",
   "execution_count": 18,
   "id": "aabbfda3",
   "metadata": {},
   "outputs": [],
   "source": [
    "to_drop += [\"Founders\"]"
   ]
  },
  {
   "cell_type": "markdown",
   "id": "dca269a1",
   "metadata": {},
   "source": [
    "\"Top 5 Investors\" is an interesting feature, however, for simplicity of model we will drop it as we did with funders"
   ]
  },
  {
   "cell_type": "code",
   "execution_count": 19,
   "id": "543b4fcc",
   "metadata": {},
   "outputs": [],
   "source": [
    "to_drop += [\"Top 5 Investors\"]"
   ]
  },
  {
   "cell_type": "markdown",
   "id": "2a4f3a3d",
   "metadata": {},
   "source": [
    "It would be impossible in this case to fill missing values if they all are missing"
   ]
  },
  {
   "cell_type": "code",
   "execution_count": 20,
   "id": "ccd45d42",
   "metadata": {},
   "outputs": [],
   "source": [
    "to_drop += [key for key, value in missing_data.items() if value == 1]"
   ]
  },
  {
   "cell_type": "markdown",
   "id": "2fa7cbf6",
   "metadata": {},
   "source": [
    "\"Operating Status Active\" has only missing values, we will drop it"
   ]
  },
  {
   "cell_type": "markdown",
   "id": "ff29fc3b",
   "metadata": {},
   "source": [
    "## Dates"
   ]
  },
  {
   "cell_type": "markdown",
   "id": "79f66efc",
   "metadata": {},
   "source": [
    "As for the dates, we will convert them into unix format.  \"Closed Date\" has to many missing values. Same goes for \"Delisted Date\". "
   ]
  },
  {
   "cell_type": "markdown",
   "id": "58b35153",
   "metadata": {},
   "source": [
    "If there is now information about \"Exit Date\", it means that company hasn't exited yet, so we fill it with todays date. As for \"Founded Date\", it has one or two missing values that we will fill with 0 (as well as those values that are out of bounds). We will create \"Duration\" column as \"Founded Date\" - \"Exit Date\". "
   ]
  },
  {
   "cell_type": "code",
   "execution_count": 21,
   "id": "b4377151",
   "metadata": {},
   "outputs": [
    {
     "data": {
      "text/plain": [
       "0      2010-01-01\n",
       "1      2012-01-01\n",
       "2      2004-01-01\n",
       "3      2015-09-01\n",
       "4      2001-01-01\n",
       "          ...    \n",
       "808    2014-02-01\n",
       "809    1600-12-31\n",
       "810    2012-08-18\n",
       "811    2014-10-30\n",
       "812    2012-06-01\n",
       "Name: Founded Date, Length: 813, dtype: object"
      ]
     },
     "execution_count": 21,
     "metadata": {},
     "output_type": "execute_result"
    }
   ],
   "source": [
    "data[\"Founded Date\"]"
   ]
  },
  {
   "cell_type": "code",
   "execution_count": 22,
   "id": "ea37d4c3",
   "metadata": {},
   "outputs": [],
   "source": [
    "data[\"Founded Date\"] = pd.to_datetime(data[\"Founded Date\"],\n",
    "                            infer_datetime_format=True,\n",
    "                            errors=\"coerce\").fillna(0)\n",
    "data[\"Exit Date\"].fillna(pd.Timestamp.today(), inplace=True)"
   ]
  },
  {
   "cell_type": "code",
   "execution_count": 23,
   "id": "0677b24e",
   "metadata": {},
   "outputs": [],
   "source": [
    "data[\"Founded Date\"] = data[\"Founded Date\"].apply(\n",
    "    lambda x: pd.to_datetime(x, errors='coerce').value\n",
    "    )\n",
    "\n",
    "data[\"Exit Date\"] = data[\"Exit Date\"].apply(\n",
    "    lambda x: pd.to_datetime(x, errors=\"coerce\").value\n",
    "    )"
   ]
  },
  {
   "cell_type": "code",
   "execution_count": 24,
   "id": "7f6609f9",
   "metadata": {},
   "outputs": [],
   "source": [
    "data[\"FoundedExitDuration\"] = data[\"Exit Date\"] - data[\"Founded Date\"]"
   ]
  },
  {
   "cell_type": "markdown",
   "id": "81876e12",
   "metadata": {},
   "source": [
    "That means that now we may drop 'Exit Date', 'Founded Date' and their precision. Also, we can drop 'Closed Date' as we stated earlier"
   ]
  },
  {
   "cell_type": "code",
   "execution_count": 25,
   "id": "7be241a8",
   "metadata": {},
   "outputs": [],
   "source": [
    "to_drop += ['Exit Date',\n",
    "            'Founded Date',\n",
    "            'Founded Date Precision',\n",
    "            'Exit Date Precision',\n",
    "            'Closed Date',\n",
    "            'Closed Date Precision',\n",
    "]"
   ]
  },
  {
   "cell_type": "code",
   "execution_count": 26,
   "id": "a79ca7f4",
   "metadata": {},
   "outputs": [],
   "source": [
    "data.drop(to_drop, axis=1, inplace=True)\n",
    "\n",
    "for col in to_drop:\n",
    "    if col in missing_data.keys():\n",
    "        missing_data.pop(col)"
   ]
  },
  {
   "cell_type": "markdown",
   "id": "9ce1c357",
   "metadata": {},
   "source": [
    "Like before we can convert 'Last Funding Date' to unix"
   ]
  },
  {
   "cell_type": "code",
   "execution_count": 27,
   "id": "6f0083fd",
   "metadata": {},
   "outputs": [],
   "source": [
    "data[\"Last Funding Date\"].fillna(pd.Timestamp.today(), inplace=True)\n",
    "\n",
    "data[\"Last Funding Date\"] = data[\"Last Funding Date\"].apply(\n",
    "    lambda x: pd.to_datetime(x, errors=\"coerce\").value\n",
    "    )"
   ]
  },
  {
   "cell_type": "markdown",
   "id": "6694b8ca",
   "metadata": {},
   "source": [
    "## Estimated Revenue Range"
   ]
  },
  {
   "cell_type": "markdown",
   "id": "452d1edf",
   "metadata": {},
   "source": [
    "Let's convert \"Estimated Revenue Range\" to appropriate format. Just for now we fill missing values with -1"
   ]
  },
  {
   "cell_type": "code",
   "execution_count": 28,
   "id": "12b616a3",
   "metadata": {},
   "outputs": [],
   "source": [
    "def text_to_num(text):\n",
    "    d = {\n",
    "        \"K\": 1000,\n",
    "        \"M\": 1000000,\n",
    "        \"B\": 1000000000\n",
    "    }\n",
    "\n",
    "    if text[-1] in d:\n",
    "        num, magnitude = text[:-1], text[-1]\n",
    "        return int(float(num) * d[magnitude])\n",
    "    else:\n",
    "        return float(text)"
   ]
  },
  {
   "cell_type": "code",
   "execution_count": 29,
   "id": "26c4360f",
   "metadata": {},
   "outputs": [],
   "source": [
    "def convert_revenue(text):\n",
    "    if not isinstance(text, str):\n",
    "        return -1\n",
    "    \n",
    "    revenue_range = text.split(\"$\")\n",
    "    \n",
    "    # Last number\n",
    "    if revenue_range[0] == \"Less than \":\n",
    "        return text_to_num(revenue_range[-1])\n",
    "    \n",
    "    # Difference of revenue range\n",
    "    return(text_to_num(revenue_range[-1]) - text_to_num(revenue_range[1].split(\" \")[0]))"
   ]
  },
  {
   "cell_type": "code",
   "execution_count": 30,
   "id": "8dec6a2a",
   "metadata": {},
   "outputs": [],
   "source": [
    "data[\"Estimated Revenue Range\"] = data[\"Estimated Revenue Range\"].apply(lambda row: convert_revenue(row))"
   ]
  },
  {
   "cell_type": "markdown",
   "id": "64d22c2f",
   "metadata": {},
   "source": [
    "Then we explore correlation between \"Estimated Revenue Range\" and other features to fill these values correctly"
   ]
  },
  {
   "cell_type": "code",
   "execution_count": 31,
   "id": "66bd2af2",
   "metadata": {
    "scrolled": false
   },
   "outputs": [
    {
     "data": {
      "text/plain": [
       "<AxesSubplot: >"
      ]
     },
     "execution_count": 31,
     "metadata": {},
     "output_type": "execute_result"
    },
    {
     "data": {
      "image/png": "[encoded data removed]",
      "text/plain": [
       "<Figure size 640x480 with 2 Axes>"
      ]
     },
     "metadata": {},
     "output_type": "display_data"
    }
   ],
   "source": [
    "sns.heatmap(data.corr(numeric_only=True))"
   ]
  },
  {
   "cell_type": "markdown",
   "id": "e703d3ad",
   "metadata": {},
   "source": [
    "It is highly correlated with 'Total Equity Funding Amount Currency (in USD)'"
   ]
  },
  {
   "cell_type": "markdown",
   "id": "c7afcd22",
   "metadata": {},
   "source": [
    "However, 'Total Equity Funding Amount Currency (in USD)' has missing values. We fill them with the median value"
   ]
  },
  {
   "cell_type": "code",
   "execution_count": 32,
   "id": "bb043c53",
   "metadata": {},
   "outputs": [],
   "source": [
    "data[\"Total Equity Funding Amount Currency (in USD)\"].fillna(\n",
    "    data[\"Total Equity Funding Amount Currency (in USD)\"].median(),\n",
    "    inplace=True\n",
    ")"
   ]
  },
  {
   "cell_type": "code",
   "execution_count": 33,
   "id": "d5273d6e",
   "metadata": {},
   "outputs": [],
   "source": [
    "def fill_revenue(row):\n",
    "    if row[\"Estimated Revenue Range\"] == -1:\n",
    "        row[\"Estimated Revenue Range\"] = row[\"Total Equity Funding Amount Currency (in USD)\"] * corr\n",
    "    return row"
   ]
  },
  {
   "cell_type": "code",
   "execution_count": 34,
   "id": "55c29b01",
   "metadata": {},
   "outputs": [],
   "source": [
    "corr = data[\"Estimated Revenue Range\"].corr(\n",
    "    data[\"Total Equity Funding Amount Currency (in USD)\"]\n",
    ")\n",
    "data = data.apply(fill_revenue, axis=1)"
   ]
  },
  {
   "cell_type": "markdown",
   "id": "7fbe6287",
   "metadata": {},
   "source": [
    "## Number of Articles"
   ]
  },
  {
   "cell_type": "markdown",
   "id": "54d45e28",
   "metadata": {},
   "source": [
    "Let's convert \"Number of Articles\" from string to int and fill missing values with 0"
   ]
  },
  {
   "cell_type": "code",
   "execution_count": 35,
   "id": "2ba14cc1",
   "metadata": {},
   "outputs": [],
   "source": [
    "data[\"Number of Articles\"].fillna(0, inplace=True)\n",
    "data[\"Number of Articles\"] = data[\"Number of Articles\"].apply(lambda row: int(row))"
   ]
  },
  {
   "cell_type": "markdown",
   "id": "1f531eff",
   "metadata": {},
   "source": [
    "It actually has linear correlation with target"
   ]
  },
  {
   "cell_type": "code",
   "execution_count": 36,
   "id": "ca94cdaa",
   "metadata": {},
   "outputs": [
    {
     "data": {
      "text/plain": [
       "PearsonRResult(statistic=0.42115426832617553, pvalue=2.7268248413881767e-36)"
      ]
     },
     "execution_count": 36,
     "metadata": {},
     "output_type": "execute_result"
    }
   ],
   "source": [
    "scipy.stats.pearsonr(data[\"Target\"], data[\"Number of Articles\"])"
   ]
  },
  {
   "cell_type": "markdown",
   "id": "cd856f1a",
   "metadata": {},
   "source": [
    "## Operating Status"
   ]
  },
  {
   "cell_type": "markdown",
   "id": "69410835",
   "metadata": {},
   "source": [
    "We can see that it is a binary column"
   ]
  },
  {
   "cell_type": "code",
   "execution_count": 37,
   "id": "77491f52",
   "metadata": {},
   "outputs": [
    {
     "data": {
      "text/plain": [
       "array(['Active', 'Closed'], dtype=object)"
      ]
     },
     "execution_count": 37,
     "metadata": {},
     "output_type": "execute_result"
    }
   ],
   "source": [
    "data[\"Operating Status\"].unique()"
   ]
  },
  {
   "cell_type": "code",
   "execution_count": 38,
   "id": "c0d2ec0a",
   "metadata": {},
   "outputs": [],
   "source": [
    "mapping = {\"Active\": 1, \"Closed\": 0}\n",
    "data[\"Operating Status Active\"] = data[\"Operating Status\"].map(mapping)\n",
    "data.drop([\"Operating Status\"], axis=1, inplace=True)"
   ]
  },
  {
   "cell_type": "markdown",
   "id": "66b4a790",
   "metadata": {},
   "source": [
    "## Company Type"
   ]
  },
  {
   "cell_type": "markdown",
   "id": "30ba44b5",
   "metadata": {},
   "source": [
    "Same goes for \"Company Type\" but we also fill missing values with mode"
   ]
  },
  {
   "cell_type": "code",
   "execution_count": 39,
   "id": "625b2f56",
   "metadata": {},
   "outputs": [],
   "source": [
    "data[\"Company Type\"].fillna(data[\"Company Type\"].mode(), inplace=True)"
   ]
  },
  {
   "cell_type": "code",
   "execution_count": 40,
   "id": "19df2efb",
   "metadata": {},
   "outputs": [
    {
     "data": {
      "text/plain": [
       "array(['For Profit', nan, 'Non-profit'], dtype=object)"
      ]
     },
     "execution_count": 40,
     "metadata": {},
     "output_type": "execute_result"
    }
   ],
   "source": [
    "data[\"Company Type\"].unique()"
   ]
  },
  {
   "cell_type": "code",
   "execution_count": 41,
   "id": "31ea03ee",
   "metadata": {},
   "outputs": [],
   "source": [
    "mapping = {\"For Profit\": 1, \"Non-profit\": 0}\n",
    "data[\"For Profit\"] = data[\"Company Type\"].map(mapping)\n",
    "data.drop([\"Company Type\"], axis=1, inplace=True)"
   ]
  },
  {
   "cell_type": "markdown",
   "id": "cefb180e",
   "metadata": {},
   "source": [
    "## Actively Hiring"
   ]
  },
  {
   "cell_type": "code",
   "execution_count": 42,
   "id": "295eba9e",
   "metadata": {},
   "outputs": [
    {
     "data": {
      "text/plain": [
       "array([nan, 'Yes'], dtype=object)"
      ]
     },
     "execution_count": 42,
     "metadata": {},
     "output_type": "execute_result"
    }
   ],
   "source": [
    "data[\"Actively Hiring\"].unique()"
   ]
  },
  {
   "cell_type": "code",
   "execution_count": 43,
   "id": "d943ec35",
   "metadata": {},
   "outputs": [],
   "source": [
    "data[\"Actively Hiring\"].fillna(\"No\", inplace=True)\n",
    "data[\"Actively Hiring\"] = data[\"Actively Hiring\"].map({\"Yes\":1,\"No\":0})"
   ]
  },
  {
   "cell_type": "markdown",
   "id": "ae30551c",
   "metadata": {},
   "source": [
    "It would be a challenging task to fill missing data in column where most of it missing. Also, these features are not extremely important"
   ]
  },
  {
   "cell_type": "code",
   "execution_count": 44,
   "id": "29b63380",
   "metadata": {},
   "outputs": [],
   "source": [
    "to_drop = [key for key, value in missing_data.items() if value > 0.5]"
   ]
  },
  {
   "cell_type": "code",
   "execution_count": 45,
   "id": "6c82622a",
   "metadata": {},
   "outputs": [],
   "source": [
    "data.drop(to_drop, axis=1, inplace=True)\n",
    "\n",
    "for col in to_drop:\n",
    "    if col in missing_data.keys():\n",
    "        missing_data.pop(col)"
   ]
  },
  {
   "cell_type": "markdown",
   "id": "d1da8a68",
   "metadata": {},
   "source": [
    "## Number of Founders"
   ]
  },
  {
   "cell_type": "code",
   "execution_count": 46,
   "id": "54419f56",
   "metadata": {},
   "outputs": [
    {
     "data": {
      "text/plain": [
       "0.041820418204182044"
      ]
     },
     "execution_count": 46,
     "metadata": {},
     "output_type": "execute_result"
    }
   ],
   "source": [
    "missing_data[\"Number of Founders\"]"
   ]
  },
  {
   "cell_type": "code",
   "execution_count": 47,
   "id": "daea9370",
   "metadata": {},
   "outputs": [],
   "source": [
    "data[\"Number of Founders\"].fillna(np.round(data[\"Number of Founders\"].median()), inplace=True)"
   ]
  },
  {
   "cell_type": "markdown",
   "id": "da00fac1",
   "metadata": {},
   "source": [
    "## Number of Employees"
   ]
  },
  {
   "cell_type": "code",
   "execution_count": 48,
   "id": "d7a09745",
   "metadata": {
    "scrolled": true
   },
   "outputs": [
    {
     "data": {
      "text/plain": [
       "0.012300123001230012"
      ]
     },
     "execution_count": 48,
     "metadata": {},
     "output_type": "execute_result"
    }
   ],
   "source": [
    "missing_data[\"Number of Employees\"]"
   ]
  },
  {
   "cell_type": "code",
   "execution_count": 49,
   "id": "7ff50f6a",
   "metadata": {},
   "outputs": [],
   "source": [
    "data[\"Number of Employees\"].fillna(data[\"Number of Employees\"].mode().iloc[0], inplace=True)"
   ]
  },
  {
   "cell_type": "code",
   "execution_count": 50,
   "id": "34886166",
   "metadata": {},
   "outputs": [],
   "source": [
    "def convert_n_employees(text):\n",
    "    if text[-1] == \"+\":\n",
    "        return int(text[:-1])\n",
    "    return int(text.split(\"-\")[1]) - int(text.split(\"-\")[0])"
   ]
  },
  {
   "cell_type": "code",
   "execution_count": 51,
   "id": "a5f31a1b",
   "metadata": {},
   "outputs": [],
   "source": [
    "data[\"Number of Employees\"] = data[\"Number of Employees\"].apply(lambda row: convert_n_employees(row))"
   ]
  },
  {
   "cell_type": "markdown",
   "id": "b50d0606",
   "metadata": {},
   "source": [
    "## Funding Status"
   ]
  },
  {
   "cell_type": "code",
   "execution_count": 52,
   "id": "3c496b6d",
   "metadata": {},
   "outputs": [
    {
     "data": {
      "text/plain": [
       "0.3075030750307503"
      ]
     },
     "execution_count": 52,
     "metadata": {},
     "output_type": "execute_result"
    }
   ],
   "source": [
    "missing_data[\"Funding Status\"]"
   ]
  },
  {
   "cell_type": "code",
   "execution_count": 53,
   "id": "95228be6",
   "metadata": {},
   "outputs": [
    {
     "data": {
      "text/plain": [
       "array(['M&A', 'Private Equity', 'IPO', nan, 'Early Stage Venture', 'Seed',\n",
       "       'Late Stage Venture'], dtype=object)"
      ]
     },
     "execution_count": 53,
     "metadata": {},
     "output_type": "execute_result"
    }
   ],
   "source": [
    "data[\"Funding Status\"].unique()"
   ]
  },
  {
   "cell_type": "code",
   "execution_count": 54,
   "id": "8a833040",
   "metadata": {},
   "outputs": [],
   "source": [
    "def check_categorical_correlation(categorical1,\n",
    "                                  categorical2,\n",
    "                                  p=0.05):\n",
    "    contingency_table = pd.crosstab(categorical1,\n",
    "                                    categorical2,\n",
    "                                    dropna=True)\n",
    "    chi2, p_value, dof, expected = scipy.stats.chi2_contingency(contingency_table)\n",
    "    if (p_value < p):\n",
    "        return True\n",
    "    return False"
   ]
  },
  {
   "cell_type": "code",
   "execution_count": 55,
   "id": "06f24dde",
   "metadata": {},
   "outputs": [
    {
     "data": {
      "text/plain": [
       "True"
      ]
     },
     "execution_count": 55,
     "metadata": {},
     "output_type": "execute_result"
    }
   ],
   "source": [
    "check_categorical_correlation(data[\"Funding Status\"], data[\"Number of Employees\"])"
   ]
  },
  {
   "cell_type": "code",
   "execution_count": 56,
   "id": "15c724cb",
   "metadata": {},
   "outputs": [],
   "source": [
    "data[\"Funding Status\"] = data.apply(\n",
    "    lambda row: row[\"Funding Status\"] if isinstance(row[\"Funding Status\"], str)\n",
    "    else data[row[\"Number of Employees\"] == data[\"Number of Employees\"]][\"Funding Status\"].mode(),\n",
    "    axis=1\n",
    ")"
   ]
  },
  {
   "cell_type": "markdown",
   "id": "fe247002",
   "metadata": {},
   "source": [
    "We fill 'Number of Lead Investors' and 'Number of Investors' with zero, assuming, that if there is no information about investors than there are no investors."
   ]
  },
  {
   "cell_type": "code",
   "execution_count": 57,
   "id": "fd4a6973",
   "metadata": {},
   "outputs": [],
   "source": [
    "data[\"Number of Lead Investors\"].fillna(0, inplace=True)\n",
    "data[\"Number of Investors\"].fillna(0, inplace=True)"
   ]
  },
  {
   "cell_type": "markdown",
   "id": "c36e00d1",
   "metadata": {},
   "source": [
    "## Last Funding Amount Currency (in USD)"
   ]
  },
  {
   "cell_type": "code",
   "execution_count": 58,
   "id": "80479721",
   "metadata": {},
   "outputs": [],
   "source": [
    "def check_categorical_numerical_correlation(data, categorical,\n",
    "                                            numerical, p=0.05):\n",
    "    statistic, p_value = scipy.stats.shapiro(data[numerical])\n",
    "    # Shapiro-Wilk test\n",
    "    shapiro_p_value = scipy.stats.shapiro(data[numerical])[1]\n",
    "    groups = [group[1][numerical] for group in data.groupby(categorical)]\n",
    "    if shapiro_p_value > p:\n",
    "        # Normally distributed\n",
    "        # ANOVA Test\n",
    "        f_value, p_value = scipy.stats.f_oneway(*groups)\n",
    "    else:\n",
    "        # Not normally distributed\n",
    "        # Kruskal-Wallis Test\n",
    "        h_value, p_value = scipy.stats.kruskal(*groups)\n",
    "    if p_value < p:\n",
    "        return True\n",
    "    return False"
   ]
  },
  {
   "cell_type": "code",
   "execution_count": 59,
   "id": "ec933f21",
   "metadata": {},
   "outputs": [
    {
     "data": {
      "text/plain": [
       "False"
      ]
     },
     "execution_count": 59,
     "metadata": {},
     "output_type": "execute_result"
    }
   ],
   "source": [
    "check_categorical_numerical_correlation(data, \"Last Funding Type\",\n",
    "                                        \"Last Funding Amount Currency (in USD)\")"
   ]
  },
  {
   "cell_type": "markdown",
   "id": "fb1a6602",
   "metadata": {},
   "source": [
    "No correlation with type, maybe we will get luck with some numerical column"
   ]
  },
  {
   "cell_type": "code",
   "execution_count": 60,
   "id": "e30f6a67",
   "metadata": {},
   "outputs": [
    {
     "name": "stdout",
     "output_type": "stream",
     "text": [
      "PearsonRResult(statistic=0.8153852523449304, pvalue=1.0436027753632617e-194)\n"
     ]
    }
   ],
   "source": [
    "corr = scipy.stats.pearsonr(data[\"Total Equity Funding Amount Currency (in USD)\"],\n",
    "                     data[\"Last Funding Amount Currency (in USD)\"].fillna(0))\n",
    "print(corr)"
   ]
  },
  {
   "cell_type": "markdown",
   "id": "f7a14f97",
   "metadata": {},
   "source": [
    "They are correlated. Let's fill missing values"
   ]
  },
  {
   "cell_type": "code",
   "execution_count": 61,
   "id": "d2b3d114",
   "metadata": {},
   "outputs": [],
   "source": [
    "def fill_last_funding_amount(row):\n",
    "    if np.isnan(row[\"Last Funding Amount Currency (in USD)\"]):\n",
    "        row[\"Last Funding Amount Currency (in USD)\"] = row[\"Total Equity Funding Amount Currency (in USD)\"] * corr[0]\n",
    "    return row"
   ]
  },
  {
   "cell_type": "code",
   "execution_count": 62,
   "id": "322977d1",
   "metadata": {},
   "outputs": [],
   "source": [
    "data = data.apply(fill_last_funding_amount,\n",
    "                  axis=1)"
   ]
  },
  {
   "cell_type": "markdown",
   "id": "3a4d8d3e",
   "metadata": {},
   "source": [
    "## Last Equity Funding Type"
   ]
  },
  {
   "cell_type": "code",
   "execution_count": 63,
   "id": "75b712ad",
   "metadata": {},
   "outputs": [],
   "source": [
    "data[\"Last Equity Funding Type\"].fillna(data[\"Last Equity Funding Type\"].mode()[0], inplace=True)"
   ]
  },
  {
   "cell_type": "markdown",
   "id": "c5fd836e",
   "metadata": {},
   "source": [
    "## Last Equity Funding Amount Currency (in USD)"
   ]
  },
  {
   "cell_type": "code",
   "execution_count": 64,
   "id": "ef321328",
   "metadata": {},
   "outputs": [
    {
     "data": {
      "text/plain": [
       "False"
      ]
     },
     "execution_count": 64,
     "metadata": {},
     "output_type": "execute_result"
    }
   ],
   "source": [
    "check_categorical_numerical_correlation(data, \"Last Funding Type\",\n",
    "                                        \"Last Equity Funding Amount Currency (in USD)\")"
   ]
  },
  {
   "cell_type": "markdown",
   "id": "50a6a203",
   "metadata": {},
   "source": [
    "No correlation with type"
   ]
  },
  {
   "cell_type": "code",
   "execution_count": 65,
   "id": "c6307cc7",
   "metadata": {},
   "outputs": [
    {
     "name": "stdout",
     "output_type": "stream",
     "text": [
      "PearsonRResult(statistic=0.8579733915249312, pvalue=7.853511643634302e-237)\n"
     ]
    }
   ],
   "source": [
    "corr = scipy.stats.pearsonr(data[\"Last Funding Amount Currency (in USD)\"],\n",
    "                     data[\"Last Equity Funding Amount Currency (in USD)\"].fillna(0))\n",
    "print(corr)"
   ]
  },
  {
   "cell_type": "markdown",
   "id": "cd146280",
   "metadata": {},
   "source": [
    "we can see high correlation"
   ]
  },
  {
   "cell_type": "code",
   "execution_count": 66,
   "id": "e78fc8da",
   "metadata": {},
   "outputs": [],
   "source": [
    "def fill_equity_funding_amount(row):\n",
    "    if np.isnan(row[\"Last Equity Funding Amount Currency (in USD)\"]):\n",
    "        row[\"Last Equity Funding Amount Currency (in USD)\"] = row[\"Last Funding Amount Currency (in USD)\"] * corr[0]\n",
    "    return row"
   ]
  },
  {
   "cell_type": "code",
   "execution_count": 67,
   "id": "ca4e8eaa",
   "metadata": {},
   "outputs": [],
   "source": [
    "data = data.apply(fill_equity_funding_amount,\n",
    "                  axis=1)"
   ]
  },
  {
   "cell_type": "markdown",
   "id": "74ee9a1d",
   "metadata": {},
   "source": [
    "## Similar Companies"
   ]
  },
  {
   "cell_type": "code",
   "execution_count": 68,
   "id": "a17297c0",
   "metadata": {},
   "outputs": [],
   "source": [
    "data[\"Similar Companies\"].fillna(data[\"Similar Companies\"].median(), inplace=True)"
   ]
  },
  {
   "cell_type": "markdown",
   "id": "c184200c",
   "metadata": {},
   "source": [
    "## BuiltWith - Active Tech Count"
   ]
  },
  {
   "cell_type": "code",
   "execution_count": 69,
   "id": "03d10fab",
   "metadata": {},
   "outputs": [],
   "source": [
    "data[\"BuiltWith - Active Tech Count\"].fillna(\n",
    "    data[\"BuiltWith - Active Tech Count\"].median(),\n",
    "    inplace=True\n",
    ")"
   ]
  },
  {
   "cell_type": "markdown",
   "id": "df86f334",
   "metadata": {},
   "source": [
    "## For Profit"
   ]
  },
  {
   "cell_type": "code",
   "execution_count": 70,
   "id": "8ce252ea",
   "metadata": {},
   "outputs": [],
   "source": [
    "data[\"For Profit\"].fillna(\n",
    "    data[\"For Profit\"].mode()[0],\n",
    "    inplace=True)"
   ]
  },
  {
   "cell_type": "markdown",
   "id": "5591816e",
   "metadata": {},
   "source": [
    "## Drop even more"
   ]
  },
  {
   "cell_type": "markdown",
   "id": "ed9a419f",
   "metadata": {},
   "source": [
    "Due to lack of time, we will drop the next columns because they have a lot missing values"
   ]
  },
  {
   "cell_type": "code",
   "execution_count": 71,
   "id": "8504156a",
   "metadata": {},
   "outputs": [],
   "source": [
    "to_drop = [key for key, value in missing_data.items() if value > 0.3]"
   ]
  },
  {
   "cell_type": "code",
   "execution_count": 72,
   "id": "f01178a1",
   "metadata": {},
   "outputs": [],
   "source": [
    "data.drop(to_drop, axis=1, inplace=True)\n",
    "\n",
    "for col in to_drop:\n",
    "    if col in missing_data.keys():\n",
    "        missing_data.pop(col)"
   ]
  },
  {
   "cell_type": "markdown",
   "id": "69555dc8",
   "metadata": {},
   "source": [
    "\"CB Rank (Organization)\" and \"CB Rank (Company)\" contain information about score, let's convert them to integer value"
   ]
  },
  {
   "cell_type": "code",
   "execution_count": 73,
   "id": "a3791c8c",
   "metadata": {},
   "outputs": [],
   "source": [
    "string_number_cols = [\"CB Rank (Organization)\",\n",
    "                      \"CB Rank (Company)\"]\n",
    "for col in string_number_cols:\n",
    "    data[col] = data[col].apply(lambda row: int(row.replace(',', '')))"
   ]
  },
  {
   "cell_type": "code",
   "execution_count": 74,
   "id": "65299ebe",
   "metadata": {},
   "outputs": [],
   "source": [
    "to_dummies = [\"Headquarters Location\",\n",
    "              \"Last Funding Type\",\n",
    "              \"Last Equity Funding Type\",\n",
    "              \"IPO Status\",\n",
    "              ]"
   ]
  },
  {
   "cell_type": "code",
   "execution_count": 75,
   "id": "a1c88e41",
   "metadata": {},
   "outputs": [
    {
     "name": "stderr",
     "output_type": "stream",
     "text": [
      "/var/folders/8r/80qp0xcx3p986rp4th0s50140000gn/T/ipykernel_35079/862409820.py:3: FutureWarning: Using the level keyword in DataFrame and Series aggregations is deprecated and will be removed in a future version. Use groupby instead. df.sum(level=1) should use df.groupby(level=1).sum().\n",
      "  [data, data[col].apply(pd.Series).stack().str.get_dummies().sum(level=0)],\n",
      "/var/folders/8r/80qp0xcx3p986rp4th0s50140000gn/T/ipykernel_35079/862409820.py:3: FutureWarning: Using the level keyword in DataFrame and Series aggregations is deprecated and will be removed in a future version. Use groupby instead. df.sum(level=1) should use df.groupby(level=1).sum().\n",
      "  [data, data[col].apply(pd.Series).stack().str.get_dummies().sum(level=0)],\n",
      "/var/folders/8r/80qp0xcx3p986rp4th0s50140000gn/T/ipykernel_35079/862409820.py:3: FutureWarning: Using the level keyword in DataFrame and Series aggregations is deprecated and will be removed in a future version. Use groupby instead. df.sum(level=1) should use df.groupby(level=1).sum().\n",
      "  [data, data[col].apply(pd.Series).stack().str.get_dummies().sum(level=0)],\n",
      "/var/folders/8r/80qp0xcx3p986rp4th0s50140000gn/T/ipykernel_35079/862409820.py:3: FutureWarning: Using the level keyword in DataFrame and Series aggregations is deprecated and will be removed in a future version. Use groupby instead. df.sum(level=1) should use df.groupby(level=1).sum().\n",
      "  [data, data[col].apply(pd.Series).stack().str.get_dummies().sum(level=0)],\n"
     ]
    }
   ],
   "source": [
    "for col in to_dummies:\n",
    "    data = pd.concat(\n",
    "        [data, data[col].apply(pd.Series).stack().str.get_dummies().sum(level=0)],\n",
    "        axis=1\n",
    "    )\n",
    "    \n",
    "data.drop(to_dummies, axis=1, inplace=True)"
   ]
  },
  {
   "cell_type": "code",
   "execution_count": 76,
   "id": "46395aa9",
   "metadata": {},
   "outputs": [],
   "source": [
    "# Remove duplicated features if they occur\n",
    "\n",
    "data = data.loc[:,~data.columns.duplicated()]\n",
    "data.columns = [f\"{col}_{i}\" if col in data.columns[:i] else col for i, col in enumerate(data.columns)]"
   ]
  },
  {
   "cell_type": "markdown",
   "id": "d0de987f",
   "metadata": {},
   "source": [
    "[Spoilers alert :) ] We may use LGBM later for this task and it doesn't like special characters, so we will remove them"
   ]
  },
  {
   "cell_type": "code",
   "execution_count": 77,
   "id": "e7ef9ab4",
   "metadata": {},
   "outputs": [],
   "source": [
    "def replace_special_chars(feature_name):\n",
    "    # Replace special characters with underscores\n",
    "    feature_name = re.sub(r\"[\\{\\}\\[\\]\\:\\,]\", \"_\", feature_name)\n",
    "    \n",
    "    # Remove consecutive underscores\n",
    "    feature_name = re.sub(r\"_{2,}\", \"_\", feature_name)\n",
    "    \n",
    "    return feature_name\n",
    "\n",
    "# Replace special characters in feature names\n",
    "data.columns = [replace_special_chars(col) for col in data.columns]"
   ]
  },
  {
   "cell_type": "code",
   "execution_count": 78,
   "id": "3e9d0d42",
   "metadata": {},
   "outputs": [],
   "source": [
    "data_description = pd.DataFrame()\n",
    "data_industry = pd.DataFrame()\n",
    "\n",
    "data_description[\"text\"] = data[\"Full Description\"]\n",
    "data_industry[\"text\"] = data[\"Industry Groups\"] + data[\"Industries\"]\n",
    "data_description[\"target\"] = data[\"Target\"]\n",
    "data_industry[\"target\"] = data[\"Target\"]\n",
    "\n",
    "data.drop([\"Full Description\", \"Industry Groups\", \"Industries\"],\n",
    "          axis=1,\n",
    "          inplace=True)"
   ]
  },
  {
   "cell_type": "markdown",
   "id": "49bbc89f",
   "metadata": {},
   "source": [
    "## NLP"
   ]
  },
  {
   "cell_type": "markdown",
   "id": "e834a339",
   "metadata": {},
   "source": [
    "We will build 2 language models: for description and industry that will try to explain correlation between them and target"
   ]
  },
  {
   "cell_type": "code",
   "execution_count": 79,
   "id": "61f22d5c",
   "metadata": {},
   "outputs": [],
   "source": [
    "stop_words = stopwords.words(\"english\")\n",
    "\n",
    "# Improving stopwords\n",
    "stop_words.extend([\"from\", \"subject\", \"re\", \"edu\", \"use\", \"https\", \"link\", \"href\", \"onclick\", \"://\", \"t\", \"me\"])"
   ]
  },
  {
   "cell_type": "markdown",
   "id": "5eb0429b",
   "metadata": {},
   "source": [
    "We better preprocess the text to get mote accurate results. We can try rough preprocessing or lemmatization."
   ]
  },
  {
   "cell_type": "code",
   "execution_count": 80,
   "id": "a5abd884",
   "metadata": {},
   "outputs": [],
   "source": [
    "mystem = Mystem()\n",
    "def preprocess(text, lemmatize=True):\n",
    "    if lemmatize:\n",
    "        tokens = mystem.lemmatize(text.lower())\n",
    "        tokens = [token for token in tokens if token not in stop_words\\\n",
    "                  and token != \" \"\\\n",
    "                  and token.strip() not in punctuation]\n",
    "    else:\n",
    "        tokens = gensim.utils.simple_preprocess(text)\n",
    "        tokens = [token for token in tokens if (token not in\\\n",
    "                    gensim.parsing.preprocessing.STOPWORDS and \n",
    "                    token not in stop_words)]\n",
    "        \n",
    "    text = \" \".join(tokens)\n",
    "    return text"
   ]
  },
  {
   "cell_type": "code",
   "execution_count": 81,
   "id": "7ffecc60",
   "metadata": {},
   "outputs": [],
   "source": [
    "data_description[\"text\"] = data_description[\"text\"].apply(preprocess)\n",
    "data_industry[\"text\"] = data_industry[\"text\"].apply(preprocess)"
   ]
  },
  {
   "cell_type": "markdown",
   "id": "5ccf3319",
   "metadata": {},
   "source": [
    "To convert words to vectors with numbers we use vectorization"
   ]
  },
  {
   "cell_type": "code",
   "execution_count": 82,
   "id": "61059f31",
   "metadata": {},
   "outputs": [],
   "source": [
    "vectorizer_description = TfidfVectorizer(strip_accents=\"unicode\",\n",
    "                             ngram_range=(1, 2),\n",
    "                             sublinear_tf=True)"
   ]
  },
  {
   "cell_type": "code",
   "execution_count": 83,
   "id": "c2debb78",
   "metadata": {},
   "outputs": [],
   "source": [
    "def train_model(df, vectorizer, FOLDS=3):\n",
    "    X = df[\"text\"]\n",
    "    y = df[\"target\"]\n",
    "\n",
    "    valid_scores = {\"R2\": 0, \"RMSE\": 0, \"Time\" : 0}\n",
    "    cross_validation = StratifiedKFold(n_splits=FOLDS, random_state=69, shuffle=True)\n",
    "\n",
    "    model = LinearRegression()\n",
    "\n",
    "    start = time.time()\n",
    "    for fold, (train_idx, val_idx) in enumerate(cross_validation.split(X, y)):\n",
    "        # Get training and validation sets\n",
    "        X_train, X_valid = X[train_idx], X[val_idx]\n",
    "        y_train, y_valid = y[train_idx], y[val_idx]\n",
    "\n",
    "        # Train model\n",
    "        features_train = vectorizer.fit_transform(X_train)\n",
    "        features_valid = vectorizer.transform(X_valid)\n",
    "        model.fit(features_train, y_train)\n",
    "\n",
    "        prediction = model.predict(features_valid)\n",
    "        valid_scores[\"R2\"] += r2_score(y_valid, prediction)\n",
    "        valid_scores[\"RMSE\"] += np.sqrt(mean_squared_error(y_valid, prediction))\n",
    "    stop = time.time()\n",
    "\n",
    "    valid_scores[\"R2\"] /= FOLDS\n",
    "    valid_scores[\"RMSE\"] /= FOLDS\n",
    "    valid_scores[\"Time\"] = np.round((stop - start) / 60, 2)\n",
    "    print(\"Training time (mins):\", np.round((stop - start) / 60, 2))\n",
    "    \n",
    "    return model, valid_scores"
   ]
  },
  {
   "cell_type": "code",
   "execution_count": 84,
   "id": "9c8dc247",
   "metadata": {},
   "outputs": [
    {
     "name": "stderr",
     "output_type": "stream",
     "text": [
      "/Users/tylerdurden/opt/miniconda3/envs/tf/lib/python3.9/site-packages/sklearn/model_selection/_split.py:700: UserWarning: The least populated class in y has only 1 members, which is less than n_splits=3.\n",
      "  warnings.warn(\n"
     ]
    },
    {
     "name": "stdout",
     "output_type": "stream",
     "text": [
      "Training time (mins): 0.0\n"
     ]
    }
   ],
   "source": [
    "model_description, valid_scores_description = train_model(data_description,\n",
    "                                                          vectorizer_description)"
   ]
  },
  {
   "cell_type": "code",
   "execution_count": 85,
   "id": "469ff689",
   "metadata": {},
   "outputs": [
    {
     "data": {
      "text/plain": [
       "{'R2': -0.105804454476548, 'RMSE': 225914144.33981538, 'Time': 0.0}"
      ]
     },
     "execution_count": 85,
     "metadata": {},
     "output_type": "execute_result"
    }
   ],
   "source": [
    "valid_scores_description"
   ]
  },
  {
   "cell_type": "markdown",
   "id": "89440cce",
   "metadata": {},
   "source": [
    "Validation score looks bad, that means there is no linear relationship between the independent and dependent variables, or if there is a high degree of randomness or noise in the data. It can also happen when the model is overfitting the data, which may be the case: dataset is really small."
   ]
  },
  {
   "cell_type": "markdown",
   "id": "625e1541",
   "metadata": {},
   "source": [
    "Nevertheless, let's look closer"
   ]
  },
  {
   "cell_type": "code",
   "execution_count": 86,
   "id": "32b103bb",
   "metadata": {},
   "outputs": [
    {
     "data": {
      "text/html": [
       "\n",
       "    <style>\n",
       "    table.eli5-weights tr:hover {\n",
       "        filter: brightness(85%);\n",
       "    }\n",
       "</style>\n",
       "\n",
       "\n",
       "\n",
       "    \n",
       "\n",
       "    \n",
       "\n",
       "    \n",
       "\n",
       "    \n",
       "\n",
       "    \n",
       "\n",
       "    \n",
       "\n",
       "\n",
       "    \n",
       "\n",
       "    \n",
       "\n",
       "    \n",
       "\n",
       "    \n",
       "        \n",
       "\n",
       "    \n",
       "\n",
       "        \n",
       "            \n",
       "                \n",
       "                \n",
       "    \n",
       "        <p style=\"margin-bottom: 0.5em; margin-top: 0em\">\n",
       "            <b>\n",
       "    \n",
       "        y\n",
       "    \n",
       "</b>\n",
       "\n",
       "top features\n",
       "        </p>\n",
       "    \n",
       "    <table class=\"eli5-weights\"\n",
       "           style=\"border-collapse: collapse; border: none; margin-top: 0em; table-layout: auto; margin-bottom: 2em;\">\n",
       "        <thead>\n",
       "        <tr style=\"border: none;\">\n",
       "            \n",
       "                <th style=\"padding: 0 1em 0 0.5em; text-align: right; border: none;\" title=\"Feature weights. Note that weights do not account for feature value scales, so if feature values have different scales, features with highest weights might not be the most important.\">\n",
       "                    Weight<sup>?</sup>\n",
       "                </th>\n",
       "            \n",
       "            <th style=\"padding: 0 0.5em 0 0.5em; text-align: left; border: none;\">Feature</th>\n",
       "            \n",
       "        </tr>\n",
       "        </thead>\n",
       "        <tbody>\n",
       "        \n",
       "            <tr style=\"background-color: hsl(120, 100.00%, 80.00%); border: none;\">\n",
       "    <td style=\"padding: 0 1em 0 0.5em; text-align: right; border: none;\">\n",
       "        +750753275.295\n",
       "    </td>\n",
       "    <td style=\"padding: 0 0.5em 0 0.5em; text-align: left; border: none;\">\n",
       "        thg\n",
       "    </td>\n",
       "    \n",
       "</tr>\n",
       "        \n",
       "            <tr style=\"background-color: hsl(120, 100.00%, 83.82%); border: none;\">\n",
       "    <td style=\"padding: 0 1em 0 0.5em; text-align: right; border: none;\">\n",
       "        +554569779.525\n",
       "    </td>\n",
       "    <td style=\"padding: 0 0.5em 0 0.5em; text-align: left; border: none;\">\n",
       "        ocado\n",
       "    </td>\n",
       "    \n",
       "</tr>\n",
       "        \n",
       "            <tr style=\"background-color: hsl(120, 100.00%, 86.17%); border: none;\">\n",
       "    <td style=\"padding: 0 1em 0 0.5em; text-align: right; border: none;\">\n",
       "        +443406978.386\n",
       "    </td>\n",
       "    <td style=\"padding: 0 0.5em 0 0.5em; text-align: left; border: none;\">\n",
       "        ingenuity\n",
       "    </td>\n",
       "    \n",
       "</tr>\n",
       "        \n",
       "            <tr style=\"background-color: hsl(120, 100.00%, 86.17%); border: none;\">\n",
       "    <td style=\"padding: 0 1em 0 0.5em; text-align: right; border: none;\">\n",
       "        +443406978.386\n",
       "    </td>\n",
       "    <td style=\"padding: 0 0.5em 0 0.5em; text-align: left; border: none;\">\n",
       "        ingenuity technology\n",
       "    </td>\n",
       "    \n",
       "</tr>\n",
       "        \n",
       "            <tr style=\"background-color: hsl(120, 100.00%, 86.17%); border: none;\">\n",
       "    <td style=\"padding: 0 1em 0 0.5em; text-align: right; border: none;\">\n",
       "        +443406978.386\n",
       "    </td>\n",
       "    <td style=\"padding: 0 0.5em 0 0.5em; text-align: left; border: none;\">\n",
       "        division\n",
       "    </td>\n",
       "    \n",
       "</tr>\n",
       "        \n",
       "            <tr style=\"background-color: hsl(120, 100.00%, 86.17%); border: none;\">\n",
       "    <td style=\"padding: 0 1em 0 0.5em; text-align: right; border: none;\">\n",
       "        +443406978.386\n",
       "    </td>\n",
       "    <td style=\"padding: 0 0.5em 0 0.5em; text-align: left; border: none;\">\n",
       "        technology division\n",
       "    </td>\n",
       "    \n",
       "</tr>\n",
       "        \n",
       "            <tr style=\"background-color: hsl(120, 100.00%, 86.17%); border: none;\">\n",
       "    <td style=\"padding: 0 1em 0 0.5em; text-align: right; border: none;\">\n",
       "        +443406978.386\n",
       "    </td>\n",
       "    <td style=\"padding: 0 0.5em 0 0.5em; text-align: left; border: none;\">\n",
       "        commerce start\n",
       "    </td>\n",
       "    \n",
       "</tr>\n",
       "        \n",
       "            <tr style=\"background-color: hsl(120, 100.00%, 86.17%); border: none;\">\n",
       "    <td style=\"padding: 0 1em 0 0.5em; text-align: right; border: none;\">\n",
       "        +443406978.386\n",
       "    </td>\n",
       "    <td style=\"padding: 0 0.5em 0 0.5em; text-align: left; border: none;\">\n",
       "        division british\n",
       "    </td>\n",
       "    \n",
       "</tr>\n",
       "        \n",
       "            <tr style=\"background-color: hsl(120, 100.00%, 86.17%); border: none;\">\n",
       "    <td style=\"padding: 0 1em 0 0.5em; text-align: right; border: none;\">\n",
       "        +443406978.386\n",
       "    </td>\n",
       "    <td style=\"padding: 0 0.5em 0 0.5em; text-align: left; border: none;\">\n",
       "        british commerce\n",
       "    </td>\n",
       "    \n",
       "</tr>\n",
       "        \n",
       "            <tr style=\"background-color: hsl(120, 100.00%, 86.17%); border: none;\">\n",
       "    <td style=\"padding: 0 1em 0 0.5em; text-align: right; border: none;\">\n",
       "        +443406978.386\n",
       "    </td>\n",
       "    <td style=\"padding: 0 0.5em 0 0.5em; text-align: left; border: none;\">\n",
       "        start thg\n",
       "    </td>\n",
       "    \n",
       "</tr>\n",
       "        \n",
       "            <tr style=\"background-color: hsl(120, 100.00%, 86.17%); border: none;\">\n",
       "    <td style=\"padding: 0 1em 0 0.5em; text-align: right; border: none;\">\n",
       "        +443406978.386\n",
       "    </td>\n",
       "    <td style=\"padding: 0 0.5em 0 0.5em; text-align: left; border: none;\">\n",
       "        thg ingenuity\n",
       "    </td>\n",
       "    \n",
       "</tr>\n",
       "        \n",
       "            <tr style=\"background-color: hsl(120, 100.00%, 86.43%); border: none;\">\n",
       "    <td style=\"padding: 0 1em 0 0.5em; text-align: right; border: none;\">\n",
       "        +431474785.801\n",
       "    </td>\n",
       "    <td style=\"padding: 0 0.5em 0 0.5em; text-align: left; border: none;\">\n",
       "        checkout com\n",
       "    </td>\n",
       "    \n",
       "</tr>\n",
       "        \n",
       "            <tr style=\"background-color: hsl(120, 100.00%, 87.90%); border: none;\">\n",
       "    <td style=\"padding: 0 1em 0 0.5em; text-align: right; border: none;\">\n",
       "        +366160125.615\n",
       "    </td>\n",
       "    <td style=\"padding: 0 0.5em 0 0.5em; text-align: left; border: none;\">\n",
       "        household\n",
       "    </td>\n",
       "    \n",
       "</tr>\n",
       "        \n",
       "            <tr style=\"background-color: hsl(120, 100.00%, 89.65%); border: none;\">\n",
       "    <td style=\"padding: 0 1em 0 0.5em; text-align: right; border: none;\">\n",
       "        +292995247.671\n",
       "    </td>\n",
       "    <td style=\"padding: 0 0.5em 0 0.5em; text-align: left; border: none;\">\n",
       "        milk\n",
       "    </td>\n",
       "    \n",
       "</tr>\n",
       "        \n",
       "            <tr style=\"background-color: hsl(120, 100.00%, 89.65%); border: none;\">\n",
       "    <td style=\"padding: 0 1em 0 0.5em; text-align: right; border: none;\">\n",
       "        +292995247.671\n",
       "    </td>\n",
       "    <td style=\"padding: 0 0.5em 0 0.5em; text-align: left; border: none;\">\n",
       "        group operates\n",
       "    </td>\n",
       "    \n",
       "</tr>\n",
       "        \n",
       "            <tr style=\"background-color: hsl(120, 100.00%, 89.71%); border: none;\">\n",
       "    <td style=\"padding: 0 1em 0 0.5em; text-align: right; border: none;\">\n",
       "        +290640520.222\n",
       "    </td>\n",
       "    <td style=\"padding: 0 0.5em 0 0.5em; text-align: left; border: none;\">\n",
       "        products flowers\n",
       "    </td>\n",
       "    \n",
       "</tr>\n",
       "        \n",
       "            <tr style=\"background-color: hsl(120, 100.00%, 89.71%); border: none;\">\n",
       "    <td style=\"padding: 0 1em 0 0.5em; text-align: right; border: none;\">\n",
       "        +290640520.222\n",
       "    </td>\n",
       "    <td style=\"padding: 0 0.5em 0 0.5em; text-align: left; border: none;\">\n",
       "        2001 ocado\n",
       "    </td>\n",
       "    \n",
       "</tr>\n",
       "        \n",
       "            <tr style=\"background-color: hsl(120, 100.00%, 89.71%); border: none;\">\n",
       "    <td style=\"padding: 0 1em 0 0.5em; text-align: right; border: none;\">\n",
       "        +290640520.222\n",
       "    </td>\n",
       "    <td style=\"padding: 0 0.5em 0 0.5em; text-align: left; border: none;\">\n",
       "        fish\n",
       "    </td>\n",
       "    \n",
       "</tr>\n",
       "        \n",
       "            <tr style=\"background-color: hsl(120, 100.00%, 89.71%); border: none;\">\n",
       "    <td style=\"padding: 0 1em 0 0.5em; text-align: right; border: none;\">\n",
       "        +290640520.222\n",
       "    </td>\n",
       "    <td style=\"padding: 0 0.5em 0 0.5em; text-align: left; border: none;\">\n",
       "        eggs fish\n",
       "    </td>\n",
       "    \n",
       "</tr>\n",
       "        \n",
       "            <tr style=\"background-color: hsl(120, 100.00%, 89.71%); border: none;\">\n",
       "    <td style=\"padding: 0 1em 0 0.5em; text-align: right; border: none;\">\n",
       "        +290640520.222\n",
       "    </td>\n",
       "    <td style=\"padding: 0 0.5em 0 0.5em; text-align: left; border: none;\">\n",
       "        limited changed\n",
       "    </td>\n",
       "    \n",
       "</tr>\n",
       "        \n",
       "        \n",
       "            <tr style=\"background-color: hsl(120, 100.00%, 89.71%); border: none;\">\n",
       "                <td colspan=\"2\" style=\"padding: 0 0.5em 0 0.5em; text-align: center; border: none; white-space: nowrap;\">\n",
       "                    <i>&hellip; 8573 more positive &hellip;</i>\n",
       "                </td>\n",
       "            </tr>\n",
       "        \n",
       "\n",
       "        \n",
       "            <tr style=\"background-color: hsl(0, 100.00%, 80.00%); border: none;\">\n",
       "                <td colspan=\"2\" style=\"padding: 0 0.5em 0 0.5em; text-align: center; border: none; white-space: nowrap;\">\n",
       "                    <i>&hellip; 19303 more negative &hellip;</i>\n",
       "                </td>\n",
       "            </tr>\n",
       "        \n",
       "        \n",
       "\n",
       "        </tbody>\n",
       "    </table>\n",
       "\n",
       "            \n",
       "        \n",
       "\n",
       "        \n",
       "\n",
       "\n",
       "\n",
       "    \n",
       "\n",
       "    \n",
       "\n",
       "    \n",
       "\n",
       "    \n",
       "\n",
       "\n",
       "    \n",
       "\n",
       "    \n",
       "\n",
       "    \n",
       "\n",
       "    \n",
       "\n",
       "    \n",
       "\n",
       "    \n",
       "\n",
       "\n",
       "    \n",
       "\n",
       "    \n",
       "\n",
       "    \n",
       "\n",
       "    \n",
       "\n",
       "    \n",
       "\n",
       "    \n",
       "\n",
       "\n",
       "\n"
      ],
      "text/plain": [
       "Explanation(estimator='LinearRegression()', description=\"\\nFeatures with largest coefficients.\\nCaveats:\\n1. Be careful with features which are not\\n   independent - weights don't show their importance.\\n2. If scale of input features is different then scale of coefficients\\n   will also be different, making direct comparison between coefficient values\\n   incorrect.\\n3. Depending on regularization, rare features sometimes may have high\\n   coefficients; this doesn't mean they contribute much to the\\n   classification result for most examples.\\n\", error=None, method='linear model', is_regression=True, targets=[TargetExplanation(target='y', feature_weights=FeatureWeights(pos=[FeatureWeight(feature='thg', weight=750753275.2950118, std=None, value=None), FeatureWeight(feature='ocado', weight=554569779.525095, std=None, value=None), FeatureWeight(feature='ingenuity', weight=443406978.3860892, std=None, value=None), FeatureWeight(feature='ingenuity technology', weight=443406978.3860892, std=None, value=None), FeatureWeight(feature='division', weight=443406978.3860892, std=None, value=None), FeatureWeight(feature='technology division', weight=443406978.3860892, std=None, value=None), FeatureWeight(feature='commerce start', weight=443406978.3860892, std=None, value=None), FeatureWeight(feature='division british', weight=443406978.3860892, std=None, value=None), FeatureWeight(feature='british commerce', weight=443406978.3860892, std=None, value=None), FeatureWeight(feature='start thg', weight=443406978.3860892, std=None, value=None), FeatureWeight(feature='thg ingenuity', weight=443406978.3860892, std=None, value=None), FeatureWeight(feature='checkout com', weight=431474785.80091316, std=None, value=None), FeatureWeight(feature='household', weight=366160125.61515415, std=None, value=None), FeatureWeight(feature='milk', weight=292995247.6712919, std=None, value=None), FeatureWeight(feature='group operates', weight=292995247.6712919, std=None, value=None), FeatureWeight(feature='products flowers', weight=290640520.2223005, std=None, value=None), FeatureWeight(feature='2001 ocado', weight=290640520.2223005, std=None, value=None), FeatureWeight(feature='fish', weight=290640520.2223005, std=None, value=None), FeatureWeight(feature='eggs fish', weight=290640520.2223005, std=None, value=None), FeatureWeight(feature='limited changed', weight=290640520.2223005, std=None, value=None)], neg=[], pos_remaining=8573, neg_remaining=19303), proba=None, score=None, weighted_spans=None, heatmap=None)], feature_importances=None, decision_tree=None, highlight_spaces=None, transition_features=None, image=None)"
      ]
     },
     "execution_count": 86,
     "metadata": {},
     "output_type": "execute_result"
    }
   ],
   "source": [
    "eli5.explain_weights(model_description,\n",
    "                     feature_names=vectorizer_description.get_feature_names_out())"
   ]
  },
  {
   "cell_type": "code",
   "execution_count": 87,
   "id": "d7032363",
   "metadata": {},
   "outputs": [],
   "source": [
    "vectorizer_industry = TfidfVectorizer()"
   ]
  },
  {
   "cell_type": "code",
   "execution_count": 88,
   "id": "9bec603f",
   "metadata": {},
   "outputs": [
    {
     "name": "stdout",
     "output_type": "stream",
     "text": [
      "Training time (mins): 0.0\n"
     ]
    },
    {
     "name": "stderr",
     "output_type": "stream",
     "text": [
      "/Users/tylerdurden/opt/miniconda3/envs/tf/lib/python3.9/site-packages/sklearn/model_selection/_split.py:700: UserWarning: The least populated class in y has only 1 members, which is less than n_splits=3.\n",
      "  warnings.warn(\n"
     ]
    }
   ],
   "source": [
    "model_industry, valid_scores_industry = train_model(data_industry,\n",
    "                                                    vectorizer_industry)"
   ]
  },
  {
   "cell_type": "code",
   "execution_count": 89,
   "id": "97b1f70c",
   "metadata": {},
   "outputs": [
    {
     "data": {
      "text/plain": [
       "{'R2': -1.465328722717393, 'RMSE': 316628349.3988554, 'Time': 0.0}"
      ]
     },
     "execution_count": 89,
     "metadata": {},
     "output_type": "execute_result"
    }
   ],
   "source": [
    "valid_scores_industry"
   ]
  },
  {
   "cell_type": "code",
   "execution_count": 90,
   "id": "0d26e1ce",
   "metadata": {},
   "outputs": [
    {
     "data": {
      "text/html": [
       "\n",
       "    <style>\n",
       "    table.eli5-weights tr:hover {\n",
       "        filter: brightness(85%);\n",
       "    }\n",
       "</style>\n",
       "\n",
       "\n",
       "\n",
       "    \n",
       "\n",
       "    \n",
       "\n",
       "    \n",
       "\n",
       "    \n",
       "\n",
       "    \n",
       "\n",
       "    \n",
       "\n",
       "\n",
       "    \n",
       "\n",
       "    \n",
       "\n",
       "    \n",
       "\n",
       "    \n",
       "        \n",
       "\n",
       "    \n",
       "\n",
       "        \n",
       "            \n",
       "                \n",
       "                \n",
       "    \n",
       "        <p style=\"margin-bottom: 0.5em; margin-top: 0em\">\n",
       "            <b>\n",
       "    \n",
       "        y\n",
       "    \n",
       "</b>\n",
       "\n",
       "top features\n",
       "        </p>\n",
       "    \n",
       "    <table class=\"eli5-weights\"\n",
       "           style=\"border-collapse: collapse; border: none; margin-top: 0em; table-layout: auto; margin-bottom: 2em;\">\n",
       "        <thead>\n",
       "        <tr style=\"border: none;\">\n",
       "            \n",
       "                <th style=\"padding: 0 1em 0 0.5em; text-align: right; border: none;\" title=\"Feature weights. Note that weights do not account for feature value scales, so if feature values have different scales, features with highest weights might not be the most important.\">\n",
       "                    Weight<sup>?</sup>\n",
       "                </th>\n",
       "            \n",
       "            <th style=\"padding: 0 0.5em 0 0.5em; text-align: left; border: none;\">Feature</th>\n",
       "            \n",
       "        </tr>\n",
       "        </thead>\n",
       "        <tbody>\n",
       "        \n",
       "            <tr style=\"background-color: hsl(120, 100.00%, 80.00%); border: none;\">\n",
       "    <td style=\"padding: 0 1em 0 0.5em; text-align: right; border: none;\">\n",
       "        +2033246793.358\n",
       "    </td>\n",
       "    <td style=\"padding: 0 0.5em 0 0.5em; text-align: left; border: none;\">\n",
       "        transaction\n",
       "    </td>\n",
       "    \n",
       "</tr>\n",
       "        \n",
       "            <tr style=\"background-color: hsl(120, 100.00%, 80.87%); border: none;\">\n",
       "    <td style=\"padding: 0 1em 0 0.5em; text-align: right; border: none;\">\n",
       "        +1907714923.268\n",
       "    </td>\n",
       "    <td style=\"padding: 0 0.5em 0 0.5em; text-align: left; border: none;\">\n",
       "        commerce\n",
       "    </td>\n",
       "    \n",
       "</tr>\n",
       "        \n",
       "            <tr style=\"background-color: hsl(120, 100.00%, 81.52%); border: none;\">\n",
       "    <td style=\"padding: 0 1em 0 0.5em; text-align: right; border: none;\">\n",
       "        +1816576254.908\n",
       "    </td>\n",
       "    <td style=\"padding: 0 0.5em 0 0.5em; text-align: left; border: none;\">\n",
       "        decor\n",
       "    </td>\n",
       "    \n",
       "</tr>\n",
       "        \n",
       "            <tr style=\"background-color: hsl(120, 100.00%, 81.67%); border: none;\">\n",
       "    <td style=\"padding: 0 1em 0 0.5em; text-align: right; border: none;\">\n",
       "        +1794862322.903\n",
       "    </td>\n",
       "    <td style=\"padding: 0 0.5em 0 0.5em; text-align: left; border: none;\">\n",
       "        courier\n",
       "    </td>\n",
       "    \n",
       "</tr>\n",
       "        \n",
       "            <tr style=\"background-color: hsl(120, 100.00%, 83.36%); border: none;\">\n",
       "    <td style=\"padding: 0 1em 0 0.5em; text-align: right; border: none;\">\n",
       "        +1563891886.304\n",
       "    </td>\n",
       "    <td style=\"padding: 0 0.5em 0 0.5em; text-align: left; border: none;\">\n",
       "        grocery\n",
       "    </td>\n",
       "    \n",
       "</tr>\n",
       "        \n",
       "            <tr style=\"background-color: hsl(120, 100.00%, 86.26%); border: none;\">\n",
       "    <td style=\"padding: 0 1em 0 0.5em; text-align: right; border: none;\">\n",
       "        +1188749243.379\n",
       "    </td>\n",
       "    <td style=\"padding: 0 0.5em 0 0.5em; text-align: left; border: none;\">\n",
       "        mining\n",
       "    </td>\n",
       "    \n",
       "</tr>\n",
       "        \n",
       "            <tr style=\"background-color: hsl(120, 100.00%, 87.20%); border: none;\">\n",
       "    <td style=\"padding: 0 1em 0 0.5em; text-align: right; border: none;\">\n",
       "        +1074625226.404\n",
       "    </td>\n",
       "    <td style=\"padding: 0 0.5em 0 0.5em; text-align: left; border: none;\">\n",
       "        greentech\n",
       "    </td>\n",
       "    \n",
       "</tr>\n",
       "        \n",
       "        \n",
       "            <tr style=\"background-color: hsl(120, 100.00%, 87.20%); border: none;\">\n",
       "                <td colspan=\"2\" style=\"padding: 0 0.5em 0 0.5em; text-align: center; border: none; white-space: nowrap;\">\n",
       "                    <i>&hellip; 139 more positive &hellip;</i>\n",
       "                </td>\n",
       "            </tr>\n",
       "        \n",
       "\n",
       "        \n",
       "            <tr style=\"background-color: hsl(0, 100.00%, 87.94%); border: none;\">\n",
       "                <td colspan=\"2\" style=\"padding: 0 0.5em 0 0.5em; text-align: center; border: none; white-space: nowrap;\">\n",
       "                    <i>&hellip; 273 more negative &hellip;</i>\n",
       "                </td>\n",
       "            </tr>\n",
       "        \n",
       "        \n",
       "            <tr style=\"background-color: hsl(0, 100.00%, 87.94%); border: none;\">\n",
       "    <td style=\"padding: 0 1em 0 0.5em; text-align: right; border: none;\">\n",
       "        -987553371.317\n",
       "    </td>\n",
       "    <td style=\"padding: 0 0.5em 0 0.5em; text-align: left; border: none;\">\n",
       "        shoppinge\n",
       "    </td>\n",
       "    \n",
       "</tr>\n",
       "        \n",
       "            <tr style=\"background-color: hsl(0, 100.00%, 87.88%); border: none;\">\n",
       "    <td style=\"padding: 0 1em 0 0.5em; text-align: right; border: none;\">\n",
       "        -994249771.524\n",
       "    </td>\n",
       "    <td style=\"padding: 0 0.5em 0 0.5em; text-align: left; border: none;\">\n",
       "        sportse\n",
       "    </td>\n",
       "    \n",
       "</tr>\n",
       "        \n",
       "            <tr style=\"background-color: hsl(0, 100.00%, 87.02%); border: none;\">\n",
       "    <td style=\"padding: 0 1em 0 0.5em; text-align: right; border: none;\">\n",
       "        -1096272360.674\n",
       "    </td>\n",
       "    <td style=\"padding: 0 0.5em 0 0.5em; text-align: left; border: none;\">\n",
       "        tourisme\n",
       "    </td>\n",
       "    \n",
       "</tr>\n",
       "        \n",
       "            <tr style=\"background-color: hsl(0, 100.00%, 86.93%); border: none;\">\n",
       "    <td style=\"padding: 0 1em 0 0.5em; text-align: right; border: none;\">\n",
       "        -1107476409.624\n",
       "    </td>\n",
       "    <td style=\"padding: 0 0.5em 0 0.5em; text-align: left; border: none;\">\n",
       "        transportatione\n",
       "    </td>\n",
       "    \n",
       "</tr>\n",
       "        \n",
       "            <tr style=\"background-color: hsl(0, 100.00%, 86.84%); border: none;\">\n",
       "    <td style=\"padding: 0 1em 0 0.5em; text-align: right; border: none;\">\n",
       "        -1118245574.431\n",
       "    </td>\n",
       "    <td style=\"padding: 0 0.5em 0 0.5em; text-align: left; border: none;\">\n",
       "        beverageconsumer\n",
       "    </td>\n",
       "    \n",
       "</tr>\n",
       "        \n",
       "            <tr style=\"background-color: hsl(0, 100.00%, 86.51%); border: none;\">\n",
       "    <td style=\"padding: 0 1em 0 0.5em; text-align: right; border: none;\">\n",
       "        -1158978565.773\n",
       "    </td>\n",
       "    <td style=\"padding: 0 0.5em 0 0.5em; text-align: left; border: none;\">\n",
       "        home\n",
       "    </td>\n",
       "    \n",
       "</tr>\n",
       "        \n",
       "            <tr style=\"background-color: hsl(0, 100.00%, 86.47%); border: none;\">\n",
       "    <td style=\"padding: 0 1em 0 0.5em; text-align: right; border: none;\">\n",
       "        -1163610785.596\n",
       "    </td>\n",
       "    <td style=\"padding: 0 0.5em 0 0.5em; text-align: left; border: none;\">\n",
       "        tourismapps\n",
       "    </td>\n",
       "    \n",
       "</tr>\n",
       "        \n",
       "            <tr style=\"background-color: hsl(0, 100.00%, 86.39%); border: none;\">\n",
       "    <td style=\"padding: 0 1em 0 0.5em; text-align: right; border: none;\">\n",
       "        -1173466164.420\n",
       "    </td>\n",
       "    <td style=\"padding: 0 0.5em 0 0.5em; text-align: left; border: none;\">\n",
       "        cards\n",
       "    </td>\n",
       "    \n",
       "</tr>\n",
       "        \n",
       "            <tr style=\"background-color: hsl(0, 100.00%, 86.37%); border: none;\">\n",
       "    <td style=\"padding: 0 1em 0 0.5em; text-align: right; border: none;\">\n",
       "        -1176076384.266\n",
       "    </td>\n",
       "    <td style=\"padding: 0 0.5em 0 0.5em; text-align: left; border: none;\">\n",
       "        marketingauctions\n",
       "    </td>\n",
       "    \n",
       "</tr>\n",
       "        \n",
       "            <tr style=\"background-color: hsl(0, 100.00%, 86.34%); border: none;\">\n",
       "    <td style=\"padding: 0 1em 0 0.5em; text-align: right; border: none;\">\n",
       "        -1179416164.077\n",
       "    </td>\n",
       "    <td style=\"padding: 0 0.5em 0 0.5em; text-align: left; border: none;\">\n",
       "        designe\n",
       "    </td>\n",
       "    \n",
       "</tr>\n",
       "        \n",
       "            <tr style=\"background-color: hsl(0, 100.00%, 85.42%); border: none;\">\n",
       "    <td style=\"padding: 0 1em 0 0.5em; text-align: right; border: none;\">\n",
       "        -1294165498.237\n",
       "    </td>\n",
       "    <td style=\"padding: 0 0.5em 0 0.5em; text-align: left; border: none;\">\n",
       "        softwaree\n",
       "    </td>\n",
       "    \n",
       "</tr>\n",
       "        \n",
       "            <tr style=\"background-color: hsl(0, 100.00%, 83.37%); border: none;\">\n",
       "    <td style=\"padding: 0 1em 0 0.5em; text-align: right; border: none;\">\n",
       "        -1562074078.931\n",
       "    </td>\n",
       "    <td style=\"padding: 0 0.5em 0 0.5em; text-align: left; border: none;\">\n",
       "        softwarecredit\n",
       "    </td>\n",
       "    \n",
       "</tr>\n",
       "        \n",
       "            <tr style=\"background-color: hsl(0, 100.00%, 82.50%); border: none;\">\n",
       "    <td style=\"padding: 0 1em 0 0.5em; text-align: right; border: none;\">\n",
       "        -1680642499.800\n",
       "    </td>\n",
       "    <td style=\"padding: 0 0.5em 0 0.5em; text-align: left; border: none;\">\n",
       "        beveragedelivery\n",
       "    </td>\n",
       "    \n",
       "</tr>\n",
       "        \n",
       "\n",
       "        </tbody>\n",
       "    </table>\n",
       "\n",
       "            \n",
       "        \n",
       "\n",
       "        \n",
       "\n",
       "\n",
       "\n",
       "    \n",
       "\n",
       "    \n",
       "\n",
       "    \n",
       "\n",
       "    \n",
       "\n",
       "\n",
       "    \n",
       "\n",
       "    \n",
       "\n",
       "    \n",
       "\n",
       "    \n",
       "\n",
       "    \n",
       "\n",
       "    \n",
       "\n",
       "\n",
       "    \n",
       "\n",
       "    \n",
       "\n",
       "    \n",
       "\n",
       "    \n",
       "\n",
       "    \n",
       "\n",
       "    \n",
       "\n",
       "\n",
       "\n"
      ],
      "text/plain": [
       "Explanation(estimator='LinearRegression()', description=\"\\nFeatures with largest coefficients.\\nCaveats:\\n1. Be careful with features which are not\\n   independent - weights don't show their importance.\\n2. If scale of input features is different then scale of coefficients\\n   will also be different, making direct comparison between coefficient values\\n   incorrect.\\n3. Depending on regularization, rare features sometimes may have high\\n   coefficients; this doesn't mean they contribute much to the\\n   classification result for most examples.\\n\", error=None, method='linear model', is_regression=True, targets=[TargetExplanation(target='y', feature_weights=FeatureWeights(pos=[FeatureWeight(feature='transaction', weight=2033246793.3581839, std=None, value=None), FeatureWeight(feature='commerce', weight=1907714923.2683704, std=None, value=None), FeatureWeight(feature='decor', weight=1816576254.907815, std=None, value=None), FeatureWeight(feature='courier', weight=1794862322.9032478, std=None, value=None), FeatureWeight(feature='grocery', weight=1563891886.3043036, std=None, value=None), FeatureWeight(feature='mining', weight=1188749243.3785996, std=None, value=None), FeatureWeight(feature='greentech', weight=1074625226.4035583, std=None, value=None)], neg=[FeatureWeight(feature='beveragedelivery', weight=-1680642499.8000157, std=None, value=None), FeatureWeight(feature='softwarecredit', weight=-1562074078.930582, std=None, value=None), FeatureWeight(feature='softwaree', weight=-1294165498.2367423, std=None, value=None), FeatureWeight(feature='designe', weight=-1179416164.0767252, std=None, value=None), FeatureWeight(feature='marketingauctions', weight=-1176076384.2658358, std=None, value=None), FeatureWeight(feature='cards', weight=-1173466164.4200473, std=None, value=None), FeatureWeight(feature='tourismapps', weight=-1163610785.596349, std=None, value=None), FeatureWeight(feature='home', weight=-1158978565.772715, std=None, value=None), FeatureWeight(feature='beverageconsumer', weight=-1118245574.4310539, std=None, value=None), FeatureWeight(feature='transportatione', weight=-1107476409.6242988, std=None, value=None), FeatureWeight(feature='tourisme', weight=-1096272360.6742704, std=None, value=None), FeatureWeight(feature='sportse', weight=-994249771.5240002, std=None, value=None), FeatureWeight(feature='shoppinge', weight=-987553371.3171695, std=None, value=None)], pos_remaining=139, neg_remaining=273), proba=None, score=None, weighted_spans=None, heatmap=None)], feature_importances=None, decision_tree=None, highlight_spaces=None, transition_features=None, image=None)"
      ]
     },
     "execution_count": 90,
     "metadata": {},
     "output_type": "execute_result"
    }
   ],
   "source": [
    "eli5.explain_weights(model_industry,\n",
    "                     feature_names=vectorizer_industry.get_feature_names_out())"
   ]
  },
  {
   "cell_type": "markdown",
   "id": "03af16e8",
   "metadata": {},
   "source": [
    "Seems like companies that have THG (Hanover Insurance Group Inc) in their description tend to get more funding.\n",
    "Also, e-commerce companies are more likely to get more founding."
   ]
  },
  {
   "cell_type": "markdown",
   "id": "d9257b01",
   "metadata": {},
   "source": [
    "However, based validation scores our models perform pourly and cannot tell anything useful without overfitting. The reason for this may be just that description alone cannot define target value. That's why we should not relay on it and we will move forward: build a model that uses other features."
   ]
  },
  {
   "cell_type": "markdown",
   "id": "aa0ac647",
   "metadata": {},
   "source": [
    "## Main model"
   ]
  },
  {
   "cell_type": "code",
   "execution_count": 91,
   "id": "5019ee8f",
   "metadata": {},
   "outputs": [],
   "source": [
    "X = data.drop([\"Target\", \"Organization Name\"], axis=1)\n",
    "y = data[\"Target\"]"
   ]
  },
  {
   "cell_type": "code",
   "execution_count": 92,
   "id": "a270ca81",
   "metadata": {},
   "outputs": [],
   "source": [
    "X_train, X_valid, y_train, y_valid = train_test_split(X,\n",
    "                                                      y,\n",
    "                                                      train_size=0.9,\n",
    "                                                      test_size=0.1,\n",
    "                                                      random_state=69,\n",
    "                                                      shuffle=True)"
   ]
  },
  {
   "cell_type": "code",
   "execution_count": 93,
   "id": "a8b3fcf6",
   "metadata": {},
   "outputs": [],
   "source": [
    "# Regressors\n",
    "regressors = {\n",
    "    \"RandomForest\" : RandomForestRegressor(random_state=69),\n",
    "    \"XGBoost\" : XGBRegressor(random_state=69),\n",
    "    \"LGBM\" : LGBMRegressor(random_state=69)\n",
    "}\n",
    "\n",
    "# Grids for grid search\n",
    "RF_grid = {\"n_estimators\": [100, 200, 250, 300, 500, 1000],\n",
    "        \"max_depth\": [8, 10, 12]}\n",
    "\n",
    "boosted_grid = {\"n_estimators\": [50, 100, 150, 200],\n",
    "        \"max_depth\": [4, 8, 12],\n",
    "        \"learning_rate\": [0.05, 0.1]}\n",
    "\n",
    "# Dictionary of all grids\n",
    "grid = {\n",
    "    \"RandomForest\" : RF_grid,\n",
    "    \"XGBoost\" : boosted_grid,\n",
    "    \"LGBM\" : boosted_grid\n",
    "}"
   ]
  },
  {
   "cell_type": "code",
   "execution_count": 94,
   "id": "380edc27",
   "metadata": {},
   "outputs": [
    {
     "name": "stdout",
     "output_type": "stream",
     "text": [
      "Model: RandomForest\n",
      "Training time (mins): 0.45 \n",
      "\n",
      "Model: XGBoost\n",
      "Training time (mins): 0.26 \n",
      "\n",
      "Model: LGBM\n",
      "Training time (mins): 0.01 \n",
      "\n"
     ]
    }
   ],
   "source": [
    "i = 0\n",
    "best_params = regressors.copy()\n",
    "valid_scores = pd.DataFrame({\"Regressor\":regressors.keys(),\n",
    "                           \"R2\": np.zeros(len(regressors)),\n",
    "                           \"RMSE\": np.zeros(len(regressors)),\n",
    "                           \"Training time\": np.zeros(len(regressors))})\n",
    "\n",
    "for key, regressor in regressors.items():\n",
    "    start = time.time()\n",
    "    model = GridSearchCV(estimator=regressor,\n",
    "                         param_grid=grid[key],\n",
    "                         n_jobs=-1,\n",
    "                         cv=None)\n",
    "\n",
    "    # Train and score\n",
    "    model.fit(X_train, y_train)\n",
    "    \n",
    "    prediction = model.predict(X_valid)\n",
    "    valid_scores.iloc[i,1] = r2_score(y_valid, prediction)\n",
    "    valid_scores.iloc[i,2] = np.sqrt(mean_squared_error(y_valid,\n",
    "                                                        prediction))\n",
    "\n",
    "    # Save trained model\n",
    "    best_params[key] = model.best_params_\n",
    "    \n",
    "    # Print iteration and training time\n",
    "    stop = time.time()\n",
    "    valid_scores.iloc[i,3] = np.round((stop - start) / 60, 2)\n",
    "    \n",
    "    print(\"Model:\", key)\n",
    "    print(\"Training time (mins):\", valid_scores.iloc[i,3], \"\\n\")\n",
    "    i+=1"
   ]
  },
  {
   "cell_type": "code",
   "execution_count": 95,
   "id": "e35ca75c",
   "metadata": {},
   "outputs": [
    {
     "data": {
      "text/html": [
       "<div>\n",
       "<style scoped>\n",
       "    .dataframe tbody tr th:only-of-type {\n",
       "        vertical-align: middle;\n",
       "    }\n",
       "\n",
       "    .dataframe tbody tr th {\n",
       "        vertical-align: top;\n",
       "    }\n",
       "\n",
       "    .dataframe thead th {\n",
       "        text-align: right;\n",
       "    }\n",
       "</style>\n",
       "<table border=\"1\" class=\"dataframe\">\n",
       "  <thead>\n",
       "    <tr style=\"text-align: right;\">\n",
       "      <th></th>\n",
       "      <th>Regressor</th>\n",
       "      <th>R2</th>\n",
       "      <th>RMSE</th>\n",
       "      <th>Training time</th>\n",
       "    </tr>\n",
       "  </thead>\n",
       "  <tbody>\n",
       "    <tr>\n",
       "      <th>0</th>\n",
       "      <td>RandomForest</td>\n",
       "      <td>-0.124006</td>\n",
       "      <td>1.140089e+08</td>\n",
       "      <td>0.45</td>\n",
       "    </tr>\n",
       "    <tr>\n",
       "      <th>1</th>\n",
       "      <td>XGBoost</td>\n",
       "      <td>-0.639340</td>\n",
       "      <td>1.376857e+08</td>\n",
       "      <td>0.26</td>\n",
       "    </tr>\n",
       "    <tr>\n",
       "      <th>2</th>\n",
       "      <td>LGBM</td>\n",
       "      <td>0.768306</td>\n",
       "      <td>5.176209e+07</td>\n",
       "      <td>0.01</td>\n",
       "    </tr>\n",
       "  </tbody>\n",
       "</table>\n",
       "</div>"
      ],
      "text/plain": [
       "      Regressor        R2          RMSE  Training time\n",
       "0  RandomForest -0.124006  1.140089e+08           0.45\n",
       "1       XGBoost -0.639340  1.376857e+08           0.26\n",
       "2          LGBM  0.768306  5.176209e+07           0.01"
      ]
     },
     "execution_count": 95,
     "metadata": {},
     "output_type": "execute_result"
    }
   ],
   "source": [
    "# Show results\n",
    "valid_scores"
   ]
  },
  {
   "cell_type": "markdown",
   "id": "820892a1",
   "metadata": {},
   "source": [
    "LGBM shows great results, lets tune it a bit"
   ]
  },
  {
   "cell_type": "code",
   "execution_count": 96,
   "id": "5665487e",
   "metadata": {},
   "outputs": [
    {
     "data": {
      "text/plain": [
       "{'RandomForest': {'max_depth': 12, 'n_estimators': 100},\n",
       " 'XGBoost': {'learning_rate': 0.05, 'max_depth': 8, 'n_estimators': 100},\n",
       " 'LGBM': {'learning_rate': 0.05, 'max_depth': 4, 'n_estimators': 50}}"
      ]
     },
     "execution_count": 96,
     "metadata": {},
     "output_type": "execute_result"
    }
   ],
   "source": [
    "best_params"
   ]
  },
  {
   "cell_type": "code",
   "execution_count": 97,
   "id": "19994fd9",
   "metadata": {},
   "outputs": [
    {
     "name": "stdout",
     "output_type": "stream",
     "text": [
      "Training time (mins): 0.0\n"
     ]
    }
   ],
   "source": [
    "model = LGBMRegressor(random_state=69,\n",
    "                      learning_rate=0.05,\n",
    "                      max_depth=4,\n",
    "                      n_estimators=50,\n",
    "                      boosting_type=\"dart\",\n",
    "                      min_child_samples=21\n",
    ")\n",
    "\n",
    "start = time.time()\n",
    "\n",
    "# Train and score\n",
    "model.fit(X_train, y_train)\n",
    "prediction = model.predict(X_valid)\n",
    "\n",
    "valid_scores = pd.DataFrame({\"R2\":[r2_score(y_valid, prediction)],\n",
    "                             \"RMSE\":[np.sqrt(mean_squared_error(y_valid,prediction))]})\n",
    "\n",
    "# Print iteration and training time\n",
    "stop = time.time()\n",
    "print(\"Training time (mins):\", np.round((stop - start) / 60, 2))"
   ]
  },
  {
   "cell_type": "code",
   "execution_count": 98,
   "id": "726b2a95",
   "metadata": {},
   "outputs": [
    {
     "data": {
      "text/html": [
       "<div>\n",
       "<style scoped>\n",
       "    .dataframe tbody tr th:only-of-type {\n",
       "        vertical-align: middle;\n",
       "    }\n",
       "\n",
       "    .dataframe tbody tr th {\n",
       "        vertical-align: top;\n",
       "    }\n",
       "\n",
       "    .dataframe thead th {\n",
       "        text-align: right;\n",
       "    }\n",
       "</style>\n",
       "<table border=\"1\" class=\"dataframe\">\n",
       "  <thead>\n",
       "    <tr style=\"text-align: right;\">\n",
       "      <th></th>\n",
       "      <th>R2</th>\n",
       "      <th>RMSE</th>\n",
       "    </tr>\n",
       "  </thead>\n",
       "  <tbody>\n",
       "    <tr>\n",
       "      <th>0</th>\n",
       "      <td>0.890848</td>\n",
       "      <td>3.552802e+07</td>\n",
       "    </tr>\n",
       "  </tbody>\n",
       "</table>\n",
       "</div>"
      ],
      "text/plain": [
       "         R2          RMSE\n",
       "0  0.890848  3.552802e+07"
      ]
     },
     "execution_count": 98,
     "metadata": {},
     "output_type": "execute_result"
    }
   ],
   "source": [
    "valid_scores"
   ]
  },
  {
   "cell_type": "markdown",
   "id": "8c8e2259",
   "metadata": {},
   "source": [
    "Let's take a look at features that our model thinks are important"
   ]
  },
  {
   "cell_type": "code",
   "execution_count": 99,
   "id": "43c946b3",
   "metadata": {},
   "outputs": [
    {
     "name": "stdout",
     "output_type": "stream",
     "text": [
      "Last Equity Funding Amount Currency (in USD) -    144.000\n",
      "Last Funding Amount Currency (in USD) -     43.000\n",
      "Number of Founders -     25.000\n",
      "Number of Investors -     13.000\n",
      "Last Funding Date -     11.000\n",
      "Similar Companies -     11.000\n",
      "BuiltWith - Active Tech Count -      8.000\n",
      "Number of Funding Rounds -      2.000\n",
      "Trend Score (30 Days) -      2.000\n",
      "Trend Score (7 Days) -      1.000\n"
     ]
    }
   ],
   "source": [
    "for col, val in sorted(zip(data.drop([\"Target\"], axis=1).columns, \n",
    "                           model.feature_importances_),\n",
    "                           key=lambda x:x[1],\n",
    "                           reverse=True):\n",
    "    if val:\n",
    "        print(f\"{col:10} - {val:10.3f}\")"
   ]
  },
  {
   "cell_type": "markdown",
   "id": "6d24e96f",
   "metadata": {},
   "source": [
    "#### \"Last Equity Funding Amount Currency (in USD)\"\n",
    "is the most important, it is highly correlated with total funding"
   ]
  },
  {
   "cell_type": "markdown",
   "id": "db75ccb0",
   "metadata": {},
   "source": [
    "#### \"Last Funding Amount Currency (in USD)\" \n",
    "also means that there will be more total funding"
   ]
  },
  {
   "cell_type": "markdown",
   "id": "44f24344",
   "metadata": {},
   "source": [
    "#### \"Number of Founders\"\n",
    "seems like the more people found company, the more funding it gets"
   ]
  },
  {
   "cell_type": "markdown",
   "id": "3acdb541",
   "metadata": {},
   "source": [
    "#### \"Number of Investors\" \n",
    "the more people invest in company, the more is funding"
   ]
  },
  {
   "cell_type": "markdown",
   "id": "676c08f1",
   "metadata": {},
   "source": [
    "#### \"Similar Companies\"\n",
    "More similar complies are on the market may mean that their industry is popular and more likely to get funding"
   ]
  },
  {
   "cell_type": "markdown",
   "id": "45c0224b",
   "metadata": {},
   "source": [
    "#### \"BuiltWith - Active Tech Count\"\n",
    "According to \"Crunchbase\", \"BuiltWith - Active Tech Count\" means number of technologies currently in use by this company, detected by  BuiltWith. Seems like company that use a lot of technologies get more funding"
   ]
  },
  {
   "cell_type": "markdown",
   "id": "c3799ed1",
   "metadata": {},
   "source": [
    "#### \"Number of Funding Rounds\"\n",
    "More funding rounds => more funding"
   ]
  },
  {
   "cell_type": "markdown",
   "id": "bc1eb98a",
   "metadata": {},
   "source": [
    "#### \"Trend Score (30 Days)\" and \"Trend Score (7 Days)\"\n",
    "Trending companies get more funding"
   ]
  }
 ],
 "metadata": {
  "kernelspec": {
   "display_name": "Python 3.9 (tf)",
   "language": "python",
   "name": "tensorflow"
  },
  "language_info": {
   "codemirror_mode": {
    "name": "ipython",
    "version": 3
   },
   "file_extension": ".py",
   "mimetype": "text/x-python",
   "name": "python",
   "nbconvert_exporter": "python",
   "pygments_lexer": "ipython3",
   "version": "3.9.15"
  }
 },
 "nbformat": 4,
 "nbformat_minor": 5
}
