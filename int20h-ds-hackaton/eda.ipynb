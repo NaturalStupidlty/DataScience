{
 "cells": [
  {
   "cell_type": "markdown",
   "id": "04dbd173",
   "metadata": {},
   "source": [
    "# Made by XDBoobs team ;)"
   ]
  },
  {
   "cell_type": "code",
   "execution_count": 1,
   "id": "aa01dd5f",
   "metadata": {},
   "outputs": [],
   "source": [
    "import numpy as np\n",
    "import pandas as pd\n",
    "\n",
    "import matplotlib.pyplot as plt\n",
    "import seaborn as sns"
   ]
  },
  {
   "cell_type": "markdown",
   "id": "0c71d2ff",
   "metadata": {},
   "source": [
    "### Importing the dataset:"
   ]
  },
  {
   "cell_type": "code",
   "execution_count": 2,
   "id": "dff0ff56",
   "metadata": {},
   "outputs": [],
   "source": [
    "data = pd.read_csv(\"int20h-ds-test-dataset.csv\")"
   ]
  },
  {
   "cell_type": "markdown",
   "id": "a321d1d7",
   "metadata": {},
   "source": [
    "### Inspecting the data:"
   ]
  },
  {
   "cell_type": "code",
   "execution_count": 3,
   "id": "f10dd59f",
   "metadata": {},
   "outputs": [
    {
     "data": {
      "text/html": [
       "<div>\n",
       "<style scoped>\n",
       "    .dataframe tbody tr th:only-of-type {\n",
       "        vertical-align: middle;\n",
       "    }\n",
       "\n",
       "    .dataframe tbody tr th {\n",
       "        vertical-align: top;\n",
       "    }\n",
       "\n",
       "    .dataframe thead th {\n",
       "        text-align: right;\n",
       "    }\n",
       "</style>\n",
       "<table border=\"1\" class=\"dataframe\">\n",
       "  <thead>\n",
       "    <tr style=\"text-align: right;\">\n",
       "      <th></th>\n",
       "      <th>userid</th>\n",
       "      <th>user_state</th>\n",
       "      <th>event_name</th>\n",
       "      <th>event_attributes</th>\n",
       "      <th>event_created_date</th>\n",
       "      <th>event_platform</th>\n",
       "      <th>device_manufacture</th>\n",
       "      <th>device_model</th>\n",
       "    </tr>\n",
       "  </thead>\n",
       "  <tbody>\n",
       "    <tr>\n",
       "      <th>0</th>\n",
       "      <td>c95c777785faec8dd910d019d7278ebe</td>\n",
       "      <td>CA</td>\n",
       "      <td>Add Vehicle Success</td>\n",
       "      <td>{\"Make\":\"Dodge\",\"Model\":\"Caravan\",\"Color\":\"Whi...</td>\n",
       "      <td>2022-01-16 17:03:04</td>\n",
       "      <td>android</td>\n",
       "      <td>samsung</td>\n",
       "      <td>SM-N975U</td>\n",
       "    </tr>\n",
       "    <tr>\n",
       "      <th>1</th>\n",
       "      <td>c95c777785faec8dd910d019d7278ebe</td>\n",
       "      <td>CA</td>\n",
       "      <td>Add Vehicle Break</td>\n",
       "      <td>{}</td>\n",
       "      <td>2022-01-16 17:07:47</td>\n",
       "      <td>android</td>\n",
       "      <td>samsung</td>\n",
       "      <td>SM-N975U</td>\n",
       "    </tr>\n",
       "    <tr>\n",
       "      <th>2</th>\n",
       "      <td>f344be2d9a042b7444f3cc5279e38ef1</td>\n",
       "      <td>FL</td>\n",
       "      <td>Calculator View</td>\n",
       "      <td>{}</td>\n",
       "      <td>2022-01-16 17:16:25</td>\n",
       "      <td>android</td>\n",
       "      <td>samsung</td>\n",
       "      <td>SM-G973U1</td>\n",
       "    </tr>\n",
       "    <tr>\n",
       "      <th>3</th>\n",
       "      <td>c95c777785faec8dd910d019d7278ebe</td>\n",
       "      <td>CA</td>\n",
       "      <td>Add Payment Method Success</td>\n",
       "      <td>{\"Payment Method\":\"Credit\",\"Tokenized Pay\":\"\"}</td>\n",
       "      <td>2022-01-16 17:24:22</td>\n",
       "      <td>android</td>\n",
       "      <td>samsung</td>\n",
       "      <td>SM-N975U</td>\n",
       "    </tr>\n",
       "    <tr>\n",
       "      <th>4</th>\n",
       "      <td>e331ed81422d8fba55520a43a872e701</td>\n",
       "      <td>IL</td>\n",
       "      <td>Sign Up Success</td>\n",
       "      <td>{\"Method\":\"Apple\"}</td>\n",
       "      <td>2022-01-16 17:34:51</td>\n",
       "      <td>ios</td>\n",
       "      <td>Apple</td>\n",
       "      <td>iPhone12,1</td>\n",
       "    </tr>\n",
       "  </tbody>\n",
       "</table>\n",
       "</div>"
      ],
      "text/plain": [
       "                             userid user_state                  event_name  \\\n",
       "0  c95c777785faec8dd910d019d7278ebe         CA         Add Vehicle Success   \n",
       "1  c95c777785faec8dd910d019d7278ebe         CA           Add Vehicle Break   \n",
       "2  f344be2d9a042b7444f3cc5279e38ef1         FL             Calculator View   \n",
       "3  c95c777785faec8dd910d019d7278ebe         CA  Add Payment Method Success   \n",
       "4  e331ed81422d8fba55520a43a872e701         IL             Sign Up Success   \n",
       "\n",
       "                                    event_attributes   event_created_date  \\\n",
       "0  {\"Make\":\"Dodge\",\"Model\":\"Caravan\",\"Color\":\"Whi...  2022-01-16 17:03:04   \n",
       "1                                                 {}  2022-01-16 17:07:47   \n",
       "2                                                 {}  2022-01-16 17:16:25   \n",
       "3     {\"Payment Method\":\"Credit\",\"Tokenized Pay\":\"\"}  2022-01-16 17:24:22   \n",
       "4                                 {\"Method\":\"Apple\"}  2022-01-16 17:34:51   \n",
       "\n",
       "  event_platform device_manufacture device_model  \n",
       "0        android            samsung     SM-N975U  \n",
       "1        android            samsung     SM-N975U  \n",
       "2        android            samsung    SM-G973U1  \n",
       "3        android            samsung     SM-N975U  \n",
       "4            ios              Apple   iPhone12,1  "
      ]
     },
     "execution_count": 3,
     "metadata": {},
     "output_type": "execute_result"
    }
   ],
   "source": [
    "data.head()"
   ]
  },
  {
   "cell_type": "code",
   "execution_count": 4,
   "id": "7c60b5f9",
   "metadata": {},
   "outputs": [
    {
     "name": "stdout",
     "output_type": "stream",
     "text": [
      "<class 'pandas.core.frame.DataFrame'>\n",
      "RangeIndex: 23357 entries, 0 to 23356\n",
      "Data columns (total 8 columns):\n",
      " #   Column              Non-Null Count  Dtype \n",
      "---  ------              --------------  ----- \n",
      " 0   userid              23357 non-null  object\n",
      " 1   user_state          23286 non-null  object\n",
      " 2   event_name          23357 non-null  object\n",
      " 3   event_attributes    23357 non-null  object\n",
      " 4   event_created_date  23357 non-null  object\n",
      " 5   event_platform      23357 non-null  object\n",
      " 6   device_manufacture  15847 non-null  object\n",
      " 7   device_model        15847 non-null  object\n",
      "dtypes: object(8)\n",
      "memory usage: 1.4+ MB\n"
     ]
    }
   ],
   "source": [
    "data.info()"
   ]
  },
  {
   "cell_type": "markdown",
   "id": "5522899a",
   "metadata": {},
   "source": [
    "### Oops... Some columns have missing values"
   ]
  },
  {
   "cell_type": "code",
   "execution_count": 5,
   "id": "273eceeb",
   "metadata": {},
   "outputs": [
    {
     "name": "stdout",
     "output_type": "stream",
     "text": [
      "Columns with missing data: \n",
      "1 user_state\n",
      "2 device_manufacture\n",
      "3 device_model\n"
     ]
    }
   ],
   "source": [
    "columns_with_missing_data = data.columns[data.isnull().any()]\n",
    "\n",
    "print(\"Columns with missing data: \")\n",
    "for i, col in enumerate(columns_with_missing_data):\n",
    "    print(i+1, col)"
   ]
  },
  {
   "cell_type": "markdown",
   "id": "df852390",
   "metadata": {},
   "source": [
    "#### Percentage of missing data"
   ]
  },
  {
   "cell_type": "code",
   "execution_count": 6,
   "id": "9ef9edfb",
   "metadata": {},
   "outputs": [
    {
     "name": "stdout",
     "output_type": "stream",
     "text": [
      "Percentage of missing data: \n"
     ]
    },
    {
     "data": {
      "text/plain": [
       "userid                 0.000000\n",
       "user_state             0.303977\n",
       "event_name             0.000000\n",
       "event_attributes       0.000000\n",
       "event_created_date     0.000000\n",
       "event_platform         0.000000\n",
       "device_manufacture    32.153102\n",
       "device_model          32.153102\n",
       "dtype: float64"
      ]
     },
     "execution_count": 6,
     "metadata": {},
     "output_type": "execute_result"
    }
   ],
   "source": [
    "print(\"Percentage of missing data: \")\n",
    "data.isnull().sum() / data.shape[0] * 100"
   ]
  },
  {
   "cell_type": "code",
   "execution_count": 7,
   "id": "5fea8e7a",
   "metadata": {},
   "outputs": [
    {
     "data": {
      "text/html": [
       "<div>\n",
       "<style scoped>\n",
       "    .dataframe tbody tr th:only-of-type {\n",
       "        vertical-align: middle;\n",
       "    }\n",
       "\n",
       "    .dataframe tbody tr th {\n",
       "        vertical-align: top;\n",
       "    }\n",
       "\n",
       "    .dataframe thead th {\n",
       "        text-align: right;\n",
       "    }\n",
       "</style>\n",
       "<table border=\"1\" class=\"dataframe\">\n",
       "  <thead>\n",
       "    <tr style=\"text-align: right;\">\n",
       "      <th></th>\n",
       "      <th>userid</th>\n",
       "      <th>user_state</th>\n",
       "      <th>event_name</th>\n",
       "      <th>event_attributes</th>\n",
       "      <th>event_created_date</th>\n",
       "      <th>event_platform</th>\n",
       "      <th>device_manufacture</th>\n",
       "      <th>device_model</th>\n",
       "    </tr>\n",
       "  </thead>\n",
       "  <tbody>\n",
       "    <tr>\n",
       "      <th>23</th>\n",
       "      <td>c664cc762bdcb88230b4b4f07e3b7d2e</td>\n",
       "      <td>CA</td>\n",
       "      <td>Transaction Refund</td>\n",
       "      <td>{\"Id\":\"708ee8f2012042b121be7dcdd6df256a\",\"Amou...</td>\n",
       "      <td>2022-01-16 21:41:05</td>\n",
       "      <td>outofband</td>\n",
       "      <td>NaN</td>\n",
       "      <td>NaN</td>\n",
       "    </tr>\n",
       "    <tr>\n",
       "      <th>34</th>\n",
       "      <td>017f4557810b3ba165d2959c17b916b6</td>\n",
       "      <td>TX</td>\n",
       "      <td>Subscription Premium</td>\n",
       "      <td>{\"Start Date\":\"2022-01-16\",\"Renewal Date\":\"202...</td>\n",
       "      <td>2022-01-17 00:04:58</td>\n",
       "      <td>outofband</td>\n",
       "      <td>NaN</td>\n",
       "      <td>NaN</td>\n",
       "    </tr>\n",
       "    <tr>\n",
       "      <th>72</th>\n",
       "      <td>0d51394c39dbf15021ccd09155ee6257</td>\n",
       "      <td>FL</td>\n",
       "      <td>Order</td>\n",
       "      <td>{\"Premium Membership\":\"True\"}</td>\n",
       "      <td>2022-01-15 09:23:48</td>\n",
       "      <td>outofband</td>\n",
       "      <td>NaN</td>\n",
       "      <td>NaN</td>\n",
       "    </tr>\n",
       "    <tr>\n",
       "      <th>73</th>\n",
       "      <td>0d51394c39dbf15021ccd09155ee6257</td>\n",
       "      <td>FL</td>\n",
       "      <td>Order</td>\n",
       "      <td>{\"Premium Membership\":\"True\"}</td>\n",
       "      <td>2022-01-15 09:23:48</td>\n",
       "      <td>outofband</td>\n",
       "      <td>NaN</td>\n",
       "      <td>NaN</td>\n",
       "    </tr>\n",
       "    <tr>\n",
       "      <th>74</th>\n",
       "      <td>0d51394c39dbf15021ccd09155ee6257</td>\n",
       "      <td>FL</td>\n",
       "      <td>Order</td>\n",
       "      <td>{\"Premium Membership\":\"True\"}</td>\n",
       "      <td>2022-01-15 10:16:12</td>\n",
       "      <td>outofband</td>\n",
       "      <td>NaN</td>\n",
       "      <td>NaN</td>\n",
       "    </tr>\n",
       "  </tbody>\n",
       "</table>\n",
       "</div>"
      ],
      "text/plain": [
       "                              userid user_state            event_name  \\\n",
       "23  c664cc762bdcb88230b4b4f07e3b7d2e         CA    Transaction Refund   \n",
       "34  017f4557810b3ba165d2959c17b916b6         TX  Subscription Premium   \n",
       "72  0d51394c39dbf15021ccd09155ee6257         FL                 Order   \n",
       "73  0d51394c39dbf15021ccd09155ee6257         FL                 Order   \n",
       "74  0d51394c39dbf15021ccd09155ee6257         FL                 Order   \n",
       "\n",
       "                                     event_attributes   event_created_date  \\\n",
       "23  {\"Id\":\"708ee8f2012042b121be7dcdd6df256a\",\"Amou...  2022-01-16 21:41:05   \n",
       "34  {\"Start Date\":\"2022-01-16\",\"Renewal Date\":\"202...  2022-01-17 00:04:58   \n",
       "72                      {\"Premium Membership\":\"True\"}  2022-01-15 09:23:48   \n",
       "73                      {\"Premium Membership\":\"True\"}  2022-01-15 09:23:48   \n",
       "74                      {\"Premium Membership\":\"True\"}  2022-01-15 10:16:12   \n",
       "\n",
       "   event_platform device_manufacture device_model  \n",
       "23      outofband                NaN          NaN  \n",
       "34      outofband                NaN          NaN  \n",
       "72      outofband                NaN          NaN  \n",
       "73      outofband                NaN          NaN  \n",
       "74      outofband                NaN          NaN  "
      ]
     },
     "execution_count": 7,
     "metadata": {},
     "output_type": "execute_result"
    }
   ],
   "source": [
    "data[data['device_manufacture'].isnull()].head()"
   ]
  },
  {
   "cell_type": "markdown",
   "id": "63973383",
   "metadata": {},
   "source": [
    "#### Every single row that misses *device_manufacture* also doen't have *device_model* and vice versa:"
   ]
  },
  {
   "cell_type": "code",
   "execution_count": 8,
   "id": "3eef4329",
   "metadata": {},
   "outputs": [
    {
     "name": "stdout",
     "output_type": "stream",
     "text": [
      "True\n",
      "True\n"
     ]
    }
   ],
   "source": [
    "print(data[(data['device_manufacture'].isna()) & (data['device_model'].isna() == False)].empty)\n",
    "print(data[(data['device_model'].isna()) & (data['device_manufacture'].isna() == False)].empty)"
   ]
  },
  {
   "cell_type": "markdown",
   "id": "590fa79f",
   "metadata": {},
   "source": [
    "We can fill missing values in **device_manufacture** and **device_model** using information from same **userid**s"
   ]
  },
  {
   "cell_type": "code",
   "execution_count": 9,
   "id": "fedd5261",
   "metadata": {},
   "outputs": [],
   "source": [
    "def fill_on_other_ids(data):\n",
    "    null_data = data[data['device_manufacture'].isna()].copy()\n",
    "    \n",
    "    null_data['device_manufacture'] = null_data.apply(\n",
    "        lambda row: (data[(data['userid'] == row['userid']) &\n",
    "                        (data['device_manufacture'].isnull() == False)]['device_manufacture'].mode())[0]\n",
    "                if (data[(data['userid'] == row['userid']) &\n",
    "                        (data['device_manufacture'].isnull() == False)].empty == False)\n",
    "                else row['device_manufacture'], axis=1)\n",
    "\n",
    "    null_data['device_model'] = null_data.apply(\n",
    "        lambda row: (data[(data['userid'] == row['userid']) &\n",
    "                        (data['device_model'].isnull() == False)]['device_model'].mode())[0]\n",
    "                if (data[(data['userid'] == row['userid']) &\n",
    "                        (data['device_model'].isnull() == False)].empty == False)\n",
    "                else row['device_model'], axis=1)\n",
    "\n",
    "    data.update(null_data)\n",
    "    \n",
    "    return data"
   ]
  },
  {
   "cell_type": "code",
   "execution_count": 10,
   "id": "de74a0bf",
   "metadata": {},
   "outputs": [],
   "source": [
    "data = fill_on_other_ids(data)"
   ]
  },
  {
   "cell_type": "code",
   "execution_count": 11,
   "id": "5f6208f2",
   "metadata": {},
   "outputs": [
    {
     "name": "stdout",
     "output_type": "stream",
     "text": [
      "Percentage of missing data: \n"
     ]
    },
    {
     "data": {
      "text/plain": [
       "userid                0.000000\n",
       "user_state            0.303977\n",
       "event_name            0.000000\n",
       "event_attributes      0.000000\n",
       "event_created_date    0.000000\n",
       "event_platform        0.000000\n",
       "device_manufacture    0.535171\n",
       "device_model          0.535171\n",
       "dtype: float64"
      ]
     },
     "execution_count": 11,
     "metadata": {},
     "output_type": "execute_result"
    }
   ],
   "source": [
    "print(\"Percentage of missing data: \")\n",
    "data.isnull().sum() / data.shape[0] * 100"
   ]
  },
  {
   "cell_type": "markdown",
   "id": "af1a3029",
   "metadata": {},
   "source": [
    "Unfortunaly, some data is still missing :( "
   ]
  },
  {
   "cell_type": "markdown",
   "id": "9768fff0",
   "metadata": {},
   "source": [
    "However, as far as we know only Apple manufactures ios devices"
   ]
  },
  {
   "cell_type": "code",
   "execution_count": 12,
   "id": "2598894a",
   "metadata": {},
   "outputs": [
    {
     "name": "stdout",
     "output_type": "stream",
     "text": [
      "True\n"
     ]
    }
   ],
   "source": [
    "print(data[(data['event_platform'] == 'ios') & ((data['device_manufacture'] == 'Apple') == False)].empty)"
   ]
  },
  {
   "cell_type": "code",
   "execution_count": 13,
   "id": "ffa4c7ad",
   "metadata": {},
   "outputs": [
    {
     "data": {
      "text/plain": [
       "array(['samsung', 'Apple', 'TCL', nan, 'motorola', 'Yulong', 'Wingtech',\n",
       "       'OnePlus', 'LGE', 'Google', 'realme', 'FIH', 'HMD Global',\n",
       "       'Xiaomi', 'BLU', 'vsmart', 'HUAWEI', 'OPPO', 'KYOCERA', 'Umx',\n",
       "       'HTC', 'Alcatel', 'ZTE'], dtype=object)"
      ]
     },
     "execution_count": 13,
     "metadata": {},
     "output_type": "execute_result"
    }
   ],
   "source": [
    "data['device_manufacture'].unique()"
   ]
  },
  {
   "cell_type": "code",
   "execution_count": 14,
   "id": "187714d4",
   "metadata": {},
   "outputs": [
    {
     "data": {
      "text/plain": [
       "device_manufacture\n",
       "Apple         0.609031\n",
       "samsung       0.270876\n",
       "Google        0.038783\n",
       "motorola      0.024277\n",
       "LGE           0.022383\n",
       "OnePlus       0.009814\n",
       "HMD Global    0.008351\n",
       "TCL           0.007317\n",
       "Wingtech      0.004821\n",
       "BLU           0.000990\n",
       "FIH           0.000861\n",
       "vsmart        0.000560\n",
       "HUAWEI        0.000517\n",
       "Xiaomi        0.000344\n",
       "Umx           0.000301\n",
       "Yulong        0.000258\n",
       "realme        0.000258\n",
       "ZTE           0.000086\n",
       "OPPO          0.000043\n",
       "KYOCERA       0.000043\n",
       "HTC           0.000043\n",
       "Alcatel       0.000043\n",
       "dtype: float64"
      ]
     },
     "execution_count": 14,
     "metadata": {},
     "output_type": "execute_result"
    }
   ],
   "source": [
    "data.groupby(['device_manufacture']).size().sort_values(ascending = False) / data.groupby(['device_manufacture']).size().sum()"
   ]
  },
  {
   "cell_type": "markdown",
   "id": "c9127be2",
   "metadata": {},
   "source": [
    "We may actually consider that all other devices that have **event_platform** = 'android' have **device_manufacture** = 'samsung'"
   ]
  },
  {
   "cell_type": "code",
   "execution_count": 15,
   "id": "49e3c280",
   "metadata": {},
   "outputs": [],
   "source": [
    "def fill_device_manufacture(data):\n",
    "    null_data = data[data['device_manufacture'].isna()].copy()\n",
    "    \n",
    "    null_data['device_manufacture'] = null_data.apply(lambda row: 'Apple'\n",
    "            if (row['event_platform'] == 'ios')\n",
    "            else 'samsung', axis=1)\n",
    "\n",
    "    data.update(null_data)\n",
    "    \n",
    "    return data"
   ]
  },
  {
   "cell_type": "code",
   "execution_count": 16,
   "id": "26fa818f",
   "metadata": {},
   "outputs": [],
   "source": [
    "data = fill_device_manufacture(data)"
   ]
  },
  {
   "cell_type": "markdown",
   "id": "a8466267",
   "metadata": {},
   "source": [
    "We will fill the rest of **device_model** missing values on with the most popular model of their manufacture"
   ]
  },
  {
   "cell_type": "code",
   "execution_count": 17,
   "id": "0234bf46",
   "metadata": {},
   "outputs": [],
   "source": [
    "def fill_device_model(data):\n",
    "    null_data = data[data['device_model'].isna()].copy()\n",
    "    \n",
    "    null_data['device_model'] = null_data.apply(\n",
    "        lambda row: data[data['device_manufacture'] == row['device_manufacture']]['device_model'].mode()[0], axis=1)\n",
    "\n",
    "    data.update(null_data)\n",
    "    \n",
    "    return data"
   ]
  },
  {
   "cell_type": "code",
   "execution_count": 18,
   "id": "41ed66d0",
   "metadata": {},
   "outputs": [],
   "source": [
    "data = fill_device_model(data)"
   ]
  },
  {
   "cell_type": "markdown",
   "id": "6efa3548",
   "metadata": {},
   "source": [
    "Now we will deal with the **user_state** column"
   ]
  },
  {
   "cell_type": "code",
   "execution_count": 19,
   "id": "b1058ad5",
   "metadata": {},
   "outputs": [
    {
     "data": {
      "text/html": [
       "<div>\n",
       "<style scoped>\n",
       "    .dataframe tbody tr th:only-of-type {\n",
       "        vertical-align: middle;\n",
       "    }\n",
       "\n",
       "    .dataframe tbody tr th {\n",
       "        vertical-align: top;\n",
       "    }\n",
       "\n",
       "    .dataframe thead th {\n",
       "        text-align: right;\n",
       "    }\n",
       "</style>\n",
       "<table border=\"1\" class=\"dataframe\">\n",
       "  <thead>\n",
       "    <tr style=\"text-align: right;\">\n",
       "      <th></th>\n",
       "      <th>userid</th>\n",
       "      <th>user_state</th>\n",
       "      <th>event_name</th>\n",
       "      <th>event_attributes</th>\n",
       "      <th>event_created_date</th>\n",
       "      <th>event_platform</th>\n",
       "      <th>device_manufacture</th>\n",
       "      <th>device_model</th>\n",
       "    </tr>\n",
       "  </thead>\n",
       "  <tbody>\n",
       "    <tr>\n",
       "      <th>20</th>\n",
       "      <td>c5cf3fc44b606d4614a834a5306e9616</td>\n",
       "      <td>NaN</td>\n",
       "      <td>Sign Up Success</td>\n",
       "      <td>{\"Method\":\"Email\"}</td>\n",
       "      <td>2022-01-16 21:01:55</td>\n",
       "      <td>android</td>\n",
       "      <td>TCL</td>\n",
       "      <td>9032Z</td>\n",
       "    </tr>\n",
       "    <tr>\n",
       "      <th>93</th>\n",
       "      <td>ed09ebeba14600a9ff4defc64e32503c</td>\n",
       "      <td>NaN</td>\n",
       "      <td>Sign Up Success</td>\n",
       "      <td>{\"Method\":\"Email\"}</td>\n",
       "      <td>2022-01-17 04:40:32</td>\n",
       "      <td>ios</td>\n",
       "      <td>Apple</td>\n",
       "      <td>iPhone11,6</td>\n",
       "    </tr>\n",
       "    <tr>\n",
       "      <th>121</th>\n",
       "      <td>9182e94800ca0f8e9094ea3b8f5b169c</td>\n",
       "      <td>NaN</td>\n",
       "      <td>Sign Up Success</td>\n",
       "      <td>{\"Method\":\"Google\"}</td>\n",
       "      <td>2022-01-15 14:46:05</td>\n",
       "      <td>android</td>\n",
       "      <td>samsung</td>\n",
       "      <td>SM-A426U</td>\n",
       "    </tr>\n",
       "    <tr>\n",
       "      <th>148</th>\n",
       "      <td>838db409e7565bfa896beff8bf7fe023</td>\n",
       "      <td>NaN</td>\n",
       "      <td>Sign Up Success</td>\n",
       "      <td>{\"Method\":\"Email\"}</td>\n",
       "      <td>2022-01-17 15:43:30</td>\n",
       "      <td>android</td>\n",
       "      <td>motorola</td>\n",
       "      <td>moto g stylus 5G</td>\n",
       "    </tr>\n",
       "    <tr>\n",
       "      <th>150</th>\n",
       "      <td>838db409e7565bfa896beff8bf7fe023</td>\n",
       "      <td>NaN</td>\n",
       "      <td>Email Confirmation Success</td>\n",
       "      <td>{}</td>\n",
       "      <td>2022-01-17 15:45:11</td>\n",
       "      <td>android</td>\n",
       "      <td>motorola</td>\n",
       "      <td>moto g stylus 5G</td>\n",
       "    </tr>\n",
       "  </tbody>\n",
       "</table>\n",
       "</div>"
      ],
      "text/plain": [
       "                               userid user_state                  event_name  \\\n",
       "20   c5cf3fc44b606d4614a834a5306e9616        NaN             Sign Up Success   \n",
       "93   ed09ebeba14600a9ff4defc64e32503c        NaN             Sign Up Success   \n",
       "121  9182e94800ca0f8e9094ea3b8f5b169c        NaN             Sign Up Success   \n",
       "148  838db409e7565bfa896beff8bf7fe023        NaN             Sign Up Success   \n",
       "150  838db409e7565bfa896beff8bf7fe023        NaN  Email Confirmation Success   \n",
       "\n",
       "        event_attributes   event_created_date event_platform  \\\n",
       "20    {\"Method\":\"Email\"}  2022-01-16 21:01:55        android   \n",
       "93    {\"Method\":\"Email\"}  2022-01-17 04:40:32            ios   \n",
       "121  {\"Method\":\"Google\"}  2022-01-15 14:46:05        android   \n",
       "148   {\"Method\":\"Email\"}  2022-01-17 15:43:30        android   \n",
       "150                   {}  2022-01-17 15:45:11        android   \n",
       "\n",
       "    device_manufacture      device_model  \n",
       "20                 TCL             9032Z  \n",
       "93               Apple        iPhone11,6  \n",
       "121            samsung          SM-A426U  \n",
       "148           motorola  moto g stylus 5G  \n",
       "150           motorola  moto g stylus 5G  "
      ]
     },
     "execution_count": 19,
     "metadata": {},
     "output_type": "execute_result"
    }
   ],
   "source": [
    "data[data['user_state'].isnull()].head()"
   ]
  },
  {
   "cell_type": "markdown",
   "id": "54304ab3",
   "metadata": {},
   "source": [
    "### There is no other *user_state* information for *userid*s that have missing values:"
   ]
  },
  {
   "cell_type": "code",
   "execution_count": 20,
   "id": "ec9b1836",
   "metadata": {},
   "outputs": [],
   "source": [
    "for row in data[data['user_state'].isnull()]['userid']:\n",
    "    state_data = data[(data['userid'] == row) &\n",
    "                      (data['user_state'].isnull() == False)]\n",
    "    if state_data.empty == False:\n",
    "        print(state_data)"
   ]
  },
  {
   "cell_type": "markdown",
   "id": "e735fde1",
   "metadata": {},
   "source": [
    "Let's try to find some correlation between **user_state** and **event_platform**. (**device_manufacture** and **device_model** are not appropriate for this because they have got too much missing data themselves)"
   ]
  },
  {
   "cell_type": "code",
   "execution_count": 21,
   "id": "6cdac41e",
   "metadata": {},
   "outputs": [
    {
     "data": {
      "text/plain": [
       "<AxesSubplot: xlabel='event_platform', ylabel='user_state'>"
      ]
     },
     "execution_count": 21,
     "metadata": {},
     "output_type": "execute_result"
    },
    {
     "data": {
      "image/png": "[encoded data removed]",
      "text/plain": [
       "<Figure size 1000x1500 with 2 Axes>"
      ]
     },
     "metadata": {},
     "output_type": "display_data"
    }
   ],
   "source": [
    "event_state_group = data[(data['user_state'].isnull() == False)].groupby(\n",
    "    by=['user_state', 'event_platform']).size().unstack().fillna(0)\n",
    "plt.figure(figsize=(10,15))\n",
    "sns.heatmap(event_state_group, annot=True, fmt='g', cmap='coolwarm')"
   ]
  },
  {
   "cell_type": "code",
   "execution_count": 22,
   "id": "f7b0cd13",
   "metadata": {},
   "outputs": [],
   "source": [
    "def fill_user_state(data):\n",
    "    null_data = data[data['user_state'].isna()].copy()\n",
    "    \n",
    "    null_data['user_state'] = null_data.apply(lambda row: 'TX'\n",
    "            if (row['event_platform'] == 'outofband')\n",
    "            else 'CA', axis=1)\n",
    "        \n",
    "    data.update(null_data)\n",
    "    \n",
    "    return data"
   ]
  },
  {
   "cell_type": "code",
   "execution_count": 23,
   "id": "1b7db80f",
   "metadata": {},
   "outputs": [],
   "source": [
    "data = fill_user_state(data)"
   ]
  },
  {
   "cell_type": "markdown",
   "id": "43900f07",
   "metadata": {},
   "source": [
    "Now we need to classify the 'outofband' **event_platform** data"
   ]
  },
  {
   "cell_type": "markdown",
   "id": "9e536db6",
   "metadata": {},
   "source": [
    "1. Firstly, as we did before with **device_manufacture** and **device_model**, we will fill missing values using information from same **userid**s\n",
    "2. Anything that's left we will fill with the mode"
   ]
  },
  {
   "cell_type": "code",
   "execution_count": 24,
   "id": "1f0668c6",
   "metadata": {},
   "outputs": [],
   "source": [
    "def fill_outofband(data):\n",
    "    outofband_data = data[data['event_platform'] == 'outofband'].copy()\n",
    "    \n",
    "    outofband_data['event_platform'] = outofband_data.apply(\n",
    "        lambda row: (data[(data['userid'] == row['userid']) &\n",
    "                        (data['event_platform'] != 'outofband')]['event_platform'].mode())[0]\n",
    "                if (data[(data['userid'] == row['userid']) &\n",
    "                        (data['event_platform'] != 'outofband')].empty == False)\n",
    "                else data['event_platform'].mode()[0], axis=1)\n",
    "    \n",
    "    data.update(outofband_data)\n",
    "    return data"
   ]
  },
  {
   "cell_type": "code",
   "execution_count": 25,
   "id": "2d53179e",
   "metadata": {},
   "outputs": [],
   "source": [
    "data = fill_outofband(data)"
   ]
  },
  {
   "cell_type": "code",
   "execution_count": 26,
   "id": "a45909ca",
   "metadata": {},
   "outputs": [
    {
     "data": {
      "text/plain": [
       "userid                0.0\n",
       "user_state            0.0\n",
       "event_name            0.0\n",
       "event_attributes      0.0\n",
       "event_created_date    0.0\n",
       "event_platform        0.0\n",
       "device_manufacture    0.0\n",
       "device_model          0.0\n",
       "dtype: float64"
      ]
     },
     "execution_count": 26,
     "metadata": {},
     "output_type": "execute_result"
    }
   ],
   "source": [
    "# percentage of missing data\n",
    "data.isnull().sum() / data.shape[0]*100"
   ]
  },
  {
   "cell_type": "markdown",
   "id": "39d1e229",
   "metadata": {},
   "source": [
    "Let's convert **event_created_date** from string to unix time format"
   ]
  },
  {
   "cell_type": "code",
   "execution_count": 27,
   "id": "9e5bb00c",
   "metadata": {},
   "outputs": [],
   "source": [
    "data['event_created_date'] = data['event_created_date'].apply(lambda x: pd.to_datetime(x).value)"
   ]
  },
  {
   "cell_type": "markdown",
   "id": "5cd294dd",
   "metadata": {},
   "source": [
    "Now we will need to deal with **event_name** and **event_attributes**"
   ]
  },
  {
   "cell_type": "code",
   "execution_count": 28,
   "id": "372de3ea",
   "metadata": {},
   "outputs": [
    {
     "name": "stdout",
     "output_type": "stream",
     "text": [
      "['Add Vehicle Success' 'Add Vehicle Break' 'Calculator View'\n",
      " 'Add Payment Method Success' 'Sign Up Success'\n",
      " 'Add Payment Method Failed' 'Wallet Opened' 'Transaction Refund'\n",
      " 'Email Confirmation Success' 'Account Setup Skip' 'Subscription Premium'\n",
      " 'Chat Conversation Opened' 'Account Setup Profile Skip'\n",
      " 'Account History Transaction Details' 'Sign Out'\n",
      " 'Chat Conversation Started' 'Order' 'Sign Up Error'\n",
      " 'Subscription Premium Cancel' 'Calculator Used'\n",
      " 'Subscription Premium Renew' 'Add Vehicle Failed' 'Reset Password Set']\n"
     ]
    }
   ],
   "source": [
    "event_names = data['event_name'].unique()\n",
    "print(event_names)"
   ]
  },
  {
   "cell_type": "code",
   "execution_count": 29,
   "id": "45a52ba0",
   "metadata": {},
   "outputs": [
    {
     "name": "stdout",
     "output_type": "stream",
     "text": [
      "Add Vehicle Success \n",
      " ['{\"Make\":\"Dodge\",\"Model\":\"Caravan\",\"Color\":\"White\",\"Year\":\"2019\",\"Temporary\":\"false\",\"Start Date\":\"\",\"End Date\":\"\",\"Rental state\":\"\"}'\n",
      " '{\"Make\":\"Ford\",\"Model\":\"F-150\",\"Temporary\":\"false\",\"Color\":\"Black\",\"Year\":\"2017\"}'\n",
      " '{\"Start Date\":\"16/01/2022\",\"Make\":\"Chevrolet\",\"Model\":\"Malibu\",\"Temporary\":\"true\",\"Rental State\":\"CA\",\"End Date\":\"18/01/2022\",\"Color\":\"White\",\"Year\":\"2020\"}'\n",
      " ...\n",
      " '{\"Make\":\"Ford\",\"Model\":\"F-350\",\"Color\":\"White\",\"Year\":\"2012\",\"Temporary\":\"false\",\"Start Date\":\"\",\"End Date\":\"\",\"Rental State\":\"\"}'\n",
      " '{\"Make\":\"Chevrolet\",\"Model\":\"Impala\",\"Color\":\"Silver\",\"Year\":\"2019\",\"Temporary\":\"true\",\"Start Date\":\"Apr 16, 2022\",\"End Date\":\"Apr 27, 2022\",\"Rental State\":\"CA\"}'\n",
      " '{\"Year\":\"2015\",\"Model\":\"Hino\",\"Temporary\":\"false\",\"Color\":\"Black\",\"Make\":\"Hino\"}'] \n",
      "\n",
      "Add Vehicle Break \n",
      " ['{}'] \n",
      "\n",
      "Calculator View \n",
      " ['{}'] \n",
      "\n",
      "Add Payment Method Success \n",
      " ['{\"Payment Method\":\"Credit\",\"Tokenized Pay\":\"\"}'\n",
      " '{\"Payment Method\":\"Credit\"}'\n",
      " '{\"Tokenized Pay\":\"Apple Pay\",\"Payment Method\":\"Debit\"}'\n",
      " '{\"Payment Method\":\"Debit\"}'\n",
      " '{\"Payment Method\":\"PayPal\",\"Tokenized Pay\":\"\"}'\n",
      " '{\"Payment Method\":\"Debit\",\"Tokenized Pay\":\"Google Pay\"}'\n",
      " '{\"Payment Method\":\"Credit\",\"Tokenized Pay\":\"Google Pay\"}'\n",
      " '{\"Payment Method\":\"Debit\",\"Tokenized Pay\":\"\"}'\n",
      " '{\"Tokenized Pay\":\"Apple Pay\",\"Payment Method\":\"Credit\"}'\n",
      " '{\"Payment Method\":\"Venmo\"}' '{\"Payment Method\":\"PayPal\"}'\n",
      " '{\"Payment Method\":\"Debit\",\"Tokenized Pay\":\"Google Pay\",\"Promo code\":\"\"}'\n",
      " '{\"Payment Method\":\"Debit\",\"Tokenized Pay\":\"\",\"Promo code\":\"\"}'\n",
      " '{\"Payment Method\":\"Credit\",\"Promo code\":\"\"}'\n",
      " '{\"Payment Method\":\"Debit\",\"Promo code\":\"\"}'\n",
      " '{\"Payment Method\":\"PayPal\",\"Tokenized Pay\":\"\",\"Promo code\":\"\"}'\n",
      " '{\"Tokenized Pay\":\"Apple Pay\",\"Payment Method\":\"Debit\",\"Promo code\":\"\"}'\n",
      " '{\"Tokenized Pay\":\"Apple Pay\",\"Payment Method\":\"Credit\",\"Promo code\":\"\"}'\n",
      " '{\"Payment Method\":\"Credit\",\"Tokenized Pay\":\"\",\"Promo code\":\"\"}'\n",
      " '{\"Payment Method\":\"PayPal\",\"Tokenized Pay\":\"\",\"Promo code\":\"GRIDWISE\"}'\n",
      " '{\"Payment Method\":\"PayPal\",\"Promo code\":\"\"}'\n",
      " '{\"Payment Method\":\"Debit\",\"Promo code\":\"GRIDWISE\"}'\n",
      " '{\"Payment Method\":\"Venmo\",\"Promo code\":\"\"}'\n",
      " '{\"Payment Method\":\"Credit\",\"Tokenized Pay\":\"Google Pay\",\"Promo code\":\"\"}'\n",
      " '{\"Payment Method\":\"PayPal\",\"Promo code\":\"INFLUENCER2021\"}'\n",
      " '{\"Payment Method\":\"Venmo\",\"Promo code\":\"INFLUENCER2021\"}'\n",
      " '{\"Payment Method\":\"Debit\",\"Promo code\":\"INFLUENCER2021\"}'\n",
      " '{\"Tokenized Pay\":\"Apple Pay\",\"Payment Method\":\"Debit\",\"Promo code\":\"LUCKYDAY\"}'\n",
      " '{\"Tokenized Pay\":\"Apple Pay\",\"Payment Method\":\"Credit\",\"Promo code\":\"GRIDWISE\"}'\n",
      " '{\"Payment Method\":\"Debit\",\"Tokenized Pay\":\"\",\"Promo code\":\"GRIDWISE\"}'\n",
      " '{\"Payment Method\":\"Credit\",\"Tokenized Pay\":\"\",\"Promo code\":\"GRIDWISE\"}'\n",
      " '{\"Tokenized Pay\":\"Apple Pay\",\"Payment Method\":\"Credit\",\"Promo code\":\"TST2022\"}'\n",
      " '{\"Promo code\":\"\",\"Payment Method\":\"Debit\"}'\n",
      " '{\"Tokenized Pay\":\"Apple Pay\",\"Payment Method\":\"Debit\",\"Promo code\":\"VEHICLEVIRGINS\"}'\n",
      " '{\"Payment Method\":\"Venmo\",\"Tokenized Pay\":\"\",\"Promo code\":\"\"}'] \n",
      "\n",
      "Sign Up Success \n",
      " ['{\"Method\":\"Apple\"}' '{\"Method\":\"Google\"}' '{\"Method\":\"Facebook\"}'\n",
      " '{\"Method\":\"Email\"}'] \n",
      "\n",
      "Add Payment Method Failed \n",
      " ['{\"Error Code\":\"ERROR-16010\",\"Payment Method\":\"Credit Card\",\"Error Message\":\"Card is debit but credit is required.\"}'\n",
      " '{\"Error Code\":\"ERROR-16010\",\"Error Message\":\"Card is debit but credit is required.\",\"Payment Method\":\"Credit Card\",\"Tokenized Pay\":\"\"}'\n",
      " '{\"Error Message\":\"Card is debit but credit is required.\",\"Payment Method\":\"Credit Card\",\"Error Code\":\"ERROR-16010\"}'\n",
      " '{\"Error Code\":\"ERROR-16010\",\"Error Message\":\"Card is debit but credit is required.\",\"Payment Method\":\"Credit Card\"}'\n",
      " '{\"Error Message\":\"Payment method failed verification.\",\"Error Code\":\"ERROR-NaN10\",\"Payment Method\":\"Credit Card\"}'\n",
      " '{\"Error Code\":\"ERROR-NaN10\",\"Error Message\":\"Postal code can only contain letters, numbers, spaces, and hyphens.\",\"Payment Method\":\"Credit Card\"}'\n",
      " '{\"Error Code\":\"ERROR-NaN10\",\"Payment Method\":\"Credit Card\",\"Error Message\":\"Payment method failed verification.\"}'\n",
      " '{\"Error Code\":\"ERROR-NaN10\",\"Error Message\":\"Payment method failed verification.\",\"Payment Method\":\"Credit Card\",\"Tokenized Pay\":\"\"}'\n",
      " '{\"Error Message\":\"Card is debit but credit is required.\",\"Error Code\":\"ERROR-16010\",\"Payment Method\":\"Credit Card\"}'\n",
      " '{\"Error Code\":\"ERROR-NaN10\",\"Payment Method\":\"Credit Card\",\"Error Message\":\"CVV must be 4 digits for American Express and 3 digits for other card types.\"}'\n",
      " '{\"Error Code\":\"ERROR-NaN10\",\"Error Message\":\"CVV must be 4 digits for American Express and 3 digits for other card types.\",\"Payment Method\":\"Credit Card\"}'\n",
      " '{\"Error Message\":\"CVV must be 4 digits for American Express and 3 digits for other card types.\",\"Payment Method\":\"Credit Card\",\"Error Code\":\"ERROR-NaN10\"}'\n",
      " '{\"Error Message\":\"Card is debit but credit is required.\",\"Tokenized Pay\":\"Apple Pay\",\"Payment Method\":\"Credit Card\",\"Error Code\":\"ERROR-16010\"}'\n",
      " '{\"Error Code\":\"ERROR-NaN10\",\"Error Message\":\"Payment method failed verification.\",\"Payment Method\":\"Credit Card\"}'\n",
      " '{\"Tokenized Pay\":\"Apple Pay\",\"Payment Method\":\"Credit Card\",\"Error Code\":\"ERROR-16010\",\"Error Message\":\"Card is debit but credit is required.\"}'\n",
      " '{\"Tokenized Pay\":\"Apple Pay\",\"Payment Method\":\"Credit Card\",\"Error Message\":\"Card is debit but credit is required.\",\"Error Code\":\"ERROR-16010\"}'\n",
      " '{\"Error Code\":\"ERROR-16010\",\"Tokenized Pay\":\"Apple Pay\",\"Payment Method\":\"Credit Card\",\"Error Message\":\"Card is debit but credit is required.\"}'\n",
      " '{\"Error Code\":\"ERROR-16010\",\"Error Message\":\"Card is debit but credit is required.\",\"Payment Method\":\"Google Pay\",\"Tokenized Pay\":\"Google Pay\"}'\n",
      " '{\"Error Message\":\"Payment method failed verification.\",\"Payment Method\":\"Credit Card\",\"Error Code\":\"ERROR-NaN10\"}'\n",
      " '{\"Error Message\":\"CVV must be 4 digits for American Express and 3 digits for other card types.\",\"Error Code\":\"ERROR-NaN10\",\"Payment Method\":\"Credit Card\"}'] \n",
      "\n",
      "Wallet Opened \n",
      " ['{}'] \n",
      "\n",
      "Transaction Refund \n",
      " ['{\"Id\":\"708ee8f2012042b121be7dcdd6df256a\",\"Amount\":\"-18.01\"}'\n",
      " '{\"Id\":\"2d795a386ea1e02252e543886b812a9b\",\"Amount\":\"-50\"}'\n",
      " '{\"Id\":\"3064c45c1a47fcc774ff2d3071dd9f08\",\"Amount\":\"-20\"}'\n",
      " '{\"Id\":\"8b58302d81c15a27545e492bdbeee2ef\",\"Amount\":\"-10\"}'\n",
      " '{\"Id\":\"570f2db617899393f6fe057112a4b894\",\"Amount\":\"-50\"}'\n",
      " '{\"Id\":\"776d1e9a972a164f2758df79247dcf29\",\"Amount\":\"-20\"}'\n",
      " '{\"Id\":\"350e9930fd6c550a087c5781bd1e661c\",\"Amount\":\"-10\"}'\n",
      " '{\"Id\":\"cab720b1cb75ee0f2741cc09efb630be\",\"Amount\":\"-10\"}'\n",
      " '{\"Id\":\"a06df3f8a4e3b4bb21ab0a01f186c3a7\",\"Amount\":\"-20\"}'\n",
      " '{\"Id\":\"e12e7fca6bee6c15768229268fb37e5d\",\"Amount\":\"-0.96\"}'\n",
      " '{\"Id\":\"0cc399c0a371c7a18779ed6eb7e42320\",\"Amount\":\"-20\"}'\n",
      " '{\"Id\":\"abb700649f62a3d92ddcdf33e98862e1\",\"Amount\":\"-10\"}'\n",
      " '{\"Id\":\"a6f3727ea2d08ba23fceb7bc2a12c389\",\"Amount\":\"-20\"}'\n",
      " '{\"Id\":\"aa01b6224e43702c3f89fec0f893bd0a\",\"Amount\":\"-16.62\"}'\n",
      " '{\"Id\":\"d6e6fd1ed77a4e34e6dc37d978ebeafe\",\"Amount\":\"-20\"}'\n",
      " '{\"Id\":\"459fa7357a9138e2d9a78f2643711714\",\"Amount\":\"-50\"}'\n",
      " '{\"Id\":\"f4a02d52c02fa2bf4a420a937f86a6ce\",\"Amount\":\"-10\"}'\n",
      " '{\"Id\":\"1523f5e8461ce96393c2bb174dba0f29\",\"Amount\":\"-20\"}'\n",
      " '{\"Id\":\"fd8ab9547a17a81f83c939161e973248\",\"Amount\":\"-6.67\"}'\n",
      " '{\"Id\":\"417fb1dfecc15925902300432b3ae4ef\",\"Amount\":\"-20\"}'\n",
      " '{\"Id\":\"20ffd92026a306dca830b6b40adb81ee\",\"Amount\":\"-20\"}'\n",
      " '{\"Id\":\"1d65b6cbf061c7d40ae2f25ec46f742a\",\"Amount\":\"-10\"}'\n",
      " '{\"Id\":\"836fb5e049409d25751834036707f6a7\",\"Amount\":\"-8.01\"}'\n",
      " '{\"Id\":\"8e119890f5642dca2d37aa450b7b582e\",\"Amount\":\"-20\"}'\n",
      " '{\"Id\":\"ac57b07101e92554970425966bd43676\",\"Amount\":\"-10.87\"}'\n",
      " '{\"Id\":\"af041c58395bbfb7245d78c901bb6300\",\"Amount\":\"-10\"}'\n",
      " '{\"Id\":\"cbfa941e216de1d3f2bd8f26ace2037d\",\"Amount\":\"-10\"}'\n",
      " '{\"Id\":\"ce785427f4b3c2a038bbc18e76cec6e1\",\"Amount\":\"-10\"}'\n",
      " '{\"Id\":\"5ed652314b516e5cb96e72a484106ff9\",\"Amount\":\"-9.99\"}'\n",
      " '{\"Id\":\"8a53f0da2d0e0f5f579a5c97c7cf478d\",\"Amount\":\"-10\"}'\n",
      " '{\"Id\":\"ee4ea4dce7c24010bc02dcaf21739206\",\"Amount\":\"-10\"}'\n",
      " '{\"Id\":\"a4c72d26ed065902459115fffc3f86a4\",\"Amount\":\"-10\"}'\n",
      " '{\"Id\":\"18c4aa8e314644d3bfd5a4ee4329c23d\",\"Amount\":\"-10\"}'\n",
      " '{\"Id\":\"d51ddfc26d1a382dcd023161134919d3\",\"Amount\":\"-10\"}'\n",
      " '{\"Id\":\"82aae85e13874d2d4212c67f37e98656\",\"Amount\":\"-10\"}'\n",
      " '{\"Id\":\"90df5c8aaa1e297b21893afec9718bfa\",\"Amount\":\"-10\"}'\n",
      " '{\"Id\":\"d357a67c9c95ef2bf8dd661f16bd24a1\",\"Amount\":\"-50\"}'\n",
      " '{\"Id\":\"b0bf752e9d66577d9d4763a2f943d614\",\"Amount\":\"-10\"}'\n",
      " '{\"Id\":\"ace33d4759bc2d4b3912ed4e4c8d2083\",\"Amount\":\"-24.29\"}'\n",
      " '{\"Id\":\"69911dd238a7a67ec3f381df17938b35\",\"Amount\":\"-10\"}'\n",
      " '{\"Id\":\"76b236559f7c0de7cc34c947d5275861\",\"Amount\":\"-10\"}'\n",
      " '{\"Id\":\"56bd297b59815b0a9a47f412d46baefa\",\"Amount\":\"-20\"}'\n",
      " '{\"Id\":\"aa7f453350adfb50a91d18464e9c9c26\",\"Amount\":\"-20\"}'\n",
      " '{\"Id\":\"52ed31118120ce31d950d257e1292d3e\",\"Amount\":\"-14.29\"}'\n",
      " '{\"Id\":\"76dbb4d971e85719cd8eda8353db8430\",\"Amount\":\"-20\"}'\n",
      " '{\"Id\":\"6c2ad2e1f3333aad88f665453970ae98\",\"Amount\":\"-10\"}'\n",
      " '{\"Id\":\"4fdfe77889d2727bca487b985e5258a2\",\"Amount\":\"-24.29\"}'\n",
      " '{\"Id\":\"4fb24949db3f1675f10a3a7944abb1bd\",\"Amount\":\"-20\"}'\n",
      " '{\"Id\":\"19cf7d26fd0b0d80c068df45219b80d8\",\"Amount\":\"-20\"}'\n",
      " '{\"Id\":\"c7bf22b55bec8b619b7a758279c1e68b\",\"Amount\":\"-50\"}'\n",
      " '{\"Id\":\"3f13bdc53ae75f950f141d454534591b\",\"Amount\":\"-20\"}'\n",
      " '{\"Id\":\"1b38d1509af0376d2ae37b5d90f85179\",\"Amount\":\"-10\"}'\n",
      " '{\"Id\":\"29a717cdd52c38edae4614c57b9ba5e6\",\"Amount\":\"-10\"}'\n",
      " '{\"Id\":\"172fafc273d928cca2aea5989e3adc73\",\"Amount\":\"-20\"}'\n",
      " '{\"Id\":\"fdc9a27599715f9d169f180c692a1f05\",\"Amount\":\"-100\"}'\n",
      " '{\"Id\":\"8a2edcf889576b0e9e3cfcad74b1566f\",\"Amount\":\"-10\"}'\n",
      " '{\"Id\":\"1046450391320660f0bf38476473a502\",\"Amount\":\"-24.29\"}'\n",
      " '{\"Id\":\"6e11ec6468496d96d07477beadc9e5c8\",\"Amount\":\"-10\"}'\n",
      " '{\"Id\":\"cbf30aa0674eb25b54c37bed044f220b\",\"Amount\":\"-10\"}'\n",
      " '{\"Id\":\"fcea3f4170a5cc8b51dfea6b61d334b3\",\"Amount\":\"-80\"}'\n",
      " '{\"Id\":\"3834b900cd4f145516d308eeb26fe1d4\",\"Amount\":\"-20\"}'\n",
      " '{\"Id\":\"a5b116f61fb7720d5e9701f0999f3d5c\",\"Amount\":\"-8.78\"}'\n",
      " '{\"Id\":\"85298a4db30c1fb4f302b117f0b2b0fc\",\"Amount\":\"-20\"}'\n",
      " '{\"Id\":\"1fde8582e15d7646386087470ad06245\",\"Amount\":\"-20\"}'\n",
      " '{\"Id\":\"f9b78cb29f97bb5a1c05942fda178de1\",\"Amount\":\"-20\"}'\n",
      " '{\"Id\":\"330bd7a52a5cbb370f237a59aef8a48a\",\"Amount\":\"-10\"}'\n",
      " '{\"Id\":\"327874f2ab93494082e5ed15bc7f1365\",\"Amount\":\"-20\"}'\n",
      " '{\"Id\":\"329244637ab2dda8aa7fa16b1d124599\",\"Amount\":\"-10\"}'\n",
      " '{\"Id\":\"ca0216784ea27370db642f70d23a1ea0\",\"Amount\":\"-24.29\"}'\n",
      " '{\"Id\":\"8dfad62ef496f31295eaf6f14662fde9\",\"Amount\":\"-20\"}'\n",
      " '{\"Id\":\"a1edd984408fb75728984ddbd5aca4c8\",\"Amount\":\"-10\"}'\n",
      " '{\"Id\":\"759266b3aa8948348b9167d4152b40ec\",\"Amount\":\"-10\"}'\n",
      " '{\"Id\":\"c47fb4262c04528b6027b4f64c227618\",\"Amount\":\"-40\"}'\n",
      " '{\"Id\":\"681a9a27035ed8fb6baafd419e06bbf2\",\"Amount\":\"-20\"}'\n",
      " '{\"Id\":\"6928758f7c8cf5c09edb72a7e3ca86f4\",\"Amount\":\"-20\"}'\n",
      " '{\"Id\":\"ae886bef41f1bee1fcb9b9d21453e1bd\",\"Amount\":\"-50\"}'\n",
      " '{\"Id\":\"f00288e0289bf7240835ff2fa7e2dec2\",\"Amount\":\"-20\"}'\n",
      " '{\"Id\":\"8b43371aa9ca1ba9f2027c5db6e83438\",\"Amount\":\"-6.17\"}'\n",
      " '{\"Id\":\"23dbb16faaa3fa8b5e71873bc2019ad7\",\"Amount\":\"-20\"}'\n",
      " '{\"Id\":\"7b7632be9cad73c564c2f58c4d82ae33\",\"Amount\":\"-34.79\"}'\n",
      " '{\"Id\":\"81e1cde78cc4c68eff133c34c228ad32\",\"Amount\":\"-20\"}'\n",
      " '{\"Id\":\"65540f23d6b27044ae38292dc8d96e40\",\"Amount\":\"-18.35\"}'\n",
      " '{\"Id\":\"c393edb16ea62bb388b40aaa403692c7\",\"Amount\":\"-15.94\"}'\n",
      " '{\"Id\":\"988623b2afe555a1ee3f51bacbcbf064\",\"Amount\":\"-8.14\"}'\n",
      " '{\"Id\":\"64c5ef169ff3654dd1a5413e260ced7c\",\"Amount\":\"-20\"}'\n",
      " '{\"Id\":\"052ba99232fe3c50eef480d6fb6f362b\",\"Amount\":\"-50\"}'\n",
      " '{\"Id\":\"dfd49addde7e9c6587df3a1633e46ae1\",\"Amount\":\"-20\"}'\n",
      " '{\"Id\":\"c60ec833618c100200f9d563ac816d53\",\"Amount\":\"-27.99\"}'\n",
      " '{\"Id\":\"17145833ab666170bc6225f835532a81\",\"Amount\":\"-20\"}'\n",
      " '{\"Id\":\"26d1815b978e98724b7b98aa132b9a29\",\"Amount\":\"-10\"}'\n",
      " '{\"Id\":\"ffa17017e78d166c92265aa97d515dd3\",\"Amount\":\"-50\"}'\n",
      " '{\"Id\":\"4ab58a188b83c986e52042ed1d1d6fa8\",\"Amount\":\"-20\"}'\n",
      " '{\"Id\":\"805a091b36d044e78410a34173becd7f\",\"Amount\":\"-27.99\"}'\n",
      " '{\"Id\":\"954909c3d8e06eb10be9a6e688d933a2\",\"Amount\":\"-20\"}'\n",
      " '{\"Id\":\"3857f1c2e0c0df4b42c3d0cb7839908e\",\"Amount\":\"-20\"}'\n",
      " '{\"Id\":\"1c552859b06a1dba5f68b871a0c17016\",\"Amount\":\"-20\"}'\n",
      " '{\"Id\":\"6a3110ac738c5eb75cfb1ff72839da15\",\"Amount\":\"-22.73\"}'\n",
      " '{\"Id\":\"ebc7b7a62ab968796c5cf758a0e83182\",\"Amount\":\"-20\"}'\n",
      " '{\"Id\":\"4f3c6f5ea897b5006f9e80984e10454e\",\"Amount\":\"-5.26\"}'\n",
      " '{\"Id\":\"8fb90395f21af9e4760f84d555b83968\",\"Amount\":\"-10\"}'\n",
      " '{\"Id\":\"3c8b2b7ed2b8063f51eb31d70ed00e26\",\"Amount\":\"-20\"}'\n",
      " '{\"Id\":\"2e47bf350f766c32d3ff2bed4e90e7bb\",\"Amount\":\"-10\"}'] \n",
      "\n",
      "Email Confirmation Success \n",
      " ['{\"Required\":\"true\"}' '{}'] \n",
      "\n",
      "Account Setup Skip \n",
      " ['{}'] \n",
      "\n",
      "Subscription Premium \n",
      " ['{\"Start Date\":\"2022-01-16\",\"Renewal Date\":\"2022-02-17\",\"Membership Type\":\"Monthly\"}'\n",
      " '{\"Start Date\":\"2022-01-15\",\"Renewal Date\":\"2022-02-16\",\"Membership Type\":\"Monthly\"}'\n",
      " '{\"Start Date\":\"2022-01-17\",\"Renewal Date\":\"2022-02-18\",\"Membership Type\":\"Monthly\"}'\n",
      " '{\"Start Date\":\"2022-01-18\",\"Renewal Date\":\"2022-02-19\",\"Membership Type\":\"Monthly\"}'\n",
      " '{\"Start Date\":\"2022-01-19\",\"Renewal Date\":\"2022-02-20\",\"Membership Type\":\"Monthly\"}'\n",
      " '{\"Start Date\":\"2022-01-20\",\"Renewal Date\":\"2022-02-21\",\"Membership Type\":\"Monthly\"}'\n",
      " '{\"Start Date\":\"2022-01-21\",\"Renewal Date\":\"2022-02-22\",\"Membership Type\":\"Monthly\"}'\n",
      " '{\"Start Date\":\"2022-01-22\",\"Renewal Date\":\"2022-02-23\",\"Membership Type\":\"Monthly\"}'\n",
      " '{\"Start Date\":\"2022-01-23\",\"Renewal Date\":\"2022-02-24\",\"Membership Type\":\"Monthly\"}'\n",
      " '{\"Start Date\":\"2022-01-25\",\"Renewal Date\":\"2022-02-26\",\"Membership Type\":\"Monthly\"}'\n",
      " '{\"Start Date\":\"2022-01-27\",\"Renewal Date\":\"2022-02-28\",\"Membership Type\":\"Monthly\"}'\n",
      " '{\"Start Date\":\"2022-01-24\",\"Renewal Date\":\"2022-02-25\",\"Membership Type\":\"Monthly\"}'\n",
      " '{\"Start Date\":\"2022-01-29\",\"Renewal Date\":\"2022-03-01\",\"Membership Type\":\"Monthly\"}'\n",
      " '{\"Start Date\":\"2022-01-26\",\"Renewal Date\":\"2022-02-27\",\"Membership Type\":\"Monthly\"}'\n",
      " '{\"Start Date\":\"2022-01-31\",\"Renewal Date\":\"2022-03-01\",\"Membership Type\":\"Monthly\"}'\n",
      " '{\"Start Date\":\"2022-02-01\",\"Renewal Date\":\"2022-03-02\",\"Membership Type\":\"Monthly\"}'\n",
      " '{\"Start Date\":\"2022-01-28\",\"Renewal Date\":\"2022-03-01\",\"Membership Type\":\"Monthly\"}'\n",
      " '{\"Start Date\":\"2022-02-02\",\"Renewal Date\":\"2022-03-03\",\"Membership Type\":\"Monthly\"}'\n",
      " '{\"Start Date\":\"2022-02-03\",\"Renewal Date\":\"2022-03-04\",\"Membership Type\":\"Monthly\"}'\n",
      " '{\"Start Date\":\"2022-02-04\",\"Renewal Date\":\"2022-03-05\",\"Membership Type\":\"Monthly\"}'\n",
      " '{\"Start Date\":\"2022-02-05\",\"Renewal Date\":\"2022-03-06\",\"Membership Type\":\"Monthly\"}'\n",
      " '{\"Start Date\":\"2022-02-06\",\"Renewal Date\":\"2022-03-07\",\"Membership Type\":\"Monthly\"}'\n",
      " '{\"Start Date\":\"2022-02-07\",\"Renewal Date\":\"2022-03-08\",\"Membership Type\":\"Monthly\"}'\n",
      " '{\"Start Date\":\"2022-02-08\",\"Renewal Date\":\"2022-03-09\",\"Membership Type\":\"Monthly\"}'\n",
      " '{\"Start Date\":\"2022-02-09\",\"Renewal Date\":\"2022-03-10\",\"Membership Type\":\"Monthly\"}'\n",
      " '{\"Start Date\":\"2022-02-10\",\"Renewal Date\":\"2022-03-11\",\"Membership Type\":\"Monthly\"}'\n",
      " '{\"Start Date\":\"2022-02-11\",\"Renewal Date\":\"2022-03-12\",\"Membership Type\":\"Monthly\"}'\n",
      " '{\"Start Date\":\"2022-02-12\",\"Renewal Date\":\"2022-03-13\",\"Membership Type\":\"Monthly\"}'\n",
      " '{\"Start Date\":\"2022-02-13\",\"Renewal Date\":\"2022-03-14\",\"Membership Type\":\"Monthly\"}'\n",
      " '{\"Start Date\":\"2022-02-14\",\"Renewal Date\":\"2022-03-15\",\"Membership Type\":\"Monthly\"}'\n",
      " '{\"Start Date\":\"2022-02-15\",\"Renewal Date\":\"2022-03-16\",\"Membership Type\":\"Monthly\"}'\n",
      " '{\"Start Date\":\"2022-02-17\",\"Renewal Date\":\"2022-03-18\",\"Membership Type\":\"Monthly\"}'\n",
      " '{\"Start Date\":\"2022-02-18\",\"Renewal Date\":\"2022-03-19\",\"Membership Type\":\"Monthly\"}'\n",
      " '{\"Start Date\":\"2022-02-19\",\"Renewal Date\":\"2022-03-20\",\"Membership Type\":\"Monthly\"}'\n",
      " '{\"Start Date\":\"2022-02-16\",\"Renewal Date\":\"2022-03-17\",\"Membership Type\":\"Monthly\"}'\n",
      " '{\"Start Date\":\"2022-02-20\",\"Renewal Date\":\"2022-03-21\",\"Membership Type\":\"Monthly\"}'\n",
      " '{\"Start Date\":\"2022-02-21\",\"Renewal Date\":\"2022-03-22\",\"Membership Type\":\"Monthly\"}'\n",
      " '{\"Start Date\":\"2022-02-22\",\"Renewal Date\":\"2022-03-23\",\"Membership Type\":\"Monthly\"}'\n",
      " '{\"Start Date\":\"2022-02-23\",\"Renewal Date\":\"2022-03-24\",\"Membership Type\":\"Monthly\"}'\n",
      " '{\"Start Date\":\"2022-02-24\",\"Renewal Date\":\"2022-03-25\",\"Membership Type\":\"Monthly\"}'\n",
      " '{\"Start Date\":\"2022-02-25\",\"Renewal Date\":\"2022-03-26\",\"Membership Type\":\"Monthly\"}'\n",
      " '{\"Start Date\":\"2022-02-26\",\"Renewal Date\":\"2022-03-27\",\"Membership Type\":\"Monthly\"}'\n",
      " '{\"Start Date\":\"2022-02-27\",\"Renewal Date\":\"2022-03-28\",\"Membership Type\":\"Monthly\"}'\n",
      " '{\"Start Date\":\"2022-02-28\",\"Renewal Date\":\"2022-04-01\",\"Membership Type\":\"Monthly\"}'\n",
      " '{\"Start Date\":\"2022-03-01\",\"Renewal Date\":\"2022-04-02\",\"Membership Type\":\"Monthly\"}'\n",
      " '{\"Start Date\":\"2022-03-02\",\"Renewal Date\":\"2022-04-03\",\"Membership Type\":\"Monthly\"}'\n",
      " '{\"Start Date\":\"2022-03-03\",\"Renewal Date\":\"2022-04-04\",\"Membership Type\":\"Monthly\"}'\n",
      " '{\"Start Date\":\"2022-03-04\",\"Renewal Date\":\"2022-04-05\",\"Membership Type\":\"Monthly\"}'\n",
      " '{\"Start Date\":\"2022-03-05\",\"Renewal Date\":\"2022-04-06\",\"Membership Type\":\"Monthly\"}'\n",
      " '{\"Start Date\":\"2022-03-06\",\"Renewal Date\":\"2022-04-07\",\"Membership Type\":\"Monthly\"}'\n",
      " '{\"Start Date\":\"2022-03-07\",\"Renewal Date\":\"2022-04-08\",\"Membership Type\":\"Monthly\"}'\n",
      " '{\"Start Date\":\"2022-03-08\",\"Renewal Date\":\"2022-04-09\",\"Membership Type\":\"Monthly\"}'\n",
      " '{\"Start Date\":\"2022-03-09\",\"Renewal Date\":\"2022-04-10\",\"Membership Type\":\"Monthly\"}'\n",
      " '{\"Start Date\":\"2022-03-10\",\"Renewal Date\":\"2022-04-11\",\"Membership Type\":\"Monthly\"}'\n",
      " '{\"Start Date\":\"2022-03-11\",\"Renewal Date\":\"2022-04-12\",\"Membership Type\":\"Monthly\"}'\n",
      " '{\"Start Date\":\"2022-03-12\",\"Renewal Date\":\"2022-04-13\",\"Membership Type\":\"Monthly\"}'\n",
      " '{\"Start Date\":\"2022-03-13\",\"Renewal Date\":\"2022-04-14\",\"Membership Type\":\"Monthly\"}'\n",
      " '{\"Start Date\":\"2022-03-14\",\"Renewal Date\":\"2022-04-15\",\"Membership Type\":\"Monthly\"}'\n",
      " '{\"Start Date\":\"2022-03-15\",\"Renewal Date\":\"2022-04-16\",\"Membership Type\":\"Monthly\"}'\n",
      " '{\"Start Date\":\"2022-03-16\",\"Renewal Date\":\"2022-04-17\",\"Membership Type\":\"Monthly\"}'\n",
      " '{\"Start Date\":\"2022-03-17\",\"Renewal Date\":\"2022-04-18\",\"Membership Type\":\"Monthly\"}'\n",
      " '{\"Start Date\":\"2022-03-18\",\"Renewal Date\":\"2022-04-19\",\"Membership Type\":\"Monthly\"}'\n",
      " '{\"Start Date\":\"2022-03-19\",\"Renewal Date\":\"2022-04-20\",\"Membership Type\":\"Monthly\"}'\n",
      " '{\"Start Date\":\"2022-03-20\",\"Renewal Date\":\"2022-04-21\",\"Membership Type\":\"Monthly\"}'\n",
      " '{\"Start Date\":\"2022-03-21\",\"Renewal Date\":\"2022-04-22\",\"Membership Type\":\"Monthly\"}'\n",
      " '{\"Start Date\":\"2022-03-22\",\"Renewal Date\":\"2022-04-23\",\"Membership Type\":\"Monthly\"}'\n",
      " '{\"Start Date\":\"2022-03-23\",\"Renewal Date\":\"2022-04-24\",\"Membership Type\":\"Monthly\"}'\n",
      " '{\"Start Date\":\"2022-03-24\",\"Renewal Date\":\"2022-04-25\",\"Membership Type\":\"Monthly\"}'\n",
      " '{\"Start Date\":\"2022-03-25\",\"Renewal Date\":\"2022-04-26\",\"Membership Type\":\"Monthly\"}'\n",
      " '{\"Start Date\":\"2022-03-26\",\"Renewal Date\":\"2022-04-27\",\"Membership Type\":\"Monthly\"}'\n",
      " '{\"Start Date\":\"2022-03-27\",\"Renewal Date\":\"2022-04-28\",\"Membership Type\":\"Monthly\"}'\n",
      " '{\"Start Date\":\"2022-03-28\",\"Renewal Date\":\"2022-04-29\",\"Membership Type\":\"Monthly\"}'\n",
      " '{\"Start Date\":\"2022-03-29\",\"Renewal Date\":\"2022-04-30\",\"Membership Type\":\"Monthly\"}'\n",
      " '{\"Start Date\":\"2022-03-30\",\"Renewal Date\":\"2022-05-01\",\"Membership Type\":\"Monthly\"}'\n",
      " '{\"Start Date\":\"2022-03-31\",\"Renewal Date\":\"2022-05-01\",\"Membership Type\":\"Monthly\"}'\n",
      " '{\"Start Date\":\"2022-04-01\",\"Renewal Date\":\"2022-05-02\",\"Membership Type\":\"Monthly\"}'\n",
      " '{\"Start Date\":\"2022-04-02\",\"Renewal Date\":\"2022-05-03\",\"Membership Type\":\"Monthly\"}'\n",
      " '{\"Start Date\":\"2022-04-03\",\"Renewal Date\":\"2022-05-04\",\"Membership Type\":\"Monthly\"}'\n",
      " '{\"Start Date\":\"2022-04-04\",\"Renewal Date\":\"2022-05-05\",\"Membership Type\":\"Monthly\"}'\n",
      " '{\"Start Date\":\"2022-04-05\",\"Renewal Date\":\"2022-05-06\",\"Membership Type\":\"Monthly\"}'\n",
      " '{\"Start Date\":\"2022-04-06\",\"Renewal Date\":\"2022-05-07\",\"Membership Type\":\"Monthly\"}'\n",
      " '{\"Start Date\":\"2022-04-07\",\"Renewal Date\":\"2022-05-08\",\"Membership Type\":\"Monthly\"}'\n",
      " '{\"Start Date\":\"2022-04-08\",\"Renewal Date\":\"2022-05-09\",\"Membership Type\":\"Monthly\"}'\n",
      " '{\"Start Date\":\"2022-04-09\",\"Renewal Date\":\"2022-05-10\",\"Membership Type\":\"Monthly\"}'\n",
      " '{\"Start Date\":\"2022-04-10\",\"Renewal Date\":\"2022-05-11\",\"Membership Type\":\"Monthly\"}'\n",
      " '{\"Start Date\":\"2022-04-11\",\"Renewal Date\":\"2022-05-12\",\"Membership Type\":\"Monthly\"}'\n",
      " '{\"Start Date\":\"2022-04-12\",\"Renewal Date\":\"2022-05-13\",\"Membership Type\":\"Monthly\"}'\n",
      " '{\"Start Date\":\"2022-04-13\",\"Renewal Date\":\"2022-05-14\",\"Membership Type\":\"Monthly\"}'\n",
      " '{\"Start Date\":\"2022-04-14\",\"Renewal Date\":\"2022-05-15\",\"Membership Type\":\"Monthly\"}'\n",
      " '{\"Start Date\":\"2022-04-15\",\"Renewal Date\":\"2022-05-16\",\"Membership Type\":\"Monthly\"}'\n",
      " '{\"Start Date\":\"2022-04-16\",\"Renewal Date\":\"2022-05-17\",\"Membership Type\":\"Monthly\"}'] \n",
      "\n",
      "Chat Conversation Opened \n",
      " ['{\"From\":\"Menu\"}' '{\"From\":\"Menu\",\"Transaction type\":\"\"}'\n",
      " '{\"From\":\"\",\"Transaction type\":\"\"}'\n",
      " '{\"From\":\"Transaction Details\",\"Transaction type\":\"OrderAlert\"}'\n",
      " '{\"Transaction type\":\"AutoPayment\",\"From\":\"Transaction Details\"}'\n",
      " '{\"Transaction type\":\"OrderAlert\",\"From\":\"Transaction Details\"}'\n",
      " '{\"From\":\"Transaction Details\",\"Transaction type\":\"AutoPayment\"}'\n",
      " '{\"From\":\"Transaction Details\",\"Transaction type\":\"ManualPayment\"}'\n",
      " '{\"From\":\"Deeplink\"}' '{}'\n",
      " '{\"From\":\"Transaction Details\",\"Transaction type\":\"Pro Plan Subscription\"}'\n",
      " '{\"From\":\"Deeplink\",\"Transaction type\":\"\"}'\n",
      " '{\"From\":\"Menu\",\"Transaction Type\":\"\"}'\n",
      " '{\"Transaction type\":\"ManualPayment\",\"From\":\"Transaction Details\"}'\n",
      " '{\"From\":\"Transaction Details\",\"Transaction type\":\"OrderPayment\"}'\n",
      " '{\"Transaction type\":\"Pro Plan Subscription\",\"From\":\"Transaction Details\"}'\n",
      " '{\"From\":\"Transaction Details\",\"Transaction Type\":\"Pro Plan Subscription\"}'\n",
      " '{\"Transaction type\":\"ForcedPayment\",\"From\":\"Transaction Details\"}'\n",
      " '{\"Transaction type\":\"OrderPayment\",\"From\":\"Transaction Details\"}'\n",
      " '{\"From\":\"Dashboard\",\"Transaction type\":\"\"}' '{\"From\":\"Dashboard\"}'] \n",
      "\n",
      "Account Setup Profile Skip \n",
      " ['{\"Screen\":\"Address\"}' '{\"Screen\":\"Phone Number\"}'\n",
      " '{\"Screen\":\"Address Details\"}' '{\"Screen\":\"Address details\"}'\n",
      " '{\"Screen\":\"Phone number\"}' '{\"Screen\":\"Name\"}'\n",
      " '{\"Screen\":\"Phone number exists\"}'] \n",
      "\n",
      "Account History Transaction Details \n",
      " ['{\"Type\":\"Auto Payment\",\"Navigated From\":\"account_history\"}'\n",
      " '{\"Navigated From\":\"Account History\",\"Status\":\"Pending\",\"Type\":\"Violation Transaction\"}'\n",
      " '{\"Type\":\"Pro Plan Subscription\",\"Navigated From\":\"account_history\",\"Status\":\"Paid\"}'\n",
      " '{\"Navigated From\":\"Account History\",\"Status\":\"Pending\",\"Type\":\"Forced Payment\"}'\n",
      " '{\"Navigated From\":\"Account History\",\"Status\":\"Paid\",\"Type\":\"Order\"}'\n",
      " '{\"Navigated From\":\"Account History\",\"Status\":\"Paid\",\"Type\":\"Pro Plan Subscription\"}'\n",
      " '{\"Type\":\"Pro Plan Subscription\",\"Status\":\"Paid\",\"Navigated From\":\"account_history\"}'\n",
      " '{\"Type\":\"Order\",\"Navigated From\":\"account_history\",\"Status\":\"Paid\"}'\n",
      " '{\"Navigated From\":\"Account History\",\"Status\":\"Pending\",\"Type\":\"Auto Payment\"}'\n",
      " '{\"Type\":\"Order\",\"Status\":\"Paid\",\"Navigated From\":\"account_history\"}'\n",
      " '{\"Navigated From\":\"account_history\",\"Type\":\"Pro Plan Subscription\",\"Status\":\"Paid\"}'\n",
      " '{\"Navigated From\":\"Account History\",\"Status\":\"Pending\",\"Type\":\"Manual Payment\"}'\n",
      " '{\"Navigated From\":\"Account History\",\"Status\":\"Overdue\",\"Type\":\"Order\"}'\n",
      " '{\"Navigated From\":\"Account History\",\"Status\":\"Paid\",\"Type\":\"Violation Transaction\"}'\n",
      " '{\"Type\":\"Order\",\"Status\":\"Overdue\",\"Navigated From\":\"account_history\"}'\n",
      " '{\"Type\":\"Manual Payment\",\"Navigated From\":\"account_history\"}'\n",
      " '{\"Type\":\"Order\",\"Navigated From\":\"account_history\",\"Status\":\"Overdue\"}'\n",
      " '{\"Type\":\"Forced Payment\",\"Navigated From\":\"account_history\"}'\n",
      " '{\"Type\":\"Pro Plan Subscription\",\"Navigated From\":\"account_history\",\"Status\":\"Overdue\"}'\n",
      " '{\"Navigated From\":\"Account History\",\"Status\":\"Pending\",\"Type\":\"Refund Transaction\"}'\n",
      " '{\"Type\":\"Violation Transaction\",\"Navigated From\":\"account_history\",\"Status\":\"Paid\"}'\n",
      " '{\"Navigated From\":\"account_history\",\"Status\":\"Paid\",\"Type\":\"Order\"}'\n",
      " '{\"Type\":\"Refund Transaction\",\"Navigated From\":\"account_history\"}'\n",
      " '{\"Navigated From\":\"Account History\",\"Status\":\"Pending\",\"Type\":\"Promotion\"}'\n",
      " '{\"Status\":\"Paid\",\"Type\":\"Pro Plan Subscription\",\"Navigated From\":\"account_history\"}'\n",
      " '{\"Navigated From\":\"account_history\",\"Type\":\"Order\",\"Status\":\"Overdue\"}'\n",
      " '{\"Type\":\"Pro Plan Subscription\",\"Status\":\"Overdue\",\"Navigated From\":\"account_history\"}'\n",
      " '{\"Type\":\"Violation Transaction\",\"Status\":\"Overdue\",\"Navigated From\":\"account_history\"}'\n",
      " '{\"Type\":\"Violation Transaction\",\"Navigated From\":\"account_history\",\"Status\":\"Overdue\"}'] \n",
      "\n",
      "Sign Out \n",
      " ['{\"Type\":\"Manual\"}' '{\"Type\":\"Auto\"}'] \n",
      "\n",
      "Chat Conversation Started \n",
      " ['{}'] \n",
      "\n",
      "Order \n",
      " ['{\"Premium Membership\":\"True\"}' '{\"Premium Membership\":\"False\"}'] \n",
      "\n",
      "Sign Up Error \n",
      " ['{\"Method\":\"Email\",\"Description\":\"An account with that email already exists.\"}'\n",
      " '{\"Method\":\"Google\",\"Description\":\"Cognito Unknown Error; description: Sign-in with web UI failed\"}'\n",
      " '{\"Description\":\"Email not provided\",\"Method\":\"Facebook\"}'\n",
      " '{\"Method\":\"Facebook\",\"Description\":\"Email not provided\"}'\n",
      " '{\"Method\":\"Google\",\"Description\":\"Unexpected Error\"}'] \n",
      "\n",
      "Subscription Premium Cancel \n",
      " ['{}'] \n",
      "\n",
      "Calculator Used \n",
      " ['{}' '{\"Google Map Installed\":\"true\",\"Selected Route Type\":\"One\"}'\n",
      " '{\"Google Map Installed\":\"true\",\"Selected Route Type\":\"Fastest\"}'\n",
      " '{\"Google Map Installed\":\"false\",\"Selected Route Type\":\"One\"}'\n",
      " '{\"Google Map Installed\":\"true\",\"Selected Route Type\":\"Cheapest\"}'] \n",
      "\n",
      "Subscription Premium Renew \n",
      " ['{\"Start Date\":\"2022-02-02\",\"Renewal Date\":\"2023-02-02\",\"Membership Type\":\"Yearly\"}'\n",
      " '{\"Start Date\":\"2022-02-02\",\"Renewal Date\":\"2022-03-02\",\"Membership Type\":\"Monthly\"}'\n",
      " '{\"Start Date\":\"2022-02-03\",\"Renewal Date\":\"2022-03-03\",\"Membership Type\":\"Monthly\"}'\n",
      " '{\"Start Date\":\"2022-02-04\",\"Renewal Date\":\"2023-02-04\",\"Membership Type\":\"Yearly\"}'\n",
      " '{\"Start Date\":\"2022-02-05\",\"Renewal Date\":\"2023-02-05\",\"Membership Type\":\"Yearly\"}'\n",
      " '{\"Start Date\":\"2022-02-01\",\"Renewal Date\":\"2022-03-01\",\"Membership Type\":\"Monthly\"}'\n",
      " '{\"Start Date\":\"2022-02-06\",\"Renewal Date\":\"2023-02-06\",\"Membership Type\":\"Yearly\"}'\n",
      " '{\"Start Date\":\"2022-02-07\",\"Renewal Date\":\"2023-02-07\",\"Membership Type\":\"Yearly\"}'\n",
      " '{\"Start Date\":\"2022-02-03\",\"Renewal Date\":\"2023-02-03\",\"Membership Type\":\"Yearly\"}'\n",
      " '{\"Start Date\":\"2022-02-04\",\"Renewal Date\":\"2022-03-04\",\"Membership Type\":\"Monthly\"}'\n",
      " '{\"Start Date\":\"2022-02-09\",\"Renewal Date\":\"2022-03-09\",\"Membership Type\":\"Monthly\"}'\n",
      " '{\"Start Date\":\"2022-02-09\",\"Renewal Date\":\"2023-02-09\",\"Membership Type\":\"Yearly\"}'\n",
      " '{\"Start Date\":\"2022-02-05\",\"Renewal Date\":\"2022-03-05\",\"Membership Type\":\"Monthly\"}'\n",
      " '{\"Start Date\":\"2022-02-10\",\"Renewal Date\":\"2023-02-10\",\"Membership Type\":\"Yearly\"}'\n",
      " '{\"Start Date\":\"2022-02-10\",\"Renewal Date\":\"2022-03-10\",\"Membership Type\":\"Monthly\"}'\n",
      " '{\"Start Date\":\"2022-02-06\",\"Renewal Date\":\"2022-03-06\",\"Membership Type\":\"Monthly\"}'\n",
      " '{\"Start Date\":\"2022-02-11\",\"Renewal Date\":\"2022-03-11\",\"Membership Type\":\"Monthly\"}'\n",
      " '{\"Start Date\":\"2022-02-11\",\"Renewal Date\":\"2023-02-11\",\"Membership Type\":\"Yearly\"}'\n",
      " '{\"Start Date\":\"2022-02-07\",\"Renewal Date\":\"2022-03-07\",\"Membership Type\":\"Monthly\"}'\n",
      " '{\"Start Date\":\"2022-02-12\",\"Renewal Date\":\"2023-02-12\",\"Membership Type\":\"Yearly\"}'\n",
      " '{\"Start Date\":\"2022-02-12\",\"Renewal Date\":\"2022-03-12\",\"Membership Type\":\"Monthly\"}'\n",
      " '{\"Start Date\":\"2022-02-08\",\"Renewal Date\":\"2023-02-08\",\"Membership Type\":\"Yearly\"}'\n",
      " '{\"Start Date\":\"2022-02-08\",\"Renewal Date\":\"2022-03-08\",\"Membership Type\":\"Monthly\"}'\n",
      " '{\"Start Date\":\"2022-02-13\",\"Renewal Date\":\"2022-03-13\",\"Membership Type\":\"Monthly\"}'\n",
      " '{\"Start Date\":\"2022-02-13\",\"Renewal Date\":\"2023-02-13\",\"Membership Type\":\"Yearly\"}'\n",
      " '{\"Start Date\":\"2022-02-14\",\"Renewal Date\":\"2023-02-14\",\"Membership Type\":\"Yearly\"}'\n",
      " '{\"Start Date\":\"2022-02-15\",\"Renewal Date\":\"2022-03-15\",\"Membership Type\":\"Monthly\"}'\n",
      " '{\"Start Date\":\"2022-02-16\",\"Renewal Date\":\"2023-02-16\",\"Membership Type\":\"Yearly\"}'\n",
      " '{\"Start Date\":\"2022-02-17\",\"Renewal Date\":\"2022-03-17\",\"Membership Type\":\"Monthly\"}'\n",
      " '{\"Start Date\":\"2022-02-17\",\"Renewal Date\":\"2023-02-17\",\"Membership Type\":\"Yearly\"}'\n",
      " '{\"Start Date\":\"2022-02-18\",\"Renewal Date\":\"2023-02-18\",\"Membership Type\":\"Yearly\"}'\n",
      " '{\"Start Date\":\"2022-02-14\",\"Renewal Date\":\"2022-03-14\",\"Membership Type\":\"Monthly\"}'\n",
      " '{\"Start Date\":\"2022-02-19\",\"Renewal Date\":\"2022-03-19\",\"Membership Type\":\"Monthly\"}'\n",
      " '{\"Start Date\":\"2022-02-19\",\"Renewal Date\":\"2023-02-19\",\"Membership Type\":\"Yearly\"}'\n",
      " '{\"Start Date\":\"2022-02-20\",\"Renewal Date\":\"2023-02-20\",\"Membership Type\":\"Yearly\"}'\n",
      " '{\"Start Date\":\"2022-02-18\",\"Renewal Date\":\"2022-03-18\",\"Membership Type\":\"Monthly\"}'\n",
      " '{\"Start Date\":\"2022-02-22\",\"Renewal Date\":\"2023-02-22\",\"Membership Type\":\"Yearly\"}'\n",
      " '{\"Start Date\":\"2022-02-22\",\"Renewal Date\":\"2022-03-22\",\"Membership Type\":\"Monthly\"}'\n",
      " '{\"Start Date\":\"2022-02-23\",\"Renewal Date\":\"2022-03-23\",\"Membership Type\":\"Monthly\"}'\n",
      " '{\"Start Date\":\"2022-02-23\",\"Renewal Date\":\"2023-02-23\",\"Membership Type\":\"Yearly\"}'\n",
      " '{\"Start Date\":\"2022-02-24\",\"Renewal Date\":\"2023-02-24\",\"Membership Type\":\"Yearly\"}'\n",
      " '{\"Start Date\":\"2022-02-26\",\"Renewal Date\":\"2023-02-26\",\"Membership Type\":\"Yearly\"}'\n",
      " '{\"Start Date\":\"2022-02-26\",\"Renewal Date\":\"2022-03-26\",\"Membership Type\":\"Monthly\"}'\n",
      " '{\"Start Date\":\"2022-02-21\",\"Renewal Date\":\"2023-02-21\",\"Membership Type\":\"Yearly\"}'\n",
      " '{\"Start Date\":\"2022-02-21\",\"Renewal Date\":\"2022-03-21\",\"Membership Type\":\"Monthly\"}'\n",
      " '{\"Start Date\":\"2022-03-01\",\"Renewal Date\":\"2023-03-01\",\"Membership Type\":\"Yearly\"}'\n",
      " '{\"Start Date\":\"2022-03-02\",\"Renewal Date\":\"2022-04-02\",\"Membership Type\":\"Monthly\"}'\n",
      " '{\"Start Date\":\"2022-02-24\",\"Renewal Date\":\"2022-03-24\",\"Membership Type\":\"Monthly\"}'\n",
      " '{\"Start Date\":\"2022-03-03\",\"Renewal Date\":\"2022-04-03\",\"Membership Type\":\"Monthly\"}'\n",
      " '{\"Start Date\":\"2022-03-03\",\"Renewal Date\":\"2023-03-03\",\"Membership Type\":\"Yearly\"}'\n",
      " '{\"Start Date\":\"2022-02-25\",\"Renewal Date\":\"2023-02-25\",\"Membership Type\":\"Yearly\"}'\n",
      " '{\"Start Date\":\"2022-03-04\",\"Renewal Date\":\"2022-04-04\",\"Membership Type\":\"Monthly\"}'\n",
      " '{\"Start Date\":\"2022-03-04\",\"Renewal Date\":\"2023-03-04\",\"Membership Type\":\"Yearly\"}'\n",
      " '{\"Start Date\":\"2022-03-05\",\"Renewal Date\":\"2022-04-05\",\"Membership Type\":\"Monthly\"}'\n",
      " '{\"Start Date\":\"2022-03-05\",\"Renewal Date\":\"2023-03-05\",\"Membership Type\":\"Yearly\"}'\n",
      " '{\"Start Date\":\"2022-03-06\",\"Renewal Date\":\"2023-03-06\",\"Membership Type\":\"Yearly\"}'\n",
      " '{\"Start Date\":\"2022-02-27\",\"Renewal Date\":\"2023-02-27\",\"Membership Type\":\"Yearly\"}'\n",
      " '{\"Start Date\":\"2022-02-27\",\"Renewal Date\":\"2022-03-27\",\"Membership Type\":\"Monthly\"}'\n",
      " '{\"Start Date\":\"2022-03-07\",\"Renewal Date\":\"2022-04-07\",\"Membership Type\":\"Monthly\"}'\n",
      " '{\"Start Date\":\"2022-03-01\",\"Renewal Date\":\"2022-04-01\",\"Membership Type\":\"Monthly\"}'\n",
      " '{\"Start Date\":\"2022-03-09\",\"Renewal Date\":\"2022-04-09\",\"Membership Type\":\"Monthly\"}'\n",
      " '{\"Start Date\":\"2022-03-10\",\"Renewal Date\":\"2022-04-10\",\"Membership Type\":\"Monthly\"}'\n",
      " '{\"Start Date\":\"2022-03-11\",\"Renewal Date\":\"2022-04-11\",\"Membership Type\":\"Monthly\"}'\n",
      " '{\"Start Date\":\"2022-03-06\",\"Renewal Date\":\"2022-04-06\",\"Membership Type\":\"Monthly\"}'\n",
      " '{\"Start Date\":\"2022-03-12\",\"Renewal Date\":\"2022-04-12\",\"Membership Type\":\"Monthly\"}'\n",
      " '{\"Start Date\":\"2022-03-13\",\"Renewal Date\":\"2022-04-13\",\"Membership Type\":\"Monthly\"}'\n",
      " '{\"Start Date\":\"2022-03-13\",\"Renewal Date\":\"2023-03-13\",\"Membership Type\":\"Yearly\"}'\n",
      " '{\"Start Date\":\"2022-03-14\",\"Renewal Date\":\"2022-04-14\",\"Membership Type\":\"Monthly\"}'\n",
      " '{\"Start Date\":\"2022-03-15\",\"Renewal Date\":\"2022-04-15\",\"Membership Type\":\"Monthly\"}'\n",
      " '{\"Start Date\":\"2022-03-15\",\"Renewal Date\":\"2023-03-15\",\"Membership Type\":\"Yearly\"}'\n",
      " '{\"Start Date\":\"2022-03-16\",\"Renewal Date\":\"2022-04-16\",\"Membership Type\":\"Monthly\"}'\n",
      " '{\"Start Date\":\"2022-03-17\",\"Renewal Date\":\"2022-04-17\",\"Membership Type\":\"Monthly\"}'\n",
      " '{\"Start Date\":\"2022-03-14\",\"Renewal Date\":\"2023-03-14\",\"Membership Type\":\"Yearly\"}'\n",
      " '{\"Start Date\":\"2022-03-18\",\"Renewal Date\":\"2022-04-18\",\"Membership Type\":\"Monthly\"}'\n",
      " '{\"Start Date\":\"2022-03-19\",\"Renewal Date\":\"2022-04-19\",\"Membership Type\":\"Monthly\"}'\n",
      " '{\"Start Date\":\"2022-03-19\",\"Renewal Date\":\"2023-03-19\",\"Membership Type\":\"Yearly\"}'\n",
      " '{\"Start Date\":\"2022-03-16\",\"Renewal Date\":\"2023-03-16\",\"Membership Type\":\"Yearly\"}'\n",
      " '{\"Start Date\":\"2022-03-20\",\"Renewal Date\":\"2022-04-20\",\"Membership Type\":\"Monthly\"}'\n",
      " '{\"Start Date\":\"2022-03-17\",\"Renewal Date\":\"2023-03-17\",\"Membership Type\":\"Yearly\"}'\n",
      " '{\"Start Date\":\"2022-03-22\",\"Renewal Date\":\"2022-04-22\",\"Membership Type\":\"Monthly\"}'\n",
      " '{\"Start Date\":\"2022-03-23\",\"Renewal Date\":\"2022-04-23\",\"Membership Type\":\"Monthly\"}'\n",
      " '{\"Start Date\":\"2022-03-20\",\"Renewal Date\":\"2023-03-20\",\"Membership Type\":\"Yearly\"}'\n",
      " '{\"Start Date\":\"2022-03-25\",\"Renewal Date\":\"2023-03-25\",\"Membership Type\":\"Yearly\"}'\n",
      " '{\"Start Date\":\"2022-03-25\",\"Renewal Date\":\"2022-04-25\",\"Membership Type\":\"Monthly\"}'\n",
      " '{\"Start Date\":\"2022-03-21\",\"Renewal Date\":\"2022-04-21\",\"Membership Type\":\"Monthly\"}'\n",
      " '{\"Start Date\":\"2022-03-21\",\"Renewal Date\":\"2023-03-21\",\"Membership Type\":\"Yearly\"}'\n",
      " '{\"Start Date\":\"2022-03-22\",\"Renewal Date\":\"2023-03-22\",\"Membership Type\":\"Yearly\"}'\n",
      " '{\"Start Date\":\"2022-03-26\",\"Renewal Date\":\"2022-04-26\",\"Membership Type\":\"Monthly\"}'\n",
      " '{\"Start Date\":\"2022-03-26\",\"Renewal Date\":\"2023-03-26\",\"Membership Type\":\"Yearly\"}'\n",
      " '{\"Start Date\":\"2022-03-24\",\"Renewal Date\":\"2022-04-24\",\"Membership Type\":\"Monthly\"}'\n",
      " '{\"Start Date\":\"2022-03-28\",\"Renewal Date\":\"2022-04-28\",\"Membership Type\":\"Monthly\"}'\n",
      " '{\"Start Date\":\"2022-03-27\",\"Renewal Date\":\"2022-04-27\",\"Membership Type\":\"Monthly\"}'\n",
      " '{\"Start Date\":\"2022-03-28\",\"Renewal Date\":\"2023-03-28\",\"Membership Type\":\"Yearly\"}'\n",
      " '{\"Start Date\":\"2022-04-01\",\"Renewal Date\":\"2022-05-01\",\"Membership Type\":\"Monthly\"}'\n",
      " '{\"Start Date\":\"2022-04-01\",\"Renewal Date\":\"2023-04-01\",\"Membership Type\":\"Yearly\"}'\n",
      " '{\"Start Date\":\"2022-04-02\",\"Renewal Date\":\"2022-05-02\",\"Membership Type\":\"Monthly\"}'\n",
      " '{\"Start Date\":\"2022-04-02\",\"Renewal Date\":\"2023-04-02\",\"Membership Type\":\"Yearly\"}'\n",
      " '{\"Start Date\":\"2022-04-03\",\"Renewal Date\":\"2022-05-03\",\"Membership Type\":\"Monthly\"}'\n",
      " '{\"Start Date\":\"2022-04-03\",\"Renewal Date\":\"2023-04-03\",\"Membership Type\":\"Yearly\"}'\n",
      " '{\"Start Date\":\"2022-04-04\",\"Renewal Date\":\"2022-05-04\",\"Membership Type\":\"Monthly\"}'\n",
      " '{\"Start Date\":\"2022-04-05\",\"Renewal Date\":\"2022-05-05\",\"Membership Type\":\"Monthly\"}'\n",
      " '{\"Start Date\":\"2022-04-06\",\"Renewal Date\":\"2023-04-06\",\"Membership Type\":\"Yearly\"}'\n",
      " '{\"Start Date\":\"2022-04-06\",\"Renewal Date\":\"2022-05-06\",\"Membership Type\":\"Monthly\"}'\n",
      " '{\"Start Date\":\"2022-04-07\",\"Renewal Date\":\"2022-05-07\",\"Membership Type\":\"Monthly\"}'\n",
      " '{\"Start Date\":\"2022-04-08\",\"Renewal Date\":\"2022-05-08\",\"Membership Type\":\"Monthly\"}'\n",
      " '{\"Start Date\":\"2022-04-09\",\"Renewal Date\":\"2022-05-09\",\"Membership Type\":\"Monthly\"}'\n",
      " '{\"Start Date\":\"2022-04-10\",\"Renewal Date\":\"2022-05-10\",\"Membership Type\":\"Monthly\"}'\n",
      " '{\"Start Date\":\"2022-04-10\",\"Renewal Date\":\"2023-04-10\",\"Membership Type\":\"Yearly\"}'\n",
      " '{\"Start Date\":\"2022-04-11\",\"Renewal Date\":\"2022-05-11\",\"Membership Type\":\"Monthly\"}'\n",
      " '{\"Start Date\":\"2022-04-12\",\"Renewal Date\":\"2022-05-12\",\"Membership Type\":\"Monthly\"}'\n",
      " '{\"Start Date\":\"2022-04-11\",\"Renewal Date\":\"2023-04-11\",\"Membership Type\":\"Yearly\"}'\n",
      " '{\"Start Date\":\"2022-04-12\",\"Renewal Date\":\"2023-04-12\",\"Membership Type\":\"Yearly\"}'\n",
      " '{\"Start Date\":\"2022-04-13\",\"Renewal Date\":\"2022-05-13\",\"Membership Type\":\"Monthly\"}'\n",
      " '{\"Start Date\":\"2022-04-14\",\"Renewal Date\":\"2022-05-14\",\"Membership Type\":\"Monthly\"}'\n",
      " '{\"Start Date\":\"2022-04-14\",\"Renewal Date\":\"2023-04-14\",\"Membership Type\":\"Yearly\"}'\n",
      " '{\"Start Date\":\"2022-04-15\",\"Renewal Date\":\"2022-05-15\",\"Membership Type\":\"Monthly\"}'\n",
      " '{\"Start Date\":\"2022-04-16\",\"Renewal Date\":\"2022-05-16\",\"Membership Type\":\"Monthly\"}'\n",
      " '{\"Start Date\":\"2022-04-16\",\"Renewal Date\":\"2023-04-16\",\"Membership Type\":\"Yearly\"}'\n",
      " '{\"Start Date\":\"2022-04-17\",\"Renewal Date\":\"2022-05-17\",\"Membership Type\":\"Monthly\"}'] \n",
      "\n",
      "Add Vehicle Failed \n",
      " ['{\"Error Code\":\"ERROR-NaN10\",\"Error Message\":\"The operation couldn’t be completed. (Company.ErrorResponse error 0.)\"}'\n",
      " '{\"Error Message\":\"The operation couldn’t be completed. (Company.ErrorResponse error 0.)\",\"Error Code\":\"ERROR-NaN10\"}'\n",
      " '{\"Error Message\":\"Start Date (in User Timezone) can not be less than Expected Activation Time For Rental State (2022-03-10T17:02:16.778Z)\",\"Error Code\":\"ERROR-15110\"}'] \n",
      "\n",
      "Reset Password Set \n",
      " ['{}'] \n",
      "\n"
     ]
    }
   ],
   "source": [
    "for name in event_names:\n",
    "    print(name, '\\n', data[data['event_name'] == name]['event_attributes'].unique(), '\\n')"
   ]
  },
  {
   "cell_type": "markdown",
   "id": "1ff95d27",
   "metadata": {},
   "source": [
    "1. **'Reset Password Set', 'Subscription Premium Cancel', 'Chat Conversation Started', 'Account Setup Skip', 'Wallet Opened', 'Calculator View', 'Add Vehicle Break'** columns have no attributes at all."
   ]
  },
  {
   "cell_type": "code",
   "execution_count": 30,
   "id": "ebe7afd7",
   "metadata": {},
   "outputs": [],
   "source": [
    "no_attribute_features = ['Reset Password Set',\n",
    "                             'Subscription Premium Cancel',\n",
    "                             'Chat Conversation Started',\n",
    "                             'Account Setup Skip',\n",
    "                             'Wallet Opened',\n",
    "                             'Calculator View',\n",
    "                             'Add Vehicle Break']"
   ]
  },
  {
   "cell_type": "code",
   "execution_count": 31,
   "id": "6b222c2a",
   "metadata": {},
   "outputs": [],
   "source": [
    "def extract_no_attribute_features(data):\n",
    "    for feature in no_attribute_features:\n",
    "        data.loc[data.event_name == feature, 'event_attributes'] = 1\n",
    "\n",
    "        df = pd.DataFrame()\n",
    "\n",
    "        df['userid'] = data[data['event_name'] == feature]['userid']\n",
    "\n",
    "        df = data[data['event_name'] == feature].groupby('userid').agg({'event_attributes':'sum'}).reset_index()\n",
    "\n",
    "        df.rename(columns = {'event_attributes':f'{feature.replace(\" \", \"_\").lower()}_count'}, inplace = True)\n",
    "\n",
    "        data[f'{feature.replace(\" \", \"_\").lower()}_count'] = 0\n",
    "\n",
    "        data.update(df)\n",
    "    \n",
    "    return data"
   ]
  },
  {
   "cell_type": "markdown",
   "id": "46726dec",
   "metadata": {},
   "source": [
    "2. We can see that actually error is the same for all 'Add Vehicle Failed':"
   ]
  },
  {
   "cell_type": "code",
   "execution_count": 32,
   "id": "42e32a70",
   "metadata": {},
   "outputs": [
    {
     "data": {
      "text/plain": [
       "4849     {\"Error Code\":\"ERROR-NaN10\",\"Error Message\":\"T...\n",
       "4850     {\"Error Message\":\"The operation couldn’t be co...\n",
       "4938     {\"Error Code\":\"ERROR-NaN10\",\"Error Message\":\"T...\n",
       "4939     {\"Error Code\":\"ERROR-NaN10\",\"Error Message\":\"T...\n",
       "4940     {\"Error Message\":\"The operation couldn’t be co...\n",
       "4941     {\"Error Code\":\"ERROR-NaN10\",\"Error Message\":\"T...\n",
       "4942     {\"Error Code\":\"ERROR-NaN10\",\"Error Message\":\"T...\n",
       "5755     {\"Error Code\":\"ERROR-NaN10\",\"Error Message\":\"T...\n",
       "10599    {\"Error Code\":\"ERROR-NaN10\",\"Error Message\":\"T...\n",
       "10600    {\"Error Message\":\"Start Date (in User Timezone...\n",
       "12929    {\"Error Code\":\"ERROR-NaN10\",\"Error Message\":\"T...\n",
       "12930    {\"Error Message\":\"The operation couldn’t be co...\n",
       "12931    {\"Error Code\":\"ERROR-NaN10\",\"Error Message\":\"T...\n",
       "12932    {\"Error Code\":\"ERROR-NaN10\",\"Error Message\":\"T...\n",
       "12933    {\"Error Code\":\"ERROR-NaN10\",\"Error Message\":\"T...\n",
       "12934    {\"Error Message\":\"The operation couldn’t be co...\n",
       "12936    {\"Error Message\":\"The operation couldn’t be co...\n",
       "15934    {\"Error Message\":\"The operation couldn’t be co...\n",
       "17984    {\"Error Code\":\"ERROR-NaN10\",\"Error Message\":\"T...\n",
       "17985    {\"Error Message\":\"The operation couldn’t be co...\n",
       "20866    {\"Error Message\":\"The operation couldn’t be co...\n",
       "Name: event_attributes, dtype: object"
      ]
     },
     "execution_count": 32,
     "metadata": {},
     "output_type": "execute_result"
    }
   ],
   "source": [
    "data[data['event_name'] == 'Add Vehicle Failed']['event_attributes']"
   ]
  },
  {
   "cell_type": "code",
   "execution_count": 33,
   "id": "0b01f481",
   "metadata": {},
   "outputs": [],
   "source": [
    "def extract_add_vehicle_failed(data):\n",
    "    \n",
    "    data.loc[data.event_name == 'Add Vehicle Failed', 'event_attributes'] = 1\n",
    "\n",
    "    errors_df = pd.DataFrame()\n",
    "\n",
    "    errors_df['userid'] = data[data['event_name'] == 'Add Vehicle Failed']['userid']\n",
    "\n",
    "    errors_df = data[data['event_name'] == 'Add Vehicle Failed'].groupby('userid').agg({'event_attributes':'sum'}).reset_index()\n",
    "\n",
    "    errors_df.rename(columns = {'event_attributes':'add_vehicle_errors_ERROR-NaN10_count'}, inplace = True)\n",
    "\n",
    "    data['add_vehicle_errors_ERROR-NaN10_count'] = 0\n",
    "\n",
    "    data.update(errors_df)\n",
    "    \n",
    "    return data"
   ]
  },
  {
   "cell_type": "markdown",
   "id": "fb2d2f90",
   "metadata": {},
   "source": [
    "3. There is information about subscribtion rernew duration and type in 'Subscription Premium Renew' column"
   ]
  },
  {
   "cell_type": "code",
   "execution_count": 34,
   "id": "37413df0",
   "metadata": {},
   "outputs": [
    {
     "data": {
      "text/plain": [
       "2145     {\"Start Date\":\"2022-02-02\",\"Renewal Date\":\"202...\n",
       "2146     {\"Start Date\":\"2022-02-02\",\"Renewal Date\":\"202...\n",
       "2225     {\"Start Date\":\"2022-02-03\",\"Renewal Date\":\"202...\n",
       "2226     {\"Start Date\":\"2022-02-03\",\"Renewal Date\":\"202...\n",
       "2342     {\"Start Date\":\"2022-02-04\",\"Renewal Date\":\"202...\n",
       "                               ...                        \n",
       "22767    {\"Start Date\":\"2022-04-16\",\"Renewal Date\":\"202...\n",
       "22771    {\"Start Date\":\"2022-04-16\",\"Renewal Date\":\"202...\n",
       "22772    {\"Start Date\":\"2022-04-16\",\"Renewal Date\":\"202...\n",
       "23105    {\"Start Date\":\"2022-04-17\",\"Renewal Date\":\"202...\n",
       "23107    {\"Start Date\":\"2022-04-17\",\"Renewal Date\":\"202...\n",
       "Name: event_attributes, Length: 310, dtype: object"
      ]
     },
     "execution_count": 34,
     "metadata": {},
     "output_type": "execute_result"
    }
   ],
   "source": [
    "data[data['event_name'] == 'Subscription Premium Renew']['event_attributes']"
   ]
  },
  {
   "cell_type": "markdown",
   "id": "e9977235",
   "metadata": {},
   "source": [
    "All the 'event_attributes' data has the same format, so we will define parse function:"
   ]
  },
  {
   "cell_type": "code",
   "execution_count": 35,
   "id": "d3a62fb0",
   "metadata": {},
   "outputs": [],
   "source": [
    "def parse_event_attributes(data):\n",
    "    data = data.apply(lambda row: \"\".join(\n",
    "        filter(lambda char: (char != \"{\") & (char != \"}\") & (char != \",\") & (char != \":\"), row)))\n",
    "    \n",
    "    data = data.apply(lambda row: row.split('\"'))\n",
    "    data = data.apply(lambda row: row[1::2])\n",
    "    \n",
    "    return data"
   ]
  },
  {
   "cell_type": "code",
   "execution_count": 36,
   "id": "6cc0bd15",
   "metadata": {},
   "outputs": [],
   "source": [
    "def extract_subscription_premium_renew(data):\n",
    "    renew = data[data['event_name'] == 'Subscription Premium Renew']['event_attributes']\n",
    "    \n",
    "    renew = parse_event_attributes(renew)\n",
    "    renew = renew.apply(lambda row: row[1::2])\n",
    "    \n",
    "    df = pd.DataFrame()\n",
    "    \n",
    "    df['userid'] = data[data['event_name'] == 'Subscription Premium Renew']['userid']\n",
    "    \n",
    "    df['renew_type'] = renew.apply(\n",
    "        lambda row: row[-1])\n",
    "    \n",
    "    df['renew_duration'] = renew.apply(\n",
    "        lambda row: pd.to_datetime(row[1]).value - pd.to_datetime(row[0]).value)\n",
    "    \n",
    "    df = df.groupby('userid').agg(\n",
    "        {'renew_type':'first','renew_duration':'sum'}).reset_index()\n",
    "    \n",
    "    data['renew_duration'] = 0\n",
    "    data['renew_type'] = 'None'\n",
    "    \n",
    "    data.update(df)\n",
    "    \n",
    "    return data"
   ]
  },
  {
   "cell_type": "markdown",
   "id": "4c978ad1",
   "metadata": {},
   "source": [
    "4. Extract information about 'Subscription Premium' the same way"
   ]
  },
  {
   "cell_type": "code",
   "execution_count": 37,
   "id": "ad4f3fe2",
   "metadata": {},
   "outputs": [
    {
     "data": {
      "text/plain": [
       "34       {\"Start Date\":\"2022-01-16\",\"Renewal Date\":\"202...\n",
       "85       {\"Start Date\":\"2022-01-16\",\"Renewal Date\":\"202...\n",
       "119      {\"Start Date\":\"2022-01-15\",\"Renewal Date\":\"202...\n",
       "138      {\"Start Date\":\"2022-01-15\",\"Renewal Date\":\"202...\n",
       "153      {\"Start Date\":\"2022-01-17\",\"Renewal Date\":\"202...\n",
       "                               ...                        \n",
       "23272    {\"Start Date\":\"2022-04-16\",\"Renewal Date\":\"202...\n",
       "23281    {\"Start Date\":\"2022-04-16\",\"Renewal Date\":\"202...\n",
       "23286    {\"Start Date\":\"2022-04-16\",\"Renewal Date\":\"202...\n",
       "23298    {\"Start Date\":\"2022-04-16\",\"Renewal Date\":\"202...\n",
       "23356    {\"Start Date\":\"2022-04-16\",\"Renewal Date\":\"202...\n",
       "Name: event_attributes, Length: 711, dtype: object"
      ]
     },
     "execution_count": 37,
     "metadata": {},
     "output_type": "execute_result"
    }
   ],
   "source": [
    "data[data['event_name'] == 'Subscription Premium']['event_attributes']"
   ]
  },
  {
   "cell_type": "code",
   "execution_count": 38,
   "id": "9eefde75",
   "metadata": {},
   "outputs": [],
   "source": [
    "def extract_subscription_premium(data):\n",
    "    sub = data[data['event_name'] == 'Subscription Premium']['event_attributes']\n",
    "    \n",
    "    sub = parse_event_attributes(sub)\n",
    "    sub = sub.apply(lambda row: row[1::2])\n",
    "    \n",
    "    df = pd.DataFrame()\n",
    "    \n",
    "    df['userid'] = data[data['event_name'] == 'Subscription Premium']['userid']\n",
    "    \n",
    "    df['subscription_type'] = sub.apply(\n",
    "        lambda row: row[-1])\n",
    "    \n",
    "    df['subscription_duration'] = sub.apply(\n",
    "        lambda row: pd.to_datetime(row[1]).value - pd.to_datetime(row[0]).value)\n",
    "    \n",
    "    df = df.groupby('userid').agg(\n",
    "        {'subscription_type':'first','subscription_duration':'sum'}).reset_index()\n",
    "    \n",
    "    data['subscription_duration'] = 0\n",
    "    data['subscription_type'] = 'None'\n",
    "    \n",
    "    data.update(df)\n",
    "    \n",
    "    return data"
   ]
  },
  {
   "cell_type": "markdown",
   "id": "bc501d44",
   "metadata": {},
   "source": [
    "5. 'Sign Out' can be only 'Manual' or 'Auto'"
   ]
  },
  {
   "cell_type": "code",
   "execution_count": 39,
   "id": "a4ad23cf",
   "metadata": {},
   "outputs": [
    {
     "data": {
      "text/plain": [
       "58       {\"Type\":\"Manual\"}\n",
       "250      {\"Type\":\"Manual\"}\n",
       "268        {\"Type\":\"Auto\"}\n",
       "327      {\"Type\":\"Manual\"}\n",
       "346      {\"Type\":\"Manual\"}\n",
       "               ...        \n",
       "23131      {\"Type\":\"Auto\"}\n",
       "23145    {\"Type\":\"Manual\"}\n",
       "23152      {\"Type\":\"Auto\"}\n",
       "23195      {\"Type\":\"Auto\"}\n",
       "23256    {\"Type\":\"Manual\"}\n",
       "Name: event_attributes, Length: 595, dtype: object"
      ]
     },
     "execution_count": 39,
     "metadata": {},
     "output_type": "execute_result"
    }
   ],
   "source": [
    "data[data['event_name'] == 'Sign Out']['event_attributes']"
   ]
  },
  {
   "cell_type": "code",
   "execution_count": 40,
   "id": "1665ce6e",
   "metadata": {},
   "outputs": [],
   "source": [
    "def extract_sign_out(data):\n",
    "    sign_out = data[data['event_name'] == 'Sign Out']['event_attributes']\n",
    "    \n",
    "    sign_out = parse_event_attributes(sign_out)\n",
    "    \n",
    "    df = pd.DataFrame()\n",
    "    \n",
    "    df['userid'] = data[data['event_name'] == 'Sign Out']['userid']\n",
    "    \n",
    "    df['sign_out_type'] = sign_out.apply(lambda row: row[-1])\n",
    "    \n",
    "    data['sign_out_type'] = 'None'\n",
    "    \n",
    "    data.update(df)\n",
    "    \n",
    "    return data"
   ]
  },
  {
   "cell_type": "markdown",
   "id": "24a30edb",
   "metadata": {},
   "source": [
    "6. 'Order' can have only \"Premium Membership\":\"True\" or \"Premium Membership\":\"False\" values"
   ]
  },
  {
   "cell_type": "code",
   "execution_count": 41,
   "id": "d6d74a2c",
   "metadata": {},
   "outputs": [
    {
     "data": {
      "text/plain": [
       "72       {\"Premium Membership\":\"True\"}\n",
       "73       {\"Premium Membership\":\"True\"}\n",
       "74       {\"Premium Membership\":\"True\"}\n",
       "75       {\"Premium Membership\":\"True\"}\n",
       "94       {\"Premium Membership\":\"True\"}\n",
       "                     ...              \n",
       "23335    {\"Premium Membership\":\"True\"}\n",
       "23336    {\"Premium Membership\":\"True\"}\n",
       "23337    {\"Premium Membership\":\"True\"}\n",
       "23338    {\"Premium Membership\":\"True\"}\n",
       "23339    {\"Premium Membership\":\"True\"}\n",
       "Name: event_attributes, Length: 6116, dtype: object"
      ]
     },
     "execution_count": 41,
     "metadata": {},
     "output_type": "execute_result"
    }
   ],
   "source": [
    "data[data['event_name'] == 'Order']['event_attributes']"
   ]
  },
  {
   "cell_type": "code",
   "execution_count": 42,
   "id": "25ec5a59",
   "metadata": {},
   "outputs": [],
   "source": [
    "def extract_order(data):\n",
    "    order = data[data['event_name'] == 'Order']['event_attributes']\n",
    "    \n",
    "    order = parse_event_attributes(order)\n",
    "    \n",
    "    df = pd.DataFrame()\n",
    "    \n",
    "    df['userid'] = data[data['event_name'] == 'Order']['userid']\n",
    "    \n",
    "    df['order_type'] = order.apply(lambda row: row[-1])\n",
    "    \n",
    "    data['order_type'] = 'None'\n",
    "    \n",
    "    data.update(df)\n",
    "    \n",
    "    return data"
   ]
  },
  {
   "cell_type": "markdown",
   "id": "d3f89fb2",
   "metadata": {},
   "source": [
    "7. 'Sign Up Success' categories are the values of 'Method' attribute"
   ]
  },
  {
   "cell_type": "code",
   "execution_count": 43,
   "id": "52ea2e2d",
   "metadata": {},
   "outputs": [
    {
     "data": {
      "text/plain": [
       "4         {\"Method\":\"Apple\"}\n",
       "5        {\"Method\":\"Google\"}\n",
       "6        {\"Method\":\"Google\"}\n",
       "7        {\"Method\":\"Google\"}\n",
       "9         {\"Method\":\"Apple\"}\n",
       "                ...         \n",
       "23279     {\"Method\":\"Email\"}\n",
       "23295    {\"Method\":\"Google\"}\n",
       "23301    {\"Method\":\"Google\"}\n",
       "23349     {\"Method\":\"Apple\"}\n",
       "23350     {\"Method\":\"Apple\"}\n",
       "Name: event_attributes, Length: 3329, dtype: object"
      ]
     },
     "execution_count": 43,
     "metadata": {},
     "output_type": "execute_result"
    }
   ],
   "source": [
    "data[data['event_name'] == 'Sign Up Success']['event_attributes']"
   ]
  },
  {
   "cell_type": "code",
   "execution_count": 44,
   "id": "28ab671e",
   "metadata": {},
   "outputs": [],
   "source": [
    "def extract_order(data):\n",
    "    sign_up = data[data['event_name'] == 'Sign Up Success']['event_attributes']\n",
    "    \n",
    "    sign_up = parse_event_attributes(sign_up)\n",
    "    \n",
    "    df = pd.DataFrame()\n",
    "    \n",
    "    df['userid'] = data[data['event_name'] == 'Sign Up Success']['userid']\n",
    "    \n",
    "    df['sign_up_type'] = sign_up.apply(lambda row: row[-1])\n",
    "    \n",
    "    data['sign_up_type'] = 'None'\n",
    "    \n",
    "    data.update(df)\n",
    "    \n",
    "    return data"
   ]
  },
  {
   "cell_type": "markdown",
   "id": "3fa28a43",
   "metadata": {},
   "source": [
    "8. Sum all the refunds for a specific id, otherwise 'refund_amount' is 0"
   ]
  },
  {
   "cell_type": "code",
   "execution_count": 45,
   "id": "5eff4e44",
   "metadata": {},
   "outputs": [
    {
     "data": {
      "text/plain": [
       "23       {\"Id\":\"708ee8f2012042b121be7dcdd6df256a\",\"Amou...\n",
       "476      {\"Id\":\"2d795a386ea1e02252e543886b812a9b\",\"Amou...\n",
       "479      {\"Id\":\"3064c45c1a47fcc774ff2d3071dd9f08\",\"Amou...\n",
       "517      {\"Id\":\"8b58302d81c15a27545e492bdbeee2ef\",\"Amou...\n",
       "2526     {\"Id\":\"570f2db617899393f6fe057112a4b894\",\"Amou...\n",
       "                               ...                        \n",
       "22072    {\"Id\":\"ebc7b7a62ab968796c5cf758a0e83182\",\"Amou...\n",
       "22073    {\"Id\":\"4f3c6f5ea897b5006f9e80984e10454e\",\"Amou...\n",
       "22343    {\"Id\":\"8fb90395f21af9e4760f84d555b83968\",\"Amou...\n",
       "22371    {\"Id\":\"3c8b2b7ed2b8063f51eb31d70ed00e26\",\"Amou...\n",
       "23012    {\"Id\":\"2e47bf350f766c32d3ff2bed4e90e7bb\",\"Amou...\n",
       "Name: event_attributes, Length: 102, dtype: object"
      ]
     },
     "execution_count": 45,
     "metadata": {},
     "output_type": "execute_result"
    }
   ],
   "source": [
    "data[data['event_name'] == 'Transaction Refund']['event_attributes']"
   ]
  },
  {
   "cell_type": "code",
   "execution_count": 46,
   "id": "1bada158",
   "metadata": {},
   "outputs": [],
   "source": [
    "def extract_transaction_refund(data):\n",
    "    refund = data[data['event_name'] == 'Transaction Refund']['event_attributes']\n",
    "    \n",
    "    refund = parse_event_attributes(refund)\n",
    "    refund = refund.apply(lambda row: row[1::2])\n",
    "    \n",
    "    df = pd.DataFrame()\n",
    "    \n",
    "    df['userid'] = data[data['event_name'] == 'Transaction Refund']['userid']\n",
    "    \n",
    "    df['refund_amount'] = refund.apply(lambda row: float(row[-1]))\n",
    "    \n",
    "    df = df.groupby('userid').agg({'refund_amount':'sum'}).reset_index()\n",
    "    \n",
    "    data['refund_amount'] = 0.0\n",
    "    \n",
    "    data.update(df)\n",
    "    \n",
    "    return data"
   ]
  },
  {
   "cell_type": "markdown",
   "id": "f86e6edf",
   "metadata": {},
   "source": [
    "9. 'Add Payment Method Success' is iether \"Required\":\"true\" or not"
   ]
  },
  {
   "cell_type": "code",
   "execution_count": 47,
   "id": "578c7d4f",
   "metadata": {},
   "outputs": [
    {
     "data": {
      "text/plain": [
       "25       {\"Required\":\"true\"}\n",
       "29       {\"Required\":\"true\"}\n",
       "33       {\"Required\":\"true\"}\n",
       "36       {\"Required\":\"true\"}\n",
       "53       {\"Required\":\"true\"}\n",
       "                ...         \n",
       "23142    {\"Required\":\"true\"}\n",
       "23194                     {}\n",
       "23199    {\"Required\":\"true\"}\n",
       "23247                     {}\n",
       "23258                     {}\n",
       "Name: event_attributes, Length: 853, dtype: object"
      ]
     },
     "execution_count": 47,
     "metadata": {},
     "output_type": "execute_result"
    }
   ],
   "source": [
    "data[data['event_name'] == 'Email Confirmation Success']['event_attributes']"
   ]
  },
  {
   "cell_type": "code",
   "execution_count": 48,
   "id": "af2c83e8",
   "metadata": {},
   "outputs": [],
   "source": [
    "def extract_email_confirmation(data):\n",
    "    df = pd.DataFrame()\n",
    "    \n",
    "    df['userid'] = data[data['event_name'] == 'Email Confirmation Success']['userid']\n",
    "    \n",
    "    df['email_confirmation_required'] = 1\n",
    "    \n",
    "    data['email_confirmation_required'] = 0\n",
    "    \n",
    "    data.update(df)\n",
    "    \n",
    "    return data"
   ]
  },
  {
   "cell_type": "markdown",
   "id": "67d841ed",
   "metadata": {},
   "source": [
    "10. 'Account Setup Profile Skip' attribute 'Screen' has different values"
   ]
  },
  {
   "cell_type": "code",
   "execution_count": 49,
   "id": "34673fd3",
   "metadata": {},
   "outputs": [
    {
     "data": {
      "text/plain": [
       "50               {\"Screen\":\"Address\"}\n",
       "51          {\"Screen\":\"Phone Number\"}\n",
       "136              {\"Screen\":\"Address\"}\n",
       "137         {\"Screen\":\"Phone Number\"}\n",
       "164      {\"Screen\":\"Address Details\"}\n",
       "                     ...             \n",
       "23085            {\"Screen\":\"Address\"}\n",
       "23092            {\"Screen\":\"Address\"}\n",
       "23093       {\"Screen\":\"Phone number\"}\n",
       "23353            {\"Screen\":\"Address\"}\n",
       "23354       {\"Screen\":\"Phone Number\"}\n",
       "Name: event_attributes, Length: 498, dtype: object"
      ]
     },
     "execution_count": 49,
     "metadata": {},
     "output_type": "execute_result"
    }
   ],
   "source": [
    "data[data['event_name'] == 'Account Setup Profile Skip']['event_attributes']"
   ]
  },
  {
   "cell_type": "code",
   "execution_count": 50,
   "id": "886f3b2b",
   "metadata": {},
   "outputs": [],
   "source": [
    "def extract_setup_skip(data):\n",
    "    skip = data[data['event_name'] == 'Account Setup Profile Skip']['event_attributes']\n",
    "    \n",
    "    skip = parse_event_attributes(skip)\n",
    "    skip = skip.apply(lambda row: row[1::2])\n",
    "    \n",
    "    df = pd.DataFrame()\n",
    "    \n",
    "    df['userid'] = data[data['event_name'] == 'Account Setup Profile Skip']['userid']\n",
    "    \n",
    "    df['skip_type'] = skip.apply(lambda row: row[-1])\n",
    "    \n",
    "    data['skip_type'] = 'None'\n",
    "    \n",
    "    data.update(df)\n",
    "    \n",
    "    return data"
   ]
  },
  {
   "cell_type": "markdown",
   "id": "2a63fe11",
   "metadata": {},
   "source": [
    "11. 'Sign Up Error' actual error doesn't really matter: it 'Sign Up Error' will affect the target we will expect this feature more close"
   ]
  },
  {
   "cell_type": "code",
   "execution_count": 51,
   "id": "d7704766",
   "metadata": {},
   "outputs": [],
   "source": [
    "def extract_sign_up_error(data):\n",
    "    data.loc[data.event_name == 'Sign Up Error', 'event_attributes'] = 1\n",
    "\n",
    "    errors_df = pd.DataFrame()\n",
    "\n",
    "    errors_df['userid'] = data[data['event_name'] == 'Sign Up Error']['userid']\n",
    "\n",
    "    errors_df = data[data['event_name'] == 'Sign Up Error'].groupby('userid').agg({'event_attributes':'sum'}).reset_index()\n",
    "\n",
    "    errors_df.rename(columns = {'event_attributes':'sign_up_errors_count'}, inplace = True)\n",
    "\n",
    "    data['sign_up_errors_count'] = 0\n",
    "\n",
    "    data.update(errors_df)\n",
    "    \n",
    "    return data"
   ]
  },
  {
   "cell_type": "code",
   "execution_count": 52,
   "id": "6f1f9061",
   "metadata": {},
   "outputs": [],
   "source": [
    "def extract_features(data):\n",
    "    data = extract_no_attribute_features(data)\n",
    "    \n",
    "    data = extract_add_vehicle_failed(data)\n",
    "    \n",
    "    data = extract_subscription_premium_renew(data)\n",
    "    \n",
    "    data = extract_subscription_premium(data)\n",
    "    \n",
    "    data = extract_sign_out(data)\n",
    "    \n",
    "    data = extract_order(data)\n",
    "    \n",
    "    data = extract_order(data)\n",
    "    \n",
    "    data = extract_transaction_refund(data)\n",
    "    \n",
    "    data = extract_email_confirmation(data)\n",
    "    \n",
    "    data = extract_setup_skip(data)\n",
    "    \n",
    "    data = extract_sign_up_error(data)\n",
    "    \n",
    "    return data"
   ]
  },
  {
   "cell_type": "code",
   "execution_count": 53,
   "id": "2f2ac046",
   "metadata": {},
   "outputs": [],
   "source": [
    "data = extract_features(data)"
   ]
  },
  {
   "cell_type": "code",
   "execution_count": 57,
   "id": "077a0e76",
   "metadata": {},
   "outputs": [
    {
     "data": {
      "text/html": [
       "<div>\n",
       "<style scoped>\n",
       "    .dataframe tbody tr th:only-of-type {\n",
       "        vertical-align: middle;\n",
       "    }\n",
       "\n",
       "    .dataframe tbody tr th {\n",
       "        vertical-align: top;\n",
       "    }\n",
       "\n",
       "    .dataframe thead th {\n",
       "        text-align: right;\n",
       "    }\n",
       "</style>\n",
       "<table border=\"1\" class=\"dataframe\">\n",
       "  <thead>\n",
       "    <tr style=\"text-align: right;\">\n",
       "      <th></th>\n",
       "      <th>userid</th>\n",
       "      <th>user_state</th>\n",
       "      <th>event_name</th>\n",
       "      <th>event_attributes</th>\n",
       "      <th>event_created_date</th>\n",
       "      <th>event_platform</th>\n",
       "      <th>device_manufacture</th>\n",
       "      <th>device_model</th>\n",
       "      <th>reset_password_set_count</th>\n",
       "      <th>subscription_premium_cancel_count</th>\n",
       "      <th>...</th>\n",
       "      <th>renew_duration</th>\n",
       "      <th>renew_type</th>\n",
       "      <th>subscription_duration</th>\n",
       "      <th>subscription_type</th>\n",
       "      <th>sign_out_type</th>\n",
       "      <th>sign_up_type</th>\n",
       "      <th>refund_amount</th>\n",
       "      <th>email_confirmation_required</th>\n",
       "      <th>skip_type</th>\n",
       "      <th>sign_up_errors_count</th>\n",
       "    </tr>\n",
       "  </thead>\n",
       "  <tbody>\n",
       "    <tr>\n",
       "      <th>0</th>\n",
       "      <td>055e053eb2ae911a0c115477fa53f753</td>\n",
       "      <td>CA</td>\n",
       "      <td>Add Vehicle Success</td>\n",
       "      <td>{\"Make\":\"Dodge\",\"Model\":\"Caravan\",\"Color\":\"Whi...</td>\n",
       "      <td>1642352584000000000</td>\n",
       "      <td>android</td>\n",
       "      <td>samsung</td>\n",
       "      <td>SM-N975U</td>\n",
       "      <td>1</td>\n",
       "      <td>1</td>\n",
       "      <td>...</td>\n",
       "      <td>3.153600e+16</td>\n",
       "      <td>Yearly</td>\n",
       "      <td>2.505600e+15</td>\n",
       "      <td>Monthly</td>\n",
       "      <td>None</td>\n",
       "      <td>None</td>\n",
       "      <td>-20.00</td>\n",
       "      <td>0.0</td>\n",
       "      <td>None</td>\n",
       "      <td>1</td>\n",
       "    </tr>\n",
       "    <tr>\n",
       "      <th>1</th>\n",
       "      <td>128a762fee5fa3159c49dbb4ed43ceca</td>\n",
       "      <td>CA</td>\n",
       "      <td>Add Vehicle Break</td>\n",
       "      <td>1</td>\n",
       "      <td>1642352867000000000</td>\n",
       "      <td>android</td>\n",
       "      <td>samsung</td>\n",
       "      <td>SM-N975U</td>\n",
       "      <td>0</td>\n",
       "      <td>1</td>\n",
       "      <td>...</td>\n",
       "      <td>5.097600e+15</td>\n",
       "      <td>Monthly</td>\n",
       "      <td>2.678400e+15</td>\n",
       "      <td>Monthly</td>\n",
       "      <td>None</td>\n",
       "      <td>None</td>\n",
       "      <td>-18.01</td>\n",
       "      <td>0.0</td>\n",
       "      <td>None</td>\n",
       "      <td>2</td>\n",
       "    </tr>\n",
       "    <tr>\n",
       "      <th>2</th>\n",
       "      <td>18b9953f2328fed7482dda3deb45dcf5</td>\n",
       "      <td>FL</td>\n",
       "      <td>Calculator View</td>\n",
       "      <td>1</td>\n",
       "      <td>1642353385000000000</td>\n",
       "      <td>android</td>\n",
       "      <td>samsung</td>\n",
       "      <td>SM-G973U1</td>\n",
       "      <td>0</td>\n",
       "      <td>1</td>\n",
       "      <td>...</td>\n",
       "      <td>3.153600e+16</td>\n",
       "      <td>Yearly</td>\n",
       "      <td>2.678400e+15</td>\n",
       "      <td>Monthly</td>\n",
       "      <td>None</td>\n",
       "      <td>None</td>\n",
       "      <td>-10.00</td>\n",
       "      <td>0.0</td>\n",
       "      <td>None</td>\n",
       "      <td>1</td>\n",
       "    </tr>\n",
       "    <tr>\n",
       "      <th>3</th>\n",
       "      <td>36739ce8f56bb54b2a83f3c3dc872224</td>\n",
       "      <td>CA</td>\n",
       "      <td>Add Payment Method Success</td>\n",
       "      <td>{\"Payment Method\":\"Credit\",\"Tokenized Pay\":\"\"}</td>\n",
       "      <td>1642353862000000000</td>\n",
       "      <td>android</td>\n",
       "      <td>samsung</td>\n",
       "      <td>SM-N975U</td>\n",
       "      <td>0</td>\n",
       "      <td>1</td>\n",
       "      <td>...</td>\n",
       "      <td>3.153600e+16</td>\n",
       "      <td>Yearly</td>\n",
       "      <td>2.764800e+15</td>\n",
       "      <td>Monthly</td>\n",
       "      <td>None</td>\n",
       "      <td>None</td>\n",
       "      <td>-29.99</td>\n",
       "      <td>0.0</td>\n",
       "      <td>None</td>\n",
       "      <td>1</td>\n",
       "    </tr>\n",
       "    <tr>\n",
       "      <th>4</th>\n",
       "      <td>4a9527050cada75c5494e4bf56195364</td>\n",
       "      <td>IL</td>\n",
       "      <td>Sign Up Success</td>\n",
       "      <td>{\"Method\":\"Apple\"}</td>\n",
       "      <td>1642354491000000000</td>\n",
       "      <td>ios</td>\n",
       "      <td>Apple</td>\n",
       "      <td>iPhone12,1</td>\n",
       "      <td>0</td>\n",
       "      <td>2</td>\n",
       "      <td>...</td>\n",
       "      <td>5.270400e+15</td>\n",
       "      <td>Monthly</td>\n",
       "      <td>2.505600e+15</td>\n",
       "      <td>Monthly</td>\n",
       "      <td>None</td>\n",
       "      <td>Apple</td>\n",
       "      <td>-20.00</td>\n",
       "      <td>0.0</td>\n",
       "      <td>None</td>\n",
       "      <td>2</td>\n",
       "    </tr>\n",
       "    <tr>\n",
       "      <th>...</th>\n",
       "      <td>...</td>\n",
       "      <td>...</td>\n",
       "      <td>...</td>\n",
       "      <td>...</td>\n",
       "      <td>...</td>\n",
       "      <td>...</td>\n",
       "      <td>...</td>\n",
       "      <td>...</td>\n",
       "      <td>...</td>\n",
       "      <td>...</td>\n",
       "      <td>...</td>\n",
       "      <td>...</td>\n",
       "      <td>...</td>\n",
       "      <td>...</td>\n",
       "      <td>...</td>\n",
       "      <td>...</td>\n",
       "      <td>...</td>\n",
       "      <td>...</td>\n",
       "      <td>...</td>\n",
       "      <td>...</td>\n",
       "      <td>...</td>\n",
       "    </tr>\n",
       "    <tr>\n",
       "      <th>23352</th>\n",
       "      <td>679eba26c4e75e0afb178360becfa21b</td>\n",
       "      <td>CA</td>\n",
       "      <td>Add Payment Method Success</td>\n",
       "      <td>{\"Payment Method\":\"Credit\",\"Tokenized Pay\":\"\",...</td>\n",
       "      <td>1650142164000000000</td>\n",
       "      <td>android</td>\n",
       "      <td>Google</td>\n",
       "      <td>Pixel 3a</td>\n",
       "      <td>0</td>\n",
       "      <td>0</td>\n",
       "      <td>...</td>\n",
       "      <td>0.000000e+00</td>\n",
       "      <td>None</td>\n",
       "      <td>0.000000e+00</td>\n",
       "      <td>None</td>\n",
       "      <td>None</td>\n",
       "      <td>None</td>\n",
       "      <td>0.00</td>\n",
       "      <td>0.0</td>\n",
       "      <td>None</td>\n",
       "      <td>0</td>\n",
       "    </tr>\n",
       "    <tr>\n",
       "      <th>23353</th>\n",
       "      <td>679eba26c4e75e0afb178360becfa21b</td>\n",
       "      <td>CA</td>\n",
       "      <td>Account Setup Profile Skip</td>\n",
       "      <td>{\"Screen\":\"Address\"}</td>\n",
       "      <td>1650142205000000000</td>\n",
       "      <td>android</td>\n",
       "      <td>Google</td>\n",
       "      <td>Pixel 3a</td>\n",
       "      <td>0</td>\n",
       "      <td>0</td>\n",
       "      <td>...</td>\n",
       "      <td>0.000000e+00</td>\n",
       "      <td>None</td>\n",
       "      <td>0.000000e+00</td>\n",
       "      <td>None</td>\n",
       "      <td>None</td>\n",
       "      <td>None</td>\n",
       "      <td>0.00</td>\n",
       "      <td>0.0</td>\n",
       "      <td>Address</td>\n",
       "      <td>0</td>\n",
       "    </tr>\n",
       "    <tr>\n",
       "      <th>23354</th>\n",
       "      <td>679eba26c4e75e0afb178360becfa21b</td>\n",
       "      <td>CA</td>\n",
       "      <td>Account Setup Profile Skip</td>\n",
       "      <td>{\"Screen\":\"Phone Number\"}</td>\n",
       "      <td>1650142210000000000</td>\n",
       "      <td>android</td>\n",
       "      <td>Google</td>\n",
       "      <td>Pixel 3a</td>\n",
       "      <td>0</td>\n",
       "      <td>0</td>\n",
       "      <td>...</td>\n",
       "      <td>0.000000e+00</td>\n",
       "      <td>None</td>\n",
       "      <td>0.000000e+00</td>\n",
       "      <td>None</td>\n",
       "      <td>None</td>\n",
       "      <td>None</td>\n",
       "      <td>0.00</td>\n",
       "      <td>0.0</td>\n",
       "      <td>Phone Number</td>\n",
       "      <td>0</td>\n",
       "    </tr>\n",
       "    <tr>\n",
       "      <th>23355</th>\n",
       "      <td>679eba26c4e75e0afb178360becfa21b</td>\n",
       "      <td>CA</td>\n",
       "      <td>Chat Conversation Opened</td>\n",
       "      <td>{\"From\":\"Dashboard\",\"Transaction type\":\"\"}</td>\n",
       "      <td>1650142231000000000</td>\n",
       "      <td>android</td>\n",
       "      <td>Google</td>\n",
       "      <td>Pixel 3a</td>\n",
       "      <td>0</td>\n",
       "      <td>0</td>\n",
       "      <td>...</td>\n",
       "      <td>0.000000e+00</td>\n",
       "      <td>None</td>\n",
       "      <td>0.000000e+00</td>\n",
       "      <td>None</td>\n",
       "      <td>None</td>\n",
       "      <td>None</td>\n",
       "      <td>0.00</td>\n",
       "      <td>0.0</td>\n",
       "      <td>None</td>\n",
       "      <td>0</td>\n",
       "    </tr>\n",
       "    <tr>\n",
       "      <th>23356</th>\n",
       "      <td>679eba26c4e75e0afb178360becfa21b</td>\n",
       "      <td>CA</td>\n",
       "      <td>Subscription Premium</td>\n",
       "      <td>{\"Start Date\":\"2022-04-16\",\"Renewal Date\":\"202...</td>\n",
       "      <td>1650142239000000000</td>\n",
       "      <td>android</td>\n",
       "      <td>Google</td>\n",
       "      <td>Pixel 3a</td>\n",
       "      <td>0</td>\n",
       "      <td>0</td>\n",
       "      <td>...</td>\n",
       "      <td>0.000000e+00</td>\n",
       "      <td>None</td>\n",
       "      <td>0.000000e+00</td>\n",
       "      <td>None</td>\n",
       "      <td>None</td>\n",
       "      <td>None</td>\n",
       "      <td>0.00</td>\n",
       "      <td>0.0</td>\n",
       "      <td>None</td>\n",
       "      <td>0</td>\n",
       "    </tr>\n",
       "  </tbody>\n",
       "</table>\n",
       "<p>23357 rows × 26 columns</p>\n",
       "</div>"
      ],
      "text/plain": [
       "                                 userid user_state  \\\n",
       "0      055e053eb2ae911a0c115477fa53f753         CA   \n",
       "1      128a762fee5fa3159c49dbb4ed43ceca         CA   \n",
       "2      18b9953f2328fed7482dda3deb45dcf5         FL   \n",
       "3      36739ce8f56bb54b2a83f3c3dc872224         CA   \n",
       "4      4a9527050cada75c5494e4bf56195364         IL   \n",
       "...                                 ...        ...   \n",
       "23352  679eba26c4e75e0afb178360becfa21b         CA   \n",
       "23353  679eba26c4e75e0afb178360becfa21b         CA   \n",
       "23354  679eba26c4e75e0afb178360becfa21b         CA   \n",
       "23355  679eba26c4e75e0afb178360becfa21b         CA   \n",
       "23356  679eba26c4e75e0afb178360becfa21b         CA   \n",
       "\n",
       "                       event_name  \\\n",
       "0             Add Vehicle Success   \n",
       "1               Add Vehicle Break   \n",
       "2                 Calculator View   \n",
       "3      Add Payment Method Success   \n",
       "4                 Sign Up Success   \n",
       "...                           ...   \n",
       "23352  Add Payment Method Success   \n",
       "23353  Account Setup Profile Skip   \n",
       "23354  Account Setup Profile Skip   \n",
       "23355    Chat Conversation Opened   \n",
       "23356        Subscription Premium   \n",
       "\n",
       "                                        event_attributes   event_created_date  \\\n",
       "0      {\"Make\":\"Dodge\",\"Model\":\"Caravan\",\"Color\":\"Whi...  1642352584000000000   \n",
       "1                                                      1  1642352867000000000   \n",
       "2                                                      1  1642353385000000000   \n",
       "3         {\"Payment Method\":\"Credit\",\"Tokenized Pay\":\"\"}  1642353862000000000   \n",
       "4                                     {\"Method\":\"Apple\"}  1642354491000000000   \n",
       "...                                                  ...                  ...   \n",
       "23352  {\"Payment Method\":\"Credit\",\"Tokenized Pay\":\"\",...  1650142164000000000   \n",
       "23353                               {\"Screen\":\"Address\"}  1650142205000000000   \n",
       "23354                          {\"Screen\":\"Phone Number\"}  1650142210000000000   \n",
       "23355         {\"From\":\"Dashboard\",\"Transaction type\":\"\"}  1650142231000000000   \n",
       "23356  {\"Start Date\":\"2022-04-16\",\"Renewal Date\":\"202...  1650142239000000000   \n",
       "\n",
       "      event_platform device_manufacture device_model reset_password_set_count  \\\n",
       "0            android            samsung     SM-N975U                        1   \n",
       "1            android            samsung     SM-N975U                        0   \n",
       "2            android            samsung    SM-G973U1                        0   \n",
       "3            android            samsung     SM-N975U                        0   \n",
       "4                ios              Apple   iPhone12,1                        0   \n",
       "...              ...                ...          ...                      ...   \n",
       "23352        android             Google     Pixel 3a                        0   \n",
       "23353        android             Google     Pixel 3a                        0   \n",
       "23354        android             Google     Pixel 3a                        0   \n",
       "23355        android             Google     Pixel 3a                        0   \n",
       "23356        android             Google     Pixel 3a                        0   \n",
       "\n",
       "      subscription_premium_cancel_count  ... renew_duration renew_type  \\\n",
       "0                                     1  ...   3.153600e+16     Yearly   \n",
       "1                                     1  ...   5.097600e+15    Monthly   \n",
       "2                                     1  ...   3.153600e+16     Yearly   \n",
       "3                                     1  ...   3.153600e+16     Yearly   \n",
       "4                                     2  ...   5.270400e+15    Monthly   \n",
       "...                                 ...  ...            ...        ...   \n",
       "23352                                 0  ...   0.000000e+00       None   \n",
       "23353                                 0  ...   0.000000e+00       None   \n",
       "23354                                 0  ...   0.000000e+00       None   \n",
       "23355                                 0  ...   0.000000e+00       None   \n",
       "23356                                 0  ...   0.000000e+00       None   \n",
       "\n",
       "      subscription_duration subscription_type sign_out_type sign_up_type  \\\n",
       "0              2.505600e+15           Monthly          None         None   \n",
       "1              2.678400e+15           Monthly          None         None   \n",
       "2              2.678400e+15           Monthly          None         None   \n",
       "3              2.764800e+15           Monthly          None         None   \n",
       "4              2.505600e+15           Monthly          None        Apple   \n",
       "...                     ...               ...           ...          ...   \n",
       "23352          0.000000e+00              None          None         None   \n",
       "23353          0.000000e+00              None          None         None   \n",
       "23354          0.000000e+00              None          None         None   \n",
       "23355          0.000000e+00              None          None         None   \n",
       "23356          0.000000e+00              None          None         None   \n",
       "\n",
       "       refund_amount email_confirmation_required     skip_type  \\\n",
       "0             -20.00                         0.0          None   \n",
       "1             -18.01                         0.0          None   \n",
       "2             -10.00                         0.0          None   \n",
       "3             -29.99                         0.0          None   \n",
       "4             -20.00                         0.0          None   \n",
       "...              ...                         ...           ...   \n",
       "23352           0.00                         0.0          None   \n",
       "23353           0.00                         0.0       Address   \n",
       "23354           0.00                         0.0  Phone Number   \n",
       "23355           0.00                         0.0          None   \n",
       "23356           0.00                         0.0          None   \n",
       "\n",
       "      sign_up_errors_count  \n",
       "0                        1  \n",
       "1                        2  \n",
       "2                        1  \n",
       "3                        1  \n",
       "4                        2  \n",
       "...                    ...  \n",
       "23352                    0  \n",
       "23353                    0  \n",
       "23354                    0  \n",
       "23355                    0  \n",
       "23356                    0  \n",
       "\n",
       "[23357 rows x 26 columns]"
      ]
     },
     "execution_count": 57,
     "metadata": {},
     "output_type": "execute_result"
    }
   ],
   "source": [
    "data"
   ]
  },
  {
   "cell_type": "code",
   "execution_count": 58,
   "id": "8735fae0",
   "metadata": {},
   "outputs": [
    {
     "data": {
      "text/plain": [
       "['Add Vehicle Success',\n",
       " 'Add Payment Method Success',\n",
       " 'Add Payment Method Failed',\n",
       " 'Email Confirmation Success',\n",
       " 'Chat Conversation Opened',\n",
       " 'Account History Transaction Details',\n",
       " 'Calculator Used',\n",
       " 'Subscription Premium Renew']"
      ]
     },
     "execution_count": 58,
     "metadata": {},
     "output_type": "execute_result"
    }
   ],
   "source": [
    "['Add Vehicle Success',\n",
    " 'Add Payment Method Success',\n",
    " 'Add Payment Method Failed',\n",
    " 'Email Confirmation Success',\n",
    " 'Chat Conversation Opened',\n",
    " 'Account History Transaction Details',\n",
    " 'Calculator Used',\n",
    " 'Subscription Premium Renew']"
   ]
  },
  {
   "cell_type": "code",
   "execution_count": null,
   "id": "1e933af7",
   "metadata": {},
   "outputs": [],
   "source": []
  }
 ],
 "metadata": {
  "kernelspec": {
   "display_name": "Python 3.9 (tf)",
   "language": "python",
   "name": "tensorflow"
  },
  "language_info": {
   "codemirror_mode": {
    "name": "ipython",
    "version": 3
   },
   "file_extension": ".py",
   "mimetype": "text/x-python",
   "name": "python",
   "nbconvert_exporter": "python",
   "pygments_lexer": "ipython3",
   "version": "3.9.15"
  }
 },
 "nbformat": 4,
 "nbformat_minor": 5
}
