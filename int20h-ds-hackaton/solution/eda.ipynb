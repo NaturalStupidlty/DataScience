{
 "cells": [
  {
   "cell_type": "code",
   "execution_count": 1,
   "id": "74ad7153",
   "metadata": {},
   "outputs": [
    {
     "name": "stderr",
     "output_type": "stream",
     "text": [
      "/Users/tylerdurden/miniconda3/envs/tf/lib/python3.10/site-packages/pyrosm/utils/__init__.py:8: UserWarning: Shapely 2.0 is installed, but because PyGEOS is also installed, GeoPandas will still use PyGEOS by default for now. To force to use and test Shapely 2.0, you have to set the environment variable USE_PYGEOS=0. You can do this before starting the Python process, or in your code before importing geopandas:\n",
      "\n",
      "import os\n",
      "os.environ['USE_PYGEOS'] = '0'\n",
      "import geopandas\n",
      "\n",
      "In a future release, GeoPandas will switch to using Shapely by default. If you are using PyGEOS directly (calling PyGEOS functions on geometries from GeoPandas), this will then stop working and you are encouraged to migrate from PyGEOS to Shapely 2.0 (https://shapely.readthedocs.io/en/latest/migration_pygeos.html).\n",
      "  import geopandas as gpd\n"
     ]
    }
   ],
   "source": [
    "import numpy as np\n",
    "import pandas as pd\n",
    "import matplotlib.pyplot as plt \n",
    "import seaborn as sns\n",
    "import pyrosm\n",
    "import json\n",
    "\n",
    "from tqdm import tqdm\n",
    "from sklearn.pipeline import Pipeline\n",
    "from sklearn.preprocessing import StandardScaler\n",
    "from sklearn.model_selection import train_test_split, GridSearchCV\n",
    "from sklearn.metrics import mean_absolute_error, mean_squared_error\n",
    "from sklearn.ensemble import RandomForestRegressor\n",
    "from xgboost import XGBRegressor\n",
    "from lightgbm import LGBMRegressor\n",
    "\n",
    "import warnings\n",
    "warnings.filterwarnings(\"ignore\")"
   ]
  },
  {
   "cell_type": "code",
   "execution_count": 2,
   "id": "47248bf9",
   "metadata": {},
   "outputs": [],
   "source": [
    "pd.set_option('display.max_columns', None)"
   ]
  },
  {
   "cell_type": "code",
   "execution_count": 3,
   "id": "dbf8338b",
   "metadata": {},
   "outputs": [
    {
     "data": {
      "text/html": [
       "<div>\n",
       "<style scoped>\n",
       "    .dataframe tbody tr th:only-of-type {\n",
       "        vertical-align: middle;\n",
       "    }\n",
       "\n",
       "    .dataframe tbody tr th {\n",
       "        vertical-align: top;\n",
       "    }\n",
       "\n",
       "    .dataframe thead th {\n",
       "        text-align: right;\n",
       "    }\n",
       "</style>\n",
       "<table border=\"1\" class=\"dataframe\">\n",
       "  <thead>\n",
       "    <tr style=\"text-align: right;\">\n",
       "      <th></th>\n",
       "      <th>Id</th>\n",
       "      <th>running_time</th>\n",
       "      <th>completed_time</th>\n",
       "      <th>route_distance_km</th>\n",
       "      <th>delta_time</th>\n",
       "    </tr>\n",
       "  </thead>\n",
       "  <tbody>\n",
       "    <tr>\n",
       "      <th>0</th>\n",
       "      <td>-4773019581999572651</td>\n",
       "      <td>2022-01-24 18:30:21</td>\n",
       "      <td>2022-01-24 18:44:43</td>\n",
       "      <td>3.740</td>\n",
       "      <td>862.0</td>\n",
       "    </tr>\n",
       "    <tr>\n",
       "      <th>1</th>\n",
       "      <td>-7575630690398473489</td>\n",
       "      <td>2022-01-24 06:53:53</td>\n",
       "      <td>2022-01-24 07:06:26</td>\n",
       "      <td>3.526</td>\n",
       "      <td>753.0</td>\n",
       "    </tr>\n",
       "    <tr>\n",
       "      <th>2</th>\n",
       "      <td>-6264582368520213833</td>\n",
       "      <td>2022-01-24 10:00:59</td>\n",
       "      <td>2022-01-24 10:15:58</td>\n",
       "      <td>5.071</td>\n",
       "      <td>899.0</td>\n",
       "    </tr>\n",
       "    <tr>\n",
       "      <th>3</th>\n",
       "      <td>5964315354301636538</td>\n",
       "      <td>2022-01-24 14:28:05</td>\n",
       "      <td>2022-01-24 14:35:08</td>\n",
       "      <td>2.867</td>\n",
       "      <td>423.0</td>\n",
       "    </tr>\n",
       "    <tr>\n",
       "      <th>4</th>\n",
       "      <td>1372379574816145639</td>\n",
       "      <td>2022-01-24 11:57:29</td>\n",
       "      <td>2022-01-24 12:06:29</td>\n",
       "      <td>3.751</td>\n",
       "      <td>540.0</td>\n",
       "    </tr>\n",
       "    <tr>\n",
       "      <th>...</th>\n",
       "      <td>...</td>\n",
       "      <td>...</td>\n",
       "      <td>...</td>\n",
       "      <td>...</td>\n",
       "      <td>...</td>\n",
       "    </tr>\n",
       "    <tr>\n",
       "      <th>4995</th>\n",
       "      <td>7096714159023973792</td>\n",
       "      <td>2022-01-24 21:10:38</td>\n",
       "      <td>2022-01-24 21:23:53</td>\n",
       "      <td>7.397</td>\n",
       "      <td>795.0</td>\n",
       "    </tr>\n",
       "    <tr>\n",
       "      <th>4996</th>\n",
       "      <td>-3836026425968071806</td>\n",
       "      <td>2022-01-24 15:10:27</td>\n",
       "      <td>2022-01-24 15:20:21</td>\n",
       "      <td>1.948</td>\n",
       "      <td>594.0</td>\n",
       "    </tr>\n",
       "    <tr>\n",
       "      <th>4997</th>\n",
       "      <td>2926216435675216636</td>\n",
       "      <td>2022-01-24 13:57:04</td>\n",
       "      <td>2022-01-24 14:03:18</td>\n",
       "      <td>2.547</td>\n",
       "      <td>374.0</td>\n",
       "    </tr>\n",
       "    <tr>\n",
       "      <th>4998</th>\n",
       "      <td>-6677307480063489707</td>\n",
       "      <td>2022-01-24 08:46:13</td>\n",
       "      <td>2022-01-24 08:55:34</td>\n",
       "      <td>3.013</td>\n",
       "      <td>561.0</td>\n",
       "    </tr>\n",
       "    <tr>\n",
       "      <th>4999</th>\n",
       "      <td>-4845695090750648713</td>\n",
       "      <td>2022-01-24 14:57:46</td>\n",
       "      <td>2022-01-24 15:11:25</td>\n",
       "      <td>2.323</td>\n",
       "      <td>819.0</td>\n",
       "    </tr>\n",
       "  </tbody>\n",
       "</table>\n",
       "<p>5000 rows × 5 columns</p>\n",
       "</div>"
      ],
      "text/plain": [
       "                       Id         running_time       completed_time  \\\n",
       "0    -4773019581999572651  2022-01-24 18:30:21  2022-01-24 18:44:43   \n",
       "1    -7575630690398473489  2022-01-24 06:53:53  2022-01-24 07:06:26   \n",
       "2    -6264582368520213833  2022-01-24 10:00:59  2022-01-24 10:15:58   \n",
       "3     5964315354301636538  2022-01-24 14:28:05  2022-01-24 14:35:08   \n",
       "4     1372379574816145639  2022-01-24 11:57:29  2022-01-24 12:06:29   \n",
       "...                   ...                  ...                  ...   \n",
       "4995  7096714159023973792  2022-01-24 21:10:38  2022-01-24 21:23:53   \n",
       "4996 -3836026425968071806  2022-01-24 15:10:27  2022-01-24 15:20:21   \n",
       "4997  2926216435675216636  2022-01-24 13:57:04  2022-01-24 14:03:18   \n",
       "4998 -6677307480063489707  2022-01-24 08:46:13  2022-01-24 08:55:34   \n",
       "4999 -4845695090750648713  2022-01-24 14:57:46  2022-01-24 15:11:25   \n",
       "\n",
       "      route_distance_km  delta_time  \n",
       "0                 3.740       862.0  \n",
       "1                 3.526       753.0  \n",
       "2                 5.071       899.0  \n",
       "3                 2.867       423.0  \n",
       "4                 3.751       540.0  \n",
       "...                 ...         ...  \n",
       "4995              7.397       795.0  \n",
       "4996              1.948       594.0  \n",
       "4997              2.547       374.0  \n",
       "4998              3.013       561.0  \n",
       "4999              2.323       819.0  \n",
       "\n",
       "[5000 rows x 5 columns]"
      ]
     },
     "execution_count": 3,
     "metadata": {},
     "output_type": "execute_result"
    }
   ],
   "source": [
    "train_orders = pd.read_csv('orders.csv')\n",
    "train_orders"
   ]
  },
  {
   "cell_type": "code",
   "execution_count": 4,
   "id": "46778a2e",
   "metadata": {},
   "outputs": [
    {
     "data": {
      "text/html": [
       "<div>\n",
       "<style scoped>\n",
       "    .dataframe tbody tr th:only-of-type {\n",
       "        vertical-align: middle;\n",
       "    }\n",
       "\n",
       "    .dataframe tbody tr th {\n",
       "        vertical-align: top;\n",
       "    }\n",
       "\n",
       "    .dataframe thead th {\n",
       "        text-align: right;\n",
       "    }\n",
       "</style>\n",
       "<table border=\"1\" class=\"dataframe\">\n",
       "  <thead>\n",
       "    <tr style=\"text-align: right;\">\n",
       "      <th></th>\n",
       "      <th>Id</th>\n",
       "      <th>node_start</th>\n",
       "      <th>node_finish</th>\n",
       "      <th>distance</th>\n",
       "      <th>speed</th>\n",
       "    </tr>\n",
       "  </thead>\n",
       "  <tbody>\n",
       "    <tr>\n",
       "      <th>0</th>\n",
       "      <td>-2627062893189810184</td>\n",
       "      <td>10980432</td>\n",
       "      <td>2133368107</td>\n",
       "      <td>17.414917</td>\n",
       "      <td>32.0</td>\n",
       "    </tr>\n",
       "    <tr>\n",
       "      <th>1</th>\n",
       "      <td>-2627062893189810184</td>\n",
       "      <td>10980433</td>\n",
       "      <td>5212387954</td>\n",
       "      <td>17.186539</td>\n",
       "      <td>26.0</td>\n",
       "    </tr>\n",
       "    <tr>\n",
       "      <th>2</th>\n",
       "      <td>-2627062893189810184</td>\n",
       "      <td>10980445</td>\n",
       "      <td>5221700954</td>\n",
       "      <td>28.513481</td>\n",
       "      <td>26.0</td>\n",
       "    </tr>\n",
       "    <tr>\n",
       "      <th>3</th>\n",
       "      <td>-2627062893189810184</td>\n",
       "      <td>10980498</td>\n",
       "      <td>10980445</td>\n",
       "      <td>154.266122</td>\n",
       "      <td>25.0</td>\n",
       "    </tr>\n",
       "    <tr>\n",
       "      <th>4</th>\n",
       "      <td>-2627062893189810184</td>\n",
       "      <td>10980647</td>\n",
       "      <td>1986137911</td>\n",
       "      <td>8.542824</td>\n",
       "      <td>29.0</td>\n",
       "    </tr>\n",
       "    <tr>\n",
       "      <th>...</th>\n",
       "      <td>...</td>\n",
       "      <td>...</td>\n",
       "      <td>...</td>\n",
       "      <td>...</td>\n",
       "      <td>...</td>\n",
       "    </tr>\n",
       "    <tr>\n",
       "      <th>480286</th>\n",
       "      <td>-8229597404562288405</td>\n",
       "      <td>8952439761</td>\n",
       "      <td>317189358</td>\n",
       "      <td>4.847930</td>\n",
       "      <td>23.0</td>\n",
       "    </tr>\n",
       "    <tr>\n",
       "      <th>480287</th>\n",
       "      <td>-8229597404562288405</td>\n",
       "      <td>8952439762</td>\n",
       "      <td>8952439761</td>\n",
       "      <td>131.325685</td>\n",
       "      <td>26.0</td>\n",
       "    </tr>\n",
       "    <tr>\n",
       "      <th>480288</th>\n",
       "      <td>-8229597404562288405</td>\n",
       "      <td>8952439763</td>\n",
       "      <td>8952439762</td>\n",
       "      <td>44.026544</td>\n",
       "      <td>38.0</td>\n",
       "    </tr>\n",
       "    <tr>\n",
       "      <th>480289</th>\n",
       "      <td>-8229597404562288405</td>\n",
       "      <td>8952439764</td>\n",
       "      <td>8952439763</td>\n",
       "      <td>0.111226</td>\n",
       "      <td>34.0</td>\n",
       "    </tr>\n",
       "    <tr>\n",
       "      <th>480290</th>\n",
       "      <td>-8229597404562288405</td>\n",
       "      <td>8952478769</td>\n",
       "      <td>4768348532</td>\n",
       "      <td>91.817457</td>\n",
       "      <td>27.0</td>\n",
       "    </tr>\n",
       "  </tbody>\n",
       "</table>\n",
       "<p>480291 rows × 5 columns</p>\n",
       "</div>"
      ],
      "text/plain": [
       "                         Id  node_start  node_finish    distance  speed\n",
       "0      -2627062893189810184    10980432   2133368107   17.414917   32.0\n",
       "1      -2627062893189810184    10980433   5212387954   17.186539   26.0\n",
       "2      -2627062893189810184    10980445   5221700954   28.513481   26.0\n",
       "3      -2627062893189810184    10980498     10980445  154.266122   25.0\n",
       "4      -2627062893189810184    10980647   1986137911    8.542824   29.0\n",
       "...                     ...         ...          ...         ...    ...\n",
       "480286 -8229597404562288405  8952439761    317189358    4.847930   23.0\n",
       "480287 -8229597404562288405  8952439762   8952439761  131.325685   26.0\n",
       "480288 -8229597404562288405  8952439763   8952439762   44.026544   38.0\n",
       "480289 -8229597404562288405  8952439764   8952439763    0.111226   34.0\n",
       "480290 -8229597404562288405  8952478769   4768348532   91.817457   27.0\n",
       "\n",
       "[480291 rows x 5 columns]"
      ]
     },
     "execution_count": 4,
     "metadata": {},
     "output_type": "execute_result"
    }
   ],
   "source": [
    "nodes = pd.read_csv('nodes_train.csv')\n",
    "nodes"
   ]
  },
  {
   "cell_type": "code",
   "execution_count": 5,
   "id": "4ec4ec45",
   "metadata": {},
   "outputs": [
    {
     "name": "stdout",
     "output_type": "stream",
     "text": [
      "<class 'pandas.core.frame.DataFrame'>\n",
      "RangeIndex: 5000 entries, 0 to 4999\n",
      "Data columns (total 5 columns):\n",
      " #   Column             Non-Null Count  Dtype  \n",
      "---  ------             --------------  -----  \n",
      " 0   Id                 5000 non-null   int64  \n",
      " 1   running_time       5000 non-null   object \n",
      " 2   completed_time     5000 non-null   object \n",
      " 3   route_distance_km  5000 non-null   float64\n",
      " 4   delta_time         5000 non-null   float64\n",
      "dtypes: float64(2), int64(1), object(2)\n",
      "memory usage: 195.4+ KB\n"
     ]
    }
   ],
   "source": [
    "train_orders.info()"
   ]
  },
  {
   "cell_type": "code",
   "execution_count": 6,
   "id": "b414aae2",
   "metadata": {},
   "outputs": [
    {
     "name": "stdout",
     "output_type": "stream",
     "text": [
      "<class 'pandas.core.frame.DataFrame'>\n",
      "RangeIndex: 480291 entries, 0 to 480290\n",
      "Data columns (total 5 columns):\n",
      " #   Column       Non-Null Count   Dtype  \n",
      "---  ------       --------------   -----  \n",
      " 0   Id           480291 non-null  int64  \n",
      " 1   node_start   480291 non-null  int64  \n",
      " 2   node_finish  480291 non-null  int64  \n",
      " 3   distance     480291 non-null  float64\n",
      " 4   speed        476307 non-null  float64\n",
      "dtypes: float64(2), int64(3)\n",
      "memory usage: 18.3 MB\n"
     ]
    }
   ],
   "source": [
    "nodes.info()"
   ]
  },
  {
   "cell_type": "markdown",
   "id": "0afcd2c1",
   "metadata": {},
   "source": [
    "## Geodata"
   ]
  },
  {
   "cell_type": "code",
   "execution_count": 7,
   "id": "38297fe5",
   "metadata": {},
   "outputs": [
    {
     "ename": "AttributeError",
     "evalue": "module 'numpy' has no attribute 'float'.\n`np.float` was a deprecated alias for the builtin `float`. To avoid this error in existing code, use `float` by itself. Doing this will not modify any behavior and is safe. If you specifically wanted the numpy scalar type, use `np.float64` here.\nThe aliases was originally deprecated in NumPy 1.20; for more details and guidance see the original release note at:\n    https://numpy.org/devdocs/release/1.20.0-notes.html#deprecations",
     "output_type": "error",
     "traceback": [
      "\u001b[0;31m---------------------------------------------------------------------------\u001b[0m",
      "\u001b[0;31mAttributeError\u001b[0m                            Traceback (most recent call last)",
      "Cell \u001b[0;32mIn[7], line 2\u001b[0m\n\u001b[1;32m      1\u001b[0m osm \u001b[38;5;241m=\u001b[39m pyrosm\u001b[38;5;241m.\u001b[39mOSM(filepath\u001b[38;5;241m=\u001b[39m\u001b[38;5;124m'\u001b[39m\u001b[38;5;124m../odessa_oblast-latest.osm.pbf\u001b[39m\u001b[38;5;124m'\u001b[39m)\n\u001b[0;32m----> 2\u001b[0m drive_net \u001b[38;5;241m=\u001b[39m \u001b[43mosm\u001b[49m\u001b[38;5;241;43m.\u001b[39;49m\u001b[43mget_network\u001b[49m\u001b[43m(\u001b[49m\u001b[43mnetwork_type\u001b[49m\u001b[38;5;241;43m=\u001b[39;49m\u001b[38;5;124;43m\"\u001b[39;49m\u001b[38;5;124;43mdriving\u001b[39;49m\u001b[38;5;124;43m\"\u001b[39;49m\u001b[43m,\u001b[49m\u001b[43m \u001b[49m\u001b[43mnodes\u001b[49m\u001b[38;5;241;43m=\u001b[39;49m\u001b[38;5;28;43;01mTrue\u001b[39;49;00m\u001b[43m)\u001b[49m\n\u001b[1;32m      4\u001b[0m geodata \u001b[38;5;241m=\u001b[39m drive_net[\u001b[38;5;241m1\u001b[39m]\n",
      "File \u001b[0;32m~/miniconda3/envs/tf/lib/python3.10/site-packages/pyrosm/pyrosm.py:205\u001b[0m, in \u001b[0;36mOSM.get_network\u001b[0;34m(self, network_type, extra_attributes, nodes)\u001b[0m\n\u001b[1;32m    202\u001b[0m     \u001b[38;5;28mself\u001b[39m\u001b[38;5;241m.\u001b[39m_read_pbf()\n\u001b[1;32m    204\u001b[0m \u001b[38;5;66;03m# Filter network data with given filter\u001b[39;00m\n\u001b[0;32m--> 205\u001b[0m edges, node_gdf \u001b[38;5;241m=\u001b[39m \u001b[43mget_network_data\u001b[49m\u001b[43m(\u001b[49m\n\u001b[1;32m    206\u001b[0m \u001b[43m    \u001b[49m\u001b[38;5;28;43mself\u001b[39;49m\u001b[38;5;241;43m.\u001b[39;49m\u001b[43m_node_coordinates\u001b[49m\u001b[43m,\u001b[49m\n\u001b[1;32m    207\u001b[0m \u001b[43m    \u001b[49m\u001b[38;5;28;43mself\u001b[39;49m\u001b[38;5;241;43m.\u001b[39;49m\u001b[43m_way_records\u001b[49m\u001b[43m,\u001b[49m\n\u001b[1;32m    208\u001b[0m \u001b[43m    \u001b[49m\u001b[43mtags_as_columns\u001b[49m\u001b[43m,\u001b[49m\n\u001b[1;32m    209\u001b[0m \u001b[43m    \u001b[49m\u001b[43mnetwork_filter\u001b[49m\u001b[43m,\u001b[49m\n\u001b[1;32m    210\u001b[0m \u001b[43m    \u001b[49m\u001b[38;5;28;43mself\u001b[39;49m\u001b[38;5;241;43m.\u001b[39;49m\u001b[43mbounding_box\u001b[49m\u001b[43m,\u001b[49m\n\u001b[1;32m    211\u001b[0m \u001b[43m    \u001b[49m\u001b[43mslice_to_segments\u001b[49m\u001b[38;5;241;43m=\u001b[39;49m\u001b[43mnodes\u001b[49m\u001b[43m,\u001b[49m\n\u001b[1;32m    212\u001b[0m \u001b[43m\u001b[49m\u001b[43m)\u001b[49m\n\u001b[1;32m    214\u001b[0m \u001b[38;5;28;01mif\u001b[39;00m edges \u001b[38;5;129;01mis\u001b[39;00m \u001b[38;5;129;01mnot\u001b[39;00m \u001b[38;5;28;01mNone\u001b[39;00m:\n\u001b[1;32m    215\u001b[0m     \u001b[38;5;66;03m# Add metadata\u001b[39;00m\n\u001b[1;32m    216\u001b[0m     edges\u001b[38;5;241m.\u001b[39m_metadata\u001b[38;5;241m.\u001b[39mappend(network_type)\n",
      "File \u001b[0;32m~/miniconda3/envs/tf/lib/python3.10/site-packages/pyrosm/networks.py:37\u001b[0m, in \u001b[0;36mget_network_data\u001b[0;34m(node_coordinates, way_records, tags_as_columns, network_filter, bounding_box, slice_to_segments)\u001b[0m\n\u001b[1;32m     34\u001b[0m     \u001b[38;5;28;01mreturn\u001b[39;00m \u001b[38;5;28;01mNone\u001b[39;00m, \u001b[38;5;28;01mNone\u001b[39;00m\n\u001b[1;32m     36\u001b[0m \u001b[38;5;66;03m# Prepare GeoDataFrame\u001b[39;00m\n\u001b[0;32m---> 37\u001b[0m edges, nodes \u001b[38;5;241m=\u001b[39m \u001b[43mprepare_geodataframe\u001b[49m\u001b[43m(\u001b[49m\n\u001b[1;32m     38\u001b[0m \u001b[43m    \u001b[49m\u001b[43mnodes\u001b[49m\u001b[43m,\u001b[49m\n\u001b[1;32m     39\u001b[0m \u001b[43m    \u001b[49m\u001b[43mnode_coordinates\u001b[49m\u001b[43m,\u001b[49m\n\u001b[1;32m     40\u001b[0m \u001b[43m    \u001b[49m\u001b[43mways\u001b[49m\u001b[43m,\u001b[49m\n\u001b[1;32m     41\u001b[0m \u001b[43m    \u001b[49m\u001b[43mrelations\u001b[49m\u001b[43m,\u001b[49m\n\u001b[1;32m     42\u001b[0m \u001b[43m    \u001b[49m\u001b[43mrelation_ways\u001b[49m\u001b[43m,\u001b[49m\n\u001b[1;32m     43\u001b[0m \u001b[43m    \u001b[49m\u001b[43mtags_as_columns\u001b[49m\u001b[43m,\u001b[49m\n\u001b[1;32m     44\u001b[0m \u001b[43m    \u001b[49m\u001b[43mbounding_box\u001b[49m\u001b[43m,\u001b[49m\n\u001b[1;32m     45\u001b[0m \u001b[43m    \u001b[49m\u001b[43mparse_network\u001b[49m\u001b[38;5;241;43m=\u001b[39;49m\u001b[38;5;28;43;01mTrue\u001b[39;49;00m\u001b[43m,\u001b[49m\n\u001b[1;32m     46\u001b[0m \u001b[43m    \u001b[49m\u001b[43mcalculate_seg_lengths\u001b[49m\u001b[38;5;241;43m=\u001b[39;49m\u001b[43mslice_to_segments\u001b[49m\u001b[43m,\u001b[49m\n\u001b[1;32m     47\u001b[0m \u001b[43m\u001b[49m\u001b[43m)\u001b[49m\n\u001b[1;32m     49\u001b[0m \u001b[38;5;28;01mreturn\u001b[39;00m edges, nodes\n",
      "File \u001b[0;32m~/miniconda3/envs/tf/lib/python3.10/site-packages/pyrosm/frames.pyx:134\u001b[0m, in \u001b[0;36mpyrosm.frames.prepare_geodataframe\u001b[0;34m()\u001b[0m\n",
      "File \u001b[0;32m~/miniconda3/envs/tf/lib/python3.10/site-packages/pyrosm/frames.pyx:141\u001b[0m, in \u001b[0;36mpyrosm.frames.prepare_geodataframe\u001b[0;34m()\u001b[0m\n",
      "File \u001b[0;32m~/miniconda3/envs/tf/lib/python3.10/site-packages/pyrosm/frames.pyx:54\u001b[0m, in \u001b[0;36mpyrosm.frames.prepare_way_gdf\u001b[0;34m()\u001b[0m\n",
      "File \u001b[0;32m~/miniconda3/envs/tf/lib/python3.10/site-packages/pyrosm/geometry.pyx:431\u001b[0m, in \u001b[0;36mpyrosm.geometry.create_way_geometries\u001b[0;34m()\u001b[0m\n",
      "File \u001b[0;32m~/miniconda3/envs/tf/lib/python3.10/site-packages/pyrosm/geometry.pyx:405\u001b[0m, in \u001b[0;36mpyrosm.geometry._create_way_geometries\u001b[0;34m()\u001b[0m\n",
      "File \u001b[0;32m~/miniconda3/envs/tf/lib/python3.10/site-packages/pyrosm/geometry.pyx:330\u001b[0m, in \u001b[0;36mpyrosm.geometry.create_linestring_geometry\u001b[0;34m()\u001b[0m\n",
      "File \u001b[0;32m~/miniconda3/envs/tf/lib/python3.10/site-packages/pyrosm/geometry.pyx:312\u001b[0m, in \u001b[0;36mpyrosm.geometry.create_linestring_geometry\u001b[0;34m()\u001b[0m\n",
      "File \u001b[0;32m~/miniconda3/envs/tf/lib/python3.10/site-packages/numpy/__init__.py:305\u001b[0m, in \u001b[0;36m__getattr__\u001b[0;34m(attr)\u001b[0m\n\u001b[1;32m    300\u001b[0m     warnings\u001b[38;5;241m.\u001b[39mwarn(\n\u001b[1;32m    301\u001b[0m         \u001b[38;5;124mf\u001b[39m\u001b[38;5;124m\"\u001b[39m\u001b[38;5;124mIn the future `np.\u001b[39m\u001b[38;5;132;01m{\u001b[39;00mattr\u001b[38;5;132;01m}\u001b[39;00m\u001b[38;5;124m` will be defined as the \u001b[39m\u001b[38;5;124m\"\u001b[39m\n\u001b[1;32m    302\u001b[0m         \u001b[38;5;124m\"\u001b[39m\u001b[38;5;124mcorresponding NumPy scalar.\u001b[39m\u001b[38;5;124m\"\u001b[39m, \u001b[38;5;167;01mFutureWarning\u001b[39;00m, stacklevel\u001b[38;5;241m=\u001b[39m\u001b[38;5;241m2\u001b[39m)\n\u001b[1;32m    304\u001b[0m \u001b[38;5;28;01mif\u001b[39;00m attr \u001b[38;5;129;01min\u001b[39;00m __former_attrs__:\n\u001b[0;32m--> 305\u001b[0m     \u001b[38;5;28;01mraise\u001b[39;00m \u001b[38;5;167;01mAttributeError\u001b[39;00m(__former_attrs__[attr])\n\u001b[1;32m    307\u001b[0m \u001b[38;5;66;03m# Importing Tester requires importing all of UnitTest which is not a\u001b[39;00m\n\u001b[1;32m    308\u001b[0m \u001b[38;5;66;03m# cheap import Since it is mainly used in test suits, we lazy import it\u001b[39;00m\n\u001b[1;32m    309\u001b[0m \u001b[38;5;66;03m# here to save on the order of 10 ms of import time for most users\u001b[39;00m\n\u001b[1;32m    310\u001b[0m \u001b[38;5;66;03m#\u001b[39;00m\n\u001b[1;32m    311\u001b[0m \u001b[38;5;66;03m# The previous way Tester was imported also had a side effect of adding\u001b[39;00m\n\u001b[1;32m    312\u001b[0m \u001b[38;5;66;03m# the full `numpy.testing` namespace\u001b[39;00m\n\u001b[1;32m    313\u001b[0m \u001b[38;5;28;01mif\u001b[39;00m attr \u001b[38;5;241m==\u001b[39m \u001b[38;5;124m'\u001b[39m\u001b[38;5;124mtesting\u001b[39m\u001b[38;5;124m'\u001b[39m:\n",
      "\u001b[0;31mAttributeError\u001b[0m: module 'numpy' has no attribute 'float'.\n`np.float` was a deprecated alias for the builtin `float`. To avoid this error in existing code, use `float` by itself. Doing this will not modify any behavior and is safe. If you specifically wanted the numpy scalar type, use `np.float64` here.\nThe aliases was originally deprecated in NumPy 1.20; for more details and guidance see the original release note at:\n    https://numpy.org/devdocs/release/1.20.0-notes.html#deprecations"
     ]
    }
   ],
   "source": [
    "osm = pyrosm.OSM(filepath='../odessa_oblast-latest.osm.pbf')\n",
    "drive_net = osm.get_network(network_type=\"driving\", nodes=True)\n",
    "\n",
    "geodata = drive_net[1]"
   ]
  },
  {
   "cell_type": "code",
   "execution_count": null,
   "id": "19b7ddde",
   "metadata": {},
   "outputs": [],
   "source": [
    "geodata.info()"
   ]
  },
  {
   "cell_type": "code",
   "execution_count": null,
   "id": "90784745",
   "metadata": {
    "scrolled": false
   },
   "outputs": [],
   "source": [
    "drive_net[1]"
   ]
  },
  {
   "cell_type": "code",
   "execution_count": 11,
   "id": "6954db97",
   "metadata": {},
   "outputs": [],
   "source": [
    "unique_start_nodes = pd.DataFrame(nodes['node_start'].unique(), columns=['unique_start_nodes'])\n",
    "unique_finish_nodes = pd.DataFrame(nodes['node_finish'].unique(), columns=['unique_finish_nodes'])"
   ]
  },
  {
   "cell_type": "code",
   "execution_count": 13,
   "id": "94271622",
   "metadata": {},
   "outputs": [
    {
     "ename": "TypeError",
     "evalue": "'LineString' object is not subscriptable",
     "output_type": "error",
     "traceback": [
      "\u001b[0;31m---------------------------------------------------------------------------\u001b[0m",
      "\u001b[0;31mTypeError\u001b[0m                                 Traceback (most recent call last)",
      "Cell \u001b[0;32mIn[13], line 4\u001b[0m\n\u001b[1;32m      1\u001b[0m \u001b[38;5;28;01mfrom\u001b[39;00m \u001b[38;5;21;01mshapely\u001b[39;00m\u001b[38;5;21;01m.\u001b[39;00m\u001b[38;5;21;01mgeometry\u001b[39;00m \u001b[38;5;28;01mimport\u001b[39;00m LineString\n\u001b[1;32m      2\u001b[0m lats_start \u001b[38;5;241m=\u001b[39m \u001b[43munique_start_nodes\u001b[49m\u001b[38;5;241;43m.\u001b[39;49m\u001b[43mmerge\u001b[49m\u001b[43m(\u001b[49m\u001b[43mgeodata\u001b[49m\u001b[43m,\u001b[49m\n\u001b[1;32m      3\u001b[0m \u001b[43m                         \u001b[49m\u001b[43mleft_on\u001b[49m\u001b[38;5;241;43m=\u001b[39;49m\u001b[38;5;124;43m'\u001b[39;49m\u001b[38;5;124;43munique_start_nodes\u001b[39;49m\u001b[38;5;124;43m'\u001b[39;49m\u001b[43m,\u001b[49m\n\u001b[0;32m----> 4\u001b[0m \u001b[43m                         \u001b[49m\u001b[43mright_on\u001b[49m\u001b[38;5;241;43m=\u001b[39;49m\u001b[38;5;124;43m'\u001b[39;49m\u001b[38;5;124;43mu\u001b[39;49m\u001b[38;5;124;43m'\u001b[39;49m\u001b[43m)\u001b[49m\u001b[43m[\u001b[49m\u001b[38;5;124;43m'\u001b[39;49m\u001b[38;5;124;43mgeometry\u001b[39;49m\u001b[38;5;124;43m'\u001b[39;49m\u001b[43m]\u001b[49m\u001b[38;5;241;43m.\u001b[39;49m\u001b[43mapply\u001b[49m\u001b[43m(\u001b[49m\u001b[43mnp\u001b[49m\u001b[38;5;241;43m.\u001b[39;49m\u001b[43marray\u001b[49m\u001b[43m)\u001b[49m\u001b[38;5;241;43m.\u001b[39;49m\u001b[43mapply\u001b[49m\u001b[43m(\u001b[49m\u001b[38;5;28;43;01mlambda\u001b[39;49;00m\u001b[43m \u001b[49m\u001b[43mx\u001b[49m\u001b[43m:\u001b[49m\u001b[43m \u001b[49m\u001b[43mx\u001b[49m\u001b[43m[\u001b[49m\u001b[38;5;241;43m0\u001b[39;49m\u001b[43m,\u001b[49m\u001b[43m \u001b[49m\u001b[38;5;241;43m1\u001b[39;49m\u001b[43m]\u001b[49m\u001b[43m)\u001b[49m\n\u001b[1;32m      6\u001b[0m longs_start \u001b[38;5;241m=\u001b[39m unique_start_nodes\u001b[38;5;241m.\u001b[39mmerge(geodata,\n\u001b[1;32m      7\u001b[0m                          left_on\u001b[38;5;241m=\u001b[39m\u001b[38;5;124m'\u001b[39m\u001b[38;5;124munique_start_nodes\u001b[39m\u001b[38;5;124m'\u001b[39m,\n\u001b[1;32m      8\u001b[0m                          right_on\u001b[38;5;241m=\u001b[39m\u001b[38;5;124m'\u001b[39m\u001b[38;5;124mu\u001b[39m\u001b[38;5;124m'\u001b[39m)[\u001b[38;5;124m'\u001b[39m\u001b[38;5;124mgeometry\u001b[39m\u001b[38;5;124m'\u001b[39m]\u001b[38;5;241m.\u001b[39mapply(np\u001b[38;5;241m.\u001b[39marray)\u001b[38;5;241m.\u001b[39mapply(\u001b[38;5;28;01mlambda\u001b[39;00m x: x[\u001b[38;5;241m0\u001b[39m, \u001b[38;5;241m0\u001b[39m])\n\u001b[1;32m     10\u001b[0m lats_finish \u001b[38;5;241m=\u001b[39m unique_finish_nodes\u001b[38;5;241m.\u001b[39mmerge(geodata,\n\u001b[1;32m     11\u001b[0m                          left_on\u001b[38;5;241m=\u001b[39m\u001b[38;5;124m'\u001b[39m\u001b[38;5;124munique_finish_nodes\u001b[39m\u001b[38;5;124m'\u001b[39m,\n\u001b[1;32m     12\u001b[0m                          right_on\u001b[38;5;241m=\u001b[39m\u001b[38;5;124m'\u001b[39m\u001b[38;5;124mv\u001b[39m\u001b[38;5;124m'\u001b[39m)[\u001b[38;5;124m'\u001b[39m\u001b[38;5;124mgeometry\u001b[39m\u001b[38;5;124m'\u001b[39m]\u001b[38;5;241m.\u001b[39mapply(np\u001b[38;5;241m.\u001b[39marray)\u001b[38;5;241m.\u001b[39mapply(\u001b[38;5;28;01mlambda\u001b[39;00m x: x[\u001b[38;5;241m0\u001b[39m, \u001b[38;5;241m1\u001b[39m])\n",
      "File \u001b[0;32m~/miniconda3/envs/tf/lib/python3.10/site-packages/pandas/core/series.py:4771\u001b[0m, in \u001b[0;36mSeries.apply\u001b[0;34m(self, func, convert_dtype, args, **kwargs)\u001b[0m\n\u001b[1;32m   4661\u001b[0m \u001b[38;5;28;01mdef\u001b[39;00m \u001b[38;5;21mapply\u001b[39m(\n\u001b[1;32m   4662\u001b[0m     \u001b[38;5;28mself\u001b[39m,\n\u001b[1;32m   4663\u001b[0m     func: AggFuncType,\n\u001b[0;32m   (...)\u001b[0m\n\u001b[1;32m   4666\u001b[0m     \u001b[38;5;241m*\u001b[39m\u001b[38;5;241m*\u001b[39mkwargs,\n\u001b[1;32m   4667\u001b[0m ) \u001b[38;5;241m-\u001b[39m\u001b[38;5;241m>\u001b[39m DataFrame \u001b[38;5;241m|\u001b[39m Series:\n\u001b[1;32m   4668\u001b[0m \u001b[38;5;250m    \u001b[39m\u001b[38;5;124;03m\"\"\"\u001b[39;00m\n\u001b[1;32m   4669\u001b[0m \u001b[38;5;124;03m    Invoke function on values of Series.\u001b[39;00m\n\u001b[1;32m   4670\u001b[0m \n\u001b[0;32m   (...)\u001b[0m\n\u001b[1;32m   4769\u001b[0m \u001b[38;5;124;03m    dtype: float64\u001b[39;00m\n\u001b[1;32m   4770\u001b[0m \u001b[38;5;124;03m    \"\"\"\u001b[39;00m\n\u001b[0;32m-> 4771\u001b[0m     \u001b[38;5;28;01mreturn\u001b[39;00m \u001b[43mSeriesApply\u001b[49m\u001b[43m(\u001b[49m\u001b[38;5;28;43mself\u001b[39;49m\u001b[43m,\u001b[49m\u001b[43m \u001b[49m\u001b[43mfunc\u001b[49m\u001b[43m,\u001b[49m\u001b[43m \u001b[49m\u001b[43mconvert_dtype\u001b[49m\u001b[43m,\u001b[49m\u001b[43m \u001b[49m\u001b[43margs\u001b[49m\u001b[43m,\u001b[49m\u001b[43m \u001b[49m\u001b[43mkwargs\u001b[49m\u001b[43m)\u001b[49m\u001b[38;5;241;43m.\u001b[39;49m\u001b[43mapply\u001b[49m\u001b[43m(\u001b[49m\u001b[43m)\u001b[49m\n",
      "File \u001b[0;32m~/miniconda3/envs/tf/lib/python3.10/site-packages/pandas/core/apply.py:1123\u001b[0m, in \u001b[0;36mSeriesApply.apply\u001b[0;34m(self)\u001b[0m\n\u001b[1;32m   1120\u001b[0m     \u001b[38;5;28;01mreturn\u001b[39;00m \u001b[38;5;28mself\u001b[39m\u001b[38;5;241m.\u001b[39mapply_str()\n\u001b[1;32m   1122\u001b[0m \u001b[38;5;66;03m# self.f is Callable\u001b[39;00m\n\u001b[0;32m-> 1123\u001b[0m \u001b[38;5;28;01mreturn\u001b[39;00m \u001b[38;5;28;43mself\u001b[39;49m\u001b[38;5;241;43m.\u001b[39;49m\u001b[43mapply_standard\u001b[49m\u001b[43m(\u001b[49m\u001b[43m)\u001b[49m\n",
      "File \u001b[0;32m~/miniconda3/envs/tf/lib/python3.10/site-packages/pandas/core/apply.py:1174\u001b[0m, in \u001b[0;36mSeriesApply.apply_standard\u001b[0;34m(self)\u001b[0m\n\u001b[1;32m   1172\u001b[0m     \u001b[38;5;28;01melse\u001b[39;00m:\n\u001b[1;32m   1173\u001b[0m         values \u001b[38;5;241m=\u001b[39m obj\u001b[38;5;241m.\u001b[39mastype(\u001b[38;5;28mobject\u001b[39m)\u001b[38;5;241m.\u001b[39m_values\n\u001b[0;32m-> 1174\u001b[0m         mapped \u001b[38;5;241m=\u001b[39m \u001b[43mlib\u001b[49m\u001b[38;5;241;43m.\u001b[39;49m\u001b[43mmap_infer\u001b[49m\u001b[43m(\u001b[49m\n\u001b[1;32m   1175\u001b[0m \u001b[43m            \u001b[49m\u001b[43mvalues\u001b[49m\u001b[43m,\u001b[49m\n\u001b[1;32m   1176\u001b[0m \u001b[43m            \u001b[49m\u001b[43mf\u001b[49m\u001b[43m,\u001b[49m\n\u001b[1;32m   1177\u001b[0m \u001b[43m            \u001b[49m\u001b[43mconvert\u001b[49m\u001b[38;5;241;43m=\u001b[39;49m\u001b[38;5;28;43mself\u001b[39;49m\u001b[38;5;241;43m.\u001b[39;49m\u001b[43mconvert_dtype\u001b[49m\u001b[43m,\u001b[49m\n\u001b[1;32m   1178\u001b[0m \u001b[43m        \u001b[49m\u001b[43m)\u001b[49m\n\u001b[1;32m   1180\u001b[0m \u001b[38;5;28;01mif\u001b[39;00m \u001b[38;5;28mlen\u001b[39m(mapped) \u001b[38;5;129;01mand\u001b[39;00m \u001b[38;5;28misinstance\u001b[39m(mapped[\u001b[38;5;241m0\u001b[39m], ABCSeries):\n\u001b[1;32m   1181\u001b[0m     \u001b[38;5;66;03m# GH#43986 Need to do list(mapped) in order to get treated as nested\u001b[39;00m\n\u001b[1;32m   1182\u001b[0m     \u001b[38;5;66;03m#  See also GH#25959 regarding EA support\u001b[39;00m\n\u001b[1;32m   1183\u001b[0m     \u001b[38;5;28;01mreturn\u001b[39;00m obj\u001b[38;5;241m.\u001b[39m_constructor_expanddim(\u001b[38;5;28mlist\u001b[39m(mapped), index\u001b[38;5;241m=\u001b[39mobj\u001b[38;5;241m.\u001b[39mindex)\n",
      "File \u001b[0;32m~/miniconda3/envs/tf/lib/python3.10/site-packages/pandas/_libs/lib.pyx:2924\u001b[0m, in \u001b[0;36mpandas._libs.lib.map_infer\u001b[0;34m()\u001b[0m\n",
      "Cell \u001b[0;32mIn[13], line 4\u001b[0m, in \u001b[0;36m<lambda>\u001b[0;34m(x)\u001b[0m\n\u001b[1;32m      1\u001b[0m \u001b[38;5;28;01mfrom\u001b[39;00m \u001b[38;5;21;01mshapely\u001b[39;00m\u001b[38;5;21;01m.\u001b[39;00m\u001b[38;5;21;01mgeometry\u001b[39;00m \u001b[38;5;28;01mimport\u001b[39;00m LineString\n\u001b[1;32m      2\u001b[0m lats_start \u001b[38;5;241m=\u001b[39m unique_start_nodes\u001b[38;5;241m.\u001b[39mmerge(geodata,\n\u001b[1;32m      3\u001b[0m                          left_on\u001b[38;5;241m=\u001b[39m\u001b[38;5;124m'\u001b[39m\u001b[38;5;124munique_start_nodes\u001b[39m\u001b[38;5;124m'\u001b[39m,\n\u001b[0;32m----> 4\u001b[0m                          right_on\u001b[38;5;241m=\u001b[39m\u001b[38;5;124m'\u001b[39m\u001b[38;5;124mu\u001b[39m\u001b[38;5;124m'\u001b[39m)[\u001b[38;5;124m'\u001b[39m\u001b[38;5;124mgeometry\u001b[39m\u001b[38;5;124m'\u001b[39m]\u001b[38;5;241m.\u001b[39mapply(np\u001b[38;5;241m.\u001b[39marray)\u001b[38;5;241m.\u001b[39mapply(\u001b[38;5;28;01mlambda\u001b[39;00m x: \u001b[43mx\u001b[49m\u001b[43m[\u001b[49m\u001b[38;5;241;43m0\u001b[39;49m\u001b[43m,\u001b[49m\u001b[43m \u001b[49m\u001b[38;5;241;43m1\u001b[39;49m\u001b[43m]\u001b[49m)\n\u001b[1;32m      6\u001b[0m longs_start \u001b[38;5;241m=\u001b[39m unique_start_nodes\u001b[38;5;241m.\u001b[39mmerge(geodata,\n\u001b[1;32m      7\u001b[0m                          left_on\u001b[38;5;241m=\u001b[39m\u001b[38;5;124m'\u001b[39m\u001b[38;5;124munique_start_nodes\u001b[39m\u001b[38;5;124m'\u001b[39m,\n\u001b[1;32m      8\u001b[0m                          right_on\u001b[38;5;241m=\u001b[39m\u001b[38;5;124m'\u001b[39m\u001b[38;5;124mu\u001b[39m\u001b[38;5;124m'\u001b[39m)[\u001b[38;5;124m'\u001b[39m\u001b[38;5;124mgeometry\u001b[39m\u001b[38;5;124m'\u001b[39m]\u001b[38;5;241m.\u001b[39mapply(np\u001b[38;5;241m.\u001b[39marray)\u001b[38;5;241m.\u001b[39mapply(\u001b[38;5;28;01mlambda\u001b[39;00m x: x[\u001b[38;5;241m0\u001b[39m, \u001b[38;5;241m0\u001b[39m])\n\u001b[1;32m     10\u001b[0m lats_finish \u001b[38;5;241m=\u001b[39m unique_finish_nodes\u001b[38;5;241m.\u001b[39mmerge(geodata,\n\u001b[1;32m     11\u001b[0m                          left_on\u001b[38;5;241m=\u001b[39m\u001b[38;5;124m'\u001b[39m\u001b[38;5;124munique_finish_nodes\u001b[39m\u001b[38;5;124m'\u001b[39m,\n\u001b[1;32m     12\u001b[0m                          right_on\u001b[38;5;241m=\u001b[39m\u001b[38;5;124m'\u001b[39m\u001b[38;5;124mv\u001b[39m\u001b[38;5;124m'\u001b[39m)[\u001b[38;5;124m'\u001b[39m\u001b[38;5;124mgeometry\u001b[39m\u001b[38;5;124m'\u001b[39m]\u001b[38;5;241m.\u001b[39mapply(np\u001b[38;5;241m.\u001b[39marray)\u001b[38;5;241m.\u001b[39mapply(\u001b[38;5;28;01mlambda\u001b[39;00m x: x[\u001b[38;5;241m0\u001b[39m, \u001b[38;5;241m1\u001b[39m])\n",
      "\u001b[0;31mTypeError\u001b[0m: 'LineString' object is not subscriptable"
     ]
    }
   ],
   "source": [
    "lats_start = unique_start_nodes.merge(geodata,\n",
    "                         left_on='unique_start_nodes',\n",
    "                         right_on='u')['geometry'].apply(np.array).apply(lambda x: x[0, 1])\n",
    "\n",
    "longs_start = unique_start_nodes.merge(geodata,\n",
    "                         left_on='unique_start_nodes',\n",
    "                         right_on='u')['geometry'].apply(np.array).apply(lambda x: x[0, 0])\n",
    "\n",
    "lats_finish = unique_finish_nodes.merge(geodata,\n",
    "                         left_on='unique_finish_nodes',\n",
    "                         right_on='v')['geometry'].apply(np.array).apply(lambda x: x[0, 1])\n",
    "\n",
    "longs_finish = unique_finish_nodes.merge(geodata,\n",
    "                         left_on='unique_finish_nodes',\n",
    "                         right_on='v')['geometry'].apply(np.array).apply(lambda x: x[0, 0])"
   ]
  },
  {
   "cell_type": "code",
   "execution_count": 12,
   "id": "411abc2f",
   "metadata": {},
   "outputs": [
    {
     "ename": "NameError",
     "evalue": "name 'longs_start' is not defined",
     "output_type": "error",
     "traceback": [
      "\u001b[0;31m---------------------------------------------------------------------------\u001b[0m",
      "\u001b[0;31mNameError\u001b[0m                                 Traceback (most recent call last)",
      "Cell \u001b[0;32mIn[12], line 1\u001b[0m\n\u001b[0;32m----> 1\u001b[0m plt\u001b[38;5;241m.\u001b[39mscatter(\u001b[43mlongs_start\u001b[49m, lats_start, s\u001b[38;5;241m=\u001b[39m\u001b[38;5;241m0.005\u001b[39m, c\u001b[38;5;241m=\u001b[39m\u001b[38;5;124m'\u001b[39m\u001b[38;5;124mred\u001b[39m\u001b[38;5;124m'\u001b[39m)\n",
      "\u001b[0;31mNameError\u001b[0m: name 'longs_start' is not defined"
     ]
    }
   ],
   "source": [
    "plt.scatter(longs_start, lats_start, s=0.005, c='red')"
   ]
  },
  {
   "cell_type": "code",
   "execution_count": null,
   "id": "a8abbaad",
   "metadata": {},
   "outputs": [],
   "source": [
    "plt.scatter(longs_finish, lats_finish, s=0.005, c='blue')"
   ]
  },
  {
   "cell_type": "code",
   "execution_count": null,
   "id": "32f7b816",
   "metadata": {},
   "outputs": [],
   "source": [
    "unique_nodes = nodes.groupby(['node_start', 'node_finish']).count().reset_index()[['node_start', 'node_finish']]\n",
    "unique_nodes_geodata = unique_nodes.merge(geodata, left_on=['node_start', 'node_finish'], right_on=['u', 'v'])"
   ]
  },
  {
   "cell_type": "code",
   "execution_count": null,
   "id": "2739618b",
   "metadata": {
    "scrolled": true
   },
   "outputs": [],
   "source": [
    "# need to do something with data shit\n",
    "unique_nodes_geodata = pd.concat((unique_nodes_geodata,\n",
    "                                  unique_nodes.merge(geodata, left_on=['node_finish', 'node_start'], right_on=['u', 'v'])),\n",
    "                                 axis=0).reset_index()"
   ]
  },
  {
   "cell_type": "code",
   "execution_count": null,
   "id": "0ec74d91",
   "metadata": {},
   "outputs": [],
   "source": [
    "unique_nodes_geodata"
   ]
  },
  {
   "cell_type": "code",
   "execution_count": null,
   "id": "ad8295d3",
   "metadata": {},
   "outputs": [],
   "source": [
    "def parse(keys, dataframe):\n",
    "    for key in keys:\n",
    "        dataframe[key] = None"
   ]
  },
  {
   "cell_type": "code",
   "execution_count": null,
   "id": "dfe472f4",
   "metadata": {},
   "outputs": [],
   "source": [
    "unique_nodes_geodata['tags'] = unique_nodes_geodata['tags'].apply(lambda row: {} if row == None else json.loads(row))"
   ]
  },
  {
   "cell_type": "code",
   "execution_count": null,
   "id": "54747d3c",
   "metadata": {},
   "outputs": [],
   "source": [
    "unique_nodes_geodata['tags'].apply(lambda row: parse(row.keys(), unique_nodes_geodata))"
   ]
  },
  {
   "cell_type": "code",
   "execution_count": null,
   "id": "f44871b9",
   "metadata": {},
   "outputs": [],
   "source": [
    "unique_nodes_geodata"
   ]
  },
  {
   "cell_type": "code",
   "execution_count": null,
   "id": "dc00961a",
   "metadata": {},
   "outputs": [],
   "source": [
    "for i in tqdm(unique_nodes_geodata.index):\n",
    "    for key in unique_nodes_geodata['tags'].loc[i].keys():\n",
    "        unique_nodes_geodata[key].loc[i] = unique_nodes_geodata['tags'].loc[i][key]"
   ]
  },
  {
   "cell_type": "code",
   "execution_count": null,
   "id": "f1597e30",
   "metadata": {},
   "outputs": [],
   "source": [
    "# we need to drop some columns here...\n",
    "unique_nodes_geodata"
   ]
  },
  {
   "cell_type": "code",
   "execution_count": null,
   "id": "ce6f1e76",
   "metadata": {},
   "outputs": [],
   "source": [
    "nodes_and_geodata = nodes.merge(unique_nodes_geodata,\n",
    "                                left_on=['node_start', 'node_finish'],\n",
    "                                right_on=['node_start', 'node_finish'])"
   ]
  },
  {
   "cell_type": "code",
   "execution_count": null,
   "id": "7b3c956c",
   "metadata": {},
   "outputs": [],
   "source": [
    "# ...or here\n",
    "nodes_and_geodata"
   ]
  },
  {
   "cell_type": "code",
   "execution_count": null,
   "id": "81be4339",
   "metadata": {},
   "outputs": [],
   "source": [
    "nodes_and_geodata.shape"
   ]
  },
  {
   "cell_type": "code",
   "execution_count": null,
   "id": "47d44c99",
   "metadata": {
    "scrolled": true
   },
   "outputs": [],
   "source": [
    "nodes_and_geodata.info(verbose=1, null_counts=True)"
   ]
  },
  {
   "cell_type": "code",
   "execution_count": null,
   "id": "da1be992",
   "metadata": {},
   "outputs": [],
   "source": [
    "valid_features_count = pd.DataFrame((nodes_and_geodata.groupby(['node_start', 'node_finish']).count().reset_index() != 0).sum())"
   ]
  },
  {
   "cell_type": "code",
   "execution_count": null,
   "id": "e4d77e81",
   "metadata": {},
   "outputs": [],
   "source": [
    "plt.hist(valid_features_count[0], bins=10)"
   ]
  },
  {
   "cell_type": "code",
   "execution_count": null,
   "id": "a02cc1ec",
   "metadata": {},
   "outputs": [],
   "source": [
    "threshold = 5000"
   ]
  },
  {
   "cell_type": "code",
   "execution_count": null,
   "id": "ef034870",
   "metadata": {},
   "outputs": [],
   "source": [
    "drop_features = list(valid_features_count[valid_features_count[0]<threshold].index)"
   ]
  },
  {
   "cell_type": "code",
   "execution_count": null,
   "id": "a24e58bb",
   "metadata": {},
   "outputs": [],
   "source": [
    "# geometry parse"
   ]
  },
  {
   "cell_type": "code",
   "execution_count": null,
   "id": "c6182603",
   "metadata": {},
   "outputs": [],
   "source": [
    "drop_features.extend(['node_start', 'node_finish', 'index',\n",
    " 'name', 'id', 'timestamp', 'version',\n",
    " 'tags', 'osm_type', 'u', 'v', 'length',\n",
    " 'name:en', 'name:ru', 'name:uk'])\n",
    "drop_features.extend(['geometry'])"
   ]
  },
  {
   "cell_type": "code",
   "execution_count": null,
   "id": "76b95606",
   "metadata": {},
   "outputs": [],
   "source": [
    "nodes_and_geodata.drop(drop_features, axis=1, inplace=True)"
   ]
  },
  {
   "cell_type": "code",
   "execution_count": null,
   "id": "532240a3",
   "metadata": {},
   "outputs": [],
   "source": [
    "def fill_missing(data):\n",
    "    # Oneway\n",
    "    data['oneway'] = data['oneway'].fillna('no')\n",
    "    \n",
    "    # Lanes\n",
    "    data['lanes'] = data['lanes'].apply(lambda row: int(row) if row is not None else row)\n",
    "    \n",
    "    cross_no = pd.crosstab(data[data['oneway'] == 'no']['lanes'], data[data['oneway'] == 'no']['highway'])\n",
    "    cross_yes = pd.crosstab(data[data['oneway'] == 'yes']['lanes'], data[data['oneway'] == 'yes']['highway'])\n",
    "\n",
    "    for col in tqdm(cross_no.columns):\n",
    "        lanes = cross_no[col].argmax() + 1\n",
    "        data.loc[data.lanes.isnull() & (data.highway == col) & (data.oneway == 'no'), 'lanes'] = lanes\n",
    "\n",
    "    for col in tqdm(cross_yes.columns):\n",
    "        lanes = cross_yes[col].argmax() + 1\n",
    "        data.loc[data.lanes.isnull() & (data.highway == col) & (data.oneway == 'yes'), 'lanes'] = lanes\n",
    "        \n",
    "    data['lanes'] = data['lanes'].fillna(data['lanes'].mode()[0])\n",
    "    \n",
    "    data['lanes'] = data['lanes'].apply(int)\n",
    "    \n",
    "    # Surface\n",
    "    data['surface'] = data['surface'].fillna(data['surface'].mode()[0])\n",
    "    \n",
    "    # Speed\n",
    "    data['speed'] = data['speed'].fillna(data['speed'].median())\n",
    "        \n",
    "    return data"
   ]
  },
  {
   "cell_type": "code",
   "execution_count": null,
   "id": "e2e1793d",
   "metadata": {},
   "outputs": [],
   "source": [
    "nodes_and_geodata = fill_missing(nodes_and_geodata)"
   ]
  },
  {
   "cell_type": "code",
   "execution_count": null,
   "id": "8245e338",
   "metadata": {},
   "outputs": [],
   "source": [
    "onehot = ['lanes', 'highway', 'oneway', 'surface']"
   ]
  },
  {
   "cell_type": "code",
   "execution_count": null,
   "id": "f22b5475",
   "metadata": {},
   "outputs": [],
   "source": [
    "nodes_and_geodata = pd.get_dummies(nodes_and_geodata, columns=onehot)"
   ]
  },
  {
   "cell_type": "code",
   "execution_count": null,
   "id": "e3c68ef5",
   "metadata": {},
   "outputs": [],
   "source": [
    "train_orders = train_orders.merge(nodes_and_geodata[['Id', 'speed']].groupby('Id').mean(),\n",
    "                                  left_on=\"Id\",\n",
    "                                  right_on=\"Id\", how='left')"
   ]
  },
  {
   "cell_type": "code",
   "execution_count": 12,
   "id": "a43d7641",
   "metadata": {},
   "outputs": [
    {
     "ename": "NameError",
     "evalue": "name 'nodes_and_geodata' is not defined",
     "output_type": "error",
     "traceback": [
      "\u001b[0;31m---------------------------------------------------------------------------\u001b[0m",
      "\u001b[0;31mNameError\u001b[0m                                 Traceback (most recent call last)",
      "Cell \u001b[0;32mIn[12], line 1\u001b[0m\n\u001b[0;32m----> 1\u001b[0m sum_nodes_and_geodata \u001b[38;5;241m=\u001b[39m \u001b[43mnodes_and_geodata\u001b[49m\u001b[38;5;241m.\u001b[39mdrop(\u001b[38;5;124m'\u001b[39m\u001b[38;5;124mspeed\u001b[39m\u001b[38;5;124m'\u001b[39m, axis\u001b[38;5;241m=\u001b[39m\u001b[38;5;241m1\u001b[39m)\u001b[38;5;241m.\u001b[39mgroupby(\u001b[38;5;124m'\u001b[39m\u001b[38;5;124mId\u001b[39m\u001b[38;5;124m'\u001b[39m)\u001b[38;5;241m.\u001b[39msum()\n",
      "\u001b[0;31mNameError\u001b[0m: name 'nodes_and_geodata' is not defined"
     ]
    }
   ],
   "source": [
    "sum_nodes_and_geodata = nodes_and_geodata.drop('speed', axis=1).groupby('Id').sum()"
   ]
  },
  {
   "cell_type": "code",
   "execution_count": 13,
   "id": "efedc914",
   "metadata": {},
   "outputs": [
    {
     "ename": "NameError",
     "evalue": "name 'sum_nodes_and_geodata' is not defined",
     "output_type": "error",
     "traceback": [
      "\u001b[0;31m---------------------------------------------------------------------------\u001b[0m",
      "\u001b[0;31mNameError\u001b[0m                                 Traceback (most recent call last)",
      "Cell \u001b[0;32mIn[13], line 1\u001b[0m\n\u001b[0;32m----> 1\u001b[0m train_orders \u001b[38;5;241m=\u001b[39m train_orders\u001b[38;5;241m.\u001b[39mmerge(\u001b[43msum_nodes_and_geodata\u001b[49m, left_on\u001b[38;5;241m=\u001b[39m\u001b[38;5;124m\"\u001b[39m\u001b[38;5;124mId\u001b[39m\u001b[38;5;124m\"\u001b[39m, right_on\u001b[38;5;241m=\u001b[39m\u001b[38;5;124m\"\u001b[39m\u001b[38;5;124mId\u001b[39m\u001b[38;5;124m\"\u001b[39m, how\u001b[38;5;241m=\u001b[39m\u001b[38;5;124m'\u001b[39m\u001b[38;5;124mleft\u001b[39m\u001b[38;5;124m'\u001b[39m)\n",
      "\u001b[0;31mNameError\u001b[0m: name 'sum_nodes_and_geodata' is not defined"
     ]
    }
   ],
   "source": [
    "train_orders = train_orders.merge(sum_nodes_and_geodata, left_on=\"Id\", right_on=\"Id\", how='left')"
   ]
  },
  {
   "cell_type": "code",
   "execution_count": 14,
   "id": "c7b398f9",
   "metadata": {},
   "outputs": [],
   "source": [
    "train_orders.fillna(0, inplace=True)"
   ]
  },
  {
   "cell_type": "code",
   "execution_count": 15,
   "id": "afde2920",
   "metadata": {},
   "outputs": [
    {
     "data": {
      "text/html": [
       "<div>\n",
       "<style scoped>\n",
       "    .dataframe tbody tr th:only-of-type {\n",
       "        vertical-align: middle;\n",
       "    }\n",
       "\n",
       "    .dataframe tbody tr th {\n",
       "        vertical-align: top;\n",
       "    }\n",
       "\n",
       "    .dataframe thead th {\n",
       "        text-align: right;\n",
       "    }\n",
       "</style>\n",
       "<table border=\"1\" class=\"dataframe\">\n",
       "  <thead>\n",
       "    <tr style=\"text-align: right;\">\n",
       "      <th></th>\n",
       "      <th>Id</th>\n",
       "      <th>running_time</th>\n",
       "      <th>completed_time</th>\n",
       "      <th>route_distance_km</th>\n",
       "      <th>delta_time</th>\n",
       "    </tr>\n",
       "  </thead>\n",
       "  <tbody>\n",
       "    <tr>\n",
       "      <th>0</th>\n",
       "      <td>-4773019581999572651</td>\n",
       "      <td>2022-01-24 18:30:21</td>\n",
       "      <td>2022-01-24 18:44:43</td>\n",
       "      <td>3.740</td>\n",
       "      <td>862.0</td>\n",
       "    </tr>\n",
       "    <tr>\n",
       "      <th>1</th>\n",
       "      <td>-7575630690398473489</td>\n",
       "      <td>2022-01-24 06:53:53</td>\n",
       "      <td>2022-01-24 07:06:26</td>\n",
       "      <td>3.526</td>\n",
       "      <td>753.0</td>\n",
       "    </tr>\n",
       "    <tr>\n",
       "      <th>2</th>\n",
       "      <td>-6264582368520213833</td>\n",
       "      <td>2022-01-24 10:00:59</td>\n",
       "      <td>2022-01-24 10:15:58</td>\n",
       "      <td>5.071</td>\n",
       "      <td>899.0</td>\n",
       "    </tr>\n",
       "    <tr>\n",
       "      <th>3</th>\n",
       "      <td>5964315354301636538</td>\n",
       "      <td>2022-01-24 14:28:05</td>\n",
       "      <td>2022-01-24 14:35:08</td>\n",
       "      <td>2.867</td>\n",
       "      <td>423.0</td>\n",
       "    </tr>\n",
       "    <tr>\n",
       "      <th>4</th>\n",
       "      <td>1372379574816145639</td>\n",
       "      <td>2022-01-24 11:57:29</td>\n",
       "      <td>2022-01-24 12:06:29</td>\n",
       "      <td>3.751</td>\n",
       "      <td>540.0</td>\n",
       "    </tr>\n",
       "    <tr>\n",
       "      <th>...</th>\n",
       "      <td>...</td>\n",
       "      <td>...</td>\n",
       "      <td>...</td>\n",
       "      <td>...</td>\n",
       "      <td>...</td>\n",
       "    </tr>\n",
       "    <tr>\n",
       "      <th>4995</th>\n",
       "      <td>7096714159023973792</td>\n",
       "      <td>2022-01-24 21:10:38</td>\n",
       "      <td>2022-01-24 21:23:53</td>\n",
       "      <td>7.397</td>\n",
       "      <td>795.0</td>\n",
       "    </tr>\n",
       "    <tr>\n",
       "      <th>4996</th>\n",
       "      <td>-3836026425968071806</td>\n",
       "      <td>2022-01-24 15:10:27</td>\n",
       "      <td>2022-01-24 15:20:21</td>\n",
       "      <td>1.948</td>\n",
       "      <td>594.0</td>\n",
       "    </tr>\n",
       "    <tr>\n",
       "      <th>4997</th>\n",
       "      <td>2926216435675216636</td>\n",
       "      <td>2022-01-24 13:57:04</td>\n",
       "      <td>2022-01-24 14:03:18</td>\n",
       "      <td>2.547</td>\n",
       "      <td>374.0</td>\n",
       "    </tr>\n",
       "    <tr>\n",
       "      <th>4998</th>\n",
       "      <td>-6677307480063489707</td>\n",
       "      <td>2022-01-24 08:46:13</td>\n",
       "      <td>2022-01-24 08:55:34</td>\n",
       "      <td>3.013</td>\n",
       "      <td>561.0</td>\n",
       "    </tr>\n",
       "    <tr>\n",
       "      <th>4999</th>\n",
       "      <td>-4845695090750648713</td>\n",
       "      <td>2022-01-24 14:57:46</td>\n",
       "      <td>2022-01-24 15:11:25</td>\n",
       "      <td>2.323</td>\n",
       "      <td>819.0</td>\n",
       "    </tr>\n",
       "  </tbody>\n",
       "</table>\n",
       "<p>5000 rows × 5 columns</p>\n",
       "</div>"
      ],
      "text/plain": [
       "                       Id         running_time       completed_time  \\\n",
       "0    -4773019581999572651  2022-01-24 18:30:21  2022-01-24 18:44:43   \n",
       "1    -7575630690398473489  2022-01-24 06:53:53  2022-01-24 07:06:26   \n",
       "2    -6264582368520213833  2022-01-24 10:00:59  2022-01-24 10:15:58   \n",
       "3     5964315354301636538  2022-01-24 14:28:05  2022-01-24 14:35:08   \n",
       "4     1372379574816145639  2022-01-24 11:57:29  2022-01-24 12:06:29   \n",
       "...                   ...                  ...                  ...   \n",
       "4995  7096714159023973792  2022-01-24 21:10:38  2022-01-24 21:23:53   \n",
       "4996 -3836026425968071806  2022-01-24 15:10:27  2022-01-24 15:20:21   \n",
       "4997  2926216435675216636  2022-01-24 13:57:04  2022-01-24 14:03:18   \n",
       "4998 -6677307480063489707  2022-01-24 08:46:13  2022-01-24 08:55:34   \n",
       "4999 -4845695090750648713  2022-01-24 14:57:46  2022-01-24 15:11:25   \n",
       "\n",
       "      route_distance_km  delta_time  \n",
       "0                 3.740       862.0  \n",
       "1                 3.526       753.0  \n",
       "2                 5.071       899.0  \n",
       "3                 2.867       423.0  \n",
       "4                 3.751       540.0  \n",
       "...                 ...         ...  \n",
       "4995              7.397       795.0  \n",
       "4996              1.948       594.0  \n",
       "4997              2.547       374.0  \n",
       "4998              3.013       561.0  \n",
       "4999              2.323       819.0  \n",
       "\n",
       "[5000 rows x 5 columns]"
      ]
     },
     "execution_count": 15,
     "metadata": {},
     "output_type": "execute_result"
    }
   ],
   "source": [
    "train_orders"
   ]
  },
  {
   "cell_type": "code",
   "execution_count": 16,
   "id": "e494a259",
   "metadata": {},
   "outputs": [],
   "source": [
    "X = train_orders.drop(['delta_time', 'Id', 'running_time', 'completed_time'], axis=1)\n",
    "y = train_orders['delta_time']"
   ]
  },
  {
   "cell_type": "code",
   "execution_count": 17,
   "id": "7fea4446",
   "metadata": {},
   "outputs": [],
   "source": [
    "split = 0.2\n",
    "X_train, X_test, y_train, y_test = train_test_split(X,\n",
    "                                                    y,\n",
    "                                                    test_size=split,\n",
    "                                                    shuffle=True,\n",
    "                                                    random_state=69)"
   ]
  },
  {
   "cell_type": "code",
   "execution_count": 18,
   "id": "a58827f3",
   "metadata": {},
   "outputs": [],
   "source": [
    "#transformer = Pipeline(steps=[('scaler', StandardScaler())])\n",
    "#X_train = transformer.fit_transform(X_train)\n",
    "#X_test = transformer.transform(X_test)"
   ]
  },
  {
   "cell_type": "code",
   "execution_count": null,
   "id": "6e9a7cc8",
   "metadata": {},
   "outputs": [],
   "source": [
    "boost_grid = {'n_estimators': [100, 150, 200, 500, 1000],\n",
    "        'max_depth': [2, 4, 8, 12],\n",
    "        'learning_rate': [0.05, 0.1, 0.2, 0.25]}\n",
    "\n",
    "regressor = XGBRegressor(tree_method='hist', random_state=69)\n",
    "\n",
    "model = GridSearchCV(estimator=regressor, param_grid=boost_grid, n_jobs=-1, cv=None)"
   ]
  },
  {
   "cell_type": "code",
   "execution_count": null,
   "id": "0d9f260d",
   "metadata": {},
   "outputs": [],
   "source": [
    "model.fit(X_train, y_train)"
   ]
  },
  {
   "cell_type": "code",
   "execution_count": null,
   "id": "9b0c54cd",
   "metadata": {},
   "outputs": [],
   "source": [
    "predictions = model.predict(X_test)\n",
    "print(mean_absolute_error(predictions, y_test))\n",
    "print(np.sqrt(mean_squared_error(predictions, y_test)))"
   ]
  },
  {
   "cell_type": "code",
   "execution_count": null,
   "id": "2bcdc481",
   "metadata": {},
   "outputs": [],
   "source": [
    "print(model.best_params_)"
   ]
  },
  {
   "cell_type": "code",
   "execution_count": null,
   "id": "c74843c7",
   "metadata": {},
   "outputs": [],
   "source": [
    "RF_grid = {'n_estimators': [50, 100, 150, 200, 250, 300],\n",
    "        'max_depth': [4, 6, 8, 10, 12]}\n",
    "\n",
    "regressor = RandomForestRegressor()\n",
    "model = GridSearchCV(estimator=regressor, param_grid=RF_grid, cv=None)"
   ]
  },
  {
   "cell_type": "code",
   "execution_count": null,
   "id": "e3d2b669",
   "metadata": {},
   "outputs": [],
   "source": [
    "model.fit(X_train, y_train)"
   ]
  },
  {
   "cell_type": "code",
   "execution_count": null,
   "id": "3e7645d3",
   "metadata": {},
   "outputs": [],
   "source": [
    "regressor = LGBMRegressor(random_state=69)\n",
    "\n",
    "model = GridSearchCV(estimator=regressor, param_grid=boost_grid, n_jobs=-1, cv=None)"
   ]
  },
  {
   "cell_type": "code",
   "execution_count": null,
   "id": "3e1e7ec3",
   "metadata": {},
   "outputs": [],
   "source": [
    "X_train.rename"
   ]
  },
  {
   "cell_type": "code",
   "execution_count": null,
   "id": "bd6568a8",
   "metadata": {},
   "outputs": [],
   "source": [
    "model.fit(X_train, y_train)"
   ]
  },
  {
   "cell_type": "code",
   "execution_count": null,
   "id": "94f1d034",
   "metadata": {},
   "outputs": [],
   "source": [
    "predictions = model.predict(X_test)\n",
    "print(mean_absolute_error(predictions, y_test))\n",
    "print(np.sqrt(mean_squared_error(predictions, y_test)))"
   ]
  },
  {
   "cell_type": "code",
   "execution_count": null,
   "id": "0033e459",
   "metadata": {},
   "outputs": [],
   "source": []
  }
 ],
 "metadata": {
  "kernelspec": {
   "display_name": "Python 3 (ipykernel)",
   "language": "python",
   "name": "python3"
  },
  "language_info": {
   "codemirror_mode": {
    "name": "ipython",
    "version": 3
   },
   "file_extension": ".py",
   "mimetype": "text/x-python",
   "name": "python",
   "nbconvert_exporter": "python",
   "pygments_lexer": "ipython3",
   "version": "3.10.9"
  }
 },
 "nbformat": 4,
 "nbformat_minor": 5
}
