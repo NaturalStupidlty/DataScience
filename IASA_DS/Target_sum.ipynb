{
 "cells": [
  {
   "cell_type": "code",
   "execution_count": 1,
   "id": "f7e2ebdd",
   "metadata": {
    "ExecuteTime": {
     "end_time": "2023-01-31T04:09:42.054586Z",
     "start_time": "2023-01-31T04:09:39.599628Z"
    }
   },
   "outputs": [],
   "source": [
    "import pandas as pd\n",
    "import numpy as np\n",
    "\n",
    "from sklearn.pipeline import Pipeline\n",
    "from sklearn.compose import ColumnTransformer\n",
    "from sklearn.model_selection import train_test_split\n",
    "from sklearn.preprocessing import StandardScaler, OneHotEncoder\n",
    "from sklearn.metrics import mean_absolute_error\n",
    "\n",
    "from xgboost import XGBRegressor"
   ]
  },
  {
   "cell_type": "code",
   "execution_count": 2,
   "id": "31a3a28a",
   "metadata": {
    "ExecuteTime": {
     "end_time": "2023-01-31T04:10:15.274241Z",
     "start_time": "2023-01-31T04:10:00.135222Z"
    }
   },
   "outputs": [],
   "source": [
    "data = pd.read_csv(\"iasa_df.csv\")"
   ]
  },
  {
   "cell_type": "code",
   "execution_count": 3,
   "id": "f7422e0c",
   "metadata": {
    "ExecuteTime": {
     "end_time": "2023-01-31T04:11:00.345343Z",
     "start_time": "2023-01-31T04:11:00.263263Z"
    }
   },
   "outputs": [],
   "source": [
    "# id column\n",
    "data.insert(0, 'id', list(np.arange(1,len(data)+1)))"
   ]
  },
  {
   "cell_type": "code",
   "execution_count": 4,
   "id": "f21893a7",
   "metadata": {
    "ExecuteTime": {
     "end_time": "2023-01-31T04:11:02.786290Z",
     "start_time": "2023-01-31T04:11:02.650328Z"
    }
   },
   "outputs": [
    {
     "data": {
      "text/plain": [
       "id                       0.000000\n",
       "total_sessions_day0      0.092994\n",
       "total_sessions_day1      0.093131\n",
       "total_sessions_day3      0.093199\n",
       "total_sessions_day7      0.093607\n",
       "                           ...   \n",
       "platform                 0.000000\n",
       "target_sub_ltv_day30     0.000000\n",
       "target_iap_ltv_day30     0.000000\n",
       "target_ad_ltv_day30      0.000000\n",
       "target_full_ltv_day30    0.000000\n",
       "Length: 64, dtype: float64"
      ]
     },
     "execution_count": 4,
     "metadata": {},
     "output_type": "execute_result"
    }
   ],
   "source": [
    "# percentage of missing data\n",
    "data.isnull().sum() / data.shape[0]*100"
   ]
  },
  {
   "cell_type": "code",
   "execution_count": 5,
   "id": "8ad2603a",
   "metadata": {
    "ExecuteTime": {
     "end_time": "2023-01-31T04:11:05.912278Z",
     "start_time": "2023-01-31T04:11:05.817272Z"
    }
   },
   "outputs": [],
   "source": [
    "# list of columns with missing data\n",
    "nan_columns = data.columns[data.isna().any()]"
   ]
  },
  {
   "cell_type": "code",
   "execution_count": 6,
   "id": "6c332726",
   "metadata": {
    "ExecuteTime": {
     "end_time": "2023-01-31T04:11:09.687184Z",
     "start_time": "2023-01-31T04:11:09.682188Z"
    }
   },
   "outputs": [],
   "source": [
    "# correlation for columns with missing data\n",
    "# data.corr(numeric_only = True)[nan_columns]"
   ]
  },
  {
   "cell_type": "code",
   "execution_count": 7,
   "id": "3dad24fb",
   "metadata": {
    "ExecuteTime": {
     "end_time": "2023-01-31T04:11:11.052574Z",
     "start_time": "2023-01-31T04:11:11.043576Z"
    }
   },
   "outputs": [],
   "source": [
    "# filling missing data\n",
    "def clean(data, nan_columns):\n",
    "    null_data = data[data.isnull().any(axis=1)]\n",
    "    \n",
    "    for col in nan_columns:\n",
    "        null_data[col] = null_data.apply(\n",
    "            lambda row: data[col].median()\n",
    "            if np.isnan(row[col])\n",
    "            else row[col], axis=1)\n",
    "        \n",
    "    for i in null_data['id']:\n",
    "        data[data['id'] == i] = null_data\n",
    "    \n",
    "    return data"
   ]
  },
  {
   "cell_type": "code",
   "execution_count": 8,
   "id": "e8539454",
   "metadata": {
    "ExecuteTime": {
     "end_time": "2023-01-31T04:11:45.080966Z",
     "start_time": "2023-01-31T04:11:42.897966Z"
    }
   },
   "outputs": [
    {
     "name": "stderr",
     "output_type": "stream",
     "text": [
      "/var/folders/8r/80qp0xcx3p986rp4th0s50140000gn/T/ipykernel_24436/4011653965.py:6: SettingWithCopyWarning: \n",
      "A value is trying to be set on a copy of a slice from a DataFrame.\n",
      "Try using .loc[row_indexer,col_indexer] = value instead\n",
      "\n",
      "See the caveats in the documentation: https://pandas.pydata.org/pandas-docs/stable/user_guide/indexing.html#returning-a-view-versus-a-copy\n",
      "  null_data[col] = null_data.apply(\n",
      "/var/folders/8r/80qp0xcx3p986rp4th0s50140000gn/T/ipykernel_24436/4011653965.py:6: SettingWithCopyWarning: \n",
      "A value is trying to be set on a copy of a slice from a DataFrame.\n",
      "Try using .loc[row_indexer,col_indexer] = value instead\n",
      "\n",
      "See the caveats in the documentation: https://pandas.pydata.org/pandas-docs/stable/user_guide/indexing.html#returning-a-view-versus-a-copy\n",
      "  null_data[col] = null_data.apply(\n",
      "/var/folders/8r/80qp0xcx3p986rp4th0s50140000gn/T/ipykernel_24436/4011653965.py:6: SettingWithCopyWarning: \n",
      "A value is trying to be set on a copy of a slice from a DataFrame.\n",
      "Try using .loc[row_indexer,col_indexer] = value instead\n",
      "\n",
      "See the caveats in the documentation: https://pandas.pydata.org/pandas-docs/stable/user_guide/indexing.html#returning-a-view-versus-a-copy\n",
      "  null_data[col] = null_data.apply(\n",
      "/var/folders/8r/80qp0xcx3p986rp4th0s50140000gn/T/ipykernel_24436/4011653965.py:6: SettingWithCopyWarning: \n",
      "A value is trying to be set on a copy of a slice from a DataFrame.\n",
      "Try using .loc[row_indexer,col_indexer] = value instead\n",
      "\n",
      "See the caveats in the documentation: https://pandas.pydata.org/pandas-docs/stable/user_guide/indexing.html#returning-a-view-versus-a-copy\n",
      "  null_data[col] = null_data.apply(\n"
     ]
    }
   ],
   "source": [
    "data = clean(data, nan_columns)"
   ]
  },
  {
   "cell_type": "code",
   "execution_count": 9,
   "id": "99c92dce",
   "metadata": {
    "ExecuteTime": {
     "end_time": "2023-01-31T04:11:50.543433Z",
     "start_time": "2023-01-31T04:11:50.457462Z"
    }
   },
   "outputs": [],
   "source": [
    "y = data[['target_full_ltv_day30',\n",
    "         'target_sub_ltv_day30',\n",
    "         'target_iap_ltv_day30',\n",
    "         'target_ad_ltv_day30']].copy().astype(float)\n",
    "\n",
    "X = data.drop(['id',\n",
    "               'target_full_ltv_day30',\n",
    "               'target_sub_ltv_day30',\n",
    "               'target_iap_ltv_day30',\n",
    "               'target_ad_ltv_day30',\n",
    "               'install_date',\n",
    "               'country_code'], axis=1).copy()"
   ]
  },
  {
   "cell_type": "code",
   "execution_count": 10,
   "id": "42c2f9e0",
   "metadata": {
    "ExecuteTime": {
     "end_time": "2023-01-31T04:30:46.510444Z",
     "start_time": "2023-01-31T04:30:46.493454Z"
    }
   },
   "outputs": [],
   "source": [
    "# Three independent targets\n",
    "y_sub = y['target_sub_ltv_day30'].copy().astype(float)\n",
    "\n",
    "y_iap = y['target_iap_ltv_day30'].copy().astype(float)\n",
    "\n",
    "y_ad = y['target_ad_ltv_day30'].copy().astype(float)\n",
    "\n",
    "y_full = y['target_full_ltv_day30'].copy().astype(float)"
   ]
  },
  {
   "cell_type": "code",
   "execution_count": 11,
   "id": "d674241f",
   "metadata": {
    "ExecuteTime": {
     "end_time": "2023-01-31T04:12:06.694956Z",
     "start_time": "2023-01-31T04:12:06.482182Z"
    }
   },
   "outputs": [],
   "source": [
    "# sub doesn't really need iap and ltv features and so on\n",
    "\n",
    "X_sub = X.drop(['app_iap_ltv_day0',\n",
    "                'app_iap_ltv_day1',\n",
    "                'app_iap_ltv_day3',\n",
    "                'ad_ltv_day0',\n",
    "                'ad_ltv_day1',\n",
    "                'ad_ltv_day3'], axis=1).copy()\n",
    "\n",
    "X_iap = X.drop(['app_sub_ltv_day0',\n",
    "                'app_sub_ltv_day1',\n",
    "                'app_sub_ltv_day3',\n",
    "                'ad_ltv_day0', \n",
    "                'ad_ltv_day1',\n",
    "                'ad_ltv_day3'], axis=1).copy()\n",
    "\n",
    "X_ad = X.drop(['app_sub_ltv_day0',\n",
    "               'app_sub_ltv_day1',\n",
    "               'app_sub_ltv_day3',\n",
    "               'app_iap_ltv_day0', \n",
    "               'app_iap_ltv_day1',\n",
    "               'app_iap_ltv_day3'], axis=1).copy()"
   ]
  },
  {
   "cell_type": "code",
   "execution_count": 12,
   "id": "0a9c463f",
   "metadata": {
    "ExecuteTime": {
     "end_time": "2023-01-31T04:12:22.855912Z",
     "start_time": "2023-01-31T04:12:22.849939Z"
    }
   },
   "outputs": [
    {
     "name": "stdout",
     "output_type": "stream",
     "text": [
      "(1467832, 51) (1467832, 51) (1467832, 51)\n"
     ]
    }
   ],
   "source": [
    "print(X_sub.shape, X_iap.shape, X_ad.shape)"
   ]
  },
  {
   "cell_type": "code",
   "execution_count": 13,
   "id": "4c5d0c1d",
   "metadata": {
    "ExecuteTime": {
     "end_time": "2023-01-31T04:12:25.305920Z",
     "start_time": "2023-01-31T04:12:24.040911Z"
    }
   },
   "outputs": [
    {
     "name": "stderr",
     "output_type": "stream",
     "text": [
      "/Users/tylerdurden/opt/miniconda3/envs/tf/lib/python3.9/site-packages/sklearn/preprocessing/_encoders.py:808: FutureWarning: `sparse` was renamed to `sparse_output` in version 1.2 and will be removed in 1.4. `sparse_output` is ignored unless you leave `sparse` to its default value.\n",
      "  warnings.warn(\n",
      "/Users/tylerdurden/opt/miniconda3/envs/tf/lib/python3.9/site-packages/sklearn/preprocessing/_encoders.py:808: FutureWarning: `sparse` was renamed to `sparse_output` in version 1.2 and will be removed in 1.4. `sparse_output` is ignored unless you leave `sparse` to its default value.\n",
      "  warnings.warn(\n",
      "/Users/tylerdurden/opt/miniconda3/envs/tf/lib/python3.9/site-packages/sklearn/preprocessing/_encoders.py:808: FutureWarning: `sparse` was renamed to `sparse_output` in version 1.2 and will be removed in 1.4. `sparse_output` is ignored unless you leave `sparse` to its default value.\n",
      "  warnings.warn(\n"
     ]
    },
    {
     "name": "stdout",
     "output_type": "stream",
     "text": [
      "Training set shapes: (1467832, 74) (1467832, 74) (1467832, 74)\n"
     ]
    }
   ],
   "source": [
    "# Indentify numerical and categorical columns\n",
    "numerical_cols_sub = [cname for cname in X_sub.columns if X_sub[cname].dtype in ['int64', 'float64']]\n",
    "categorical_cols_sub = [cname for cname in X_sub.columns if X_sub[cname].dtype == \"object\"]\n",
    "\n",
    "numerical_cols_iap = [cname for cname in X_iap.columns if X_iap[cname].dtype in ['int64', 'float64']]\n",
    "categorical_cols_iap = [cname for cname in X_iap.columns if X_iap[cname].dtype == \"object\"]\n",
    "\n",
    "numerical_cols_ad = [cname for cname in X_ad.columns if X_ad[cname].dtype in ['int64', 'float64']]\n",
    "categorical_cols_ad = [cname for cname in X_ad.columns if X_ad[cname].dtype == \"object\"]\n",
    "\n",
    "\n",
    "# Scale numerical data to have mean=0 and variance=1\n",
    "numerical_transformer = Pipeline(steps=[('scaler',\n",
    "                                         StandardScaler())])\n",
    "\n",
    "# # One-hot encode categorical data\n",
    "categorical_transformer = Pipeline(steps=[('onehot',\n",
    "                                           OneHotEncoder(drop='if_binary',\n",
    "                                            handle_unknown='ignore',\n",
    "                                            sparse=False))])\n",
    "\n",
    "# # Combine preprocessing\n",
    "ct_sub = ColumnTransformer(transformers=[\n",
    "        ('num', numerical_transformer, numerical_cols_sub),\n",
    "        ('cat', categorical_transformer, categorical_cols_sub)\n",
    "        ], remainder='passthrough')\n",
    "\n",
    "ct_iap = ColumnTransformer(transformers=[\n",
    "        ('num', numerical_transformer, numerical_cols_iap),\n",
    "        ('cat', categorical_transformer, categorical_cols_iap)\n",
    "        ], remainder='passthrough')\n",
    "\n",
    "ct_ad = ColumnTransformer(transformers=[\n",
    "        ('num', numerical_transformer, numerical_cols_ad),\n",
    "        ('cat', categorical_transformer, categorical_cols_ad)\n",
    "        ], remainder='passthrough')\n",
    "\n",
    "# Apply preprocessing\n",
    "X_sub = ct_sub.fit_transform(X_sub)\n",
    "\n",
    "X_iap = ct_iap.fit_transform(X_iap)\n",
    "\n",
    "X_ad = ct_ad.fit_transform(X_ad)\n",
    "\n",
    "# # Print new shape\n",
    "print('Training set shapes:',\n",
    "      X_sub.shape,\n",
    "      X_iap.shape,\n",
    "      X_ad.shape)"
   ]
  },
  {
   "cell_type": "code",
   "execution_count": 17,
   "id": "553d9806",
   "metadata": {
    "ExecuteTime": {
     "end_time": "2023-01-31T04:31:20.620623Z",
     "start_time": "2023-01-31T04:31:20.610629Z"
    }
   },
   "outputs": [],
   "source": [
    "pivot = int((X.shape[0]) * 0.98)\n",
    "\n",
    "X_sub_train = X_sub[:pivot]\n",
    "X_sub_test = X_sub[pivot:]\n",
    "y_sub_train = y_sub[:pivot]\n",
    "y_sub_test = y_sub[pivot:]\n",
    "\n",
    "X_iap_train = X_iap[:pivot]\n",
    "X_iap_test = X_iap[pivot:]\n",
    "y_iap_train = y_iap[:pivot]\n",
    "y_iap_test = y_iap[pivot:]\n",
    "\n",
    "X_ad_train = X_ad[:pivot]\n",
    "X_ad_test = X_ad[pivot:]\n",
    "y_ad_train = y_ad[:pivot]\n",
    "y_ad_test = y_ad[pivot:]\n",
    "\n",
    "y_full_test = y_full[pivot:]"
   ]
  },
  {
   "cell_type": "code",
   "execution_count": 18,
   "id": "f7e2c500",
   "metadata": {
    "ExecuteTime": {
     "end_time": "2023-01-31T04:19:04.029861Z",
     "start_time": "2023-01-31T04:19:04.022866Z"
    }
   },
   "outputs": [],
   "source": [
    "model_sub = XGBRegressor(n_estimators=5000,\n",
    "                     max_depth=7,\n",
    "                     eta=0.05,\n",
    "                     subsample=1,\n",
    "                     colsample_bytree=1,\n",
    "                     tree_method='hist',\n",
    "                     random_state=69)\n",
    "\n",
    "model_iap = XGBRegressor(n_estimators=5000,\n",
    "                     max_depth=7,\n",
    "                     eta=0.05,\n",
    "                     subsample=1,\n",
    "                     colsample_bytree=1,\n",
    "                     tree_method='hist',\n",
    "                     random_state=69)\n",
    "\n",
    "model_ad = XGBRegressor(n_estimators=5000,\n",
    "                     max_depth=7,\n",
    "                     eta=0.05,\n",
    "                     subsample=1,\n",
    "                     colsample_bytree=1,\n",
    "                     tree_method='hist',\n",
    "                     random_state=69)"
   ]
  },
  {
   "cell_type": "code",
   "execution_count": 19,
   "id": "722de496",
   "metadata": {
    "ExecuteTime": {
     "end_time": "2023-01-31T04:21:07.899603Z",
     "start_time": "2023-01-31T04:19:07.325799Z"
    }
   },
   "outputs": [
    {
     "data": {
      "text/html": [
       "<style>#sk-container-id-1 {color: black;background-color: white;}#sk-container-id-1 pre{padding: 0;}#sk-container-id-1 div.sk-toggleable {background-color: white;}#sk-container-id-1 label.sk-toggleable__label {cursor: pointer;display: block;width: 100%;margin-bottom: 0;padding: 0.3em;box-sizing: border-box;text-align: center;}#sk-container-id-1 label.sk-toggleable__label-arrow:before {content: \"▸\";float: left;margin-right: 0.25em;color: #696969;}#sk-container-id-1 label.sk-toggleable__label-arrow:hover:before {color: black;}#sk-container-id-1 div.sk-estimator:hover label.sk-toggleable__label-arrow:before {color: black;}#sk-container-id-1 div.sk-toggleable__content {max-height: 0;max-width: 0;overflow: hidden;text-align: left;background-color: #f0f8ff;}#sk-container-id-1 div.sk-toggleable__content pre {margin: 0.2em;color: black;border-radius: 0.25em;background-color: #f0f8ff;}#sk-container-id-1 input.sk-toggleable__control:checked~div.sk-toggleable__content {max-height: 200px;max-width: 100%;overflow: auto;}#sk-container-id-1 input.sk-toggleable__control:checked~label.sk-toggleable__label-arrow:before {content: \"▾\";}#sk-container-id-1 div.sk-estimator input.sk-toggleable__control:checked~label.sk-toggleable__label {background-color: #d4ebff;}#sk-container-id-1 div.sk-label input.sk-toggleable__control:checked~label.sk-toggleable__label {background-color: #d4ebff;}#sk-container-id-1 input.sk-hidden--visually {border: 0;clip: rect(1px 1px 1px 1px);clip: rect(1px, 1px, 1px, 1px);height: 1px;margin: -1px;overflow: hidden;padding: 0;position: absolute;width: 1px;}#sk-container-id-1 div.sk-estimator {font-family: monospace;background-color: #f0f8ff;border: 1px dotted black;border-radius: 0.25em;box-sizing: border-box;margin-bottom: 0.5em;}#sk-container-id-1 div.sk-estimator:hover {background-color: #d4ebff;}#sk-container-id-1 div.sk-parallel-item::after {content: \"\";width: 100%;border-bottom: 1px solid gray;flex-grow: 1;}#sk-container-id-1 div.sk-label:hover label.sk-toggleable__label {background-color: #d4ebff;}#sk-container-id-1 div.sk-serial::before {content: \"\";position: absolute;border-left: 1px solid gray;box-sizing: border-box;top: 0;bottom: 0;left: 50%;z-index: 0;}#sk-container-id-1 div.sk-serial {display: flex;flex-direction: column;align-items: center;background-color: white;padding-right: 0.2em;padding-left: 0.2em;position: relative;}#sk-container-id-1 div.sk-item {position: relative;z-index: 1;}#sk-container-id-1 div.sk-parallel {display: flex;align-items: stretch;justify-content: center;background-color: white;position: relative;}#sk-container-id-1 div.sk-item::before, #sk-container-id-1 div.sk-parallel-item::before {content: \"\";position: absolute;border-left: 1px solid gray;box-sizing: border-box;top: 0;bottom: 0;left: 50%;z-index: -1;}#sk-container-id-1 div.sk-parallel-item {display: flex;flex-direction: column;z-index: 1;position: relative;background-color: white;}#sk-container-id-1 div.sk-parallel-item:first-child::after {align-self: flex-end;width: 50%;}#sk-container-id-1 div.sk-parallel-item:last-child::after {align-self: flex-start;width: 50%;}#sk-container-id-1 div.sk-parallel-item:only-child::after {width: 0;}#sk-container-id-1 div.sk-dashed-wrapped {border: 1px dashed gray;margin: 0 0.4em 0.5em 0.4em;box-sizing: border-box;padding-bottom: 0.4em;background-color: white;}#sk-container-id-1 div.sk-label label {font-family: monospace;font-weight: bold;display: inline-block;line-height: 1.2em;}#sk-container-id-1 div.sk-label-container {text-align: center;}#sk-container-id-1 div.sk-container {/* jupyter's `normalize.less` sets `[hidden] { display: none; }` but bootstrap.min.css set `[hidden] { display: none !important; }` so we also need the `!important` here to be able to override the default hidden behavior on the sphinx rendered scikit-learn.org. See: https://github.com/scikit-learn/scikit-learn/issues/21755 */display: inline-block !important;position: relative;}#sk-container-id-1 div.sk-text-repr-fallback {display: none;}</style><div id=\"sk-container-id-1\" class=\"sk-top-container\"><div class=\"sk-text-repr-fallback\"><pre>XGBRegressor(base_score=None, booster=None, callbacks=None,\n",
       "             colsample_bylevel=None, colsample_bynode=None, colsample_bytree=1,\n",
       "             early_stopping_rounds=None, enable_categorical=False, eta=0.05,\n",
       "             eval_metric=None, feature_types=None, gamma=None, gpu_id=None,\n",
       "             grow_policy=None, importance_type=None,\n",
       "             interaction_constraints=None, learning_rate=None, max_bin=None,\n",
       "             max_cat_threshold=None, max_cat_to_onehot=None,\n",
       "             max_delta_step=None, max_depth=7, max_leaves=None,\n",
       "             min_child_weight=None, missing=nan, monotone_constraints=None,\n",
       "             n_estimators=5000, n_jobs=None, num_parallel_tree=None,\n",
       "             predictor=None, ...)</pre><b>In a Jupyter environment, please rerun this cell to show the HTML representation or trust the notebook. <br />On GitHub, the HTML representation is unable to render, please try loading this page with nbviewer.org.</b></div><div class=\"sk-container\" hidden><div class=\"sk-item\"><div class=\"sk-estimator sk-toggleable\"><input class=\"sk-toggleable__control sk-hidden--visually\" id=\"sk-estimator-id-1\" type=\"checkbox\" checked><label for=\"sk-estimator-id-1\" class=\"sk-toggleable__label sk-toggleable__label-arrow\">XGBRegressor</label><div class=\"sk-toggleable__content\"><pre>XGBRegressor(base_score=None, booster=None, callbacks=None,\n",
       "             colsample_bylevel=None, colsample_bynode=None, colsample_bytree=1,\n",
       "             early_stopping_rounds=None, enable_categorical=False, eta=0.05,\n",
       "             eval_metric=None, feature_types=None, gamma=None, gpu_id=None,\n",
       "             grow_policy=None, importance_type=None,\n",
       "             interaction_constraints=None, learning_rate=None, max_bin=None,\n",
       "             max_cat_threshold=None, max_cat_to_onehot=None,\n",
       "             max_delta_step=None, max_depth=7, max_leaves=None,\n",
       "             min_child_weight=None, missing=nan, monotone_constraints=None,\n",
       "             n_estimators=5000, n_jobs=None, num_parallel_tree=None,\n",
       "             predictor=None, ...)</pre></div></div></div></div></div>"
      ],
      "text/plain": [
       "XGBRegressor(base_score=None, booster=None, callbacks=None,\n",
       "             colsample_bylevel=None, colsample_bynode=None, colsample_bytree=1,\n",
       "             early_stopping_rounds=None, enable_categorical=False, eta=0.05,\n",
       "             eval_metric=None, feature_types=None, gamma=None, gpu_id=None,\n",
       "             grow_policy=None, importance_type=None,\n",
       "             interaction_constraints=None, learning_rate=None, max_bin=None,\n",
       "             max_cat_threshold=None, max_cat_to_onehot=None,\n",
       "             max_delta_step=None, max_depth=7, max_leaves=None,\n",
       "             min_child_weight=None, missing=nan, monotone_constraints=None,\n",
       "             n_estimators=5000, n_jobs=None, num_parallel_tree=None,\n",
       "             predictor=None, ...)"
      ]
     },
     "execution_count": 19,
     "metadata": {},
     "output_type": "execute_result"
    }
   ],
   "source": [
    "model_sub.fit(X_sub_train, y_sub_train)"
   ]
  },
  {
   "cell_type": "code",
   "execution_count": 20,
   "id": "c68de6f1",
   "metadata": {
    "ExecuteTime": {
     "end_time": "2023-01-31T04:24:30.614801Z",
     "start_time": "2023-01-31T04:21:10.630641Z"
    }
   },
   "outputs": [
    {
     "data": {
      "text/html": [
       "<style>#sk-container-id-2 {color: black;background-color: white;}#sk-container-id-2 pre{padding: 0;}#sk-container-id-2 div.sk-toggleable {background-color: white;}#sk-container-id-2 label.sk-toggleable__label {cursor: pointer;display: block;width: 100%;margin-bottom: 0;padding: 0.3em;box-sizing: border-box;text-align: center;}#sk-container-id-2 label.sk-toggleable__label-arrow:before {content: \"▸\";float: left;margin-right: 0.25em;color: #696969;}#sk-container-id-2 label.sk-toggleable__label-arrow:hover:before {color: black;}#sk-container-id-2 div.sk-estimator:hover label.sk-toggleable__label-arrow:before {color: black;}#sk-container-id-2 div.sk-toggleable__content {max-height: 0;max-width: 0;overflow: hidden;text-align: left;background-color: #f0f8ff;}#sk-container-id-2 div.sk-toggleable__content pre {margin: 0.2em;color: black;border-radius: 0.25em;background-color: #f0f8ff;}#sk-container-id-2 input.sk-toggleable__control:checked~div.sk-toggleable__content {max-height: 200px;max-width: 100%;overflow: auto;}#sk-container-id-2 input.sk-toggleable__control:checked~label.sk-toggleable__label-arrow:before {content: \"▾\";}#sk-container-id-2 div.sk-estimator input.sk-toggleable__control:checked~label.sk-toggleable__label {background-color: #d4ebff;}#sk-container-id-2 div.sk-label input.sk-toggleable__control:checked~label.sk-toggleable__label {background-color: #d4ebff;}#sk-container-id-2 input.sk-hidden--visually {border: 0;clip: rect(1px 1px 1px 1px);clip: rect(1px, 1px, 1px, 1px);height: 1px;margin: -1px;overflow: hidden;padding: 0;position: absolute;width: 1px;}#sk-container-id-2 div.sk-estimator {font-family: monospace;background-color: #f0f8ff;border: 1px dotted black;border-radius: 0.25em;box-sizing: border-box;margin-bottom: 0.5em;}#sk-container-id-2 div.sk-estimator:hover {background-color: #d4ebff;}#sk-container-id-2 div.sk-parallel-item::after {content: \"\";width: 100%;border-bottom: 1px solid gray;flex-grow: 1;}#sk-container-id-2 div.sk-label:hover label.sk-toggleable__label {background-color: #d4ebff;}#sk-container-id-2 div.sk-serial::before {content: \"\";position: absolute;border-left: 1px solid gray;box-sizing: border-box;top: 0;bottom: 0;left: 50%;z-index: 0;}#sk-container-id-2 div.sk-serial {display: flex;flex-direction: column;align-items: center;background-color: white;padding-right: 0.2em;padding-left: 0.2em;position: relative;}#sk-container-id-2 div.sk-item {position: relative;z-index: 1;}#sk-container-id-2 div.sk-parallel {display: flex;align-items: stretch;justify-content: center;background-color: white;position: relative;}#sk-container-id-2 div.sk-item::before, #sk-container-id-2 div.sk-parallel-item::before {content: \"\";position: absolute;border-left: 1px solid gray;box-sizing: border-box;top: 0;bottom: 0;left: 50%;z-index: -1;}#sk-container-id-2 div.sk-parallel-item {display: flex;flex-direction: column;z-index: 1;position: relative;background-color: white;}#sk-container-id-2 div.sk-parallel-item:first-child::after {align-self: flex-end;width: 50%;}#sk-container-id-2 div.sk-parallel-item:last-child::after {align-self: flex-start;width: 50%;}#sk-container-id-2 div.sk-parallel-item:only-child::after {width: 0;}#sk-container-id-2 div.sk-dashed-wrapped {border: 1px dashed gray;margin: 0 0.4em 0.5em 0.4em;box-sizing: border-box;padding-bottom: 0.4em;background-color: white;}#sk-container-id-2 div.sk-label label {font-family: monospace;font-weight: bold;display: inline-block;line-height: 1.2em;}#sk-container-id-2 div.sk-label-container {text-align: center;}#sk-container-id-2 div.sk-container {/* jupyter's `normalize.less` sets `[hidden] { display: none; }` but bootstrap.min.css set `[hidden] { display: none !important; }` so we also need the `!important` here to be able to override the default hidden behavior on the sphinx rendered scikit-learn.org. See: https://github.com/scikit-learn/scikit-learn/issues/21755 */display: inline-block !important;position: relative;}#sk-container-id-2 div.sk-text-repr-fallback {display: none;}</style><div id=\"sk-container-id-2\" class=\"sk-top-container\"><div class=\"sk-text-repr-fallback\"><pre>XGBRegressor(base_score=None, booster=None, callbacks=None,\n",
       "             colsample_bylevel=None, colsample_bynode=None, colsample_bytree=1,\n",
       "             early_stopping_rounds=None, enable_categorical=False, eta=0.05,\n",
       "             eval_metric=None, feature_types=None, gamma=None, gpu_id=None,\n",
       "             grow_policy=None, importance_type=None,\n",
       "             interaction_constraints=None, learning_rate=None, max_bin=None,\n",
       "             max_cat_threshold=None, max_cat_to_onehot=None,\n",
       "             max_delta_step=None, max_depth=7, max_leaves=None,\n",
       "             min_child_weight=None, missing=nan, monotone_constraints=None,\n",
       "             n_estimators=5000, n_jobs=None, num_parallel_tree=None,\n",
       "             predictor=None, ...)</pre><b>In a Jupyter environment, please rerun this cell to show the HTML representation or trust the notebook. <br />On GitHub, the HTML representation is unable to render, please try loading this page with nbviewer.org.</b></div><div class=\"sk-container\" hidden><div class=\"sk-item\"><div class=\"sk-estimator sk-toggleable\"><input class=\"sk-toggleable__control sk-hidden--visually\" id=\"sk-estimator-id-2\" type=\"checkbox\" checked><label for=\"sk-estimator-id-2\" class=\"sk-toggleable__label sk-toggleable__label-arrow\">XGBRegressor</label><div class=\"sk-toggleable__content\"><pre>XGBRegressor(base_score=None, booster=None, callbacks=None,\n",
       "             colsample_bylevel=None, colsample_bynode=None, colsample_bytree=1,\n",
       "             early_stopping_rounds=None, enable_categorical=False, eta=0.05,\n",
       "             eval_metric=None, feature_types=None, gamma=None, gpu_id=None,\n",
       "             grow_policy=None, importance_type=None,\n",
       "             interaction_constraints=None, learning_rate=None, max_bin=None,\n",
       "             max_cat_threshold=None, max_cat_to_onehot=None,\n",
       "             max_delta_step=None, max_depth=7, max_leaves=None,\n",
       "             min_child_weight=None, missing=nan, monotone_constraints=None,\n",
       "             n_estimators=5000, n_jobs=None, num_parallel_tree=None,\n",
       "             predictor=None, ...)</pre></div></div></div></div></div>"
      ],
      "text/plain": [
       "XGBRegressor(base_score=None, booster=None, callbacks=None,\n",
       "             colsample_bylevel=None, colsample_bynode=None, colsample_bytree=1,\n",
       "             early_stopping_rounds=None, enable_categorical=False, eta=0.05,\n",
       "             eval_metric=None, feature_types=None, gamma=None, gpu_id=None,\n",
       "             grow_policy=None, importance_type=None,\n",
       "             interaction_constraints=None, learning_rate=None, max_bin=None,\n",
       "             max_cat_threshold=None, max_cat_to_onehot=None,\n",
       "             max_delta_step=None, max_depth=7, max_leaves=None,\n",
       "             min_child_weight=None, missing=nan, monotone_constraints=None,\n",
       "             n_estimators=5000, n_jobs=None, num_parallel_tree=None,\n",
       "             predictor=None, ...)"
      ]
     },
     "execution_count": 20,
     "metadata": {},
     "output_type": "execute_result"
    }
   ],
   "source": [
    "model_iap.fit(X_iap_train, y_iap_train)"
   ]
  },
  {
   "cell_type": "code",
   "execution_count": 21,
   "id": "9d5cfca3",
   "metadata": {
    "ExecuteTime": {
     "end_time": "2023-01-31T04:27:11.926722Z",
     "start_time": "2023-01-31T04:24:30.903188Z"
    }
   },
   "outputs": [
    {
     "data": {
      "text/html": [
       "<style>#sk-container-id-3 {color: black;background-color: white;}#sk-container-id-3 pre{padding: 0;}#sk-container-id-3 div.sk-toggleable {background-color: white;}#sk-container-id-3 label.sk-toggleable__label {cursor: pointer;display: block;width: 100%;margin-bottom: 0;padding: 0.3em;box-sizing: border-box;text-align: center;}#sk-container-id-3 label.sk-toggleable__label-arrow:before {content: \"▸\";float: left;margin-right: 0.25em;color: #696969;}#sk-container-id-3 label.sk-toggleable__label-arrow:hover:before {color: black;}#sk-container-id-3 div.sk-estimator:hover label.sk-toggleable__label-arrow:before {color: black;}#sk-container-id-3 div.sk-toggleable__content {max-height: 0;max-width: 0;overflow: hidden;text-align: left;background-color: #f0f8ff;}#sk-container-id-3 div.sk-toggleable__content pre {margin: 0.2em;color: black;border-radius: 0.25em;background-color: #f0f8ff;}#sk-container-id-3 input.sk-toggleable__control:checked~div.sk-toggleable__content {max-height: 200px;max-width: 100%;overflow: auto;}#sk-container-id-3 input.sk-toggleable__control:checked~label.sk-toggleable__label-arrow:before {content: \"▾\";}#sk-container-id-3 div.sk-estimator input.sk-toggleable__control:checked~label.sk-toggleable__label {background-color: #d4ebff;}#sk-container-id-3 div.sk-label input.sk-toggleable__control:checked~label.sk-toggleable__label {background-color: #d4ebff;}#sk-container-id-3 input.sk-hidden--visually {border: 0;clip: rect(1px 1px 1px 1px);clip: rect(1px, 1px, 1px, 1px);height: 1px;margin: -1px;overflow: hidden;padding: 0;position: absolute;width: 1px;}#sk-container-id-3 div.sk-estimator {font-family: monospace;background-color: #f0f8ff;border: 1px dotted black;border-radius: 0.25em;box-sizing: border-box;margin-bottom: 0.5em;}#sk-container-id-3 div.sk-estimator:hover {background-color: #d4ebff;}#sk-container-id-3 div.sk-parallel-item::after {content: \"\";width: 100%;border-bottom: 1px solid gray;flex-grow: 1;}#sk-container-id-3 div.sk-label:hover label.sk-toggleable__label {background-color: #d4ebff;}#sk-container-id-3 div.sk-serial::before {content: \"\";position: absolute;border-left: 1px solid gray;box-sizing: border-box;top: 0;bottom: 0;left: 50%;z-index: 0;}#sk-container-id-3 div.sk-serial {display: flex;flex-direction: column;align-items: center;background-color: white;padding-right: 0.2em;padding-left: 0.2em;position: relative;}#sk-container-id-3 div.sk-item {position: relative;z-index: 1;}#sk-container-id-3 div.sk-parallel {display: flex;align-items: stretch;justify-content: center;background-color: white;position: relative;}#sk-container-id-3 div.sk-item::before, #sk-container-id-3 div.sk-parallel-item::before {content: \"\";position: absolute;border-left: 1px solid gray;box-sizing: border-box;top: 0;bottom: 0;left: 50%;z-index: -1;}#sk-container-id-3 div.sk-parallel-item {display: flex;flex-direction: column;z-index: 1;position: relative;background-color: white;}#sk-container-id-3 div.sk-parallel-item:first-child::after {align-self: flex-end;width: 50%;}#sk-container-id-3 div.sk-parallel-item:last-child::after {align-self: flex-start;width: 50%;}#sk-container-id-3 div.sk-parallel-item:only-child::after {width: 0;}#sk-container-id-3 div.sk-dashed-wrapped {border: 1px dashed gray;margin: 0 0.4em 0.5em 0.4em;box-sizing: border-box;padding-bottom: 0.4em;background-color: white;}#sk-container-id-3 div.sk-label label {font-family: monospace;font-weight: bold;display: inline-block;line-height: 1.2em;}#sk-container-id-3 div.sk-label-container {text-align: center;}#sk-container-id-3 div.sk-container {/* jupyter's `normalize.less` sets `[hidden] { display: none; }` but bootstrap.min.css set `[hidden] { display: none !important; }` so we also need the `!important` here to be able to override the default hidden behavior on the sphinx rendered scikit-learn.org. See: https://github.com/scikit-learn/scikit-learn/issues/21755 */display: inline-block !important;position: relative;}#sk-container-id-3 div.sk-text-repr-fallback {display: none;}</style><div id=\"sk-container-id-3\" class=\"sk-top-container\"><div class=\"sk-text-repr-fallback\"><pre>XGBRegressor(base_score=None, booster=None, callbacks=None,\n",
       "             colsample_bylevel=None, colsample_bynode=None, colsample_bytree=1,\n",
       "             early_stopping_rounds=None, enable_categorical=False, eta=0.05,\n",
       "             eval_metric=None, feature_types=None, gamma=None, gpu_id=None,\n",
       "             grow_policy=None, importance_type=None,\n",
       "             interaction_constraints=None, learning_rate=None, max_bin=None,\n",
       "             max_cat_threshold=None, max_cat_to_onehot=None,\n",
       "             max_delta_step=None, max_depth=7, max_leaves=None,\n",
       "             min_child_weight=None, missing=nan, monotone_constraints=None,\n",
       "             n_estimators=5000, n_jobs=None, num_parallel_tree=None,\n",
       "             predictor=None, ...)</pre><b>In a Jupyter environment, please rerun this cell to show the HTML representation or trust the notebook. <br />On GitHub, the HTML representation is unable to render, please try loading this page with nbviewer.org.</b></div><div class=\"sk-container\" hidden><div class=\"sk-item\"><div class=\"sk-estimator sk-toggleable\"><input class=\"sk-toggleable__control sk-hidden--visually\" id=\"sk-estimator-id-3\" type=\"checkbox\" checked><label for=\"sk-estimator-id-3\" class=\"sk-toggleable__label sk-toggleable__label-arrow\">XGBRegressor</label><div class=\"sk-toggleable__content\"><pre>XGBRegressor(base_score=None, booster=None, callbacks=None,\n",
       "             colsample_bylevel=None, colsample_bynode=None, colsample_bytree=1,\n",
       "             early_stopping_rounds=None, enable_categorical=False, eta=0.05,\n",
       "             eval_metric=None, feature_types=None, gamma=None, gpu_id=None,\n",
       "             grow_policy=None, importance_type=None,\n",
       "             interaction_constraints=None, learning_rate=None, max_bin=None,\n",
       "             max_cat_threshold=None, max_cat_to_onehot=None,\n",
       "             max_delta_step=None, max_depth=7, max_leaves=None,\n",
       "             min_child_weight=None, missing=nan, monotone_constraints=None,\n",
       "             n_estimators=5000, n_jobs=None, num_parallel_tree=None,\n",
       "             predictor=None, ...)</pre></div></div></div></div></div>"
      ],
      "text/plain": [
       "XGBRegressor(base_score=None, booster=None, callbacks=None,\n",
       "             colsample_bylevel=None, colsample_bynode=None, colsample_bytree=1,\n",
       "             early_stopping_rounds=None, enable_categorical=False, eta=0.05,\n",
       "             eval_metric=None, feature_types=None, gamma=None, gpu_id=None,\n",
       "             grow_policy=None, importance_type=None,\n",
       "             interaction_constraints=None, learning_rate=None, max_bin=None,\n",
       "             max_cat_threshold=None, max_cat_to_onehot=None,\n",
       "             max_delta_step=None, max_depth=7, max_leaves=None,\n",
       "             min_child_weight=None, missing=nan, monotone_constraints=None,\n",
       "             n_estimators=5000, n_jobs=None, num_parallel_tree=None,\n",
       "             predictor=None, ...)"
      ]
     },
     "execution_count": 21,
     "metadata": {},
     "output_type": "execute_result"
    }
   ],
   "source": [
    "model_ad.fit(X_ad_train, y_ad_train)"
   ]
  },
  {
   "cell_type": "code",
   "execution_count": 22,
   "id": "ec92a4b9",
   "metadata": {
    "ExecuteTime": {
     "end_time": "2023-01-31T04:31:24.778009Z",
     "start_time": "2023-01-31T04:31:24.578127Z"
    }
   },
   "outputs": [
    {
     "name": "stdout",
     "output_type": "stream",
     "text": [
      "0.03447284903922754\n"
     ]
    }
   ],
   "source": [
    "predictions_sub = model_sub.predict(X_sub_test)\n",
    "print(mean_absolute_error(predictions_sub, y_sub_test))"
   ]
  },
  {
   "cell_type": "code",
   "execution_count": 23,
   "id": "d47f559f",
   "metadata": {
    "ExecuteTime": {
     "end_time": "2023-01-31T04:31:25.707356Z",
     "start_time": "2023-01-31T04:31:25.497481Z"
    }
   },
   "outputs": [
    {
     "name": "stdout",
     "output_type": "stream",
     "text": [
      "0.08107050488389671\n"
     ]
    }
   ],
   "source": [
    "predictions_iap = model_iap.predict(X_iap_test)\n",
    "print(mean_absolute_error(predictions_iap, y_iap_test))"
   ]
  },
  {
   "cell_type": "code",
   "execution_count": 24,
   "id": "6927c45a",
   "metadata": {
    "ExecuteTime": {
     "end_time": "2023-01-31T04:31:26.506374Z",
     "start_time": "2023-01-31T04:31:26.370454Z"
    }
   },
   "outputs": [
    {
     "name": "stdout",
     "output_type": "stream",
     "text": [
      "0.009201803607474971\n"
     ]
    }
   ],
   "source": [
    "predictions_ad = model_ad.predict(X_ad_test)\n",
    "print(mean_absolute_error(predictions_ad, y_ad_test))"
   ]
  },
  {
   "cell_type": "code",
   "execution_count": 25,
   "id": "40e26817",
   "metadata": {
    "ExecuteTime": {
     "end_time": "2023-01-31T04:31:27.838335Z",
     "start_time": "2023-01-31T04:31:27.834335Z"
    }
   },
   "outputs": [],
   "source": [
    "predictions = predictions_sub + predictions_iap + predictions_ad"
   ]
  },
  {
   "cell_type": "code",
   "execution_count": 26,
   "id": "b1889049",
   "metadata": {
    "ExecuteTime": {
     "end_time": "2023-01-31T04:31:34.116211Z",
     "start_time": "2023-01-31T04:31:34.108237Z"
    }
   },
   "outputs": [
    {
     "data": {
      "text/plain": [
       "0.1097266506607088"
      ]
     },
     "execution_count": 26,
     "metadata": {},
     "output_type": "execute_result"
    }
   ],
   "source": [
    "mean_absolute_error(predictions, y_full_test)"
   ]
  },
  {
   "cell_type": "code",
   "execution_count": null,
   "id": "b31a1ee6",
   "metadata": {},
   "outputs": [],
   "source": []
  }
 ],
 "metadata": {
  "kernelspec": {
   "display_name": "Python 3 (ipykernel)",
   "language": "python",
   "name": "python3"
  },
  "language_info": {
   "codemirror_mode": {
    "name": "ipython",
    "version": 3
   },
   "file_extension": ".py",
   "mimetype": "text/x-python",
   "name": "python",
   "nbconvert_exporter": "python",
   "pygments_lexer": "ipython3",
   "version": "3.9.12"
  },
  "varInspector": {
   "cols": {
    "lenName": 16,
    "lenType": 16,
    "lenVar": 40
   },
   "kernels_config": {
    "python": {
     "delete_cmd_postfix": "",
     "delete_cmd_prefix": "del ",
     "library": "var_list.py",
     "varRefreshCmd": "print(var_dic_list())"
    },
    "r": {
     "delete_cmd_postfix": ") ",
     "delete_cmd_prefix": "rm(",
     "library": "var_list.r",
     "varRefreshCmd": "cat(var_dic_list()) "
    }
   },
   "types_to_exclude": [
    "module",
    "function",
    "builtin_function_or_method",
    "instance",
    "_Feature"
   ],
   "window_display": false
  }
 },
 "nbformat": 4,
 "nbformat_minor": 5
}
