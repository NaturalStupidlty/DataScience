{
 "cells": [
  {
   "cell_type": "code",
   "execution_count": 47,
   "id": "f7e2ebdd",
   "metadata": {},
   "outputs": [],
   "source": [
    "import time\n",
    "import pandas as pd\n",
    "import numpy as np\n",
    "\n",
    "from sklearn.pipeline import Pipeline\n",
    "from sklearn.compose import ColumnTransformer\n",
    "from sklearn.model_selection import train_test_split, cross_val_score, StratifiedKFold, RepeatedKFold\n",
    "from sklearn.preprocessing import StandardScaler, OneHotEncoder\n",
    "from sklearn.metrics import mean_absolute_error\n",
    "\n",
    "from xgboost import XGBRegressor\n",
    "from lightgbm import LGBMRegressor"
   ]
  },
  {
   "cell_type": "code",
   "execution_count": 48,
   "id": "31a3a28a",
   "metadata": {},
   "outputs": [],
   "source": [
    "data = pd.read_csv(\"iasa_df.csv\")"
   ]
  },
  {
   "cell_type": "code",
   "execution_count": 49,
   "id": "81a456fa",
   "metadata": {},
   "outputs": [],
   "source": [
    "data = data.sample(n = 100000)"
   ]
  },
  {
   "cell_type": "code",
   "execution_count": 50,
   "id": "f7422e0c",
   "metadata": {},
   "outputs": [],
   "source": [
    "# id column\n",
    "data.insert(0, 'id', list(np.arange(1,len(data)+1)))"
   ]
  },
  {
   "cell_type": "code",
   "execution_count": 51,
   "id": "c02e9902",
   "metadata": {},
   "outputs": [],
   "source": [
    "# data.info()"
   ]
  },
  {
   "cell_type": "code",
   "execution_count": 52,
   "id": "f21893a7",
   "metadata": {},
   "outputs": [
    {
     "data": {
      "text/plain": [
       "id                       0.000\n",
       "total_sessions_day0      0.084\n",
       "total_sessions_day1      0.084\n",
       "total_sessions_day3      0.084\n",
       "total_sessions_day7      0.084\n",
       "                         ...  \n",
       "platform                 0.000\n",
       "target_sub_ltv_day30     0.000\n",
       "target_iap_ltv_day30     0.000\n",
       "target_ad_ltv_day30      0.000\n",
       "target_full_ltv_day30    0.000\n",
       "Length: 64, dtype: float64"
      ]
     },
     "execution_count": 52,
     "metadata": {},
     "output_type": "execute_result"
    }
   ],
   "source": [
    "# percentage of missing data\n",
    "data.isnull().sum() / data.shape[0]*100"
   ]
  },
  {
   "cell_type": "code",
   "execution_count": 53,
   "id": "8ad2603a",
   "metadata": {},
   "outputs": [],
   "source": [
    "# list of columns with missing data\n",
    "nan_columns = data.columns[data.isna().any()]"
   ]
  },
  {
   "cell_type": "code",
   "execution_count": 54,
   "id": "6c332726",
   "metadata": {},
   "outputs": [],
   "source": [
    "# correlation for columns with missing data\n",
    "# data.corr(numeric_only = True)[nan_columns]"
   ]
  },
  {
   "cell_type": "code",
   "execution_count": 55,
   "id": "3dad24fb",
   "metadata": {},
   "outputs": [],
   "source": [
    "# filling missing data\n",
    "def clean(data, nan_columns):\n",
    "    null_data = data[data.isnull().any(axis=1)]\n",
    "    \n",
    "    for col in nan_columns:\n",
    "        null_data[col] = null_data.apply(\n",
    "            lambda row: data[col].median()\n",
    "            if np.isnan(row[col])\n",
    "            else row[col], axis=1)\n",
    "        \n",
    "    for i in null_data['id']:\n",
    "        data[data['id'] == i] = null_data\n",
    "    \n",
    "    return data"
   ]
  },
  {
   "cell_type": "code",
   "execution_count": 56,
   "id": "e8539454",
   "metadata": {},
   "outputs": [
    {
     "name": "stderr",
     "output_type": "stream",
     "text": [
      "/var/folders/8r/80qp0xcx3p986rp4th0s50140000gn/T/ipykernel_15910/4011653965.py:6: SettingWithCopyWarning: \n",
      "A value is trying to be set on a copy of a slice from a DataFrame.\n",
      "Try using .loc[row_indexer,col_indexer] = value instead\n",
      "\n",
      "See the caveats in the documentation: https://pandas.pydata.org/pandas-docs/stable/user_guide/indexing.html#returning-a-view-versus-a-copy\n",
      "  null_data[col] = null_data.apply(\n",
      "/var/folders/8r/80qp0xcx3p986rp4th0s50140000gn/T/ipykernel_15910/4011653965.py:6: SettingWithCopyWarning: \n",
      "A value is trying to be set on a copy of a slice from a DataFrame.\n",
      "Try using .loc[row_indexer,col_indexer] = value instead\n",
      "\n",
      "See the caveats in the documentation: https://pandas.pydata.org/pandas-docs/stable/user_guide/indexing.html#returning-a-view-versus-a-copy\n",
      "  null_data[col] = null_data.apply(\n",
      "/var/folders/8r/80qp0xcx3p986rp4th0s50140000gn/T/ipykernel_15910/4011653965.py:6: SettingWithCopyWarning: \n",
      "A value is trying to be set on a copy of a slice from a DataFrame.\n",
      "Try using .loc[row_indexer,col_indexer] = value instead\n",
      "\n",
      "See the caveats in the documentation: https://pandas.pydata.org/pandas-docs/stable/user_guide/indexing.html#returning-a-view-versus-a-copy\n",
      "  null_data[col] = null_data.apply(\n",
      "/var/folders/8r/80qp0xcx3p986rp4th0s50140000gn/T/ipykernel_15910/4011653965.py:6: SettingWithCopyWarning: \n",
      "A value is trying to be set on a copy of a slice from a DataFrame.\n",
      "Try using .loc[row_indexer,col_indexer] = value instead\n",
      "\n",
      "See the caveats in the documentation: https://pandas.pydata.org/pandas-docs/stable/user_guide/indexing.html#returning-a-view-versus-a-copy\n",
      "  null_data[col] = null_data.apply(\n"
     ]
    }
   ],
   "source": [
    "data = clean(data, nan_columns)"
   ]
  },
  {
   "cell_type": "code",
   "execution_count": 57,
   "id": "cc09d316",
   "metadata": {},
   "outputs": [],
   "source": [
    "# data.info()"
   ]
  },
  {
   "cell_type": "code",
   "execution_count": 58,
   "id": "99c92dce",
   "metadata": {},
   "outputs": [],
   "source": [
    "y = data[['target_full_ltv_day30',\n",
    "         'target_sub_ltv_day30',\n",
    "         'target_iap_ltv_day30',\n",
    "         'target_ad_ltv_day30']].copy().astype(int)\n",
    "\n",
    "X = data.drop(['id',\n",
    "               'target_full_ltv_day30',\n",
    "               'target_sub_ltv_day30',\n",
    "               'target_iap_ltv_day30',\n",
    "               'target_ad_ltv_day30',\n",
    "               'install_date',\n",
    "               'country_code'], axis=1).copy()"
   ]
  },
  {
   "cell_type": "code",
   "execution_count": 59,
   "id": "2374bbd1",
   "metadata": {},
   "outputs": [],
   "source": [
    "# Test-train-validation split for all targets\n",
    "# train - 98%\n",
    "# test - 2%\n",
    "\n",
    "X_train, X_test, y_train, y_test = train_test_split(X,\n",
    "                                                    y,\n",
    "                                                    test_size = 0.02,\n",
    "                                                    random_state=69) "
   ]
  },
  {
   "cell_type": "code",
   "execution_count": 60,
   "id": "5f6a9c4a",
   "metadata": {},
   "outputs": [],
   "source": [
    "# Three independent targets\n",
    "y_train_sub = y_train['target_sub_ltv_day30'].copy().astype(int)\n",
    "y_test_sub = y_test['target_sub_ltv_day30'].copy().astype(int)\n",
    "\n",
    "y_train_iap = y_train['target_iap_ltv_day30'].copy().astype(int)\n",
    "y_test_iap = y_test['target_iap_ltv_day30'].copy().astype(int)\n",
    "\n",
    "y_train_ad = y_train['target_ad_ltv_day30'].copy().astype(int)\n",
    "y_test_ad = y_test['target_ad_ltv_day30'].copy().astype(int)\n",
    "\n",
    "y_train.drop(['target_sub_ltv_day30',\n",
    "         'target_iap_ltv_day30',\n",
    "         'target_ad_ltv_day30'], axis=1, inplace = True)\n",
    "\n",
    "y_test.drop(['target_sub_ltv_day30',\n",
    "         'target_iap_ltv_day30',\n",
    "         'target_ad_ltv_day30'], axis=1, inplace = True)"
   ]
  },
  {
   "cell_type": "code",
   "execution_count": 79,
   "id": "b8c9971c",
   "metadata": {},
   "outputs": [],
   "source": [
    "# sub doesn't really need iap and ltv features and so on\n",
    "\n",
    "X_train_sub = X_train.drop(['app_iap_ltv_day0',\n",
    "                'app_iap_ltv_day1',\n",
    "                'app_iap_ltv_day3',\n",
    "                'ad_ltv_day0',\n",
    "                'ad_ltv_day1',\n",
    "                'ad_ltv_day3'], axis=1).copy()\n",
    "\n",
    "X_test_sub = X_test.drop(['app_iap_ltv_day0',\n",
    "                'app_iap_ltv_day1',\n",
    "                'app_iap_ltv_day3',\n",
    "                'ad_ltv_day0',\n",
    "                'ad_ltv_day1',\n",
    "                'ad_ltv_day3'], axis=1).copy()\n",
    "\n",
    "X_train_iap = X_train.drop(['app_sub_ltv_day0',\n",
    "                'app_sub_ltv_day1',\n",
    "                'app_sub_ltv_day3',\n",
    "                'ad_ltv_day0', \n",
    "                'ad_ltv_day1',\n",
    "                'ad_ltv_day3'], axis=1).copy()\n",
    "\n",
    "X_test_iap = X_test.drop(['app_sub_ltv_day0',\n",
    "                'app_sub_ltv_day1',\n",
    "                'app_sub_ltv_day3',\n",
    "                'ad_ltv_day0', \n",
    "                'ad_ltv_day1',\n",
    "                'ad_ltv_day3'], axis=1).copy()\n",
    "\n",
    "X_train_ad = X_train.drop(['app_sub_ltv_day0',\n",
    "               'app_sub_ltv_day1',\n",
    "               'app_sub_ltv_day3',\n",
    "               'app_iap_ltv_day0', \n",
    "               'app_iap_ltv_day1',\n",
    "               'app_iap_ltv_day3'], axis=1).copy()\n",
    "\n",
    "X_test_ad = X_test.drop(['app_sub_ltv_day0',\n",
    "               'app_sub_ltv_day1',\n",
    "               'app_sub_ltv_day3',\n",
    "               'app_iap_ltv_day0', \n",
    "               'app_iap_ltv_day1',\n",
    "               'app_iap_ltv_day3'], axis=1).copy()"
   ]
  },
  {
   "cell_type": "code",
   "execution_count": 80,
   "id": "edfb7a70",
   "metadata": {},
   "outputs": [
    {
     "name": "stdout",
     "output_type": "stream",
     "text": [
      "Training set shapes: (98000, 71) (98000, 71) (98000, 71)\n",
      "Test set shapes: (2000, 64) (2000, 64) (2000, 64)\n"
     ]
    }
   ],
   "source": [
    "# Indentify numerical and categorical columns\n",
    "numerical_cols_sub = [cname for cname in X_train_sub.columns if X_train_sub[cname].dtype in ['int64', 'float64']]\n",
    "categorical_cols_sub = [cname for cname in X_train_sub.columns if X_train_sub[cname].dtype == \"object\"]\n",
    "\n",
    "numerical_cols_iap = [cname for cname in X_train_iap.columns if X_train_iap[cname].dtype in ['int64', 'float64']]\n",
    "categorical_cols_iap = [cname for cname in X_train_iap.columns if X_train_iap[cname].dtype == \"object\"]\n",
    "\n",
    "numerical_cols_ad = [cname for cname in X_train_ad.columns if X_train_ad[cname].dtype in ['int64', 'float64']]\n",
    "categorical_cols_ad = [cname for cname in X_train_ad.columns if X_train_ad[cname].dtype == \"object\"]\n",
    "\n",
    "# Scale numerical data to have mean=0 and variance=1\n",
    "numerical_transformer = Pipeline(steps=[('scaler',\n",
    "                                         StandardScaler())])\n",
    "\n",
    "# One-hot encode categorical data\n",
    "categorical_transformer = Pipeline(steps=[('onehot',\n",
    "                                           OneHotEncoder(drop='if_binary',\n",
    "                                            handle_unknown='ignore',\n",
    "                                            sparse_output=False))])\n",
    "\n",
    "# Combine preprocessing\n",
    "ct_sub = ColumnTransformer(transformers=[\n",
    "        ('num', numerical_transformer, numerical_cols_sub),\n",
    "        ('cat', categorical_transformer, categorical_cols_sub)],\n",
    "        remainder='passthrough')\n",
    "\n",
    "ct_iap = ColumnTransformer(transformers=[\n",
    "        ('num', numerical_transformer, numerical_cols_iap),\n",
    "        ('cat', categorical_transformer, categorical_cols_iap)],\n",
    "        remainder='passthrough')\n",
    "\n",
    "ct_ad = ColumnTransformer(transformers=[\n",
    "        ('num', numerical_transformer, numerical_cols_ad),\n",
    "        ('cat', categorical_transformer, categorical_cols_ad)],\n",
    "        remainder='passthrough')\n",
    "\n",
    "# Apply preprocessing\n",
    "X_train_sub = ct_sub.fit_transform(X_train_sub)\n",
    "X_test_sub = ct_sub.fit_transform(X_test_sub)\n",
    "\n",
    "X_train_iap = ct_iap.fit_transform(X_train_iap)\n",
    "X_test_iap = ct_iap.fit_transform(X_test_iap)\n",
    "\n",
    "X_train_ad = ct_ad.fit_transform(X_train_ad)\n",
    "X_test_ad = ct_ad.fit_transform(X_test_ad)\n",
    "\n",
    "# Print new shape\n",
    "print('Training set shapes:',\n",
    "      X_train_sub.shape,\n",
    "      X_train_iap.shape,\n",
    "      X_train_ad.shape)\n",
    "print('Test set shapes:',\n",
    "      X_test_sub.shape,\n",
    "      X_test_iap.shape,\n",
    "      X_test_ad.shape)"
   ]
  },
  {
   "cell_type": "code",
   "execution_count": 18,
   "id": "f7e2c500",
   "metadata": {},
   "outputs": [],
   "source": [
    "model_sub = XGBRegressor(n_estimators=5000,\n",
    "                     max_depth=7,\n",
    "                     eta=0.05,\n",
    "                     subsample=1,\n",
    "                     colsample_bytree=1,\n",
    "                     tree_method='hist',\n",
    "                     random_state=69)\n",
    "\n",
    "model_iap = XGBRegressor(n_estimators=5000,\n",
    "                     max_depth=7,\n",
    "                     eta=0.05,\n",
    "                     subsample=1,\n",
    "                     colsample_bytree=1,\n",
    "                     tree_method='hist',\n",
    "                     random_state=69)\n",
    "\n",
    "model_ad = XGBRegressor(n_estimators=5000,\n",
    "                     max_depth=7,\n",
    "                     eta=0.05,\n",
    "                     subsample=1,\n",
    "                     colsample_bytree=1,\n",
    "                     tree_method='hist',\n",
    "                     random_state=69)"
   ]
  },
  {
   "cell_type": "code",
   "execution_count": 19,
   "id": "4b5f7a20",
   "metadata": {},
   "outputs": [
    {
     "data": {
      "text/plain": [
       "\"\\ncv = RepeatedKFold(n_splits=10,\\n                   n_repeats=3,\\n                   random_state=69)\\n\\nscores_sub = cross_val_score(model_sub,\\n                             X_train_sub,\\n                             y_train_sub,\\n                             scoring='neg_mean_absolute_error',\\n                             cv=cv,\\n                             n_jobs=-1)\\n\\nscores_sub = np.absolute(scores_sub)\\nprint('Mean MAE: %.3f (%.3f)' % (scores_sub.mean(), scores_sub.std()))\\n\\nscores_iap = cross_val_score(model_iap,\\n                             X_train_iap,\\n                             y_train_iap,\\n                             scoring='neg_mean_absolute_error',\\n                             cv=cv,\\n                             n_jobs=-1)\\n\\nscores_siap = np.absolute(scores_iap)\\nprint('Mean MAE: %.3f (%.3f)' % (scores_iap.mean(), scores_iap.std()))\\n\\nscores_ad = cross_val_score(model_ad,\\n                             X_train_ad,\\n                             y_train_ad,\\n                             scoring='neg_mean_absolute_error',\\n                             cv=cv,\\n                             n_jobs=-1)\\n\\nscores_ad = np.absolute(scores_ad)\\nprint('Mean MAE: %.3f (%.3f)' % (scores_ad.mean(), scores_ad.std()))\\n\""
      ]
     },
     "execution_count": 19,
     "metadata": {},
     "output_type": "execute_result"
    }
   ],
   "source": [
    "'''\n",
    "cv = RepeatedKFold(n_splits=10,\n",
    "                   n_repeats=3,\n",
    "                   random_state=69)\n",
    "\n",
    "scores_sub = cross_val_score(model_sub,\n",
    "                             X_train_sub,\n",
    "                             y_train_sub,\n",
    "                             scoring='neg_mean_absolute_error',\n",
    "                             cv=cv,\n",
    "                             n_jobs=-1)\n",
    "\n",
    "scores_sub = np.absolute(scores_sub)\n",
    "print('Mean MAE: %.3f (%.3f)' % (scores_sub.mean(), scores_sub.std()))\n",
    "\n",
    "scores_iap = cross_val_score(model_iap,\n",
    "                             X_train_iap,\n",
    "                             y_train_iap,\n",
    "                             scoring='neg_mean_absolute_error',\n",
    "                             cv=cv,\n",
    "                             n_jobs=-1)\n",
    "\n",
    "scores_siap = np.absolute(scores_iap)\n",
    "print('Mean MAE: %.3f (%.3f)' % (scores_iap.mean(), scores_iap.std()))\n",
    "\n",
    "scores_ad = cross_val_score(model_ad,\n",
    "                             X_train_ad,\n",
    "                             y_train_ad,\n",
    "                             scoring='neg_mean_absolute_error',\n",
    "                             cv=cv,\n",
    "                             n_jobs=-1)\n",
    "\n",
    "scores_ad = np.absolute(scores_ad)\n",
    "print('Mean MAE: %.3f (%.3f)' % (scores_ad.mean(), scores_ad.std()))\n",
    "'''"
   ]
  },
  {
   "cell_type": "code",
   "execution_count": 20,
   "id": "722de496",
   "metadata": {},
   "outputs": [
    {
     "data": {
      "text/html": [
       "<style>#sk-container-id-1 {color: black;background-color: white;}#sk-container-id-1 pre{padding: 0;}#sk-container-id-1 div.sk-toggleable {background-color: white;}#sk-container-id-1 label.sk-toggleable__label {cursor: pointer;display: block;width: 100%;margin-bottom: 0;padding: 0.3em;box-sizing: border-box;text-align: center;}#sk-container-id-1 label.sk-toggleable__label-arrow:before {content: \"▸\";float: left;margin-right: 0.25em;color: #696969;}#sk-container-id-1 label.sk-toggleable__label-arrow:hover:before {color: black;}#sk-container-id-1 div.sk-estimator:hover label.sk-toggleable__label-arrow:before {color: black;}#sk-container-id-1 div.sk-toggleable__content {max-height: 0;max-width: 0;overflow: hidden;text-align: left;background-color: #f0f8ff;}#sk-container-id-1 div.sk-toggleable__content pre {margin: 0.2em;color: black;border-radius: 0.25em;background-color: #f0f8ff;}#sk-container-id-1 input.sk-toggleable__control:checked~div.sk-toggleable__content {max-height: 200px;max-width: 100%;overflow: auto;}#sk-container-id-1 input.sk-toggleable__control:checked~label.sk-toggleable__label-arrow:before {content: \"▾\";}#sk-container-id-1 div.sk-estimator input.sk-toggleable__control:checked~label.sk-toggleable__label {background-color: #d4ebff;}#sk-container-id-1 div.sk-label input.sk-toggleable__control:checked~label.sk-toggleable__label {background-color: #d4ebff;}#sk-container-id-1 input.sk-hidden--visually {border: 0;clip: rect(1px 1px 1px 1px);clip: rect(1px, 1px, 1px, 1px);height: 1px;margin: -1px;overflow: hidden;padding: 0;position: absolute;width: 1px;}#sk-container-id-1 div.sk-estimator {font-family: monospace;background-color: #f0f8ff;border: 1px dotted black;border-radius: 0.25em;box-sizing: border-box;margin-bottom: 0.5em;}#sk-container-id-1 div.sk-estimator:hover {background-color: #d4ebff;}#sk-container-id-1 div.sk-parallel-item::after {content: \"\";width: 100%;border-bottom: 1px solid gray;flex-grow: 1;}#sk-container-id-1 div.sk-label:hover label.sk-toggleable__label {background-color: #d4ebff;}#sk-container-id-1 div.sk-serial::before {content: \"\";position: absolute;border-left: 1px solid gray;box-sizing: border-box;top: 0;bottom: 0;left: 50%;z-index: 0;}#sk-container-id-1 div.sk-serial {display: flex;flex-direction: column;align-items: center;background-color: white;padding-right: 0.2em;padding-left: 0.2em;position: relative;}#sk-container-id-1 div.sk-item {position: relative;z-index: 1;}#sk-container-id-1 div.sk-parallel {display: flex;align-items: stretch;justify-content: center;background-color: white;position: relative;}#sk-container-id-1 div.sk-item::before, #sk-container-id-1 div.sk-parallel-item::before {content: \"\";position: absolute;border-left: 1px solid gray;box-sizing: border-box;top: 0;bottom: 0;left: 50%;z-index: -1;}#sk-container-id-1 div.sk-parallel-item {display: flex;flex-direction: column;z-index: 1;position: relative;background-color: white;}#sk-container-id-1 div.sk-parallel-item:first-child::after {align-self: flex-end;width: 50%;}#sk-container-id-1 div.sk-parallel-item:last-child::after {align-self: flex-start;width: 50%;}#sk-container-id-1 div.sk-parallel-item:only-child::after {width: 0;}#sk-container-id-1 div.sk-dashed-wrapped {border: 1px dashed gray;margin: 0 0.4em 0.5em 0.4em;box-sizing: border-box;padding-bottom: 0.4em;background-color: white;}#sk-container-id-1 div.sk-label label {font-family: monospace;font-weight: bold;display: inline-block;line-height: 1.2em;}#sk-container-id-1 div.sk-label-container {text-align: center;}#sk-container-id-1 div.sk-container {/* jupyter's `normalize.less` sets `[hidden] { display: none; }` but bootstrap.min.css set `[hidden] { display: none !important; }` so we also need the `!important` here to be able to override the default hidden behavior on the sphinx rendered scikit-learn.org. See: https://github.com/scikit-learn/scikit-learn/issues/21755 */display: inline-block !important;position: relative;}#sk-container-id-1 div.sk-text-repr-fallback {display: none;}</style><div id=\"sk-container-id-1\" class=\"sk-top-container\"><div class=\"sk-text-repr-fallback\"><pre>XGBRegressor(base_score=None, booster=None, callbacks=None,\n",
       "             colsample_bylevel=None, colsample_bynode=None, colsample_bytree=1,\n",
       "             early_stopping_rounds=None, enable_categorical=False, eta=0.05,\n",
       "             eval_metric=None, feature_types=None, gamma=None, gpu_id=None,\n",
       "             grow_policy=None, importance_type=None,\n",
       "             interaction_constraints=None, learning_rate=None, max_bin=None,\n",
       "             max_cat_threshold=None, max_cat_to_onehot=None,\n",
       "             max_delta_step=None, max_depth=7, max_leaves=None,\n",
       "             min_child_weight=None, missing=nan, monotone_constraints=None,\n",
       "             n_estimators=5000, n_jobs=None, num_parallel_tree=None,\n",
       "             predictor=None, ...)</pre><b>In a Jupyter environment, please rerun this cell to show the HTML representation or trust the notebook. <br />On GitHub, the HTML representation is unable to render, please try loading this page with nbviewer.org.</b></div><div class=\"sk-container\" hidden><div class=\"sk-item\"><div class=\"sk-estimator sk-toggleable\"><input class=\"sk-toggleable__control sk-hidden--visually\" id=\"sk-estimator-id-1\" type=\"checkbox\" checked><label for=\"sk-estimator-id-1\" class=\"sk-toggleable__label sk-toggleable__label-arrow\">XGBRegressor</label><div class=\"sk-toggleable__content\"><pre>XGBRegressor(base_score=None, booster=None, callbacks=None,\n",
       "             colsample_bylevel=None, colsample_bynode=None, colsample_bytree=1,\n",
       "             early_stopping_rounds=None, enable_categorical=False, eta=0.05,\n",
       "             eval_metric=None, feature_types=None, gamma=None, gpu_id=None,\n",
       "             grow_policy=None, importance_type=None,\n",
       "             interaction_constraints=None, learning_rate=None, max_bin=None,\n",
       "             max_cat_threshold=None, max_cat_to_onehot=None,\n",
       "             max_delta_step=None, max_depth=7, max_leaves=None,\n",
       "             min_child_weight=None, missing=nan, monotone_constraints=None,\n",
       "             n_estimators=5000, n_jobs=None, num_parallel_tree=None,\n",
       "             predictor=None, ...)</pre></div></div></div></div></div>"
      ],
      "text/plain": [
       "XGBRegressor(base_score=None, booster=None, callbacks=None,\n",
       "             colsample_bylevel=None, colsample_bynode=None, colsample_bytree=1,\n",
       "             early_stopping_rounds=None, enable_categorical=False, eta=0.05,\n",
       "             eval_metric=None, feature_types=None, gamma=None, gpu_id=None,\n",
       "             grow_policy=None, importance_type=None,\n",
       "             interaction_constraints=None, learning_rate=None, max_bin=None,\n",
       "             max_cat_threshold=None, max_cat_to_onehot=None,\n",
       "             max_delta_step=None, max_depth=7, max_leaves=None,\n",
       "             min_child_weight=None, missing=nan, monotone_constraints=None,\n",
       "             n_estimators=5000, n_jobs=None, num_parallel_tree=None,\n",
       "             predictor=None, ...)"
      ]
     },
     "execution_count": 20,
     "metadata": {},
     "output_type": "execute_result"
    }
   ],
   "source": [
    "model_sub.fit(X_train_sub, y_train_sub)"
   ]
  },
  {
   "cell_type": "code",
   "execution_count": 21,
   "id": "c68de6f1",
   "metadata": {},
   "outputs": [
    {
     "data": {
      "text/html": [
       "<style>#sk-container-id-2 {color: black;background-color: white;}#sk-container-id-2 pre{padding: 0;}#sk-container-id-2 div.sk-toggleable {background-color: white;}#sk-container-id-2 label.sk-toggleable__label {cursor: pointer;display: block;width: 100%;margin-bottom: 0;padding: 0.3em;box-sizing: border-box;text-align: center;}#sk-container-id-2 label.sk-toggleable__label-arrow:before {content: \"▸\";float: left;margin-right: 0.25em;color: #696969;}#sk-container-id-2 label.sk-toggleable__label-arrow:hover:before {color: black;}#sk-container-id-2 div.sk-estimator:hover label.sk-toggleable__label-arrow:before {color: black;}#sk-container-id-2 div.sk-toggleable__content {max-height: 0;max-width: 0;overflow: hidden;text-align: left;background-color: #f0f8ff;}#sk-container-id-2 div.sk-toggleable__content pre {margin: 0.2em;color: black;border-radius: 0.25em;background-color: #f0f8ff;}#sk-container-id-2 input.sk-toggleable__control:checked~div.sk-toggleable__content {max-height: 200px;max-width: 100%;overflow: auto;}#sk-container-id-2 input.sk-toggleable__control:checked~label.sk-toggleable__label-arrow:before {content: \"▾\";}#sk-container-id-2 div.sk-estimator input.sk-toggleable__control:checked~label.sk-toggleable__label {background-color: #d4ebff;}#sk-container-id-2 div.sk-label input.sk-toggleable__control:checked~label.sk-toggleable__label {background-color: #d4ebff;}#sk-container-id-2 input.sk-hidden--visually {border: 0;clip: rect(1px 1px 1px 1px);clip: rect(1px, 1px, 1px, 1px);height: 1px;margin: -1px;overflow: hidden;padding: 0;position: absolute;width: 1px;}#sk-container-id-2 div.sk-estimator {font-family: monospace;background-color: #f0f8ff;border: 1px dotted black;border-radius: 0.25em;box-sizing: border-box;margin-bottom: 0.5em;}#sk-container-id-2 div.sk-estimator:hover {background-color: #d4ebff;}#sk-container-id-2 div.sk-parallel-item::after {content: \"\";width: 100%;border-bottom: 1px solid gray;flex-grow: 1;}#sk-container-id-2 div.sk-label:hover label.sk-toggleable__label {background-color: #d4ebff;}#sk-container-id-2 div.sk-serial::before {content: \"\";position: absolute;border-left: 1px solid gray;box-sizing: border-box;top: 0;bottom: 0;left: 50%;z-index: 0;}#sk-container-id-2 div.sk-serial {display: flex;flex-direction: column;align-items: center;background-color: white;padding-right: 0.2em;padding-left: 0.2em;position: relative;}#sk-container-id-2 div.sk-item {position: relative;z-index: 1;}#sk-container-id-2 div.sk-parallel {display: flex;align-items: stretch;justify-content: center;background-color: white;position: relative;}#sk-container-id-2 div.sk-item::before, #sk-container-id-2 div.sk-parallel-item::before {content: \"\";position: absolute;border-left: 1px solid gray;box-sizing: border-box;top: 0;bottom: 0;left: 50%;z-index: -1;}#sk-container-id-2 div.sk-parallel-item {display: flex;flex-direction: column;z-index: 1;position: relative;background-color: white;}#sk-container-id-2 div.sk-parallel-item:first-child::after {align-self: flex-end;width: 50%;}#sk-container-id-2 div.sk-parallel-item:last-child::after {align-self: flex-start;width: 50%;}#sk-container-id-2 div.sk-parallel-item:only-child::after {width: 0;}#sk-container-id-2 div.sk-dashed-wrapped {border: 1px dashed gray;margin: 0 0.4em 0.5em 0.4em;box-sizing: border-box;padding-bottom: 0.4em;background-color: white;}#sk-container-id-2 div.sk-label label {font-family: monospace;font-weight: bold;display: inline-block;line-height: 1.2em;}#sk-container-id-2 div.sk-label-container {text-align: center;}#sk-container-id-2 div.sk-container {/* jupyter's `normalize.less` sets `[hidden] { display: none; }` but bootstrap.min.css set `[hidden] { display: none !important; }` so we also need the `!important` here to be able to override the default hidden behavior on the sphinx rendered scikit-learn.org. See: https://github.com/scikit-learn/scikit-learn/issues/21755 */display: inline-block !important;position: relative;}#sk-container-id-2 div.sk-text-repr-fallback {display: none;}</style><div id=\"sk-container-id-2\" class=\"sk-top-container\"><div class=\"sk-text-repr-fallback\"><pre>XGBRegressor(base_score=None, booster=None, callbacks=None,\n",
       "             colsample_bylevel=None, colsample_bynode=None, colsample_bytree=1,\n",
       "             early_stopping_rounds=None, enable_categorical=False, eta=0.05,\n",
       "             eval_metric=None, feature_types=None, gamma=None, gpu_id=None,\n",
       "             grow_policy=None, importance_type=None,\n",
       "             interaction_constraints=None, learning_rate=None, max_bin=None,\n",
       "             max_cat_threshold=None, max_cat_to_onehot=None,\n",
       "             max_delta_step=None, max_depth=7, max_leaves=None,\n",
       "             min_child_weight=None, missing=nan, monotone_constraints=None,\n",
       "             n_estimators=5000, n_jobs=None, num_parallel_tree=None,\n",
       "             predictor=None, ...)</pre><b>In a Jupyter environment, please rerun this cell to show the HTML representation or trust the notebook. <br />On GitHub, the HTML representation is unable to render, please try loading this page with nbviewer.org.</b></div><div class=\"sk-container\" hidden><div class=\"sk-item\"><div class=\"sk-estimator sk-toggleable\"><input class=\"sk-toggleable__control sk-hidden--visually\" id=\"sk-estimator-id-2\" type=\"checkbox\" checked><label for=\"sk-estimator-id-2\" class=\"sk-toggleable__label sk-toggleable__label-arrow\">XGBRegressor</label><div class=\"sk-toggleable__content\"><pre>XGBRegressor(base_score=None, booster=None, callbacks=None,\n",
       "             colsample_bylevel=None, colsample_bynode=None, colsample_bytree=1,\n",
       "             early_stopping_rounds=None, enable_categorical=False, eta=0.05,\n",
       "             eval_metric=None, feature_types=None, gamma=None, gpu_id=None,\n",
       "             grow_policy=None, importance_type=None,\n",
       "             interaction_constraints=None, learning_rate=None, max_bin=None,\n",
       "             max_cat_threshold=None, max_cat_to_onehot=None,\n",
       "             max_delta_step=None, max_depth=7, max_leaves=None,\n",
       "             min_child_weight=None, missing=nan, monotone_constraints=None,\n",
       "             n_estimators=5000, n_jobs=None, num_parallel_tree=None,\n",
       "             predictor=None, ...)</pre></div></div></div></div></div>"
      ],
      "text/plain": [
       "XGBRegressor(base_score=None, booster=None, callbacks=None,\n",
       "             colsample_bylevel=None, colsample_bynode=None, colsample_bytree=1,\n",
       "             early_stopping_rounds=None, enable_categorical=False, eta=0.05,\n",
       "             eval_metric=None, feature_types=None, gamma=None, gpu_id=None,\n",
       "             grow_policy=None, importance_type=None,\n",
       "             interaction_constraints=None, learning_rate=None, max_bin=None,\n",
       "             max_cat_threshold=None, max_cat_to_onehot=None,\n",
       "             max_delta_step=None, max_depth=7, max_leaves=None,\n",
       "             min_child_weight=None, missing=nan, monotone_constraints=None,\n",
       "             n_estimators=5000, n_jobs=None, num_parallel_tree=None,\n",
       "             predictor=None, ...)"
      ]
     },
     "execution_count": 21,
     "metadata": {},
     "output_type": "execute_result"
    }
   ],
   "source": [
    "model_iap.fit(X_train_iap, y_train_iap)"
   ]
  },
  {
   "cell_type": "code",
   "execution_count": 22,
   "id": "6354a10e",
   "metadata": {},
   "outputs": [
    {
     "data": {
      "text/html": [
       "<style>#sk-container-id-3 {color: black;background-color: white;}#sk-container-id-3 pre{padding: 0;}#sk-container-id-3 div.sk-toggleable {background-color: white;}#sk-container-id-3 label.sk-toggleable__label {cursor: pointer;display: block;width: 100%;margin-bottom: 0;padding: 0.3em;box-sizing: border-box;text-align: center;}#sk-container-id-3 label.sk-toggleable__label-arrow:before {content: \"▸\";float: left;margin-right: 0.25em;color: #696969;}#sk-container-id-3 label.sk-toggleable__label-arrow:hover:before {color: black;}#sk-container-id-3 div.sk-estimator:hover label.sk-toggleable__label-arrow:before {color: black;}#sk-container-id-3 div.sk-toggleable__content {max-height: 0;max-width: 0;overflow: hidden;text-align: left;background-color: #f0f8ff;}#sk-container-id-3 div.sk-toggleable__content pre {margin: 0.2em;color: black;border-radius: 0.25em;background-color: #f0f8ff;}#sk-container-id-3 input.sk-toggleable__control:checked~div.sk-toggleable__content {max-height: 200px;max-width: 100%;overflow: auto;}#sk-container-id-3 input.sk-toggleable__control:checked~label.sk-toggleable__label-arrow:before {content: \"▾\";}#sk-container-id-3 div.sk-estimator input.sk-toggleable__control:checked~label.sk-toggleable__label {background-color: #d4ebff;}#sk-container-id-3 div.sk-label input.sk-toggleable__control:checked~label.sk-toggleable__label {background-color: #d4ebff;}#sk-container-id-3 input.sk-hidden--visually {border: 0;clip: rect(1px 1px 1px 1px);clip: rect(1px, 1px, 1px, 1px);height: 1px;margin: -1px;overflow: hidden;padding: 0;position: absolute;width: 1px;}#sk-container-id-3 div.sk-estimator {font-family: monospace;background-color: #f0f8ff;border: 1px dotted black;border-radius: 0.25em;box-sizing: border-box;margin-bottom: 0.5em;}#sk-container-id-3 div.sk-estimator:hover {background-color: #d4ebff;}#sk-container-id-3 div.sk-parallel-item::after {content: \"\";width: 100%;border-bottom: 1px solid gray;flex-grow: 1;}#sk-container-id-3 div.sk-label:hover label.sk-toggleable__label {background-color: #d4ebff;}#sk-container-id-3 div.sk-serial::before {content: \"\";position: absolute;border-left: 1px solid gray;box-sizing: border-box;top: 0;bottom: 0;left: 50%;z-index: 0;}#sk-container-id-3 div.sk-serial {display: flex;flex-direction: column;align-items: center;background-color: white;padding-right: 0.2em;padding-left: 0.2em;position: relative;}#sk-container-id-3 div.sk-item {position: relative;z-index: 1;}#sk-container-id-3 div.sk-parallel {display: flex;align-items: stretch;justify-content: center;background-color: white;position: relative;}#sk-container-id-3 div.sk-item::before, #sk-container-id-3 div.sk-parallel-item::before {content: \"\";position: absolute;border-left: 1px solid gray;box-sizing: border-box;top: 0;bottom: 0;left: 50%;z-index: -1;}#sk-container-id-3 div.sk-parallel-item {display: flex;flex-direction: column;z-index: 1;position: relative;background-color: white;}#sk-container-id-3 div.sk-parallel-item:first-child::after {align-self: flex-end;width: 50%;}#sk-container-id-3 div.sk-parallel-item:last-child::after {align-self: flex-start;width: 50%;}#sk-container-id-3 div.sk-parallel-item:only-child::after {width: 0;}#sk-container-id-3 div.sk-dashed-wrapped {border: 1px dashed gray;margin: 0 0.4em 0.5em 0.4em;box-sizing: border-box;padding-bottom: 0.4em;background-color: white;}#sk-container-id-3 div.sk-label label {font-family: monospace;font-weight: bold;display: inline-block;line-height: 1.2em;}#sk-container-id-3 div.sk-label-container {text-align: center;}#sk-container-id-3 div.sk-container {/* jupyter's `normalize.less` sets `[hidden] { display: none; }` but bootstrap.min.css set `[hidden] { display: none !important; }` so we also need the `!important` here to be able to override the default hidden behavior on the sphinx rendered scikit-learn.org. See: https://github.com/scikit-learn/scikit-learn/issues/21755 */display: inline-block !important;position: relative;}#sk-container-id-3 div.sk-text-repr-fallback {display: none;}</style><div id=\"sk-container-id-3\" class=\"sk-top-container\"><div class=\"sk-text-repr-fallback\"><pre>XGBRegressor(base_score=None, booster=None, callbacks=None,\n",
       "             colsample_bylevel=None, colsample_bynode=None, colsample_bytree=1,\n",
       "             early_stopping_rounds=None, enable_categorical=False, eta=0.05,\n",
       "             eval_metric=None, feature_types=None, gamma=None, gpu_id=None,\n",
       "             grow_policy=None, importance_type=None,\n",
       "             interaction_constraints=None, learning_rate=None, max_bin=None,\n",
       "             max_cat_threshold=None, max_cat_to_onehot=None,\n",
       "             max_delta_step=None, max_depth=7, max_leaves=None,\n",
       "             min_child_weight=None, missing=nan, monotone_constraints=None,\n",
       "             n_estimators=5000, n_jobs=None, num_parallel_tree=None,\n",
       "             predictor=None, ...)</pre><b>In a Jupyter environment, please rerun this cell to show the HTML representation or trust the notebook. <br />On GitHub, the HTML representation is unable to render, please try loading this page with nbviewer.org.</b></div><div class=\"sk-container\" hidden><div class=\"sk-item\"><div class=\"sk-estimator sk-toggleable\"><input class=\"sk-toggleable__control sk-hidden--visually\" id=\"sk-estimator-id-3\" type=\"checkbox\" checked><label for=\"sk-estimator-id-3\" class=\"sk-toggleable__label sk-toggleable__label-arrow\">XGBRegressor</label><div class=\"sk-toggleable__content\"><pre>XGBRegressor(base_score=None, booster=None, callbacks=None,\n",
       "             colsample_bylevel=None, colsample_bynode=None, colsample_bytree=1,\n",
       "             early_stopping_rounds=None, enable_categorical=False, eta=0.05,\n",
       "             eval_metric=None, feature_types=None, gamma=None, gpu_id=None,\n",
       "             grow_policy=None, importance_type=None,\n",
       "             interaction_constraints=None, learning_rate=None, max_bin=None,\n",
       "             max_cat_threshold=None, max_cat_to_onehot=None,\n",
       "             max_delta_step=None, max_depth=7, max_leaves=None,\n",
       "             min_child_weight=None, missing=nan, monotone_constraints=None,\n",
       "             n_estimators=5000, n_jobs=None, num_parallel_tree=None,\n",
       "             predictor=None, ...)</pre></div></div></div></div></div>"
      ],
      "text/plain": [
       "XGBRegressor(base_score=None, booster=None, callbacks=None,\n",
       "             colsample_bylevel=None, colsample_bynode=None, colsample_bytree=1,\n",
       "             early_stopping_rounds=None, enable_categorical=False, eta=0.05,\n",
       "             eval_metric=None, feature_types=None, gamma=None, gpu_id=None,\n",
       "             grow_policy=None, importance_type=None,\n",
       "             interaction_constraints=None, learning_rate=None, max_bin=None,\n",
       "             max_cat_threshold=None, max_cat_to_onehot=None,\n",
       "             max_delta_step=None, max_depth=7, max_leaves=None,\n",
       "             min_child_weight=None, missing=nan, monotone_constraints=None,\n",
       "             n_estimators=5000, n_jobs=None, num_parallel_tree=None,\n",
       "             predictor=None, ...)"
      ]
     },
     "execution_count": 22,
     "metadata": {},
     "output_type": "execute_result"
    }
   ],
   "source": [
    "model_ad.fit(X_train_ad, y_train_ad)"
   ]
  },
  {
   "cell_type": "code",
   "execution_count": 23,
   "id": "0d403482",
   "metadata": {},
   "outputs": [
    {
     "ename": "ValueError",
     "evalue": "Feature shape mismatch, expected: 73, got 66",
     "output_type": "error",
     "traceback": [
      "\u001b[0;31m---------------------------------------------------------------------------\u001b[0m",
      "\u001b[0;31mValueError\u001b[0m                                Traceback (most recent call last)",
      "Cell \u001b[0;32mIn[23], line 1\u001b[0m\n\u001b[0;32m----> 1\u001b[0m predictions_sub \u001b[38;5;241m=\u001b[39m \u001b[43mmodel_sub\u001b[49m\u001b[38;5;241;43m.\u001b[39;49m\u001b[43mpredict\u001b[49m\u001b[43m(\u001b[49m\u001b[43mX_test_sub\u001b[49m\u001b[43m)\u001b[49m\n\u001b[1;32m      2\u001b[0m \u001b[38;5;28mprint\u001b[39m(mean_absolute_error(predictions_sub, y_test_sub))\n",
      "File \u001b[0;32m~/opt/miniconda3/envs/tf/lib/python3.9/site-packages/xgboost/sklearn.py:1114\u001b[0m, in \u001b[0;36mXGBModel.predict\u001b[0;34m(self, X, output_margin, ntree_limit, validate_features, base_margin, iteration_range)\u001b[0m\n\u001b[1;32m   1112\u001b[0m \u001b[38;5;28;01mif\u001b[39;00m \u001b[38;5;28mself\u001b[39m\u001b[38;5;241m.\u001b[39m_can_use_inplace_predict():\n\u001b[1;32m   1113\u001b[0m     \u001b[38;5;28;01mtry\u001b[39;00m:\n\u001b[0;32m-> 1114\u001b[0m         predts \u001b[38;5;241m=\u001b[39m \u001b[38;5;28;43mself\u001b[39;49m\u001b[38;5;241;43m.\u001b[39;49m\u001b[43mget_booster\u001b[49m\u001b[43m(\u001b[49m\u001b[43m)\u001b[49m\u001b[38;5;241;43m.\u001b[39;49m\u001b[43minplace_predict\u001b[49m\u001b[43m(\u001b[49m\n\u001b[1;32m   1115\u001b[0m \u001b[43m            \u001b[49m\u001b[43mdata\u001b[49m\u001b[38;5;241;43m=\u001b[39;49m\u001b[43mX\u001b[49m\u001b[43m,\u001b[49m\n\u001b[1;32m   1116\u001b[0m \u001b[43m            \u001b[49m\u001b[43miteration_range\u001b[49m\u001b[38;5;241;43m=\u001b[39;49m\u001b[43miteration_range\u001b[49m\u001b[43m,\u001b[49m\n\u001b[1;32m   1117\u001b[0m \u001b[43m            \u001b[49m\u001b[43mpredict_type\u001b[49m\u001b[38;5;241;43m=\u001b[39;49m\u001b[38;5;124;43m\"\u001b[39;49m\u001b[38;5;124;43mmargin\u001b[39;49m\u001b[38;5;124;43m\"\u001b[39;49m\u001b[43m \u001b[49m\u001b[38;5;28;43;01mif\u001b[39;49;00m\u001b[43m \u001b[49m\u001b[43moutput_margin\u001b[49m\u001b[43m \u001b[49m\u001b[38;5;28;43;01melse\u001b[39;49;00m\u001b[43m \u001b[49m\u001b[38;5;124;43m\"\u001b[39;49m\u001b[38;5;124;43mvalue\u001b[39;49m\u001b[38;5;124;43m\"\u001b[39;49m\u001b[43m,\u001b[49m\n\u001b[1;32m   1118\u001b[0m \u001b[43m            \u001b[49m\u001b[43mmissing\u001b[49m\u001b[38;5;241;43m=\u001b[39;49m\u001b[38;5;28;43mself\u001b[39;49m\u001b[38;5;241;43m.\u001b[39;49m\u001b[43mmissing\u001b[49m\u001b[43m,\u001b[49m\n\u001b[1;32m   1119\u001b[0m \u001b[43m            \u001b[49m\u001b[43mbase_margin\u001b[49m\u001b[38;5;241;43m=\u001b[39;49m\u001b[43mbase_margin\u001b[49m\u001b[43m,\u001b[49m\n\u001b[1;32m   1120\u001b[0m \u001b[43m            \u001b[49m\u001b[43mvalidate_features\u001b[49m\u001b[38;5;241;43m=\u001b[39;49m\u001b[43mvalidate_features\u001b[49m\u001b[43m,\u001b[49m\n\u001b[1;32m   1121\u001b[0m \u001b[43m        \u001b[49m\u001b[43m)\u001b[49m\n\u001b[1;32m   1122\u001b[0m         \u001b[38;5;28;01mif\u001b[39;00m _is_cupy_array(predts):\n\u001b[1;32m   1123\u001b[0m             \u001b[38;5;28;01mimport\u001b[39;00m \u001b[38;5;21;01mcupy\u001b[39;00m  \u001b[38;5;66;03m# pylint: disable=import-error\u001b[39;00m\n",
      "File \u001b[0;32m~/opt/miniconda3/envs/tf/lib/python3.9/site-packages/xgboost/core.py:2268\u001b[0m, in \u001b[0;36mBooster.inplace_predict\u001b[0;34m(self, data, iteration_range, predict_type, missing, validate_features, base_margin, strict_shape)\u001b[0m\n\u001b[1;32m   2264\u001b[0m         \u001b[38;5;28;01mraise\u001b[39;00m \u001b[38;5;167;01mTypeError\u001b[39;00m(\n\u001b[1;32m   2265\u001b[0m             \u001b[38;5;124m\"\u001b[39m\u001b[38;5;124m`shape` attribute is required when `validate_features` is True.\u001b[39m\u001b[38;5;124m\"\u001b[39m\n\u001b[1;32m   2266\u001b[0m         )\n\u001b[1;32m   2267\u001b[0m     \u001b[38;5;28;01mif\u001b[39;00m \u001b[38;5;28mlen\u001b[39m(data\u001b[38;5;241m.\u001b[39mshape) \u001b[38;5;241m!=\u001b[39m \u001b[38;5;241m1\u001b[39m \u001b[38;5;129;01mand\u001b[39;00m \u001b[38;5;28mself\u001b[39m\u001b[38;5;241m.\u001b[39mnum_features() \u001b[38;5;241m!=\u001b[39m data\u001b[38;5;241m.\u001b[39mshape[\u001b[38;5;241m1\u001b[39m]:\n\u001b[0;32m-> 2268\u001b[0m         \u001b[38;5;28;01mraise\u001b[39;00m \u001b[38;5;167;01mValueError\u001b[39;00m(\n\u001b[1;32m   2269\u001b[0m             \u001b[38;5;124mf\u001b[39m\u001b[38;5;124m\"\u001b[39m\u001b[38;5;124mFeature shape mismatch, expected: \u001b[39m\u001b[38;5;132;01m{\u001b[39;00m\u001b[38;5;28mself\u001b[39m\u001b[38;5;241m.\u001b[39mnum_features()\u001b[38;5;132;01m}\u001b[39;00m\u001b[38;5;124m, \u001b[39m\u001b[38;5;124m\"\u001b[39m\n\u001b[1;32m   2270\u001b[0m             \u001b[38;5;124mf\u001b[39m\u001b[38;5;124m\"\u001b[39m\u001b[38;5;124mgot \u001b[39m\u001b[38;5;132;01m{\u001b[39;00mdata\u001b[38;5;241m.\u001b[39mshape[\u001b[38;5;241m1\u001b[39m]\u001b[38;5;132;01m}\u001b[39;00m\u001b[38;5;124m\"\u001b[39m\n\u001b[1;32m   2271\u001b[0m         )\n\u001b[1;32m   2273\u001b[0m \u001b[38;5;28;01mfrom\u001b[39;00m \u001b[38;5;21;01m.\u001b[39;00m\u001b[38;5;21;01mdata\u001b[39;00m \u001b[38;5;28;01mimport\u001b[39;00m (\n\u001b[1;32m   2274\u001b[0m     _array_interface,\n\u001b[1;32m   2275\u001b[0m     _is_cudf_df,\n\u001b[0;32m   (...)\u001b[0m\n\u001b[1;32m   2278\u001b[0m     _transform_pandas_df,\n\u001b[1;32m   2279\u001b[0m )\n\u001b[1;32m   2281\u001b[0m enable_categorical \u001b[38;5;241m=\u001b[39m _has_categorical(\u001b[38;5;28mself\u001b[39m, data)\n",
      "\u001b[0;31mValueError\u001b[0m: Feature shape mismatch, expected: 73, got 66"
     ]
    }
   ],
   "source": [
    "predictions_sub = model_sub.predict(X_test_sub)\n",
    "print(mean_absolute_error(predictions_sub, y_test_sub))"
   ]
  },
  {
   "cell_type": "code",
   "execution_count": null,
   "id": "7b85400a",
   "metadata": {},
   "outputs": [],
   "source": [
    "predictions_iap = model_iap.predict(X_test_iap)\n",
    "print(mean_absolute_error(predictions_iap, y_test_iap))"
   ]
  },
  {
   "cell_type": "code",
   "execution_count": null,
   "id": "7641f122",
   "metadata": {},
   "outputs": [],
   "source": [
    "predictions_ad = model_ad.predict(X_test_ad)\n",
    "print(mean_absolute_error(predictions_ad, y_test_ad))"
   ]
  },
  {
   "cell_type": "code",
   "execution_count": null,
   "id": "7cbdf554",
   "metadata": {},
   "outputs": [],
   "source": [
    "predictions = predictions_sub + predictions_iap + predictions_ad"
   ]
  },
  {
   "cell_type": "code",
   "execution_count": null,
   "id": "ccefb112",
   "metadata": {},
   "outputs": [],
   "source": [
    "mean_absolute_error(predictions, y_test)"
   ]
  },
  {
   "cell_type": "code",
   "execution_count": null,
   "id": "12fc0eb5",
   "metadata": {},
   "outputs": [],
   "source": []
  }
 ],
 "metadata": {
  "kernelspec": {
   "display_name": "Python 3.9 (tf)",
   "language": "python",
   "name": "tensorflow"
  },
  "language_info": {
   "codemirror_mode": {
    "name": "ipython",
    "version": 3
   },
   "file_extension": ".py",
   "mimetype": "text/x-python",
   "name": "python",
   "nbconvert_exporter": "python",
   "pygments_lexer": "ipython3",
   "version": "3.9.15"
  }
 },
 "nbformat": 4,
 "nbformat_minor": 5
}
