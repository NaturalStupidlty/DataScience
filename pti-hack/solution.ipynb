{
 "cells": [
  {
   "cell_type": "code",
   "execution_count": 1,
   "id": "55b4e305",
   "metadata": {},
   "outputs": [],
   "source": [
    "import numpy as np\n",
    "import pandas as pd\n",
    "import time\n",
    "\n",
    "import scipy\n",
    "import tensorflow as tf\n",
    "from tensorflow import keras\n",
    "from tensorflow.keras import layers"
   ]
  },
  {
   "cell_type": "code",
   "execution_count": 2,
   "id": "70fb439b",
   "metadata": {},
   "outputs": [
    {
     "name": "stderr",
     "output_type": "stream",
     "text": [
      "/var/folders/8r/80qp0xcx3p986rp4th0s50140000gn/T/ipykernel_20593/2563139222.py:1: DtypeWarning: Columns (14,32) have mixed types. Specify dtype option on import or set low_memory=False.\n",
      "  train = pd.read_csv(\"train_data.csv\")\n"
     ]
    }
   ],
   "source": [
    "train = pd.read_csv(\"train_data.csv\")\n",
    "test = pd.read_csv(\"test_data_full.csv\")\n",
    "predictions = pd.read_csv(\"test_data_check_template.csv\")"
   ]
  },
  {
   "cell_type": "code",
   "execution_count": 3,
   "id": "c5964d1f",
   "metadata": {},
   "outputs": [
    {
     "data": {
      "text/html": [
       "<div>\n",
       "<style scoped>\n",
       "    .dataframe tbody tr th:only-of-type {\n",
       "        vertical-align: middle;\n",
       "    }\n",
       "\n",
       "    .dataframe tbody tr th {\n",
       "        vertical-align: top;\n",
       "    }\n",
       "\n",
       "    .dataframe thead th {\n",
       "        text-align: right;\n",
       "    }\n",
       "</style>\n",
       "<table border=\"1\" class=\"dataframe\">\n",
       "  <thead>\n",
       "    <tr style=\"text-align: right;\">\n",
       "      <th></th>\n",
       "      <th>Unnamed: 0</th>\n",
       "      <th>Id</th>\n",
       "      <th>OpportunityId</th>\n",
       "      <th>CreatedById</th>\n",
       "      <th>CreatedDate</th>\n",
       "      <th>CreatedDateForInsert</th>\n",
       "      <th>StageName</th>\n",
       "      <th>Amount</th>\n",
       "      <th>Probability</th>\n",
       "      <th>PrevOpportunityStageUpdate</th>\n",
       "      <th>ValidThroughDate</th>\n",
       "      <th>SystemModstamp</th>\n",
       "      <th>IsDeleted</th>\n",
       "      <th>PrevAmount</th>\n",
       "      <th>PrevCloseDate</th>\n",
       "      <th>AccountId</th>\n",
       "      <th>RecordTypeId</th>\n",
       "      <th>StageSortOrder</th>\n",
       "      <th>Type</th>\n",
       "      <th>LeadSource</th>\n",
       "      <th>CampaignId</th>\n",
       "      <th>OwnerId</th>\n",
       "      <th>Territory2Id</th>\n",
       "      <th>FiscalYear</th>\n",
       "      <th>FiscalQuarter</th>\n",
       "      <th>ContactId</th>\n",
       "      <th>PartnerAccountId</th>\n",
       "      <th>Number_of_Seats__c</th>\n",
       "      <th>SCC_Interest__c</th>\n",
       "      <th>Company_s_CRM_Type__c</th>\n",
       "      <th>Deal_type__c</th>\n",
       "      <th>Needs__c</th>\n",
       "      <th>Type_of_Users__c</th>\n",
       "      <th>TAM__c</th>\n",
       "      <th>Secondary_CSM__c</th>\n",
       "      <th>Source_Type__c</th>\n",
       "      <th>Original_Lead_Source__c</th>\n",
       "      <th>Original_Lead_Source_Details__c</th>\n",
       "    </tr>\n",
       "  </thead>\n",
       "  <tbody>\n",
       "    <tr>\n",
       "      <th>0</th>\n",
       "      <td>0</td>\n",
       "      <td>0081300002NRVGwAAP</td>\n",
       "      <td>00613000019fCVIAA2</td>\n",
       "      <td>00530000004M1PmAAK</td>\n",
       "      <td>6/30/2014 15:21</td>\n",
       "      <td>6/30/2014 15:21</td>\n",
       "      <td>0% probability Closed Lost</td>\n",
       "      <td>0.0</td>\n",
       "      <td>100</td>\n",
       "      <td>6/30/2014 15:21</td>\n",
       "      <td>9/26/2014 17:12</td>\n",
       "      <td>9/26/2014 17:12</td>\n",
       "      <td>0</td>\n",
       "      <td>NaN</td>\n",
       "      <td>NaN</td>\n",
       "      <td>0011300001dJpsyAAC</td>\n",
       "      <td>01230000000EhyS</td>\n",
       "      <td>11.0</td>\n",
       "      <td>Licenses</td>\n",
       "      <td>Inbound</td>\n",
       "      <td>000000000000000AAA</td>\n",
       "      <td>00530000000wmgpAAA</td>\n",
       "      <td>000000000000000AAA</td>\n",
       "      <td>2013</td>\n",
       "      <td>4</td>\n",
       "      <td>000000000000000AAA</td>\n",
       "      <td>000000000000000AAA</td>\n",
       "      <td>0.0</td>\n",
       "      <td>0</td>\n",
       "      <td>NaN</td>\n",
       "      <td>NaN</td>\n",
       "      <td>NaN</td>\n",
       "      <td>NaN</td>\n",
       "      <td>0051B000009NLbeQAG</td>\n",
       "      <td>0051B00000CsqZ4QAJ</td>\n",
       "      <td>NaN</td>\n",
       "      <td>Inbound</td>\n",
       "      <td>Marketplace - SFDC AppExchange</td>\n",
       "    </tr>\n",
       "    <tr>\n",
       "      <th>1</th>\n",
       "      <td>1</td>\n",
       "      <td>0081300002OmHzxAAF</td>\n",
       "      <td>0061300001AAxCTAA1</td>\n",
       "      <td>00530000004M1PmAAK</td>\n",
       "      <td>8/27/2014 20:42</td>\n",
       "      <td>8/27/2014 20:42</td>\n",
       "      <td>100% Won / PO / Invoiced</td>\n",
       "      <td>14250.0</td>\n",
       "      <td>100</td>\n",
       "      <td>8/27/2014 20:42</td>\n",
       "      <td>8/27/2014 20:43</td>\n",
       "      <td>8/27/2014 20:43</td>\n",
       "      <td>0</td>\n",
       "      <td>NaN</td>\n",
       "      <td>NaN</td>\n",
       "      <td>0011300001aCWWLAA4</td>\n",
       "      <td>01230000000EhyS</td>\n",
       "      <td>20.0</td>\n",
       "      <td>Licenses</td>\n",
       "      <td>Inbound</td>\n",
       "      <td>000000000000000AAA</td>\n",
       "      <td>0051300000BAQBnAAP</td>\n",
       "      <td>000000000000000AAA</td>\n",
       "      <td>2014</td>\n",
       "      <td>3</td>\n",
       "      <td>000000000000000AAA</td>\n",
       "      <td>000000000000000AAA</td>\n",
       "      <td>12.0</td>\n",
       "      <td>0</td>\n",
       "      <td>Salesforce</td>\n",
       "      <td>NaN</td>\n",
       "      <td>NaN</td>\n",
       "      <td>NaN</td>\n",
       "      <td>0051300000C41JZAAZ</td>\n",
       "      <td>0051B000009MC2dQAG</td>\n",
       "      <td>NaN</td>\n",
       "      <td>Inbound</td>\n",
       "      <td>Marketplace - SFDC AppExchange</td>\n",
       "    </tr>\n",
       "    <tr>\n",
       "      <th>2</th>\n",
       "      <td>2</td>\n",
       "      <td>0081300002OmI2DAAV</td>\n",
       "      <td>0061300001AAxCTAA1</td>\n",
       "      <td>00530000004M1PmAAK</td>\n",
       "      <td>8/27/2014 20:42</td>\n",
       "      <td>8/27/2014 20:43</td>\n",
       "      <td>100% Won / PO / Invoiced</td>\n",
       "      <td>14250.0</td>\n",
       "      <td>30</td>\n",
       "      <td>8/27/2014 20:42</td>\n",
       "      <td>9/26/2014 17:12</td>\n",
       "      <td>9/26/2014 17:12</td>\n",
       "      <td>0</td>\n",
       "      <td>NaN</td>\n",
       "      <td>NaN</td>\n",
       "      <td>0011300001aCWWLAA4</td>\n",
       "      <td>01230000000EhyS</td>\n",
       "      <td>20.0</td>\n",
       "      <td>Licenses</td>\n",
       "      <td>Inbound</td>\n",
       "      <td>000000000000000AAA</td>\n",
       "      <td>0051300000BAQBnAAP</td>\n",
       "      <td>000000000000000AAA</td>\n",
       "      <td>2014</td>\n",
       "      <td>3</td>\n",
       "      <td>000000000000000AAA</td>\n",
       "      <td>000000000000000AAA</td>\n",
       "      <td>12.0</td>\n",
       "      <td>0</td>\n",
       "      <td>Salesforce</td>\n",
       "      <td>NaN</td>\n",
       "      <td>NaN</td>\n",
       "      <td>NaN</td>\n",
       "      <td>0051300000C41JZAAZ</td>\n",
       "      <td>0051B000009MC2dQAG</td>\n",
       "      <td>NaN</td>\n",
       "      <td>Inbound</td>\n",
       "      <td>Marketplace - SFDC AppExchange</td>\n",
       "    </tr>\n",
       "    <tr>\n",
       "      <th>3</th>\n",
       "      <td>3</td>\n",
       "      <td>0081300002OpToDAAV</td>\n",
       "      <td>0061300001ABzUgAAL</td>\n",
       "      <td>0051300000BAV3KAAX</td>\n",
       "      <td>9/22/2014 20:22</td>\n",
       "      <td>9/22/2014 20:22</td>\n",
       "      <td>100% Won / PO / Invoiced</td>\n",
       "      <td>4320.0</td>\n",
       "      <td>10</td>\n",
       "      <td>9/22/2014 20:22</td>\n",
       "      <td>9/23/2014 14:36</td>\n",
       "      <td>9/23/2014 14:36</td>\n",
       "      <td>0</td>\n",
       "      <td>NaN</td>\n",
       "      <td>NaN</td>\n",
       "      <td>0011300001c0zmuAAA</td>\n",
       "      <td>01230000000EhyS</td>\n",
       "      <td>20.0</td>\n",
       "      <td>Licenses</td>\n",
       "      <td>Inbound</td>\n",
       "      <td>000000000000000AAA</td>\n",
       "      <td>0051300000BAQBnAAP</td>\n",
       "      <td>000000000000000AAA</td>\n",
       "      <td>2014</td>\n",
       "      <td>2</td>\n",
       "      <td>000000000000000AAA</td>\n",
       "      <td>000000000000000AAA</td>\n",
       "      <td>2.0</td>\n",
       "      <td>0</td>\n",
       "      <td>Salesforce</td>\n",
       "      <td>NaN</td>\n",
       "      <td>User Adoption;User Productivity;Accessing CRM ...</td>\n",
       "      <td>Inside Sales</td>\n",
       "      <td>0051300000C41JZAAZ</td>\n",
       "      <td>0051B000009NLbZQAW</td>\n",
       "      <td>App Exchange</td>\n",
       "      <td>Inbound</td>\n",
       "      <td>Website Trial SignUp</td>\n",
       "    </tr>\n",
       "    <tr>\n",
       "      <th>4</th>\n",
       "      <td>4</td>\n",
       "      <td>0081300002OpYTKAA3</td>\n",
       "      <td>0061300001AC0orAAD</td>\n",
       "      <td>0051300000BAV3KAAX</td>\n",
       "      <td>9/23/2014 12:13</td>\n",
       "      <td>9/23/2014 12:13</td>\n",
       "      <td>0% probability Closed Expired</td>\n",
       "      <td>14250.0</td>\n",
       "      <td>10</td>\n",
       "      <td>9/23/2014 12:13</td>\n",
       "      <td>9/23/2014 14:37</td>\n",
       "      <td>9/23/2014 14:37</td>\n",
       "      <td>0</td>\n",
       "      <td>NaN</td>\n",
       "      <td>NaN</td>\n",
       "      <td>0011300001aEx77AAC</td>\n",
       "      <td>01230000000EhyS</td>\n",
       "      <td>13.0</td>\n",
       "      <td>Licenses</td>\n",
       "      <td>Inbound</td>\n",
       "      <td>000000000000000AAA</td>\n",
       "      <td>0051300000BAQBnAAP</td>\n",
       "      <td>000000000000000AAA</td>\n",
       "      <td>2014</td>\n",
       "      <td>3</td>\n",
       "      <td>000000000000000AAA</td>\n",
       "      <td>000000000000000AAA</td>\n",
       "      <td>10.0</td>\n",
       "      <td>0</td>\n",
       "      <td>Salesforce</td>\n",
       "      <td>NaN</td>\n",
       "      <td>User Adoption;User Productivity;Accessing CRM ...</td>\n",
       "      <td>Field Sales</td>\n",
       "      <td>0051300000C41JZAAZ</td>\n",
       "      <td>0051B000009NLbZQAW</td>\n",
       "      <td>Website</td>\n",
       "      <td>Inbound</td>\n",
       "      <td>Website Contact Request</td>\n",
       "    </tr>\n",
       "    <tr>\n",
       "      <th>5</th>\n",
       "      <td>5</td>\n",
       "      <td>0081300002OpYUcAAN</td>\n",
       "      <td>0061300001AC0pGAAT</td>\n",
       "      <td>0051300000BAV3KAAX</td>\n",
       "      <td>9/23/2014 12:16</td>\n",
       "      <td>9/23/2014 12:16</td>\n",
       "      <td>0% probability Closed Expired</td>\n",
       "      <td>15000.0</td>\n",
       "      <td>10</td>\n",
       "      <td>9/23/2014 12:16</td>\n",
       "      <td>9/23/2014 14:37</td>\n",
       "      <td>9/23/2014 14:37</td>\n",
       "      <td>0</td>\n",
       "      <td>NaN</td>\n",
       "      <td>NaN</td>\n",
       "      <td>0011300001c13bZAAQ</td>\n",
       "      <td>01230000000EhyS</td>\n",
       "      <td>13.0</td>\n",
       "      <td>Licenses</td>\n",
       "      <td>Inbound</td>\n",
       "      <td>000000000000000AAA</td>\n",
       "      <td>0051300000BAQBnAAP</td>\n",
       "      <td>000000000000000AAA</td>\n",
       "      <td>2014</td>\n",
       "      <td>3</td>\n",
       "      <td>000000000000000AAA</td>\n",
       "      <td>000000000000000AAA</td>\n",
       "      <td>10.0</td>\n",
       "      <td>0</td>\n",
       "      <td>Salesforce</td>\n",
       "      <td>NaN</td>\n",
       "      <td>User Adoption;User Productivity;Accessing CRM ...</td>\n",
       "      <td>Other</td>\n",
       "      <td>0051B000009NLbeQAG</td>\n",
       "      <td>0051B00000CsqZ4QAJ</td>\n",
       "      <td>Website</td>\n",
       "      <td>Inbound</td>\n",
       "      <td>Website Contact Request</td>\n",
       "    </tr>\n",
       "    <tr>\n",
       "      <th>6</th>\n",
       "      <td>6</td>\n",
       "      <td>0081300002OpYXHAA3</td>\n",
       "      <td>0061300001AC0ppAAD</td>\n",
       "      <td>0051300000BAV3KAAX</td>\n",
       "      <td>9/23/2014 12:20</td>\n",
       "      <td>9/23/2014 12:20</td>\n",
       "      <td>0% probability Closed Expired</td>\n",
       "      <td>73500.0</td>\n",
       "      <td>10</td>\n",
       "      <td>9/23/2014 12:20</td>\n",
       "      <td>10/2/2014 16:16</td>\n",
       "      <td>10/2/2014 16:16</td>\n",
       "      <td>0</td>\n",
       "      <td>NaN</td>\n",
       "      <td>NaN</td>\n",
       "      <td>0011300001aBti0AAC</td>\n",
       "      <td>01230000000EhyS</td>\n",
       "      <td>13.0</td>\n",
       "      <td>Licenses</td>\n",
       "      <td>Outbound</td>\n",
       "      <td>000000000000000AAA</td>\n",
       "      <td>0051300000BAQBnAAP</td>\n",
       "      <td>000000000000000AAA</td>\n",
       "      <td>2014</td>\n",
       "      <td>3</td>\n",
       "      <td>000000000000000AAA</td>\n",
       "      <td>000000000000000AAA</td>\n",
       "      <td>10.0</td>\n",
       "      <td>0</td>\n",
       "      <td>Salesforce</td>\n",
       "      <td>NaN</td>\n",
       "      <td>User Adoption;User Productivity;Accessing CRM ...</td>\n",
       "      <td>Inside Sales</td>\n",
       "      <td>0051300000C41JZAAZ</td>\n",
       "      <td>0051B000009MC2dQAG</td>\n",
       "      <td>Other</td>\n",
       "      <td>Outbound</td>\n",
       "      <td>Cold Outreach</td>\n",
       "    </tr>\n",
       "    <tr>\n",
       "      <th>7</th>\n",
       "      <td>7</td>\n",
       "      <td>0081300002OpYYPAA3</td>\n",
       "      <td>0061300001AC0qOAAT</td>\n",
       "      <td>0051300000BAV3KAAX</td>\n",
       "      <td>9/23/2014 12:22</td>\n",
       "      <td>9/23/2014 12:22</td>\n",
       "      <td>0% probability Closed Expired</td>\n",
       "      <td>67500.0</td>\n",
       "      <td>10</td>\n",
       "      <td>9/23/2014 12:22</td>\n",
       "      <td>9/25/2014 21:05</td>\n",
       "      <td>9/25/2014 21:05</td>\n",
       "      <td>0</td>\n",
       "      <td>NaN</td>\n",
       "      <td>NaN</td>\n",
       "      <td>00130000017TFXzAAO</td>\n",
       "      <td>01230000000EhyS</td>\n",
       "      <td>13.0</td>\n",
       "      <td>Licenses</td>\n",
       "      <td>Inbound</td>\n",
       "      <td>000000000000000AAA</td>\n",
       "      <td>0051300000BAQBnAAP</td>\n",
       "      <td>000000000000000AAA</td>\n",
       "      <td>2014</td>\n",
       "      <td>3</td>\n",
       "      <td>000000000000000AAA</td>\n",
       "      <td>000000000000000AAA</td>\n",
       "      <td>10.0</td>\n",
       "      <td>0</td>\n",
       "      <td>Salesforce</td>\n",
       "      <td>NaN</td>\n",
       "      <td>User Adoption;User Productivity;Accessing CRM ...</td>\n",
       "      <td>Field Sales</td>\n",
       "      <td>0051300000C41JZAAZ</td>\n",
       "      <td>0051B000009MC2dQAG</td>\n",
       "      <td>Website</td>\n",
       "      <td>Inbound</td>\n",
       "      <td>Website Contact Request</td>\n",
       "    </tr>\n",
       "    <tr>\n",
       "      <th>8</th>\n",
       "      <td>8</td>\n",
       "      <td>0081300002OpYZ3AAN</td>\n",
       "      <td>0061300001AC0qYAAT</td>\n",
       "      <td>0051300000BAV3KAAX</td>\n",
       "      <td>9/23/2014 12:24</td>\n",
       "      <td>9/23/2014 12:24</td>\n",
       "      <td>0% probability Closed Expired</td>\n",
       "      <td>48000.0</td>\n",
       "      <td>10</td>\n",
       "      <td>9/23/2014 12:24</td>\n",
       "      <td>9/25/2014 20:57</td>\n",
       "      <td>9/25/2014 20:57</td>\n",
       "      <td>0</td>\n",
       "      <td>NaN</td>\n",
       "      <td>NaN</td>\n",
       "      <td>001a000001XFApLAAX</td>\n",
       "      <td>01230000000EhyS</td>\n",
       "      <td>13.0</td>\n",
       "      <td>Licenses</td>\n",
       "      <td>Inbound</td>\n",
       "      <td>000000000000000AAA</td>\n",
       "      <td>0051300000BAQBnAAP</td>\n",
       "      <td>000000000000000AAA</td>\n",
       "      <td>2014</td>\n",
       "      <td>3</td>\n",
       "      <td>000000000000000AAA</td>\n",
       "      <td>000000000000000AAA</td>\n",
       "      <td>10.0</td>\n",
       "      <td>0</td>\n",
       "      <td>Salesforce</td>\n",
       "      <td>NaN</td>\n",
       "      <td>User Adoption;User Productivity</td>\n",
       "      <td>Customer Service</td>\n",
       "      <td>0051B000009NLbeQAG</td>\n",
       "      <td>0051B00000CsqZ4QAJ</td>\n",
       "      <td>Website</td>\n",
       "      <td>Inbound</td>\n",
       "      <td>Website Contact Request</td>\n",
       "    </tr>\n",
       "    <tr>\n",
       "      <th>9</th>\n",
       "      <td>9</td>\n",
       "      <td>0081300002OpYZmAAN</td>\n",
       "      <td>0061300001AC0qnAAD</td>\n",
       "      <td>0051300000BAV3KAAX</td>\n",
       "      <td>9/23/2014 12:25</td>\n",
       "      <td>9/23/2014 12:25</td>\n",
       "      <td>0% probability Closed Expired</td>\n",
       "      <td>60000.0</td>\n",
       "      <td>10</td>\n",
       "      <td>9/23/2014 12:25</td>\n",
       "      <td>10/2/2014 16:27</td>\n",
       "      <td>10/2/2014 16:27</td>\n",
       "      <td>0</td>\n",
       "      <td>NaN</td>\n",
       "      <td>NaN</td>\n",
       "      <td>0011300001c13cXAAQ</td>\n",
       "      <td>01230000000EhyS</td>\n",
       "      <td>13.0</td>\n",
       "      <td>Licenses</td>\n",
       "      <td>Inbound</td>\n",
       "      <td>000000000000000AAA</td>\n",
       "      <td>0051300000BAQBnAAP</td>\n",
       "      <td>000000000000000AAA</td>\n",
       "      <td>2014</td>\n",
       "      <td>3</td>\n",
       "      <td>000000000000000AAA</td>\n",
       "      <td>000000000000000AAA</td>\n",
       "      <td>10.0</td>\n",
       "      <td>0</td>\n",
       "      <td>Salesforce</td>\n",
       "      <td>NaN</td>\n",
       "      <td>User Adoption;User Productivity;Accessing CRM ...</td>\n",
       "      <td>Other</td>\n",
       "      <td>0051B000009NLbeQAG</td>\n",
       "      <td>0051B00000CsqZ4QAJ</td>\n",
       "      <td>Website</td>\n",
       "      <td>Inbound</td>\n",
       "      <td>Website Contact Request</td>\n",
       "    </tr>\n",
       "  </tbody>\n",
       "</table>\n",
       "</div>"
      ],
      "text/plain": [
       "   Unnamed: 0                  Id       OpportunityId         CreatedById  \\\n",
       "0           0  0081300002NRVGwAAP  00613000019fCVIAA2  00530000004M1PmAAK   \n",
       "1           1  0081300002OmHzxAAF  0061300001AAxCTAA1  00530000004M1PmAAK   \n",
       "2           2  0081300002OmI2DAAV  0061300001AAxCTAA1  00530000004M1PmAAK   \n",
       "3           3  0081300002OpToDAAV  0061300001ABzUgAAL  0051300000BAV3KAAX   \n",
       "4           4  0081300002OpYTKAA3  0061300001AC0orAAD  0051300000BAV3KAAX   \n",
       "5           5  0081300002OpYUcAAN  0061300001AC0pGAAT  0051300000BAV3KAAX   \n",
       "6           6  0081300002OpYXHAA3  0061300001AC0ppAAD  0051300000BAV3KAAX   \n",
       "7           7  0081300002OpYYPAA3  0061300001AC0qOAAT  0051300000BAV3KAAX   \n",
       "8           8  0081300002OpYZ3AAN  0061300001AC0qYAAT  0051300000BAV3KAAX   \n",
       "9           9  0081300002OpYZmAAN  0061300001AC0qnAAD  0051300000BAV3KAAX   \n",
       "\n",
       "       CreatedDate CreatedDateForInsert                      StageName  \\\n",
       "0  6/30/2014 15:21      6/30/2014 15:21     0% probability Closed Lost   \n",
       "1  8/27/2014 20:42      8/27/2014 20:42       100% Won / PO / Invoiced   \n",
       "2  8/27/2014 20:42      8/27/2014 20:43       100% Won / PO / Invoiced   \n",
       "3  9/22/2014 20:22      9/22/2014 20:22       100% Won / PO / Invoiced   \n",
       "4  9/23/2014 12:13      9/23/2014 12:13  0% probability Closed Expired   \n",
       "5  9/23/2014 12:16      9/23/2014 12:16  0% probability Closed Expired   \n",
       "6  9/23/2014 12:20      9/23/2014 12:20  0% probability Closed Expired   \n",
       "7  9/23/2014 12:22      9/23/2014 12:22  0% probability Closed Expired   \n",
       "8  9/23/2014 12:24      9/23/2014 12:24  0% probability Closed Expired   \n",
       "9  9/23/2014 12:25      9/23/2014 12:25  0% probability Closed Expired   \n",
       "\n",
       "    Amount  Probability PrevOpportunityStageUpdate ValidThroughDate  \\\n",
       "0      0.0          100            6/30/2014 15:21  9/26/2014 17:12   \n",
       "1  14250.0          100            8/27/2014 20:42  8/27/2014 20:43   \n",
       "2  14250.0           30            8/27/2014 20:42  9/26/2014 17:12   \n",
       "3   4320.0           10            9/22/2014 20:22  9/23/2014 14:36   \n",
       "4  14250.0           10            9/23/2014 12:13  9/23/2014 14:37   \n",
       "5  15000.0           10            9/23/2014 12:16  9/23/2014 14:37   \n",
       "6  73500.0           10            9/23/2014 12:20  10/2/2014 16:16   \n",
       "7  67500.0           10            9/23/2014 12:22  9/25/2014 21:05   \n",
       "8  48000.0           10            9/23/2014 12:24  9/25/2014 20:57   \n",
       "9  60000.0           10            9/23/2014 12:25  10/2/2014 16:27   \n",
       "\n",
       "    SystemModstamp  IsDeleted  PrevAmount PrevCloseDate           AccountId  \\\n",
       "0  9/26/2014 17:12          0         NaN           NaN  0011300001dJpsyAAC   \n",
       "1  8/27/2014 20:43          0         NaN           NaN  0011300001aCWWLAA4   \n",
       "2  9/26/2014 17:12          0         NaN           NaN  0011300001aCWWLAA4   \n",
       "3  9/23/2014 14:36          0         NaN           NaN  0011300001c0zmuAAA   \n",
       "4  9/23/2014 14:37          0         NaN           NaN  0011300001aEx77AAC   \n",
       "5  9/23/2014 14:37          0         NaN           NaN  0011300001c13bZAAQ   \n",
       "6  10/2/2014 16:16          0         NaN           NaN  0011300001aBti0AAC   \n",
       "7  9/25/2014 21:05          0         NaN           NaN  00130000017TFXzAAO   \n",
       "8  9/25/2014 20:57          0         NaN           NaN  001a000001XFApLAAX   \n",
       "9  10/2/2014 16:27          0         NaN           NaN  0011300001c13cXAAQ   \n",
       "\n",
       "      RecordTypeId  StageSortOrder      Type LeadSource          CampaignId  \\\n",
       "0  01230000000EhyS            11.0  Licenses    Inbound  000000000000000AAA   \n",
       "1  01230000000EhyS            20.0  Licenses    Inbound  000000000000000AAA   \n",
       "2  01230000000EhyS            20.0  Licenses    Inbound  000000000000000AAA   \n",
       "3  01230000000EhyS            20.0  Licenses    Inbound  000000000000000AAA   \n",
       "4  01230000000EhyS            13.0  Licenses    Inbound  000000000000000AAA   \n",
       "5  01230000000EhyS            13.0  Licenses    Inbound  000000000000000AAA   \n",
       "6  01230000000EhyS            13.0  Licenses   Outbound  000000000000000AAA   \n",
       "7  01230000000EhyS            13.0  Licenses    Inbound  000000000000000AAA   \n",
       "8  01230000000EhyS            13.0  Licenses    Inbound  000000000000000AAA   \n",
       "9  01230000000EhyS            13.0  Licenses    Inbound  000000000000000AAA   \n",
       "\n",
       "              OwnerId        Territory2Id  FiscalYear  FiscalQuarter  \\\n",
       "0  00530000000wmgpAAA  000000000000000AAA        2013              4   \n",
       "1  0051300000BAQBnAAP  000000000000000AAA        2014              3   \n",
       "2  0051300000BAQBnAAP  000000000000000AAA        2014              3   \n",
       "3  0051300000BAQBnAAP  000000000000000AAA        2014              2   \n",
       "4  0051300000BAQBnAAP  000000000000000AAA        2014              3   \n",
       "5  0051300000BAQBnAAP  000000000000000AAA        2014              3   \n",
       "6  0051300000BAQBnAAP  000000000000000AAA        2014              3   \n",
       "7  0051300000BAQBnAAP  000000000000000AAA        2014              3   \n",
       "8  0051300000BAQBnAAP  000000000000000AAA        2014              3   \n",
       "9  0051300000BAQBnAAP  000000000000000AAA        2014              3   \n",
       "\n",
       "            ContactId    PartnerAccountId  Number_of_Seats__c  \\\n",
       "0  000000000000000AAA  000000000000000AAA                 0.0   \n",
       "1  000000000000000AAA  000000000000000AAA                12.0   \n",
       "2  000000000000000AAA  000000000000000AAA                12.0   \n",
       "3  000000000000000AAA  000000000000000AAA                 2.0   \n",
       "4  000000000000000AAA  000000000000000AAA                10.0   \n",
       "5  000000000000000AAA  000000000000000AAA                10.0   \n",
       "6  000000000000000AAA  000000000000000AAA                10.0   \n",
       "7  000000000000000AAA  000000000000000AAA                10.0   \n",
       "8  000000000000000AAA  000000000000000AAA                10.0   \n",
       "9  000000000000000AAA  000000000000000AAA                10.0   \n",
       "\n",
       "   SCC_Interest__c Company_s_CRM_Type__c Deal_type__c  \\\n",
       "0                0                   NaN          NaN   \n",
       "1                0            Salesforce          NaN   \n",
       "2                0            Salesforce          NaN   \n",
       "3                0            Salesforce          NaN   \n",
       "4                0            Salesforce          NaN   \n",
       "5                0            Salesforce          NaN   \n",
       "6                0            Salesforce          NaN   \n",
       "7                0            Salesforce          NaN   \n",
       "8                0            Salesforce          NaN   \n",
       "9                0            Salesforce          NaN   \n",
       "\n",
       "                                            Needs__c  Type_of_Users__c  \\\n",
       "0                                                NaN               NaN   \n",
       "1                                                NaN               NaN   \n",
       "2                                                NaN               NaN   \n",
       "3  User Adoption;User Productivity;Accessing CRM ...      Inside Sales   \n",
       "4  User Adoption;User Productivity;Accessing CRM ...       Field Sales   \n",
       "5  User Adoption;User Productivity;Accessing CRM ...             Other   \n",
       "6  User Adoption;User Productivity;Accessing CRM ...      Inside Sales   \n",
       "7  User Adoption;User Productivity;Accessing CRM ...       Field Sales   \n",
       "8                    User Adoption;User Productivity  Customer Service   \n",
       "9  User Adoption;User Productivity;Accessing CRM ...             Other   \n",
       "\n",
       "               TAM__c    Secondary_CSM__c Source_Type__c  \\\n",
       "0  0051B000009NLbeQAG  0051B00000CsqZ4QAJ            NaN   \n",
       "1  0051300000C41JZAAZ  0051B000009MC2dQAG            NaN   \n",
       "2  0051300000C41JZAAZ  0051B000009MC2dQAG            NaN   \n",
       "3  0051300000C41JZAAZ  0051B000009NLbZQAW   App Exchange   \n",
       "4  0051300000C41JZAAZ  0051B000009NLbZQAW        Website   \n",
       "5  0051B000009NLbeQAG  0051B00000CsqZ4QAJ        Website   \n",
       "6  0051300000C41JZAAZ  0051B000009MC2dQAG          Other   \n",
       "7  0051300000C41JZAAZ  0051B000009MC2dQAG        Website   \n",
       "8  0051B000009NLbeQAG  0051B00000CsqZ4QAJ        Website   \n",
       "9  0051B000009NLbeQAG  0051B00000CsqZ4QAJ        Website   \n",
       "\n",
       "  Original_Lead_Source__c Original_Lead_Source_Details__c  \n",
       "0                 Inbound  Marketplace - SFDC AppExchange  \n",
       "1                 Inbound  Marketplace - SFDC AppExchange  \n",
       "2                 Inbound  Marketplace - SFDC AppExchange  \n",
       "3                 Inbound            Website Trial SignUp  \n",
       "4                 Inbound         Website Contact Request  \n",
       "5                 Inbound         Website Contact Request  \n",
       "6                Outbound                   Cold Outreach  \n",
       "7                 Inbound         Website Contact Request  \n",
       "8                 Inbound         Website Contact Request  \n",
       "9                 Inbound         Website Contact Request  "
      ]
     },
     "execution_count": 3,
     "metadata": {},
     "output_type": "execute_result"
    }
   ],
   "source": [
    "pd.set_option('display.max_columns', None)\n",
    "train.head(10)"
   ]
  },
  {
   "cell_type": "code",
   "execution_count": 4,
   "id": "2f19b2d8",
   "metadata": {
    "scrolled": false
   },
   "outputs": [
    {
     "name": "stdout",
     "output_type": "stream",
     "text": [
      "<class 'pandas.core.frame.DataFrame'>\n",
      "RangeIndex: 34222 entries, 0 to 34221\n",
      "Data columns (total 38 columns):\n",
      " #   Column                           Non-Null Count  Dtype  \n",
      "---  ------                           --------------  -----  \n",
      " 0   Unnamed: 0                       34222 non-null  int64  \n",
      " 1   Id                               34222 non-null  object \n",
      " 2   OpportunityId                    34222 non-null  object \n",
      " 3   CreatedById                      34222 non-null  object \n",
      " 4   CreatedDate                      34222 non-null  object \n",
      " 5   CreatedDateForInsert             34222 non-null  object \n",
      " 6   StageName                        34222 non-null  object \n",
      " 7   Amount                           34222 non-null  float64\n",
      " 8   Probability                      34222 non-null  int64  \n",
      " 9   PrevOpportunityStageUpdate       34222 non-null  object \n",
      " 10  ValidThroughDate                 27268 non-null  object \n",
      " 11  SystemModstamp                   34222 non-null  object \n",
      " 12  IsDeleted                        34222 non-null  int64  \n",
      " 13  PrevAmount                       5517 non-null   float64\n",
      " 14  PrevCloseDate                    6306 non-null   object \n",
      " 15  AccountId                        34222 non-null  object \n",
      " 16  RecordTypeId                     32518 non-null  object \n",
      " 17  StageSortOrder                   34222 non-null  float64\n",
      " 18  Type                             34219 non-null  object \n",
      " 19  LeadSource                       28686 non-null  object \n",
      " 20  CampaignId                       34222 non-null  object \n",
      " 21  OwnerId                          34222 non-null  object \n",
      " 22  Territory2Id                     34222 non-null  object \n",
      " 23  FiscalYear                       34222 non-null  int64  \n",
      " 24  FiscalQuarter                    34222 non-null  int64  \n",
      " 25  ContactId                        34222 non-null  object \n",
      " 26  PartnerAccountId                 33596 non-null  object \n",
      " 27  Number_of_Seats__c               31002 non-null  float64\n",
      " 28  SCC_Interest__c                  34222 non-null  int64  \n",
      " 29  Company_s_CRM_Type__c            25929 non-null  object \n",
      " 30  Deal_type__c                     25597 non-null  object \n",
      " 31  Needs__c                         11729 non-null  object \n",
      " 32  Type_of_Users__c                 1606 non-null   object \n",
      " 33  TAM__c                           32349 non-null  object \n",
      " 34  Secondary_CSM__c                 31984 non-null  object \n",
      " 35  Source_Type__c                   23826 non-null  object \n",
      " 36  Original_Lead_Source__c          26507 non-null  object \n",
      " 37  Original_Lead_Source_Details__c  24001 non-null  object \n",
      "dtypes: float64(4), int64(6), object(28)\n",
      "memory usage: 9.9+ MB\n"
     ]
    }
   ],
   "source": [
    "train.info(verbose=True)"
   ]
  },
  {
   "cell_type": "markdown",
   "id": "6375e806",
   "metadata": {},
   "source": [
    "## Dates to unix format"
   ]
  },
  {
   "cell_type": "code",
   "execution_count": 5,
   "id": "07582e2d",
   "metadata": {},
   "outputs": [],
   "source": [
    "dates = [\"PrevOpportunityStageUpdate\",\n",
    "         \"SystemModstamp\",\n",
    "         \"CreatedDateForInsert\",\n",
    "         \"PrevCloseDate\"]\n",
    "\n",
    "for date in dates:\n",
    "    train[date] = pd.to_datetime(train[date],\n",
    "                            infer_datetime_format=True,\n",
    "                            errors=\"coerce\").fillna(0)\n",
    "    train[date] = train[date].apply(\n",
    "        lambda x: pd.to_datetime(x,\n",
    "                                 errors='coerce',\n",
    "                                 infer_datetime_format=True).value\n",
    "    )\n",
    "    train[date] /= 1e6"
   ]
  },
  {
   "cell_type": "markdown",
   "id": "609b797a",
   "metadata": {},
   "source": [
    "## Useless features"
   ]
  },
  {
   "cell_type": "code",
   "execution_count": 6,
   "id": "047a4c5b",
   "metadata": {
    "scrolled": true
   },
   "outputs": [
    {
     "name": "stdout",
     "output_type": "stream",
     "text": [
      "IsDeleted\n",
      "Territory2Id\n"
     ]
    }
   ],
   "source": [
    "for col in train.columns:\n",
    "    if len(train[col].unique()) == 1:\n",
    "        print(col)"
   ]
  },
  {
   "cell_type": "code",
   "execution_count": 7,
   "id": "5a636108",
   "metadata": {},
   "outputs": [],
   "source": [
    "to_drop = [\"PartnerAccountId\", # one value\n",
    "            \"Type_of_Users__c\", # too mush missing values\n",
    "            \"Unnamed: 0\", # useless\n",
    "            \"ValidThroughDate\", # equals to SystemModstamp\n",
    "            \"CreatedDate\", # useless (we have CreatedDateForInsert)\n",
    "            \"IsDeleted\", # one value\n",
    "            \"Territory2Id\", # one value\n",
    "            \"Id\"] # \n",
    "\n",
    "train.drop(to_drop, axis=1, inplace=True)"
   ]
  },
  {
   "cell_type": "markdown",
   "id": "060dac4d",
   "metadata": {},
   "source": [
    "## PrevAmount"
   ]
  },
  {
   "cell_type": "code",
   "execution_count": 8,
   "id": "4a3ac86d",
   "metadata": {},
   "outputs": [],
   "source": [
    "train[\"PrevAmount\"].fillna(0, inplace=True)"
   ]
  },
  {
   "cell_type": "markdown",
   "id": "d2974f7b",
   "metadata": {},
   "source": [
    "## Needs__c"
   ]
  },
  {
   "cell_type": "code",
   "execution_count": 9,
   "id": "1b080a3c",
   "metadata": {},
   "outputs": [],
   "source": [
    "unique_needs = []\n",
    "def parse_needs(row):\n",
    "    for el in row:\n",
    "        if el not in unique_needs:\n",
    "            unique_needs.append(el)\n",
    "    return row\n",
    "\n",
    "train[\"Needs__c\"].fillna(\" \", inplace=True)\n",
    "train[\"Needs__c\"].apply(lambda row: row.split(\";\")).apply(parse_needs)\n",
    "\n",
    "for el in unique_needs:\n",
    "    train[el] = train[\"Needs__c\"].apply(lambda row: 1 if el in row.split(\";\") else 0)\n",
    "train.drop(\"Needs__c\", axis=1, inplace=True)"
   ]
  },
  {
   "cell_type": "markdown",
   "id": "26f649f4",
   "metadata": {},
   "source": [
    "## RecordTypeId"
   ]
  },
  {
   "cell_type": "code",
   "execution_count": 10,
   "id": "13c15b28",
   "metadata": {},
   "outputs": [],
   "source": [
    "train[\"RecordTypeId\"].fillna(train[\"RecordTypeId\"].mode()[0], inplace=True)"
   ]
  },
  {
   "cell_type": "markdown",
   "id": "8bee5fa1",
   "metadata": {},
   "source": [
    "## LeadSource"
   ]
  },
  {
   "cell_type": "code",
   "execution_count": 11,
   "id": "8f1bc706",
   "metadata": {},
   "outputs": [],
   "source": [
    "train[\"LeadSource\"].fillna(train[\"LeadSource\"].mode()[0], inplace=True)"
   ]
  },
  {
   "cell_type": "markdown",
   "id": "a3d59bcf",
   "metadata": {},
   "source": [
    "## Type"
   ]
  },
  {
   "cell_type": "code",
   "execution_count": 12,
   "id": "713e9dc9",
   "metadata": {},
   "outputs": [],
   "source": [
    "train[\"Type\"].fillna(train[\"Type\"].mode()[0], inplace=True)"
   ]
  },
  {
   "cell_type": "markdown",
   "id": "33921c40",
   "metadata": {},
   "source": [
    "## Number_of_Seats__c"
   ]
  },
  {
   "cell_type": "code",
   "execution_count": 13,
   "id": "5c461067",
   "metadata": {
    "scrolled": false
   },
   "outputs": [
    {
     "data": {
      "text/plain": [
       "(0.0, 7000.0)"
      ]
     },
     "execution_count": 13,
     "metadata": {},
     "output_type": "execute_result"
    },
    {
     "data": {
      "image/png": "[encoded data removed]",
      "text/plain": [
       "<Figure size 1200x600 with 1 Axes>"
      ]
     },
     "metadata": {},
     "output_type": "display_data"
    }
   ],
   "source": [
    "import matplotlib.pyplot as plt\n",
    "import seaborn as sns\n",
    "fig = plt.gcf()\n",
    "fig.set_size_inches(12, 6)\n",
    "sns.set_style(\"whitegrid\")\n",
    "\n",
    "shit = train[(train[\"Number_of_Seats__c\"] < 100000) & (train[\"Number_of_Seats__c\"] > 0)][\"Number_of_Seats__c\"] \n",
    "ax = sns.histplot(np.array(shit.dropna()),\n",
    "                  kde=True,\n",
    "                  bins=50,\n",
    "                  log_scale=True)\n",
    "ax.set(xlabel=\"USD\", title=\"Density function\")\n",
    "ax.set_ylim([0, 7000])"
   ]
  },
  {
   "cell_type": "code",
   "execution_count": 14,
   "id": "3818731e",
   "metadata": {},
   "outputs": [],
   "source": [
    "train[\"Number_of_Seats__c\"].fillna(1, inplace=True)"
   ]
  },
  {
   "cell_type": "markdown",
   "id": "b8dbd368",
   "metadata": {},
   "source": [
    "## Company_s_CRM_Type__c"
   ]
  },
  {
   "cell_type": "code",
   "execution_count": 15,
   "id": "ba949598",
   "metadata": {},
   "outputs": [],
   "source": [
    "train[\"Company_s_CRM_Type__c\"].fillna(train[\"Company_s_CRM_Type__c\"].mode()[0], inplace=True)"
   ]
  },
  {
   "cell_type": "markdown",
   "id": "61f12b57",
   "metadata": {},
   "source": [
    "## Deal_type__c"
   ]
  },
  {
   "cell_type": "code",
   "execution_count": 16,
   "id": "189e585d",
   "metadata": {},
   "outputs": [],
   "source": [
    "train[\"Deal_type__c\"].fillna(\"xz\", inplace=True)"
   ]
  },
  {
   "cell_type": "markdown",
   "id": "99c1235e",
   "metadata": {},
   "source": [
    "## Source_Type__c"
   ]
  },
  {
   "cell_type": "code",
   "execution_count": 17,
   "id": "cd9dc23f",
   "metadata": {},
   "outputs": [],
   "source": [
    "train[\"Source_Type__c\"].fillna(train[\"Source_Type__c\"].mode()[0], inplace=True)"
   ]
  },
  {
   "cell_type": "markdown",
   "id": "7f1049da",
   "metadata": {},
   "source": [
    "## Original_Lead_Source__c"
   ]
  },
  {
   "cell_type": "code",
   "execution_count": 18,
   "id": "75e3b2ea",
   "metadata": {},
   "outputs": [],
   "source": [
    "train[\"Original_Lead_Source__c\"].fillna(train[\"Original_Lead_Source__c\"].mode()[0], inplace=True)"
   ]
  },
  {
   "cell_type": "code",
   "execution_count": 19,
   "id": "84660524",
   "metadata": {},
   "outputs": [
    {
     "data": {
      "text/plain": [
       "array(['0051B000009NLbeQAG', '0051300000C41JZAAZ', '0051B00000CsqZ4QAJ',\n",
       "       nan, '0051B00000Ct0hhQAB', '0051B000009NLbUQAW',\n",
       "       '0054v00000DCcU5AAL', '0054v00000DBv2hAAD', '0051B000009MC2dQAG',\n",
       "       '0051300000Bj16dAAB', '0051B00000DL9x1QAD', '0054v00000DBv23AAD',\n",
       "       '0051B00000DJeb2QAD', '0051B00000DB7VPQA1', '0051B00000DJdfwQAD',\n",
       "       '0051B000009NLbZQAW', '0054v00000Edbm6AAB', '0054v00000Edor9AAB',\n",
       "       '0051300000CUGphAAH'], dtype=object)"
      ]
     },
     "execution_count": 19,
     "metadata": {},
     "output_type": "execute_result"
    }
   ],
   "source": [
    "train[\"TAM__c\"].unique()"
   ]
  },
  {
   "cell_type": "markdown",
   "id": "43bcc478",
   "metadata": {},
   "source": [
    "## TAM__c"
   ]
  },
  {
   "cell_type": "code",
   "execution_count": 20,
   "id": "e90569e2",
   "metadata": {},
   "outputs": [],
   "source": [
    "def check_categorical_correlation(categorical1,\n",
    "                                  categorical2,\n",
    "                                  p=0.05):\n",
    "    contingency_table = pd.crosstab(categorical1,\n",
    "                                    categorical2,\n",
    "                                    dropna=True)\n",
    "    table = pd.DataFrame(contingency_table)\n",
    "    \n",
    "    chi2, p_value, dof, expected = scipy.stats.chi2_contingency(contingency_table)\n",
    "    \n",
    "    # Cramer coeff\n",
    "    return np.sqrt(chi2 / (table.sum().sum() * np.min(table.shape)))"
   ]
  },
  {
   "cell_type": "code",
   "execution_count": 21,
   "id": "9e5a51b4",
   "metadata": {
    "scrolled": false
   },
   "outputs": [],
   "source": [
    "train[\"TAM__c\"].fillna(train[\"TAM__c\"].mode()[0], inplace=True)"
   ]
  },
  {
   "cell_type": "markdown",
   "id": "6c7a7735",
   "metadata": {},
   "source": [
    "## Secondary_CSM__c"
   ]
  },
  {
   "cell_type": "code",
   "execution_count": 22,
   "id": "0c632f81",
   "metadata": {
    "scrolled": true
   },
   "outputs": [],
   "source": [
    "train[\"Secondary_CSM__c\"].fillna(train[\"Secondary_CSM__c\"].mode()[0], inplace=True)"
   ]
  },
  {
   "cell_type": "markdown",
   "id": "25743325",
   "metadata": {},
   "source": [
    "## Original_Lead_Source_Details__c"
   ]
  },
  {
   "cell_type": "code",
   "execution_count": 23,
   "id": "5cc5f445",
   "metadata": {},
   "outputs": [],
   "source": [
    "train[\"Original_Lead_Source_Details__c\"].fillna(train[\"Original_Lead_Source_Details__c\"].mode()[0], inplace=True)"
   ]
  },
  {
   "cell_type": "markdown",
   "id": "ffdb96ee",
   "metadata": {},
   "source": [
    "# Id"
   ]
  },
  {
   "cell_type": "code",
   "execution_count": 24,
   "id": "2fb1fe8c",
   "metadata": {},
   "outputs": [],
   "source": [
    "ids = [\"OpportunityId\", \"CreatedById\",\"AccountId\",\n",
    "       \"RecordTypeId\",\"CampaignId\",\n",
    "       \"OwnerId\", \"ContactId\",\n",
    "       \"TAM__c\", \"Secondary_CSM__c\"]"
   ]
  },
  {
   "cell_type": "code",
   "execution_count": 25,
   "id": "b500c8af",
   "metadata": {},
   "outputs": [],
   "source": [
    "def encode_ids(drop_ids, data):\n",
    "    for i in drop_ids:\n",
    "        frequency = (data.groupby(i).size() / len(data[i]))\n",
    "        data[f\"{i}Frequency\"] = data[i].apply(lambda row: frequency[row])\n",
    "\n",
    "        means = data.groupby(i)['Probability'].mean()\n",
    "\n",
    "        data[f\"{i}MeanTarget\"] = data[i].map(means)\n",
    "    return data"
   ]
  },
  {
   "cell_type": "code",
   "execution_count": 26,
   "id": "1558846f",
   "metadata": {},
   "outputs": [],
   "source": [
    "train = encode_ids(ids, train)\n",
    "ids.remove(\"OpportunityId\")\n",
    "ids.append(\"StageName\")\n",
    "train.drop(ids, axis=1, inplace=True)"
   ]
  },
  {
   "cell_type": "markdown",
   "id": "4b949692",
   "metadata": {},
   "source": [
    "## Onehot encoding"
   ]
  },
  {
   "cell_type": "code",
   "execution_count": 27,
   "id": "4354663a",
   "metadata": {},
   "outputs": [
    {
     "data": {
      "text/plain": [
       "['OpportunityId',\n",
       " 'Type',\n",
       " 'LeadSource',\n",
       " 'Company_s_CRM_Type__c',\n",
       " 'Deal_type__c',\n",
       " 'Source_Type__c',\n",
       " 'Original_Lead_Source__c',\n",
       " 'Original_Lead_Source_Details__c']"
      ]
     },
     "execution_count": 27,
     "metadata": {},
     "output_type": "execute_result"
    }
   ],
   "source": [
    "list(train.select_dtypes(include=['object']).columns)"
   ]
  },
  {
   "cell_type": "code",
   "execution_count": 28,
   "id": "c2cd5aa6",
   "metadata": {},
   "outputs": [],
   "source": [
    "onehot_columns = [\"Type\", \"LeadSource\", \"Company_s_CRM_Type__c\",\n",
    "                  \"Deal_type__c\", \"Source_Type__c\", \n",
    "                  \"Original_Lead_Source__c\", \"Original_Lead_Source_Details__c\"]"
   ]
  },
  {
   "cell_type": "code",
   "execution_count": 29,
   "id": "21637775",
   "metadata": {},
   "outputs": [],
   "source": [
    "train = pd.concat([pd.get_dummies(train[onehot_columns]), train], axis=1)\n",
    "train.drop(onehot_columns, axis=1, inplace=True)"
   ]
  },
  {
   "cell_type": "markdown",
   "id": "7e5e069f",
   "metadata": {},
   "source": [
    "## Padding"
   ]
  },
  {
   "cell_type": "code",
   "execution_count": 30,
   "id": "e42dea36",
   "metadata": {},
   "outputs": [],
   "source": [
    "max_len = 100"
   ]
  },
  {
   "cell_type": "code",
   "execution_count": 43,
   "id": "4b411216",
   "metadata": {},
   "outputs": [],
   "source": [
    "#dataframe must be sorted!\n",
    "def padding(data, max_len, filler=None):\n",
    "    matrix = []\n",
    "    for i in data[\"OpportunityId\"].unique():\n",
    "        data_slice = data[data['OpportunityId'] == i].drop(['OpportunityId'], axis=1)\n",
    "        data_slice = np.array(data_slice)\n",
    "        if filler:\n",
    "            fill_value = filler\n",
    "        else:\n",
    "            fill_value = data_slice[-1, :]\n",
    "        pad = np.zeros(shape=(max_len - data_slice.shape[0], data_slice.shape[1])) + fill_value\n",
    "        padded = np.vstack((data_slice, pad))\n",
    "        matrix.append(padded)\n",
    "    return np.array(matrix)"
   ]
  },
  {
   "cell_type": "code",
   "execution_count": 44,
   "id": "5969fbd5",
   "metadata": {},
   "outputs": [],
   "source": [
    "train = train.sort_values(\"CreatedDateForInsert\")\n",
    "X = train.drop(\"Probability\", axis=1)\n",
    "y = train[[\"Probability\", \"OpportunityId\"]]"
   ]
  },
  {
   "cell_type": "code",
   "execution_count": 45,
   "id": "dc55a6ec",
   "metadata": {},
   "outputs": [
    {
     "name": "stdout",
     "output_type": "stream",
     "text": [
      "CPU times: user 17.3 s, sys: 339 ms, total: 17.6 s\n",
      "Wall time: 17.8 s\n"
     ]
    }
   ],
   "source": [
    "%%time\n",
    "X = padding(X, max_len, -1)\n",
    "y = padding(y, max_len, -1)"
   ]
  },
  {
   "cell_type": "code",
   "execution_count": 46,
   "id": "291bd863",
   "metadata": {
    "scrolled": true
   },
   "outputs": [
    {
     "name": "stdout",
     "output_type": "stream",
     "text": [
      "(6954, 100, 136)\n",
      "(6954, 100, 1)\n"
     ]
    }
   ],
   "source": [
    "print(X.shape)\n",
    "print(y.shape)"
   ]
  },
  {
   "cell_type": "markdown",
   "id": "6fbd04d6",
   "metadata": {},
   "source": [
    "## LSTM"
   ]
  },
  {
   "cell_type": "code",
   "execution_count": null,
   "id": "20590e3e",
   "metadata": {},
   "outputs": [],
   "source": []
  },
  {
   "cell_type": "code",
   "execution_count": null,
   "id": "628918d8",
   "metadata": {},
   "outputs": [],
   "source": []
  },
  {
   "cell_type": "code",
   "execution_count": null,
   "id": "d660543c",
   "metadata": {},
   "outputs": [],
   "source": []
  },
  {
   "cell_type": "code",
   "execution_count": null,
   "id": "13b58de9",
   "metadata": {},
   "outputs": [],
   "source": []
  },
  {
   "cell_type": "code",
   "execution_count": null,
   "id": "3ecf5214",
   "metadata": {},
   "outputs": [],
   "source": []
  },
  {
   "cell_type": "code",
   "execution_count": null,
   "id": "f3f315e6",
   "metadata": {},
   "outputs": [],
   "source": []
  }
 ],
 "metadata": {
  "kernelspec": {
   "display_name": "Python 3.9 (tf)",
   "language": "python",
   "name": "tensorflow"
  },
  "language_info": {
   "codemirror_mode": {
    "name": "ipython",
    "version": 3
   },
   "file_extension": ".py",
   "mimetype": "text/x-python",
   "name": "python",
   "nbconvert_exporter": "python",
   "pygments_lexer": "ipython3",
   "version": "3.9.15"
  }
 },
 "nbformat": 4,
 "nbformat_minor": 5
}
